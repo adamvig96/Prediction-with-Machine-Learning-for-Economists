{
 "cells": [
  {
   "cell_type": "markdown",
   "metadata": {},
   "source": [
    "Cleaning code for Bangkok 25 August, 2021 database of http://insideairbnb.com/get-the-data.html"
   ]
  },
  {
   "cell_type": "code",
   "execution_count": 4,
   "metadata": {},
   "outputs": [],
   "source": [
    "import pandas as pd\n",
    "import os\n",
    "import warnings\n",
    "\n",
    "warnings.filterwarnings(\"ignore\")"
   ]
  },
  {
   "cell_type": "code",
   "execution_count": 5,
   "metadata": {},
   "outputs": [],
   "source": [
    "data_in = \"../data/\"\n",
    "data_out = \"../data/\""
   ]
  },
  {
   "cell_type": "code",
   "execution_count": 6,
   "metadata": {},
   "outputs": [
    {
     "data": {
      "text/plain": [
       "(17581, 74)"
      ]
     },
     "execution_count": 6,
     "metadata": {},
     "output_type": "execute_result"
    }
   ],
   "source": [
    "data = pd.read_csv(data_in + \"listings.csv\", delimiter=\",\", dtype=\"unicode\")\n",
    "data.shape"
   ]
  },
  {
   "cell_type": "code",
   "execution_count": 7,
   "metadata": {},
   "outputs": [],
   "source": [
    "drops = [\n",
    "    \"host_thumbnail_url\",\n",
    "    \"host_picture_url\",\n",
    "    \"listing_url\",\n",
    "    \"picture_url\",\n",
    "    \"host_url\",\n",
    "    \"last_scraped\",\n",
    "    \"description\",\n",
    "    \"neighborhood_overview\",\n",
    "    \"host_about\",\n",
    "    \"host_response_time\",\n",
    "    \"name\",\n",
    "    \"host_location\",\n",
    "]\n",
    "data.drop(columns=drops, inplace=True)\n",
    "data.to_csv(data_in + \"airbnb_bangkok_listing.csv\", index=False)"
   ]
  },
  {
   "cell_type": "code",
   "execution_count": 8,
   "metadata": {},
   "outputs": [],
   "source": [
    "# opening dataset\n",
    "df = pd.read_csv(data_in + \"airbnb_bangkok_listing.csv\", delimiter=\",\",encoding=\"UTF-8\")"
   ]
  },
  {
   "cell_type": "code",
   "execution_count": 9,
   "metadata": {},
   "outputs": [],
   "source": [
    "# drop broken lines - where id is not a character of numbers\n",
    "df.id = pd.to_numeric(df.id, errors=\"coerce\")\n",
    "df = df[df.id.notna()]"
   ]
  },
  {
   "cell_type": "code",
   "execution_count": 10,
   "metadata": {},
   "outputs": [
    {
     "data": {
      "text/plain": [
       "id                                                int64\n",
       "scrape_id                                         int64\n",
       "host_id                                           int64\n",
       "host_name                                        object\n",
       "host_since                                       object\n",
       "                                                 ...   \n",
       "calculated_host_listings_count                    int64\n",
       "calculated_host_listings_count_entire_homes       int64\n",
       "calculated_host_listings_count_private_rooms      int64\n",
       "calculated_host_listings_count_shared_rooms       int64\n",
       "reviews_per_month                               float64\n",
       "Length: 62, dtype: object"
      ]
     },
     "execution_count": 10,
     "metadata": {},
     "output_type": "execute_result"
    }
   ],
   "source": [
    "# display the class and type of each columns\n",
    "df.dtypes"
   ]
  },
  {
   "cell_type": "code",
   "execution_count": 11,
   "metadata": {},
   "outputs": [],
   "source": [
    "#####################\n",
    "# formatting columns\n",
    "for perc in [\"host_response_rate\", \"host_acceptance_rate\"]:\n",
    "    df[perc] = pd.to_numeric(df[perc], errors=\"coerce\")"
   ]
  },
  {
   "cell_type": "code",
   "execution_count": 12,
   "metadata": {},
   "outputs": [],
   "source": [
    "# remove percentage signs\n",
    "for pricevars in [\"price\"]:\n",
    "    df[pricevars] = df[pricevars].str.replace(\"\\\\$\", \"\")\n",
    "    df[pricevars] = pd.to_numeric(df[pricevars], errors=\"coerce\")"
   ]
  },
  {
   "cell_type": "code",
   "execution_count": 13,
   "metadata": {},
   "outputs": [],
   "source": [
    "# format binary variables\n",
    "for binary in [\n",
    "    \"host_is_superhost\",\n",
    "    \"host_has_profile_pic\",\n",
    "    \"host_identity_verified\",\n",
    "    \"instant_bookable\",\n",
    "]:\n",
    "    df[binary] = df[binary].map({\"t\": True, \"f\": False})"
   ]
  },
  {
   "cell_type": "code",
   "execution_count": 14,
   "metadata": {},
   "outputs": [],
   "source": [
    "# amenities\n",
    "df[\"amenities\"] = (\n",
    "    df[\"amenities\"]\n",
    "    .str.strip(\"{}\")\n",
    "    .str.replace('\"', \"\")\n",
    "    .str.replace(\"[\", \"\")\n",
    "    .str.replace(\"]\", \"\")\n",
    "    .str.replace(\"–\", \"\")\n",
    "    .str.replace(\"-\", \"\")\n",
    "    .str.replace(\"\\\\u\", \"'\", regex=False)\n",
    "    .str.replace(\"\\d\", \"\", regex=True)\n",
    "    .str.replace(\"'\", \"\")\n",
    "    .str.lower()\n",
    "    .str.replace(\"mbps\", \"\",regex=False)\n",
    "    .str.strip()\n",
    "    .str.split(\",\")\n",
    ")"
   ]
  },
  {
   "cell_type": "code",
   "execution_count": 15,
   "metadata": {},
   "outputs": [
    {
     "data": {
      "text/plain": [
       "air conditioning                  16871\n",
       "long term stays allowed           16639\n",
       "essentials                        15633\n",
       "wifi                              15391\n",
       "hangers                           13973\n",
       "                                  ...  \n",
       "watson shampoo                        1\n",
       "samsung bluetooth sound system        1\n",
       "razr bluetooth sound system           1\n",
       "local brand conditioner               1\n",
       "private indoor pool                   1\n",
       "Name: amenities, Length: 351, dtype: int64"
      ]
     },
     "execution_count": 15,
     "metadata": {},
     "output_type": "execute_result"
    }
   ],
   "source": [
    "# generate dummies by amenities\n",
    "df[\"amenities\"].explode().str.strip().value_counts()"
   ]
  },
  {
   "cell_type": "code",
   "execution_count": 17,
   "metadata": {},
   "outputs": [],
   "source": [
    "# maybe get those, that has 500 or more count ? not sure\n",
    "amenities_keep = df[\"amenities\"].explode().str.strip().value_counts().loc[lambda x: x>500]\n",
    "\n",
    "amenities_keep.to_pickle(\"amenities_to_keep.pkl\")"
   ]
  },
  {
   "cell_type": "code",
   "execution_count": 19,
   "metadata": {},
   "outputs": [],
   "source": [
    "dummies = pd.get_dummies(df.amenities.apply(pd.Series).stack().str.strip()).sum(level=0)\n",
    "df = pd.concat([df, dummies], axis=1)"
   ]
  },
  {
   "cell_type": "code",
   "execution_count": 20,
   "metadata": {},
   "outputs": [],
   "source": [
    "drops = [\"amenities\"]\n",
    "df.drop(columns=drops, inplace=True)"
   ]
  },
  {
   "cell_type": "code",
   "execution_count": 21,
   "metadata": {},
   "outputs": [
    {
     "data": {
      "text/plain": [
       "(17581, 412)"
      ]
     },
     "execution_count": 21,
     "metadata": {},
     "output_type": "execute_result"
    }
   ],
   "source": [
    "df.shape"
   ]
  },
  {
   "cell_type": "code",
   "execution_count": 22,
   "metadata": {},
   "outputs": [],
   "source": [
    "# write csv\n",
    "df.to_csv(data_out + \"airbnb_bangkok_cleaned.csv\", index=False)"
   ]
  },
  {
   "cell_type": "code",
   "execution_count": 23,
   "metadata": {},
   "outputs": [
    {
     "data": {
      "text/plain": [
       "host_name                           2\n",
       "host_since                          2\n",
       "host_response_rate              17581\n",
       "host_acceptance_rate            17581\n",
       "host_is_superhost                   2\n",
       "host_neighbourhood               6415\n",
       "host_listings_count                 2\n",
       "host_total_listings_count           2\n",
       "host_has_profile_pic                2\n",
       "host_identity_verified              2\n",
       "neighbourhood                    7395\n",
       "neighbourhood_group_cleansed    17581\n",
       "bathrooms                       17581\n",
       "bathrooms_text                     53\n",
       "bedrooms                         1940\n",
       "beds                              355\n",
       "price                            9796\n",
       "minimum_minimum_nights              1\n",
       "maximum_minimum_nights              1\n",
       "minimum_maximum_nights              1\n",
       "maximum_maximum_nights              1\n",
       "minimum_nights_avg_ntm              1\n",
       "maximum_nights_avg_ntm              1\n",
       "calendar_updated                17581\n",
       "first_review                     7142\n",
       "last_review                      7142\n",
       "review_scores_rating             7142\n",
       "review_scores_accuracy           7362\n",
       "review_scores_cleanliness        7363\n",
       "review_scores_checkin            7369\n",
       "review_scores_communication      7364\n",
       "review_scores_location           7370\n",
       "review_scores_value              7372\n",
       "license                         17581\n",
       "reviews_per_month                7142\n",
       "dtype: int64"
      ]
     },
     "execution_count": 23,
     "metadata": {},
     "output_type": "execute_result"
    }
   ],
   "source": [
    "df.isna().sum().loc[lambda x: x > 0]"
   ]
  },
  {
   "cell_type": "code",
   "execution_count": null,
   "metadata": {},
   "outputs": [],
   "source": []
  }
 ],
 "metadata": {
  "kernelspec": {
   "display_name": "Python 3",
   "language": "python",
   "name": "python3"
  },
  "language_info": {
   "codemirror_mode": {
    "name": "ipython",
    "version": 3
   },
   "file_extension": ".py",
   "mimetype": "text/x-python",
   "name": "python",
   "nbconvert_exporter": "python",
   "pygments_lexer": "ipython3",
   "version": "3.8.6"
  }
 },
 "nbformat": 4,
 "nbformat_minor": 4
}
