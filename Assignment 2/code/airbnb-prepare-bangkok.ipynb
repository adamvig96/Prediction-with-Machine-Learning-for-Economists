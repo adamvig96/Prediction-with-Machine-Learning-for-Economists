{
 "cells": [
  {
   "cell_type": "code",
   "execution_count": 1,
   "metadata": {},
   "outputs": [],
   "source": [
    "import pandas as pd\n",
    "import numpy as np\n",
    "import os\n",
    "from pathlib import Path\n",
    "import sys\n",
    "import re\n",
    "from datetime import datetime"
   ]
  },
  {
   "cell_type": "code",
   "execution_count": 55,
   "metadata": {},
   "outputs": [
    {
     "name": "stderr",
     "output_type": "stream",
     "text": [
      "/usr/local/lib/python3.8/site-packages/IPython/core/interactiveshell.py:3145: DtypeWarning: Columns (7,12,13) have mixed types.Specify dtype option on import or set low_memory=False.\n",
      "  has_raised = await self.run_ast_nodes(code_ast.body, cell_name,\n"
     ]
    }
   ],
   "source": [
    "area = \"bangkok\"\n",
    "data = pd.read_csv(\"data/airbnb_\" + area + \"_cleaned.csv\", index_col=0)"
   ]
  },
  {
   "cell_type": "code",
   "execution_count": 56,
   "metadata": {},
   "outputs": [
    {
     "data": {
      "text/plain": [
       "Entire rental unit                     4558\n",
       "Entire condominium (condo)             3492\n",
       "Private room in rental unit            1830\n",
       "Private room in condominium (condo)     899\n",
       "Private room in residential home        646\n",
       "Room in boutique hotel                  638\n",
       "Room in hotel                           528\n",
       "Private room in townhouse               524\n",
       "Private room in hostel                  500\n",
       "Entire serviced apartment               456\n",
       "Entire residential home                 447\n",
       "Shared room in hostel                   397\n",
       "Private room in bed and breakfast       311\n",
       "Entire townhouse                        310\n",
       "Room in hostel                          296\n",
       "Private room in serviced apartment      259\n",
       "Room in aparthotel                      175\n",
       "Room in serviced apartment              153\n",
       "Private room                            125\n",
       "Private room in guesthouse              104\n",
       "Room in bed and breakfast                95\n",
       "Entire loft                              90\n",
       "Private room in guest suite              64\n",
       "Entire villa                             61\n",
       "Shared room in rental unit               55\n",
       "Shared room in bed and breakfast         53\n",
       "Shared room in townhouse                 48\n",
       "Private room in loft                     42\n",
       "Entire home/apt                          41\n",
       "Private room in villa                    40\n",
       "Name: property_type, dtype: int64"
      ]
     },
     "execution_count": 56,
     "metadata": {},
     "output_type": "execute_result"
    }
   ],
   "source": [
    "data[\"property_type\"].value_counts().head(30)"
   ]
  },
  {
   "cell_type": "code",
   "execution_count": 5,
   "metadata": {},
   "outputs": [],
   "source": [
    "# keep if property type is Apartment, House or Townhouse\n",
    "data = data.loc[lambda x: x[\"property_type\"].isin([\"Apartment\", \"House\", \"Townhouse\"])]"
   ]
  },
  {
   "cell_type": "code",
   "execution_count": 6,
   "metadata": {},
   "outputs": [],
   "source": [
    "# rename Townhouse to House\n",
    "\n",
    "data[\"property_type\"] = np.where(\n",
    "    data[\"property_type\"] == \"Townhouse\", \"House\", data[\"property_type\"]\n",
    ")\n",
    "data[\"f_property_type\"] = data[\"property_type\"].astype(\"category\")"
   ]
  },
  {
   "cell_type": "code",
   "execution_count": 57,
   "metadata": {},
   "outputs": [
    {
     "data": {
      "text/plain": [
       "Entire home/apt    9660\n",
       "Private room       6291\n",
       "Hotel room          960\n",
       "Shared room         670\n",
       "Name: room_type, dtype: int64"
      ]
     },
     "execution_count": 57,
     "metadata": {},
     "output_type": "execute_result"
    }
   ],
   "source": [
    "data[\"room_type\"].value_counts()"
   ]
  },
  {
   "cell_type": "code",
   "execution_count": 8,
   "metadata": {},
   "outputs": [],
   "source": [
    "#Room type as factor\n",
    "\n",
    "data[\"f_room_type\"] = data[\"room_type\"].astype(\"category\")"
   ]
  },
  {
   "cell_type": "code",
   "execution_count": 9,
   "metadata": {},
   "outputs": [],
   "source": [
    "# Rename roomt type because it is too long\n",
    "data[\"f_room_type2\"] = data[\"f_room_type\"].map(\n",
    "    {\n",
    "        \"Entire home/apt\": \"Entire/Apt\",\n",
    "        \"Private room\": \"Private\",\n",
    "        \"Shared room\": \"Shared\",\n",
    "    }\n",
    ")"
   ]
  },
  {
   "cell_type": "code",
   "execution_count": 61,
   "metadata": {},
   "outputs": [
    {
     "data": {
      "text/plain": [
       "Index(['scrape_id', 'host_id', 'host_name', 'host_since', 'host_response_rate',\n",
       "       'host_acceptance_rate', 'host_is_superhost', 'host_neighbourhood',\n",
       "       'host_listings_count', 'host_total_listings_count',\n",
       "       'host_verifications', 'host_has_profile_pic', 'host_identity_verified',\n",
       "       'neighbourhood', 'neighbourhood_cleansed',\n",
       "       'neighbourhood_group_cleansed', 'latitude', 'longitude',\n",
       "       'property_type', 'room_type', 'accommodates', 'bathrooms',\n",
       "       'bathrooms_text', 'bedrooms', 'beds', 'price', 'minimum_nights',\n",
       "       'maximum_nights', 'minimum_minimum_nights', 'maximum_minimum_nights',\n",
       "       'minimum_maximum_nights', 'maximum_maximum_nights',\n",
       "       'minimum_nights_avg_ntm', 'maximum_nights_avg_ntm', 'calendar_updated',\n",
       "       'has_availability', 'availability_30', 'availability_60',\n",
       "       'availability_90', 'availability_365', 'calendar_last_scraped',\n",
       "       'number_of_reviews', 'number_of_reviews_ltm', 'number_of_reviews_l30d',\n",
       "       'first_review', 'last_review', 'review_scores_rating',\n",
       "       'review_scores_accuracy', 'review_scores_cleanliness',\n",
       "       'review_scores_checkin'],\n",
       "      dtype='object')"
      ]
     },
     "execution_count": 61,
     "metadata": {},
     "output_type": "execute_result"
    }
   ],
   "source": [
    "data.columns[:50]"
   ]
  },
  {
   "cell_type": "code",
   "execution_count": 66,
   "metadata": {},
   "outputs": [
    {
     "data": {
      "text/plain": [
       "Index(['review_scores_communication', 'review_scores_location',\n",
       "       'review_scores_value', 'license', 'instant_bookable',\n",
       "       'calculated_host_listings_count',\n",
       "       'calculated_host_listings_count_entire_homes',\n",
       "       'calculated_host_listings_count_private_rooms',\n",
       "       'calculated_host_listings_count_shared_rooms', 'reviews_per_month',\n",
       "       'Unnamed: 61', '\\ hdtv', '\\ hdtv with apple tv',\n",
       "       '\\ hdtv with chromecast', '\\ hdtv with netflix',\n",
       "       '\\ hdtv with standard cable', '\\ tv', '\\ tv with chromecast',\n",
       "       '\\ tv with netflix', '\\ tv with standard cable', 'air conditioning',\n",
       "       'airport shuttle', 'aloe vera body soap', 'amazon prime video',\n",
       "       'and closet', 'and desk', 'and dresser', 'and office chair',\n",
       "       'and table', 'and wardrobe', 'apple tv', 'aro body soap',\n",
       "       'aro conditioner', 'aro shampoo', 'baby bath', 'baby monitor',\n",
       "       'baby safety gates', 'babysitter recommendations', 'backyard',\n",
       "       'baking sheet', 'barbecue utensils', 'bathrobes', 'bathroom essentials',\n",
       "       'bathtub', 'bbq grill', 'beach essentials', 'beachfront', 'bed linens',\n",
       "       'bedroom comforts', 'bidet'],\n",
       "      dtype='object')"
      ]
     },
     "execution_count": 66,
     "metadata": {},
     "output_type": "execute_result"
    }
   ],
   "source": [
    "data.columns[50:100]"
   ]
  },
  {
   "cell_type": "code",
   "execution_count": 65,
   "metadata": {},
   "outputs": [
    {
     "data": {
      "text/plain": [
       "id\n",
       "27934       1.0\n",
       "27979       2.0\n",
       "28354       1.0\n",
       "28745       1.0\n",
       "35780       1.0\n",
       "           ... \n",
       "51828176    1.0\n",
       "51851215    1.0\n",
       "51851676    3.0\n",
       "51854076    3.0\n",
       "51854776    3.0\n",
       "Name: beds, Length: 17581, dtype: float64"
      ]
     },
     "execution_count": 65,
     "metadata": {},
     "output_type": "execute_result"
    }
   ],
   "source": [
    "data[\"beds\"]"
   ]
  },
  {
   "cell_type": "code",
   "execution_count": 58,
   "metadata": {},
   "outputs": [
    {
     "ename": "KeyError",
     "evalue": "'cancellation_policy'",
     "output_type": "error",
     "traceback": [
      "\u001b[0;31m---------------------------------------------------------------------------\u001b[0m",
      "\u001b[0;31mKeyError\u001b[0m                                  Traceback (most recent call last)",
      "\u001b[0;32m/usr/local/lib/python3.8/site-packages/pandas/core/indexes/base.py\u001b[0m in \u001b[0;36mget_loc\u001b[0;34m(self, key, method, tolerance)\u001b[0m\n\u001b[1;32m   3079\u001b[0m             \u001b[0;32mtry\u001b[0m\u001b[0;34m:\u001b[0m\u001b[0;34m\u001b[0m\u001b[0;34m\u001b[0m\u001b[0m\n\u001b[0;32m-> 3080\u001b[0;31m                 \u001b[0;32mreturn\u001b[0m \u001b[0mself\u001b[0m\u001b[0;34m.\u001b[0m\u001b[0m_engine\u001b[0m\u001b[0;34m.\u001b[0m\u001b[0mget_loc\u001b[0m\u001b[0;34m(\u001b[0m\u001b[0mcasted_key\u001b[0m\u001b[0;34m)\u001b[0m\u001b[0;34m\u001b[0m\u001b[0;34m\u001b[0m\u001b[0m\n\u001b[0m\u001b[1;32m   3081\u001b[0m             \u001b[0;32mexcept\u001b[0m \u001b[0mKeyError\u001b[0m \u001b[0;32mas\u001b[0m \u001b[0merr\u001b[0m\u001b[0;34m:\u001b[0m\u001b[0;34m\u001b[0m\u001b[0;34m\u001b[0m\u001b[0m\n",
      "\u001b[0;32mpandas/_libs/index.pyx\u001b[0m in \u001b[0;36mpandas._libs.index.IndexEngine.get_loc\u001b[0;34m()\u001b[0m\n",
      "\u001b[0;32mpandas/_libs/index.pyx\u001b[0m in \u001b[0;36mpandas._libs.index.IndexEngine.get_loc\u001b[0;34m()\u001b[0m\n",
      "\u001b[0;32mpandas/_libs/hashtable_class_helper.pxi\u001b[0m in \u001b[0;36mpandas._libs.hashtable.PyObjectHashTable.get_item\u001b[0;34m()\u001b[0m\n",
      "\u001b[0;32mpandas/_libs/hashtable_class_helper.pxi\u001b[0m in \u001b[0;36mpandas._libs.hashtable.PyObjectHashTable.get_item\u001b[0;34m()\u001b[0m\n",
      "\u001b[0;31mKeyError\u001b[0m: 'cancellation_policy'",
      "\nThe above exception was the direct cause of the following exception:\n",
      "\u001b[0;31mKeyError\u001b[0m                                  Traceback (most recent call last)",
      "\u001b[0;32m<ipython-input-58-6d4998c480ae>\u001b[0m in \u001b[0;36m<module>\u001b[0;34m\u001b[0m\n\u001b[1;32m      1\u001b[0m \u001b[0;31m# cancellation policy as factor\u001b[0m\u001b[0;34m\u001b[0m\u001b[0;34m\u001b[0m\u001b[0;34m\u001b[0m\u001b[0m\n\u001b[0;32m----> 2\u001b[0;31m \u001b[0mdata\u001b[0m\u001b[0;34m[\u001b[0m\u001b[0;34m\"cancellation_policy\"\u001b[0m\u001b[0;34m]\u001b[0m\u001b[0;34m.\u001b[0m\u001b[0mvalue_counts\u001b[0m\u001b[0;34m(\u001b[0m\u001b[0;34m)\u001b[0m\u001b[0;34m\u001b[0m\u001b[0;34m\u001b[0m\u001b[0m\n\u001b[0m",
      "\u001b[0;32m/usr/local/lib/python3.8/site-packages/pandas/core/frame.py\u001b[0m in \u001b[0;36m__getitem__\u001b[0;34m(self, key)\u001b[0m\n\u001b[1;32m   3022\u001b[0m             \u001b[0;32mif\u001b[0m \u001b[0mself\u001b[0m\u001b[0;34m.\u001b[0m\u001b[0mcolumns\u001b[0m\u001b[0;34m.\u001b[0m\u001b[0mnlevels\u001b[0m \u001b[0;34m>\u001b[0m \u001b[0;36m1\u001b[0m\u001b[0;34m:\u001b[0m\u001b[0;34m\u001b[0m\u001b[0;34m\u001b[0m\u001b[0m\n\u001b[1;32m   3023\u001b[0m                 \u001b[0;32mreturn\u001b[0m \u001b[0mself\u001b[0m\u001b[0;34m.\u001b[0m\u001b[0m_getitem_multilevel\u001b[0m\u001b[0;34m(\u001b[0m\u001b[0mkey\u001b[0m\u001b[0;34m)\u001b[0m\u001b[0;34m\u001b[0m\u001b[0;34m\u001b[0m\u001b[0m\n\u001b[0;32m-> 3024\u001b[0;31m             \u001b[0mindexer\u001b[0m \u001b[0;34m=\u001b[0m \u001b[0mself\u001b[0m\u001b[0;34m.\u001b[0m\u001b[0mcolumns\u001b[0m\u001b[0;34m.\u001b[0m\u001b[0mget_loc\u001b[0m\u001b[0;34m(\u001b[0m\u001b[0mkey\u001b[0m\u001b[0;34m)\u001b[0m\u001b[0;34m\u001b[0m\u001b[0;34m\u001b[0m\u001b[0m\n\u001b[0m\u001b[1;32m   3025\u001b[0m             \u001b[0;32mif\u001b[0m \u001b[0mis_integer\u001b[0m\u001b[0;34m(\u001b[0m\u001b[0mindexer\u001b[0m\u001b[0;34m)\u001b[0m\u001b[0;34m:\u001b[0m\u001b[0;34m\u001b[0m\u001b[0;34m\u001b[0m\u001b[0m\n\u001b[1;32m   3026\u001b[0m                 \u001b[0mindexer\u001b[0m \u001b[0;34m=\u001b[0m \u001b[0;34m[\u001b[0m\u001b[0mindexer\u001b[0m\u001b[0;34m]\u001b[0m\u001b[0;34m\u001b[0m\u001b[0;34m\u001b[0m\u001b[0m\n",
      "\u001b[0;32m/usr/local/lib/python3.8/site-packages/pandas/core/indexes/base.py\u001b[0m in \u001b[0;36mget_loc\u001b[0;34m(self, key, method, tolerance)\u001b[0m\n\u001b[1;32m   3080\u001b[0m                 \u001b[0;32mreturn\u001b[0m \u001b[0mself\u001b[0m\u001b[0;34m.\u001b[0m\u001b[0m_engine\u001b[0m\u001b[0;34m.\u001b[0m\u001b[0mget_loc\u001b[0m\u001b[0;34m(\u001b[0m\u001b[0mcasted_key\u001b[0m\u001b[0;34m)\u001b[0m\u001b[0;34m\u001b[0m\u001b[0;34m\u001b[0m\u001b[0m\n\u001b[1;32m   3081\u001b[0m             \u001b[0;32mexcept\u001b[0m \u001b[0mKeyError\u001b[0m \u001b[0;32mas\u001b[0m \u001b[0merr\u001b[0m\u001b[0;34m:\u001b[0m\u001b[0;34m\u001b[0m\u001b[0;34m\u001b[0m\u001b[0m\n\u001b[0;32m-> 3082\u001b[0;31m                 \u001b[0;32mraise\u001b[0m \u001b[0mKeyError\u001b[0m\u001b[0;34m(\u001b[0m\u001b[0mkey\u001b[0m\u001b[0;34m)\u001b[0m \u001b[0;32mfrom\u001b[0m \u001b[0merr\u001b[0m\u001b[0;34m\u001b[0m\u001b[0;34m\u001b[0m\u001b[0m\n\u001b[0m\u001b[1;32m   3083\u001b[0m \u001b[0;34m\u001b[0m\u001b[0m\n\u001b[1;32m   3084\u001b[0m         \u001b[0;32mif\u001b[0m \u001b[0mtolerance\u001b[0m \u001b[0;32mis\u001b[0m \u001b[0;32mnot\u001b[0m \u001b[0;32mNone\u001b[0m\u001b[0;34m:\u001b[0m\u001b[0;34m\u001b[0m\u001b[0;34m\u001b[0m\u001b[0m\n",
      "\u001b[0;31mKeyError\u001b[0m: 'cancellation_policy'"
     ]
    }
   ],
   "source": [
    "# cancellation policy as factor\n",
    "data[\"cancellation_policy\"].value_counts()"
   ]
  },
  {
   "cell_type": "code",
   "execution_count": 11,
   "metadata": {},
   "outputs": [],
   "source": [
    "# if cancellation policy is super strict 30 or 60, rename it as strict\n",
    "data[\"cancellation_policy\"] = np.where(\n",
    "    (data[\"cancellation_policy\"] == \"super_strict_30\")\n",
    "    | (data[\"cancellation_policy\"] == \"super_strict_60\"),\n",
    "    \"strict\",\n",
    "    data[\"cancellation_policy\"],\n",
    ")\n",
    "data[\"f_cancellation_policy\"] = data[\"cancellation_policy\"].astype(\"category\")"
   ]
  },
  {
   "cell_type": "code",
   "execution_count": 12,
   "metadata": {},
   "outputs": [],
   "source": [
    "# bed_type and neighbourhood_cleansed as factors\n",
    "\n",
    "data[\"bed_type\"] = np.where(\n",
    "    data[\"bed_type\"].isin([\"Futon\", \"Pull-out Sofa\", \"Airbed\"]),\n",
    "    \"Couch\",\n",
    "    data[\"bed_type\"],\n",
    ")\n",
    "\n",
    "data[\"f_bed_type\"] = data[\"bed_type\"].astype(\"category\")\n",
    "data[\"f_neighbourhood_cleansed\"] = data[\"neighbourhood_cleansed\"].astype(\"category\")"
   ]
  },
  {
   "cell_type": "markdown",
   "metadata": {},
   "source": [
    "---------\n",
    "\n",
    "### Create Numerical variables"
   ]
  },
  {
   "cell_type": "code",
   "execution_count": 67,
   "metadata": {},
   "outputs": [],
   "source": [
    "data[\"usd_price_day\"] = data[\"price\"]\n",
    "data[\"p_host_response_rate\"] = data[\"host_response_rate\"].fillna(0).astype(int)\n",
    "# rename cleaning_fee column\n",
    "\n",
    "data = data.rename(columns={\"cleaning_fee\":\"usd_cleaning_fee\"})"
   ]
  },
  {
   "cell_type": "code",
   "execution_count": 70,
   "metadata": {},
   "outputs": [],
   "source": [
    "# add new numeric columns from certain columns\n",
    "\n",
    "numericals = [\n",
    "    \"accommodates\",\n",
    "    \"bathrooms\",\n",
    "    \"review_scores_rating\",\n",
    "    \"number_of_reviews\",\n",
    "    #\"guests_included\",\n",
    "    \"reviews_per_month\",\n",
    "    #\"extra_people\",\n",
    "    \"minimum_nights\",\n",
    "    \"beds\",\n",
    "]\n",
    "\n",
    "for col in numericals:\n",
    "    data[\"n_\" + col] = pd.to_numeric(data[col], errors=\"coerce\")"
   ]
  },
  {
   "cell_type": "code",
   "execution_count": 71,
   "metadata": {},
   "outputs": [],
   "source": [
    "# create days since first review\n",
    "\n",
    "data[\"n_days_since\"] = (\n",
    "    data.calendar_last_scraped.apply(lambda x: datetime.strptime(x, \"%Y-%m-%d\"))\n",
    "    - data.first_review.fillna(\"1950-01-01\").apply(\n",
    "        lambda x: datetime.strptime(x, \"%Y-%m-%d\")\n",
    "    )\n",
    ").dt.days\n",
    "\n",
    "data[\"n_days_since\"] = np.where(data.first_review.isnull(), np.nan, data.n_days_since)"
   ]
  },
  {
   "cell_type": "code",
   "execution_count": 72,
   "metadata": {},
   "outputs": [],
   "source": [
    "# create dummy vars\n",
    "dummies = data.columns[71:121]\n",
    "\n",
    "for col in dummies:\n",
    "    data[\"d_\" + (re.sub(\"/|\\s|-\", \"\", col)).replace(\"(s)\", \"s\").lower()] = data[col]"
   ]
  },
  {
   "cell_type": "code",
   "execution_count": 75,
   "metadata": {},
   "outputs": [],
   "source": [
    "# keep columns if contain d_, n_,f_, p_, usd_ and some others\n",
    "\n",
    "data = pd.concat(\n",
    "    [\n",
    "        data.filter(\n",
    "            regex=\"^d_.*|^n_.*|^f_.*|^p_.*|^usd_.*\",\n",
    "        ),\n",
    "        data[\n",
    "            [\n",
    "                \"price\",\n",
    "                #\"id\",\n",
    "                \"neighbourhood_cleansed\",\n",
    "                #\"cancellation_policy\",\n",
    "                \"room_type\",\n",
    "                \"property_type\",\n",
    "            ]\n",
    "        ],\n",
    "    ],\n",
    "    axis=1,\n",
    ")"
   ]
  },
  {
   "cell_type": "code",
   "execution_count": 81,
   "metadata": {},
   "outputs": [
    {
     "data": {
      "text/plain": [
       "id\n",
       "27934         NaN\n",
       "27979         NaN\n",
       "28354         NaN\n",
       "28745       800.0\n",
       "35780       800.0\n",
       "            ...  \n",
       "51828176    350.0\n",
       "51851215    960.0\n",
       "51851676      NaN\n",
       "51854076      NaN\n",
       "51854776      NaN\n",
       "Name: price, Length: 17581, dtype: float64"
      ]
     },
     "execution_count": 81,
     "metadata": {},
     "output_type": "execute_result"
    }
   ],
   "source": [
    " data[\"price\"].astype(float)"
   ]
  },
  {
   "cell_type": "code",
   "execution_count": 76,
   "metadata": {},
   "outputs": [
    {
     "ename": "AttributeError",
     "evalue": "Can only use .str accessor with string values!",
     "output_type": "error",
     "traceback": [
      "\u001b[0;31m---------------------------------------------------------------------------\u001b[0m",
      "\u001b[0;31mAttributeError\u001b[0m                            Traceback (most recent call last)",
      "\u001b[0;32m<ipython-input-76-6a4e32272da6>\u001b[0m in \u001b[0;36m<module>\u001b[0;34m\u001b[0m\n\u001b[1;32m      3\u001b[0m \u001b[0;31m#####################\u001b[0m\u001b[0;34m\u001b[0m\u001b[0;34m\u001b[0m\u001b[0;34m\u001b[0m\u001b[0m\n\u001b[1;32m      4\u001b[0m \u001b[0;34m\u001b[0m\u001b[0m\n\u001b[0;32m----> 5\u001b[0;31m \u001b[0mdata\u001b[0m\u001b[0;34m[\u001b[0m\u001b[0;34m\"price\"\u001b[0m\u001b[0;34m]\u001b[0m \u001b[0;34m=\u001b[0m \u001b[0mdata\u001b[0m\u001b[0;34m[\u001b[0m\u001b[0;34m\"price\"\u001b[0m\u001b[0;34m]\u001b[0m\u001b[0;34m.\u001b[0m\u001b[0mstr\u001b[0m\u001b[0;34m.\u001b[0m\u001b[0mreplace\u001b[0m\u001b[0;34m(\u001b[0m\u001b[0;34m\",\"\u001b[0m\u001b[0;34m,\u001b[0m \u001b[0;34m\"\"\u001b[0m\u001b[0;34m)\u001b[0m\u001b[0;34m.\u001b[0m\u001b[0mastype\u001b[0m\u001b[0;34m(\u001b[0m\u001b[0mfloat\u001b[0m\u001b[0;34m)\u001b[0m\u001b[0;34m\u001b[0m\u001b[0;34m\u001b[0m\u001b[0m\n\u001b[0m\u001b[1;32m      6\u001b[0m \u001b[0;34m\u001b[0m\u001b[0m\n\u001b[1;32m      7\u001b[0m \u001b[0mdata\u001b[0m \u001b[0;34m=\u001b[0m \u001b[0mdata\u001b[0m\u001b[0;34m.\u001b[0m\u001b[0mloc\u001b[0m\u001b[0;34m[\u001b[0m\u001b[0;32mlambda\u001b[0m \u001b[0mx\u001b[0m\u001b[0;34m:\u001b[0m \u001b[0mx\u001b[0m\u001b[0;34m.\u001b[0m\u001b[0mprice\u001b[0m \u001b[0;34m<\u001b[0m \u001b[0;36m1000\u001b[0m\u001b[0;34m]\u001b[0m\u001b[0;34m\u001b[0m\u001b[0;34m\u001b[0m\u001b[0m\n",
      "\u001b[0;32m/usr/local/lib/python3.8/site-packages/pandas/core/generic.py\u001b[0m in \u001b[0;36m__getattr__\u001b[0;34m(self, name)\u001b[0m\n\u001b[1;32m   5456\u001b[0m             \u001b[0;32mor\u001b[0m \u001b[0mname\u001b[0m \u001b[0;32min\u001b[0m \u001b[0mself\u001b[0m\u001b[0;34m.\u001b[0m\u001b[0m_accessors\u001b[0m\u001b[0;34m\u001b[0m\u001b[0;34m\u001b[0m\u001b[0m\n\u001b[1;32m   5457\u001b[0m         ):\n\u001b[0;32m-> 5458\u001b[0;31m             \u001b[0;32mreturn\u001b[0m \u001b[0mobject\u001b[0m\u001b[0;34m.\u001b[0m\u001b[0m__getattribute__\u001b[0m\u001b[0;34m(\u001b[0m\u001b[0mself\u001b[0m\u001b[0;34m,\u001b[0m \u001b[0mname\u001b[0m\u001b[0;34m)\u001b[0m\u001b[0;34m\u001b[0m\u001b[0;34m\u001b[0m\u001b[0m\n\u001b[0m\u001b[1;32m   5459\u001b[0m         \u001b[0;32melse\u001b[0m\u001b[0;34m:\u001b[0m\u001b[0;34m\u001b[0m\u001b[0;34m\u001b[0m\u001b[0m\n\u001b[1;32m   5460\u001b[0m             \u001b[0;32mif\u001b[0m \u001b[0mself\u001b[0m\u001b[0;34m.\u001b[0m\u001b[0m_info_axis\u001b[0m\u001b[0;34m.\u001b[0m\u001b[0m_can_hold_identifiers_and_holds_name\u001b[0m\u001b[0;34m(\u001b[0m\u001b[0mname\u001b[0m\u001b[0;34m)\u001b[0m\u001b[0;34m:\u001b[0m\u001b[0;34m\u001b[0m\u001b[0;34m\u001b[0m\u001b[0m\n",
      "\u001b[0;32m/usr/local/lib/python3.8/site-packages/pandas/core/accessor.py\u001b[0m in \u001b[0;36m__get__\u001b[0;34m(self, obj, cls)\u001b[0m\n\u001b[1;32m    178\u001b[0m             \u001b[0;31m# we're accessing the attribute of the class, i.e., Dataset.geo\u001b[0m\u001b[0;34m\u001b[0m\u001b[0;34m\u001b[0m\u001b[0;34m\u001b[0m\u001b[0m\n\u001b[1;32m    179\u001b[0m             \u001b[0;32mreturn\u001b[0m \u001b[0mself\u001b[0m\u001b[0;34m.\u001b[0m\u001b[0m_accessor\u001b[0m\u001b[0;34m\u001b[0m\u001b[0;34m\u001b[0m\u001b[0m\n\u001b[0;32m--> 180\u001b[0;31m         \u001b[0maccessor_obj\u001b[0m \u001b[0;34m=\u001b[0m \u001b[0mself\u001b[0m\u001b[0;34m.\u001b[0m\u001b[0m_accessor\u001b[0m\u001b[0;34m(\u001b[0m\u001b[0mobj\u001b[0m\u001b[0;34m)\u001b[0m\u001b[0;34m\u001b[0m\u001b[0;34m\u001b[0m\u001b[0m\n\u001b[0m\u001b[1;32m    181\u001b[0m         \u001b[0;31m# Replace the property with the accessor object. Inspired by:\u001b[0m\u001b[0;34m\u001b[0m\u001b[0;34m\u001b[0m\u001b[0;34m\u001b[0m\u001b[0m\n\u001b[1;32m    182\u001b[0m         \u001b[0;31m# https://www.pydanny.com/cached-property.html\u001b[0m\u001b[0;34m\u001b[0m\u001b[0;34m\u001b[0m\u001b[0;34m\u001b[0m\u001b[0m\n",
      "\u001b[0;32m/usr/local/lib/python3.8/site-packages/pandas/core/strings/accessor.py\u001b[0m in \u001b[0;36m__init__\u001b[0;34m(self, data)\u001b[0m\n\u001b[1;32m    152\u001b[0m         \u001b[0;32mfrom\u001b[0m \u001b[0mpandas\u001b[0m\u001b[0;34m.\u001b[0m\u001b[0mcore\u001b[0m\u001b[0;34m.\u001b[0m\u001b[0marrays\u001b[0m\u001b[0;34m.\u001b[0m\u001b[0mstring_\u001b[0m \u001b[0;32mimport\u001b[0m \u001b[0mStringDtype\u001b[0m\u001b[0;34m\u001b[0m\u001b[0;34m\u001b[0m\u001b[0m\n\u001b[1;32m    153\u001b[0m \u001b[0;34m\u001b[0m\u001b[0m\n\u001b[0;32m--> 154\u001b[0;31m         \u001b[0mself\u001b[0m\u001b[0;34m.\u001b[0m\u001b[0m_inferred_dtype\u001b[0m \u001b[0;34m=\u001b[0m \u001b[0mself\u001b[0m\u001b[0;34m.\u001b[0m\u001b[0m_validate\u001b[0m\u001b[0;34m(\u001b[0m\u001b[0mdata\u001b[0m\u001b[0;34m)\u001b[0m\u001b[0;34m\u001b[0m\u001b[0;34m\u001b[0m\u001b[0m\n\u001b[0m\u001b[1;32m    155\u001b[0m         \u001b[0mself\u001b[0m\u001b[0;34m.\u001b[0m\u001b[0m_is_categorical\u001b[0m \u001b[0;34m=\u001b[0m \u001b[0mis_categorical_dtype\u001b[0m\u001b[0;34m(\u001b[0m\u001b[0mdata\u001b[0m\u001b[0;34m.\u001b[0m\u001b[0mdtype\u001b[0m\u001b[0;34m)\u001b[0m\u001b[0;34m\u001b[0m\u001b[0;34m\u001b[0m\u001b[0m\n\u001b[1;32m    156\u001b[0m         \u001b[0mself\u001b[0m\u001b[0;34m.\u001b[0m\u001b[0m_is_string\u001b[0m \u001b[0;34m=\u001b[0m \u001b[0misinstance\u001b[0m\u001b[0;34m(\u001b[0m\u001b[0mdata\u001b[0m\u001b[0;34m.\u001b[0m\u001b[0mdtype\u001b[0m\u001b[0;34m,\u001b[0m \u001b[0mStringDtype\u001b[0m\u001b[0;34m)\u001b[0m\u001b[0;34m\u001b[0m\u001b[0;34m\u001b[0m\u001b[0m\n",
      "\u001b[0;32m/usr/local/lib/python3.8/site-packages/pandas/core/strings/accessor.py\u001b[0m in \u001b[0;36m_validate\u001b[0;34m(data)\u001b[0m\n\u001b[1;32m    215\u001b[0m \u001b[0;34m\u001b[0m\u001b[0m\n\u001b[1;32m    216\u001b[0m         \u001b[0;32mif\u001b[0m \u001b[0minferred_dtype\u001b[0m \u001b[0;32mnot\u001b[0m \u001b[0;32min\u001b[0m \u001b[0mallowed_types\u001b[0m\u001b[0;34m:\u001b[0m\u001b[0;34m\u001b[0m\u001b[0;34m\u001b[0m\u001b[0m\n\u001b[0;32m--> 217\u001b[0;31m             \u001b[0;32mraise\u001b[0m \u001b[0mAttributeError\u001b[0m\u001b[0;34m(\u001b[0m\u001b[0;34m\"Can only use .str accessor with string values!\"\u001b[0m\u001b[0;34m)\u001b[0m\u001b[0;34m\u001b[0m\u001b[0;34m\u001b[0m\u001b[0m\n\u001b[0m\u001b[1;32m    218\u001b[0m         \u001b[0;32mreturn\u001b[0m \u001b[0minferred_dtype\u001b[0m\u001b[0;34m\u001b[0m\u001b[0;34m\u001b[0m\u001b[0m\n\u001b[1;32m    219\u001b[0m \u001b[0;34m\u001b[0m\u001b[0m\n",
      "\u001b[0;31mAttributeError\u001b[0m: Can only use .str accessor with string values!"
     ]
    }
   ],
   "source": [
    "#####################\n",
    "### look at price ###\n",
    "#####################\n",
    "\n",
    "data[\"price\"] = data[\"price\"].str.replace(\",\", \"\").astype(float)\n",
    "\n",
    "data = data.loc[lambda x: x.price < 1000]"
   ]
  },
  {
   "cell_type": "code",
   "execution_count": 19,
   "metadata": {},
   "outputs": [
    {
     "name": "stderr",
     "output_type": "stream",
     "text": [
      "/Users/vigadam/.local/share/virtualenvs/da_case_studies-A7kE1pOP/lib/python3.8/site-packages/pandas/core/arraylike.py:358: RuntimeWarning: divide by zero encountered in log\n"
     ]
    }
   ],
   "source": [
    "# Squares and further values to create\n",
    "data = data.assign(\n",
    "    n_accommodates2=lambda x: x[\"n_accommodates\"] ** 2,\n",
    "    ln_accommodates=lambda x: np.log(x[\"n_accommodates\"]),\n",
    "    ln_accommodates2=lambda x: np.log(x[\"n_accommodates\"]) ** 2,\n",
    "    ln_beds=lambda x: np.log(x[\"n_beds\"]),\n",
    "    ln_number_of_reviews=lambda x: np.log(x[\"n_number_of_reviews\"] + 1),\n",
    ")"
   ]
  },
  {
   "cell_type": "code",
   "execution_count": 20,
   "metadata": {},
   "outputs": [
    {
     "data": {
      "text/plain": [
       "0        364\n",
       "1      41417\n",
       "2       9628\n",
       "NaN      237\n",
       "dtype: int64"
      ]
     },
     "execution_count": 20,
     "metadata": {},
     "output_type": "execute_result"
    }
   ],
   "source": [
    "# Pool accomodations with 0,1,2,10 bathrooms\n",
    "\n",
    "bins = pd.IntervalIndex.from_tuples([(0, 1), (1, 2), (2, 10)], closed=\"left\")\n",
    "f_bath = pd.cut(data[\"n_bathrooms\"].to_list(), bins, labels=[\"0\", \"1\", \"2\"])\n",
    "f_bath.categories = [0, 1, 2]\n",
    "data[\"f_bathroom\"] = f_bath\n",
    "\n",
    "f_bath.value_counts(dropna=False)"
   ]
  },
  {
   "cell_type": "code",
   "execution_count": 21,
   "metadata": {},
   "outputs": [
    {
     "data": {
      "text/plain": [
       "1      32683\n",
       "0      15741\n",
       "2       3221\n",
       "NaN        1\n",
       "Name: f_number_of_reviews, dtype: int64"
      ]
     },
     "execution_count": 21,
     "metadata": {},
     "output_type": "execute_result"
    }
   ],
   "source": [
    "# Pool num of reviews to 3 categories: none, 1-51 and >51\n",
    "\n",
    "bins = pd.IntervalIndex.from_tuples(\n",
    "    [(0, 1), (1, 51), (51, max(data.n_number_of_reviews))], closed=\"left\"\n",
    ")\n",
    "fnor = pd.cut(data[\"n_number_of_reviews\"].to_list(), bins, labels=[\"0\", \"1\", \"2\"])\n",
    "fnor.categories = [0, 1, 2]\n",
    "data[\"f_number_of_reviews\"] = fnor\n",
    "data[\"f_number_of_reviews\"].value_counts(dropna=False)"
   ]
  },
  {
   "cell_type": "code",
   "execution_count": 22,
   "metadata": {},
   "outputs": [
    {
     "data": {
      "text/plain": [
       "1      19454\n",
       "3      18075\n",
       "2      14116\n",
       "NaN        1\n",
       "Name: f_minimum_nights, dtype: int64"
      ]
     },
     "execution_count": 22,
     "metadata": {},
     "output_type": "execute_result"
    }
   ],
   "source": [
    "# Pool and categorize the number of minimum nights: 1,2,3, 3+\n",
    "\n",
    "bins = pd.IntervalIndex.from_tuples(\n",
    "    [(1, 2), (2, 3), (3, max(data.n_minimum_nights))], closed=\"left\"\n",
    ")\n",
    "f_min_n = pd.cut(data[\"n_minimum_nights\"].to_list(), bins, labels=[\"1\", \"2\", \"3\"])\n",
    "f_min_n.categories = [1, 2, 3]\n",
    "data[\"f_minimum_nights\"] = f_min_n\n",
    "data[\"f_minimum_nights\"].value_counts(dropna=False)"
   ]
  },
  {
   "cell_type": "code",
   "execution_count": 23,
   "metadata": {},
   "outputs": [],
   "source": [
    "# Change Infinite values with NaNs\n",
    "data = data.replace([np.inf, -np.inf], np.nan)"
   ]
  },
  {
   "cell_type": "code",
   "execution_count": 24,
   "metadata": {},
   "outputs": [
    {
     "data": {
      "text/plain": [
       "usd_cleaning_fee          20017\n",
       "n_bathrooms                 237\n",
       "n_review_scores_rating    16501\n",
       "n_reviews_per_month       15741\n",
       "n_beds                      167\n",
       "n_days_since              15741\n",
       "ln_beds                     168\n",
       "f_bathroom                  237\n",
       "f_number_of_reviews           1\n",
       "f_minimum_nights              1\n",
       "dtype: int64"
      ]
     },
     "execution_count": 24,
     "metadata": {},
     "output_type": "execute_result"
    }
   ],
   "source": [
    "# ------------------------------------------------------------------------------------------------\n",
    "# where do we have missing variables now?\n",
    "to_filter = data.isna().sum()\n",
    "to_filter[to_filter > 0]"
   ]
  },
  {
   "cell_type": "code",
   "execution_count": 25,
   "metadata": {},
   "outputs": [],
   "source": [
    "# what to do with missing values?\n",
    "# 1. drop if no target\n",
    "data = data.loc[lambda x: x.price.notnull()]"
   ]
  },
  {
   "cell_type": "code",
   "execution_count": 26,
   "metadata": {},
   "outputs": [],
   "source": [
    "# 2. imput when few, not that important\n",
    "data = data.assign(\n",
    "    n_bathrooms=lambda x: x[\"n_bathrooms\"].fillna(np.median(x[\"n_bathrooms\"].dropna())),\n",
    "    n_beds=lambda x: np.where(x[\"n_beds\"].isnull(), x[\"n_accommodates\"], x[\"n_beds\"]),\n",
    "    f_bathroom=lambda x: x[\"f_bathroom\"].fillna(1),\n",
    "    f_minimum_nights=lambda x: x[\"f_minimum_nights\"].fillna(1),\n",
    "    f_number_of_reviews=lambda x: x[\"f_number_of_reviews\"].fillna(1),\n",
    "    ln_beds=lambda x: x[\"ln_beds\"].fillna(0),\n",
    ")"
   ]
  },
  {
   "cell_type": "code",
   "execution_count": 27,
   "metadata": {},
   "outputs": [],
   "source": [
    "# 3. drop columns when many missing not important\n",
    "data = data.drop([\"usd_cleaning_fee\", \"p_host_response_rate\"], axis=1)"
   ]
  },
  {
   "cell_type": "code",
   "execution_count": 28,
   "metadata": {},
   "outputs": [
    {
     "data": {
      "text/plain": [
       "n_review_scores_rating    16501\n",
       "n_reviews_per_month       15741\n",
       "n_days_since              15741\n",
       "dtype: int64"
      ]
     },
     "execution_count": 28,
     "metadata": {},
     "output_type": "execute_result"
    }
   ],
   "source": [
    "to_filter = data.isna().sum()\n",
    "to_filter[to_filter > 0]"
   ]
  },
  {
   "cell_type": "code",
   "execution_count": 29,
   "metadata": {},
   "outputs": [],
   "source": [
    "# 4. Replace missing variables re reviews with zero, when no review + add flags\n",
    "data = data.assign(\n",
    "    flag_days_since=np.multiply(data.n_days_since.isna(), 1),\n",
    "    n_days_since=data.n_days_since.fillna(np.median(data.n_days_since.dropna())),\n",
    "    flag_review_scores_rating=np.multiply(data.n_review_scores_rating.isna(), 1),\n",
    "    n_review_scores_rating=data.n_review_scores_rating.fillna(\n",
    "        np.median(data.n_review_scores_rating.dropna())\n",
    "    ),\n",
    "    flag_reviews_per_month=np.multiply(data.n_reviews_per_month.isna(), 1),\n",
    "    n_reviews_per_month=data.n_reviews_per_month.fillna(\n",
    "        np.median(data.n_reviews_per_month.dropna())\n",
    "    ),\n",
    "    flag_n_number_of_reviews=np.multiply(data.n_number_of_reviews.isna(), 1),\n",
    ")"
   ]
  },
  {
   "cell_type": "code",
   "execution_count": 30,
   "metadata": {},
   "outputs": [
    {
     "data": {
      "text/plain": [
       "0    35905\n",
       "1    15741\n",
       "Name: flag_days_since, dtype: int64"
      ]
     },
     "execution_count": 30,
     "metadata": {},
     "output_type": "execute_result"
    }
   ],
   "source": [
    "data.flag_days_since.value_counts()"
   ]
  },
  {
   "cell_type": "code",
   "execution_count": 31,
   "metadata": {},
   "outputs": [],
   "source": [
    "# redo features\n",
    "# Create variables, measuring the time since: squared, cubic, logs\n",
    "data = data.assign(\n",
    "    ln_days_since=lambda x: np.log(x[\"n_days_since\"] + 1),\n",
    "    ln_days_since2=lambda x: np.log(x[\"n_days_since\"] + 1) ** 2,\n",
    "    ln_days_since3=lambda x: np.log(x[\"n_days_since\"] + 1) ** 3,\n",
    "    n_days_since2=lambda x: x[\"n_days_since\"] ** 2,\n",
    "    n_days_since3=lambda x: x[\"n_days_since\"] ** 3,\n",
    "    ln_review_scores_rating=lambda x: np.log(x[\"n_review_scores_rating\"]),\n",
    ")"
   ]
  },
  {
   "cell_type": "code",
   "execution_count": 32,
   "metadata": {},
   "outputs": [],
   "source": [
    "data.ln_days_since = data[\"ln_days_since\"].fillna(0)\n",
    "data.ln_days_since2 = data[\"ln_days_since2\"].fillna(0)\n",
    "data.ln_days_since3 = data[\"ln_days_since3\"].fillna(0)"
   ]
  },
  {
   "cell_type": "code",
   "execution_count": 33,
   "metadata": {},
   "outputs": [
    {
     "data": {
      "text/plain": [
       "Series([], dtype: int64)"
      ]
     },
     "execution_count": 33,
     "metadata": {},
     "output_type": "execute_result"
    }
   ],
   "source": [
    "to_filter = data.isna().sum()\n",
    "to_filter[to_filter > 0]"
   ]
  },
  {
   "cell_type": "code",
   "execution_count": 34,
   "metadata": {},
   "outputs": [
    {
     "data": {
      "text/html": [
       "<div>\n",
       "<style scoped>\n",
       "    .dataframe tbody tr th:only-of-type {\n",
       "        vertical-align: middle;\n",
       "    }\n",
       "\n",
       "    .dataframe tbody tr th {\n",
       "        vertical-align: top;\n",
       "    }\n",
       "\n",
       "    .dataframe thead th {\n",
       "        text-align: right;\n",
       "    }\n",
       "</style>\n",
       "<table border=\"1\" class=\"dataframe\">\n",
       "  <thead>\n",
       "    <tr style=\"text-align: right;\">\n",
       "      <th></th>\n",
       "      <th>n_accommodates</th>\n",
       "      <th>n_bathrooms</th>\n",
       "      <th>n_review_scores_rating</th>\n",
       "      <th>n_number_of_reviews</th>\n",
       "      <th>n_guests_included</th>\n",
       "      <th>n_reviews_per_month</th>\n",
       "      <th>n_extra_people</th>\n",
       "      <th>n_minimum_nights</th>\n",
       "      <th>n_beds</th>\n",
       "      <th>n_days_since</th>\n",
       "      <th>...</th>\n",
       "      <th>flag_days_since</th>\n",
       "      <th>flag_review_scores_rating</th>\n",
       "      <th>flag_reviews_per_month</th>\n",
       "      <th>flag_n_number_of_reviews</th>\n",
       "      <th>ln_days_since</th>\n",
       "      <th>ln_days_since2</th>\n",
       "      <th>ln_days_since3</th>\n",
       "      <th>n_days_since2</th>\n",
       "      <th>n_days_since3</th>\n",
       "      <th>ln_review_scores_rating</th>\n",
       "    </tr>\n",
       "  </thead>\n",
       "  <tbody>\n",
       "    <tr>\n",
       "      <th>count</th>\n",
       "      <td>51646.000000</td>\n",
       "      <td>51646.000000</td>\n",
       "      <td>51646.000000</td>\n",
       "      <td>51646.000000</td>\n",
       "      <td>51646.000000</td>\n",
       "      <td>51646.000000</td>\n",
       "      <td>51646.000000</td>\n",
       "      <td>51646.000000</td>\n",
       "      <td>51646.000000</td>\n",
       "      <td>51646.000000</td>\n",
       "      <td>...</td>\n",
       "      <td>51646.000000</td>\n",
       "      <td>51646.000000</td>\n",
       "      <td>51646.000000</td>\n",
       "      <td>51646.0</td>\n",
       "      <td>51646.000000</td>\n",
       "      <td>51646.000000</td>\n",
       "      <td>51646.000000</td>\n",
       "      <td>5.164600e+04</td>\n",
       "      <td>5.164600e+04</td>\n",
       "      <td>51646.000000</td>\n",
       "    </tr>\n",
       "    <tr>\n",
       "      <th>mean</th>\n",
       "      <td>3.057178</td>\n",
       "      <td>1.260708</td>\n",
       "      <td>92.439627</td>\n",
       "      <td>12.350327</td>\n",
       "      <td>1.415773</td>\n",
       "      <td>1.138970</td>\n",
       "      <td>6.665550</td>\n",
       "      <td>3.310266</td>\n",
       "      <td>1.708884</td>\n",
       "      <td>418.132595</td>\n",
       "      <td>...</td>\n",
       "      <td>0.304786</td>\n",
       "      <td>0.319502</td>\n",
       "      <td>0.304786</td>\n",
       "      <td>0.0</td>\n",
       "      <td>5.714039</td>\n",
       "      <td>33.464400</td>\n",
       "      <td>199.676817</td>\n",
       "      <td>2.936171e+05</td>\n",
       "      <td>3.051141e+08</td>\n",
       "      <td>4.520661</td>\n",
       "    </tr>\n",
       "    <tr>\n",
       "      <th>std</th>\n",
       "      <td>1.888509</td>\n",
       "      <td>0.527094</td>\n",
       "      <td>8.438353</td>\n",
       "      <td>25.860475</td>\n",
       "      <td>1.044884</td>\n",
       "      <td>1.236552</td>\n",
       "      <td>12.691355</td>\n",
       "      <td>29.083719</td>\n",
       "      <td>1.168387</td>\n",
       "      <td>344.651296</td>\n",
       "      <td>...</td>\n",
       "      <td>0.460321</td>\n",
       "      <td>0.466288</td>\n",
       "      <td>0.460321</td>\n",
       "      <td>0.0</td>\n",
       "      <td>0.902317</td>\n",
       "      <td>9.507929</td>\n",
       "      <td>80.289121</td>\n",
       "      <td>5.640849e+05</td>\n",
       "      <td>9.621195e+08</td>\n",
       "      <td>0.120946</td>\n",
       "    </tr>\n",
       "    <tr>\n",
       "      <th>min</th>\n",
       "      <td>1.000000</td>\n",
       "      <td>0.000000</td>\n",
       "      <td>20.000000</td>\n",
       "      <td>0.000000</td>\n",
       "      <td>1.000000</td>\n",
       "      <td>0.010000</td>\n",
       "      <td>0.000000</td>\n",
       "      <td>1.000000</td>\n",
       "      <td>0.000000</td>\n",
       "      <td>0.000000</td>\n",
       "      <td>...</td>\n",
       "      <td>0.000000</td>\n",
       "      <td>0.000000</td>\n",
       "      <td>0.000000</td>\n",
       "      <td>0.0</td>\n",
       "      <td>0.000000</td>\n",
       "      <td>0.000000</td>\n",
       "      <td>0.000000</td>\n",
       "      <td>0.000000e+00</td>\n",
       "      <td>0.000000e+00</td>\n",
       "      <td>2.995732</td>\n",
       "    </tr>\n",
       "    <tr>\n",
       "      <th>25%</th>\n",
       "      <td>2.000000</td>\n",
       "      <td>1.000000</td>\n",
       "      <td>92.000000</td>\n",
       "      <td>0.000000</td>\n",
       "      <td>1.000000</td>\n",
       "      <td>0.470000</td>\n",
       "      <td>0.000000</td>\n",
       "      <td>1.000000</td>\n",
       "      <td>1.000000</td>\n",
       "      <td>228.000000</td>\n",
       "      <td>...</td>\n",
       "      <td>0.000000</td>\n",
       "      <td>0.000000</td>\n",
       "      <td>0.000000</td>\n",
       "      <td>0.0</td>\n",
       "      <td>5.433722</td>\n",
       "      <td>29.525335</td>\n",
       "      <td>160.432461</td>\n",
       "      <td>5.198400e+04</td>\n",
       "      <td>1.185235e+07</td>\n",
       "      <td>4.521789</td>\n",
       "    </tr>\n",
       "    <tr>\n",
       "      <th>50%</th>\n",
       "      <td>2.000000</td>\n",
       "      <td>1.000000</td>\n",
       "      <td>94.000000</td>\n",
       "      <td>3.000000</td>\n",
       "      <td>1.000000</td>\n",
       "      <td>0.770000</td>\n",
       "      <td>0.000000</td>\n",
       "      <td>2.000000</td>\n",
       "      <td>1.000000</td>\n",
       "      <td>327.000000</td>\n",
       "      <td>...</td>\n",
       "      <td>0.000000</td>\n",
       "      <td>0.000000</td>\n",
       "      <td>0.000000</td>\n",
       "      <td>0.0</td>\n",
       "      <td>5.793014</td>\n",
       "      <td>33.559007</td>\n",
       "      <td>194.407782</td>\n",
       "      <td>1.069290e+05</td>\n",
       "      <td>3.496578e+07</td>\n",
       "      <td>4.543295</td>\n",
       "    </tr>\n",
       "    <tr>\n",
       "      <th>75%</th>\n",
       "      <td>4.000000</td>\n",
       "      <td>1.500000</td>\n",
       "      <td>97.000000</td>\n",
       "      <td>12.000000</td>\n",
       "      <td>1.000000</td>\n",
       "      <td>1.170000</td>\n",
       "      <td>10.000000</td>\n",
       "      <td>3.000000</td>\n",
       "      <td>2.000000</td>\n",
       "      <td>504.000000</td>\n",
       "      <td>...</td>\n",
       "      <td>1.000000</td>\n",
       "      <td>1.000000</td>\n",
       "      <td>1.000000</td>\n",
       "      <td>0.0</td>\n",
       "      <td>6.224558</td>\n",
       "      <td>38.745128</td>\n",
       "      <td>241.171311</td>\n",
       "      <td>2.540160e+05</td>\n",
       "      <td>1.280241e+08</td>\n",
       "      <td>4.574711</td>\n",
       "    </tr>\n",
       "    <tr>\n",
       "      <th>max</th>\n",
       "      <td>16.000000</td>\n",
       "      <td>8.000000</td>\n",
       "      <td>100.000000</td>\n",
       "      <td>396.000000</td>\n",
       "      <td>16.000000</td>\n",
       "      <td>15.000000</td>\n",
       "      <td>240.000000</td>\n",
       "      <td>5000.000000</td>\n",
       "      <td>16.000000</td>\n",
       "      <td>2722.000000</td>\n",
       "      <td>...</td>\n",
       "      <td>1.000000</td>\n",
       "      <td>1.000000</td>\n",
       "      <td>1.000000</td>\n",
       "      <td>0.0</td>\n",
       "      <td>7.909489</td>\n",
       "      <td>62.560024</td>\n",
       "      <td>494.817853</td>\n",
       "      <td>7.409284e+06</td>\n",
       "      <td>2.016807e+10</td>\n",
       "      <td>4.605170</td>\n",
       "    </tr>\n",
       "  </tbody>\n",
       "</table>\n",
       "<p>8 rows × 77 columns</p>\n",
       "</div>"
      ],
      "text/plain": [
       "       n_accommodates   n_bathrooms  n_review_scores_rating  \\\n",
       "count    51646.000000  51646.000000            51646.000000   \n",
       "mean         3.057178      1.260708               92.439627   \n",
       "std          1.888509      0.527094                8.438353   \n",
       "min          1.000000      0.000000               20.000000   \n",
       "25%          2.000000      1.000000               92.000000   \n",
       "50%          2.000000      1.000000               94.000000   \n",
       "75%          4.000000      1.500000               97.000000   \n",
       "max         16.000000      8.000000              100.000000   \n",
       "\n",
       "       n_number_of_reviews  n_guests_included  n_reviews_per_month  \\\n",
       "count         51646.000000       51646.000000         51646.000000   \n",
       "mean             12.350327           1.415773             1.138970   \n",
       "std              25.860475           1.044884             1.236552   \n",
       "min               0.000000           1.000000             0.010000   \n",
       "25%               0.000000           1.000000             0.470000   \n",
       "50%               3.000000           1.000000             0.770000   \n",
       "75%              12.000000           1.000000             1.170000   \n",
       "max             396.000000          16.000000            15.000000   \n",
       "\n",
       "       n_extra_people  n_minimum_nights        n_beds  n_days_since  ...  \\\n",
       "count    51646.000000      51646.000000  51646.000000  51646.000000  ...   \n",
       "mean         6.665550          3.310266      1.708884    418.132595  ...   \n",
       "std         12.691355         29.083719      1.168387    344.651296  ...   \n",
       "min          0.000000          1.000000      0.000000      0.000000  ...   \n",
       "25%          0.000000          1.000000      1.000000    228.000000  ...   \n",
       "50%          0.000000          2.000000      1.000000    327.000000  ...   \n",
       "75%         10.000000          3.000000      2.000000    504.000000  ...   \n",
       "max        240.000000       5000.000000     16.000000   2722.000000  ...   \n",
       "\n",
       "       flag_days_since  flag_review_scores_rating  flag_reviews_per_month  \\\n",
       "count     51646.000000               51646.000000            51646.000000   \n",
       "mean          0.304786                   0.319502                0.304786   \n",
       "std           0.460321                   0.466288                0.460321   \n",
       "min           0.000000                   0.000000                0.000000   \n",
       "25%           0.000000                   0.000000                0.000000   \n",
       "50%           0.000000                   0.000000                0.000000   \n",
       "75%           1.000000                   1.000000                1.000000   \n",
       "max           1.000000                   1.000000                1.000000   \n",
       "\n",
       "       flag_n_number_of_reviews  ln_days_since  ln_days_since2  \\\n",
       "count                   51646.0   51646.000000    51646.000000   \n",
       "mean                        0.0       5.714039       33.464400   \n",
       "std                         0.0       0.902317        9.507929   \n",
       "min                         0.0       0.000000        0.000000   \n",
       "25%                         0.0       5.433722       29.525335   \n",
       "50%                         0.0       5.793014       33.559007   \n",
       "75%                         0.0       6.224558       38.745128   \n",
       "max                         0.0       7.909489       62.560024   \n",
       "\n",
       "       ln_days_since3  n_days_since2  n_days_since3  ln_review_scores_rating  \n",
       "count    51646.000000   5.164600e+04   5.164600e+04             51646.000000  \n",
       "mean       199.676817   2.936171e+05   3.051141e+08                 4.520661  \n",
       "std         80.289121   5.640849e+05   9.621195e+08                 0.120946  \n",
       "min          0.000000   0.000000e+00   0.000000e+00                 2.995732  \n",
       "25%        160.432461   5.198400e+04   1.185235e+07                 4.521789  \n",
       "50%        194.407782   1.069290e+05   3.496578e+07                 4.543295  \n",
       "75%        241.171311   2.540160e+05   1.280241e+08                 4.574711  \n",
       "max        494.817853   7.409284e+06   2.016807e+10                 4.605170  \n",
       "\n",
       "[8 rows x 77 columns]"
      ]
     },
     "execution_count": 34,
     "metadata": {},
     "output_type": "execute_result"
    }
   ],
   "source": [
    "data.describe()"
   ]
  },
  {
   "cell_type": "code",
   "execution_count": 35,
   "metadata": {},
   "outputs": [],
   "source": [
    "data.to_csv(data_out + \"airbnb_london_workfile_adj.csv\", index=False)"
   ]
  },
  {
   "cell_type": "code",
   "execution_count": null,
   "metadata": {},
   "outputs": [],
   "source": []
  }
 ],
 "metadata": {
  "kernelspec": {
   "display_name": "Python 3",
   "language": "python",
   "name": "python3"
  },
  "language_info": {
   "codemirror_mode": {
    "name": "ipython",
    "version": 3
   },
   "file_extension": ".py",
   "mimetype": "text/x-python",
   "name": "python",
   "nbconvert_exporter": "python",
   "pygments_lexer": "ipython3",
   "version": "3.8.6"
  }
 },
 "nbformat": 4,
 "nbformat_minor": 4
}
