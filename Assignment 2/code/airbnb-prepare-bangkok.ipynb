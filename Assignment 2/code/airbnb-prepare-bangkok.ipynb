{
 "cells": [
  {
   "cell_type": "code",
   "execution_count": 129,
   "metadata": {},
   "outputs": [],
   "source": [
    "import pandas as pd\n",
    "import numpy as np\n",
    "import os\n",
    "from pathlib import Path\n",
    "import sys\n",
    "import re\n",
    "from datetime import datetime\n",
    "import warnings\n",
    "warnings.filterwarnings(\"ignore\")"
   ]
  },
  {
   "cell_type": "code",
   "execution_count": 130,
   "metadata": {},
   "outputs": [],
   "source": [
    "area = \"bangkok\"\n",
    "data = pd.read_csv(\"../data/airbnb_\" + area + \"_cleaned.csv\", index_col=0)"
   ]
  },
  {
   "cell_type": "code",
   "execution_count": 131,
   "metadata": {},
   "outputs": [
    {
     "data": {
      "text/plain": [
       "Entire rental unit                     4558\n",
       "Entire condominium (condo)             3492\n",
       "Private room in rental unit            1830\n",
       "Private room in condominium (condo)     899\n",
       "Private room in residential home        646\n",
       "Room in boutique hotel                  638\n",
       "Room in hotel                           528\n",
       "Private room in townhouse               524\n",
       "Private room in hostel                  500\n",
       "Entire serviced apartment               456\n",
       "Name: property_type, dtype: int64"
      ]
     },
     "execution_count": 131,
     "metadata": {},
     "output_type": "execute_result"
    }
   ],
   "source": [
    "data[\"property_type\"].value_counts().head(10)"
   ]
  },
  {
   "cell_type": "code",
   "execution_count": 132,
   "metadata": {},
   "outputs": [],
   "source": [
    "# keep if property type is Apartment, House or Townhouse\n",
    "data = data.loc[\n",
    "    lambda x: x[\"property_type\"].isin(\n",
    "        [\n",
    "            \"Entire rental unit\",\n",
    "            \"Entire condominium (condo)\",\n",
    "            \"Entire serviced apartment\",\n",
    "        ]\n",
    "    )\n",
    "]"
   ]
  },
  {
   "cell_type": "code",
   "execution_count": 133,
   "metadata": {},
   "outputs": [],
   "source": [
    "data[\"f_property_type\"] = data[\"property_type\"].astype(\"category\")"
   ]
  },
  {
   "cell_type": "code",
   "execution_count": 134,
   "metadata": {},
   "outputs": [
    {
     "data": {
      "text/plain": [
       "Entire home/apt    8506\n",
       "Name: room_type, dtype: int64"
      ]
     },
     "execution_count": 134,
     "metadata": {},
     "output_type": "execute_result"
    }
   ],
   "source": [
    "data[\"room_type\"].value_counts()"
   ]
  },
  {
   "cell_type": "code",
   "execution_count": 135,
   "metadata": {},
   "outputs": [],
   "source": [
    "data.drop(\"room_type\",axis=1,inplace=True)"
   ]
  },
  {
   "cell_type": "code",
   "execution_count": 136,
   "metadata": {},
   "outputs": [
    {
     "name": "stdout",
     "output_type": "stream",
     "text": [
      "['scrape_id', 'host_id', 'host_name', 'host_since', 'host_response_rate', 'host_acceptance_rate', 'host_is_superhost', 'host_neighbourhood', 'host_listings_count', 'host_total_listings_count', 'host_verifications', 'host_has_profile_pic', 'host_identity_verified', 'neighbourhood', 'neighbourhood_cleansed', 'neighbourhood_group_cleansed', 'latitude', 'longitude', 'property_type', 'accommodates', 'bathrooms', 'bathrooms_text', 'bedrooms', 'beds', 'price', 'minimum_nights', 'maximum_nights', 'minimum_minimum_nights', 'maximum_minimum_nights', 'minimum_maximum_nights', 'maximum_maximum_nights', 'minimum_nights_avg_ntm', 'maximum_nights_avg_ntm', 'calendar_updated', 'has_availability', 'availability_30', 'availability_60', 'availability_90', 'availability_365', 'calendar_last_scraped', 'number_of_reviews', 'number_of_reviews_ltm', 'number_of_reviews_l30d', 'first_review', 'last_review', 'review_scores_rating', 'review_scores_accuracy', 'review_scores_cleanliness', 'review_scores_checkin', 'review_scores_communication', 'review_scores_location', 'review_scores_value', 'license', 'instant_bookable', 'calculated_host_listings_count', 'calculated_host_listings_count_entire_homes', 'calculated_host_listings_count_private_rooms', 'calculated_host_listings_count_shared_rooms', 'reviews_per_month', 'Unnamed: 61', '\\\\ hdtv', '\\\\ hdtv with apple tv', '\\\\ hdtv with chromecast', '\\\\ hdtv with netflix', '\\\\ hdtv with standard cable', '\\\\ tv', '\\\\ tv with chromecast', '\\\\ tv with netflix', '\\\\ tv with standard cable', 'air conditioning', 'airport shuttle', 'aloe vera body soap', 'amazon prime video', 'and closet', 'and desk', 'and dresser', 'and office chair', 'and table', 'and wardrobe', 'apple tv', 'aro body soap', 'aro conditioner', 'aro shampoo', 'baby bath', 'baby monitor', 'baby safety gates', 'babysitter recommendations', 'backyard', 'baking sheet', 'barbecue utensils', 'bathrobes', 'bathroom essentials', 'bathtub', 'bbq grill', 'beach essentials', 'beachfront', 'bed linens', 'bedroom comforts', 'bidet', 'bikes', 'bluetooth sound system', 'board games', 'boat slip', 'body soap', 'boots body soap', 'boots conditioner', 'boots shampoo', 'bottled water', 'bread maker', 'breakfast', 'building staff', 'cable tv', 'carbon monoxide alarm', 'ceiling fan', 'central air conditioning', 'ceramic hob top electric stove', 'changing table', 'childrens books and toys', 'childrens books and toys for ages  years old', 'childrens books and toys for ages  years old and  years old', 'childrens dinnerware', 'chromecast', 'cleaning before checkout', 'cleaning products', 'closet', 'clothing storage', 'clothing storage: closet', 'clothing storage: closet and dresser', 'clothing storage: closet and walkin closet', 'clothing storage: closet and wardrobe', 'clothing storage: dresser', 'clothing storage: dresser and closet', 'clothing storage: dresser and wardrobe', 'clothing storage: walkin closet', 'clothing storage: wardrobe', 'clothing storage: wardrobe and closet', 'coffee maker', 'complimentary self parking', 'concierge', 'conditioner', 'continental breakfast available  ef per person per day', 'cooking basics', 'crib', 'dedicated workspace', 'dedicated workspace: desk', 'dedicated workspace: desk and office chair', 'dedicated workspace: desk and table', 'dedicated workspace: office chair', 'dedicated workspace: office chair and desk', 'dedicated workspace: office chair and table', 'dedicated workspace: table', 'dedicated workspace: table and desk', 'dedicated workspace: table and office chair', 'desk', 'dettol body soap', 'dining table', 'dishes and silverware', 'dishwasher', 'dresser', 'dryer', 'dryer  in building', 'dryer ain unit', 'drying rack for clothing', 'eabath cream body soap', 'eeeeeeb body soap', 'eeeeeeb shampoo', 'ehouse brand shampoo', 'electric stove', 'electrolux refrigerator', 'elevator', 'essentials', 'ethernet connection', 'ev charger', 'extra pillows and blankets', 'filtered  conditioner', 'fire extinguisher', 'fire pit', 'fireplace guards', 'first aid kit', 'fitness center', 'free carport on premises', 'free carport on premises   spaces', 'free driveway parking on premises', 'free driveway parking on premises   space', 'free dryer  in building', 'free dryer  in unit', 'free parking garage on premises', 'free parking garage on premises   space', 'free parking garage on premises   spaces', 'free parking on premises', 'free parking on premises   space', 'free residential garage on premises', 'free residential garage on premises   space', 'free street parking', 'free washer', 'free washer  in building', 'free washer  in unit', 'free wifi', 'freezer', 'full kitchen', 'game console', 'game console: ps', 'gas stove', 'green tea', 'gym', 'gym in building', 'hafele electric stove', 'hair dryer', 'hangers', 'hbo max', 'hdtv', 'hdtv with amazon prime video', 'hdtv with apple tv', 'hdtv with chromecast', 'hdtv with netflix', 'hdtv with premium cable', 'hdtv with standard cable', 'head & shoulder  shampoo', 'heating', 'high chair', 'hitachi refrigerator', 'homemade body soap', 'host greets you', 'hot tub', 'hot water', 'hot water kettle', 'house brand conditioner', 'indoor fireplace', 'induction stove', 'iron', 'keurig coffee machine', 'keypad', 'kitchen', 'kitchenette', 'klarstein variocook w induction stove', 'lake access', 'laundromat nearby', 'lemongrass and jasminmint hotel fragrance selected products body soap', 'lemongrass and jasminmint hotel fragrance selected products conditioner', 'lg refrigerator', 'limited housekeeping  on request', 'linens', 'local brand body soap', 'local brand conditioner', 'lock on bedroom door', 'lockbox', 'lolentis conditioner', 'lolentis shampoo', 'long term stays allowed', 'loreal conditioner', 'loreal shampoo', 'luggage dropoff allowed', 'lux body soap', 'meg stove', 'mex  electric stove', 'mex stainless steel electric stove', 'mex stove', 'microwave', 'mini fridge', 'mitsubishi conditioner', 'mitsubishi refrigerator', 'mitsubisi refrigerator', 'mosquito net', 'natural body soap', 'natural conditioner', 'natural soap body soap', 'natural soap conditioner', 'naturals ws', 'nespresso machine', 'netflix', 'office chair', 'onsite restaurant  restaurant', 'outdoor dining area', 'outdoor furniture', 'outdoor saltwater pool', 'outdoor shower', 'outlet covers', 'oven', 'pack n play/travel crib', 'paid dryer', 'paid dryer  in building', 'paid parking garage off premises', 'paid parking garage on premises', 'paid parking garage on premises   space', 'paid parking lot off premises', 'paid parking lot on premises', 'paid parking lot on premises   space', 'paid parking lot on premises   spaces', 'paid parking off premises', 'paid parking on premises', 'paid street parking off premises', 'paid valet parking on premises', 'paid washer', 'paid washer  in building', 'paid washer  in unit', 'panasonic refrigerator', 'panasonic soundbar + subwoofer bluetooth sound system', 'patio or balcony', 'pets allowed', 'piano', 'ping pong table', 'pocket wifi', 'pool', 'pool table', 'pool toys', 'portable air conditioning', 'portable fans', 'portable heater', 'pourover coffee', 'premium cable', 'private entrance', 'private fenced garden or backyard', 'private garden or backyard', 'private gym in building', 'private hot tub', 'private indoor pool', 'private outdoor saltwater pool', 'private patio or balcony', 'private pool', 'private sauna', 'razr bluetooth sound system', 'record player', 'refrigerator', 'rice maker', 'roku', 'rooftop pool  outdoor', 'roomdarkening shades', 'safe', 'samsung bluetooth sound system', 'samsung electric stove', 'samsung refrigerator', 'samsung stainless steel oven', 'samsung with a separate freezer  refrigerator', 'sauna', 'security cameras on property', 'self checkin', 'shampoo', 'shared fenced garden or backyard', 'shared garden or backyard', 'shared gym in building', 'shared hot tub', 'shared indoor infinity rooftop lap pool', 'shared indoor pool', 'shared outdoor infinity pool', 'shared outdoor infinity rooftop lap pool', 'shared outdoor infinity rooftop pool', 'shared outdoor infinity rooftop saltwater lap pool', 'shared outdoor infinity rooftop saltwater pool', 'shared outdoor infinity saltwater pool', 'shared outdoor lap pool', 'shared outdoor olympicsized rooftop saltwater pool', 'shared outdoor pool', 'shared outdoor rooftop pool', 'shared outdoor rooftop saltwater lap pool', 'shared outdoor rooftop saltwater pool', 'shared outdoor saltwater pool', 'shared patio or balcony', 'shared pool', 'shared sauna', 'sharp refrigerator', 'shower gel', 'side by side samsung refrigerator refrigerator', 'signature body soap', 'signature conditioner', 'signature shampoo', 'single level home', 'skg sound system', 'skiin/skiout', 'slippers', 'smart lock', 'smoke alarm', 'smoking allowed', 'sony sound system', 'sound system', 'sound system with bluetooth and aux', 'stainless steel electric stove', 'stainless steel gas stove', 'stainless steel induction stove', 'stainless steel oven', 'stainless steel stove', 'standard cable', 'stove', 'sun silk shampoo', 'sunsilk shampoo', 'table', 'table corner guards', 'thess body soap', 'toaster', 'toiletries', 'toshiba  refrigerator', 'toshiba fit refrigerator', 'toshiba refrigerator', 'trash compactor', 'tresume conditioner', 'tv', 'tv with netflix', 'tv with standard cable', 'walkin closet', 'wardrobe', 'washer', 'washer ain building', 'washer ain unit', 'waterfront', 'watson body soap', 'watson shampoo', 'wifi', 'window ac unit', 'window guards', 'wine glasses', 'xiaomi induction stove', 'f_property_type']\n"
     ]
    }
   ],
   "source": [
    "print(data.columns.tolist())"
   ]
  },
  {
   "cell_type": "code",
   "execution_count": 137,
   "metadata": {},
   "outputs": [
    {
     "data": {
      "text/plain": [
       "Khlong Toei             1482\n",
       "Vadhana                 1196\n",
       "Huai Khwang              867\n",
       "Ratchathewi              702\n",
       "Sathon                   439\n",
       "Bang Rak                 354\n",
       "Phra Khanong             343\n",
       "Bang Na                  306\n",
       "Din Daeng                269\n",
       "Chatu Chak               260\n",
       "Parthum Wan              259\n",
       "Khlong San               220\n",
       "Phaya Thai               210\n",
       "Suanluang                202\n",
       "Bang Sue                 146\n",
       "Bang Kapi                127\n",
       "Yan na wa                121\n",
       "Bang Phlat               119\n",
       "Thon buri                104\n",
       "Phasi Charoen             95\n",
       "Bang Kho laen             80\n",
       "Lat Krabang               74\n",
       "Wang Thong Lang           63\n",
       "Pra Wet                   50\n",
       "Lak Si                    44\n",
       "Bang Khen                 37\n",
       "Bang Khae                 34\n",
       "Rat Burana                30\n",
       "Chom Thong                30\n",
       "Phra Nakhon               28\n",
       "Bangkok Yai               27\n",
       "Pom Prap Sattru Phai      26\n",
       "Bangkok Noi               22\n",
       "Don Mueang                20\n",
       "Bueng Kum                 17\n",
       "Min Buri                  17\n",
       "Khan Na Yao               16\n",
       "Samphanthawong            15\n",
       "Dusit                     13\n",
       "Thung khru                 8\n",
       "Lat Phrao                  7\n",
       "Saphan Sung                6\n",
       "Sai Mai                    5\n",
       "Nong Khaem                 4\n",
       "Taling Chan                4\n",
       "Bang Khun thain            3\n",
       "Nong Chok                  2\n",
       "Thawi Watthana             2\n",
       "Bang Bon                   1\n",
       "Name: neighbourhood_cleansed, dtype: int64"
      ]
     },
     "execution_count": 137,
     "metadata": {},
     "output_type": "execute_result"
    }
   ],
   "source": [
    "data[\"neighbourhood_cleansed\"].value_counts()"
   ]
  },
  {
   "cell_type": "code",
   "execution_count": 138,
   "metadata": {},
   "outputs": [],
   "source": [
    "# neighbourhood_cleansed as factors\n",
    "\n",
    "data[\"f_neighbourhood_cleansed\"] = data[\"neighbourhood_cleansed\"].astype(\"category\")"
   ]
  },
  {
   "cell_type": "markdown",
   "metadata": {},
   "source": [
    "---------\n",
    "\n",
    "### Create Numerical variables"
   ]
  },
  {
   "cell_type": "code",
   "execution_count": 139,
   "metadata": {},
   "outputs": [],
   "source": [
    "data[\"usd_price_day\"] = data[\"price\"]\n",
    "data[\"p_host_response_rate\"] = data[\"host_response_rate\"].fillna(0).astype(int)\n",
    "# rename cleaning_fee column\n",
    "\n",
    "data = data.rename(columns={\"cleaning_fee\":\"usd_cleaning_fee\"})"
   ]
  },
  {
   "cell_type": "code",
   "execution_count": 140,
   "metadata": {},
   "outputs": [
    {
     "data": {
      "text/plain": [
       "accommodates               0\n",
       "bathrooms               8506\n",
       "review_scores_rating    2681\n",
       "number_of_reviews          0\n",
       "reviews_per_month       2681\n",
       "minimum_nights             0\n",
       "beds                     139\n",
       "dtype: int64"
      ]
     },
     "execution_count": 140,
     "metadata": {},
     "output_type": "execute_result"
    }
   ],
   "source": [
    "data[\n",
    "    [\n",
    "        \"accommodates\",\n",
    "        \"bathrooms\",\n",
    "        \"review_scores_rating\",\n",
    "        \"number_of_reviews\",\n",
    "        \"reviews_per_month\",\n",
    "        \"minimum_nights\",\n",
    "        \"beds\",\n",
    "    ]\n",
    "].isnull().sum()"
   ]
  },
  {
   "cell_type": "code",
   "execution_count": 141,
   "metadata": {},
   "outputs": [],
   "source": [
    "# add new numeric columns from certain columns\n",
    "\n",
    "numericals = [\n",
    "    \"accommodates\",\n",
    "    \"review_scores_rating\",\n",
    "    \"number_of_reviews\",\n",
    "    \"reviews_per_month\",\n",
    "    \"minimum_nights\",\n",
    "    \"beds\",\n",
    "]\n",
    "\n",
    "for col in numericals:\n",
    "    data[\"n_\" + col] = pd.to_numeric(data[col], errors=\"coerce\")"
   ]
  },
  {
   "cell_type": "code",
   "execution_count": 142,
   "metadata": {},
   "outputs": [],
   "source": [
    "# create days since first review\n",
    "\n",
    "data[\"n_days_since\"] = (\n",
    "    data.calendar_last_scraped.apply(lambda x: datetime.strptime(x, \"%Y-%m-%d\"))\n",
    "    - data.first_review.fillna(\"1950-01-01\").apply(\n",
    "        lambda x: datetime.strptime(x, \"%Y-%m-%d\")\n",
    "    )\n",
    ").dt.days\n",
    "\n",
    "data[\"n_days_since\"] = np.where(data.first_review.isnull(), np.nan, data.n_days_since)"
   ]
  },
  {
   "cell_type": "code",
   "execution_count": 143,
   "metadata": {},
   "outputs": [],
   "source": [
    "amenities_to_keep = pd.read_pickle(\"amenities_to_keep.pkl\")"
   ]
  },
  {
   "cell_type": "code",
   "execution_count": 144,
   "metadata": {},
   "outputs": [],
   "source": [
    "# create dummy vars\n",
    "dummies = amenities_to_keep.index.tolist()\n",
    "\n",
    "for col in dummies:\n",
    "    data[\"d_\" + (re.sub(\"/|\\s|-\", \"\", col)).replace(\"(s)\", \"s\").lower()] = data[col]"
   ]
  },
  {
   "cell_type": "code",
   "execution_count": 145,
   "metadata": {},
   "outputs": [],
   "source": [
    "# keep columns if contain d_, n_,f_, p_, usd_ and some others\n",
    "\n",
    "data = pd.concat(\n",
    "    [\n",
    "        data.filter(\n",
    "            regex=\"^d_.*|^n_.*|^f_.*|^p_.*|^usd_.*\",\n",
    "        ),\n",
    "        data[\n",
    "            [\n",
    "                \"price\",\n",
    "                \"neighbourhood_cleansed\",\n",
    "                \"property_type\",\n",
    "            ]\n",
    "        ],\n",
    "    ],\n",
    "    axis=1,\n",
    ")"
   ]
  },
  {
   "cell_type": "code",
   "execution_count": 146,
   "metadata": {},
   "outputs": [
    {
     "data": {
      "text/plain": [
       "id\n",
       "27934         NaN\n",
       "28354         NaN\n",
       "36458       567.0\n",
       "59221       910.0\n",
       "61000       820.0\n",
       "            ...  \n",
       "51813097    880.0\n",
       "51851215    960.0\n",
       "51851676      NaN\n",
       "51854076      NaN\n",
       "51854776      NaN\n",
       "Name: price, Length: 8506, dtype: float64"
      ]
     },
     "execution_count": 146,
     "metadata": {},
     "output_type": "execute_result"
    }
   ],
   "source": [
    " data[\"price\"].astype(float)"
   ]
  },
  {
   "cell_type": "code",
   "execution_count": 147,
   "metadata": {},
   "outputs": [],
   "source": [
    "# Squares and further values to create\n",
    "data = data.assign(\n",
    "    n_accommodates2=lambda x: x[\"n_accommodates\"] ** 2,\n",
    "    ln_accommodates=lambda x: np.log(x[\"n_accommodates\"]),\n",
    "    ln_accommodates2=lambda x: np.log(x[\"n_accommodates\"]) ** 2,\n",
    "    ln_beds=lambda x: np.log(x[\"n_beds\"]),\n",
    "    ln_number_of_reviews=lambda x: np.log(x[\"n_number_of_reviews\"] + 1),\n",
    ")"
   ]
  },
  {
   "cell_type": "code",
   "execution_count": 148,
   "metadata": {},
   "outputs": [
    {
     "data": {
      "text/plain": [
       "Index(['f_property_type', 'f_neighbourhood_cleansed', 'usd_price_day',\n",
       "       'p_host_response_rate', 'n_accommodates', 'n_review_scores_rating',\n",
       "       'n_number_of_reviews', 'n_reviews_per_month', 'n_minimum_nights',\n",
       "       'n_beds', 'n_days_since', 'd_airconditioning', 'd_longtermstaysallowed',\n",
       "       'd_essentials', 'd_wifi', 'd_hangers', 'd_shampoo', 'd_hairdryer',\n",
       "       'd_washer', 'd_dedicatedworkspace', 'd_kitchen', 'd_smokealarm', 'd_tv',\n",
       "       'd_elevator', 'd_hotwater', 'd_freeparkingonpremises',\n",
       "       'd_fireextinguisher', 'd_pool', 'd_gym', 'd_refrigerator', 'd_iron',\n",
       "       'd_microwave', 'd_dishesandsilverware', 'd_dryer',\n",
       "       'd_carbonmonoxidealarm', 'd_bedlinens', 'd_privateentrance',\n",
       "       'd_firstaidkit', 'd_cabletv', 'd_tvwithstandardcable',\n",
       "       'd_patioorbalcony', 'd_lockonbedroomdoor', 'd_cookingbasics',\n",
       "       'd_luggagedropoffallowed', 'd_stove', 'd_heating',\n",
       "       'd_extrapillowsandblankets', 'd_breakfast', 'd_hostgreetsyou',\n",
       "       'd_backyard', 'd_buildingstaff', 'd_showergel',\n",
       "       'd_securitycamerasonproperty', 'd_freestreetparking',\n",
       "       'd_roomdarkeningshades', 'd_hottub', 'd_lockbox', 'd_coffeemaker',\n",
       "       'd_ethernetconnection', 'd_cleaningbeforecheckout', 'd_indoorfireplace',\n",
       "       'd_paidparkingonpremises', 'd_oven', 'd_hotwaterkettle', 'd_keypad',\n",
       "       'd_bathtub', 'd_singlelevelhome', 'd_paidparkingoffpremises', 'price',\n",
       "       'neighbourhood_cleansed', 'property_type', 'n_accommodates2',\n",
       "       'ln_accommodates', 'ln_accommodates2', 'ln_beds',\n",
       "       'ln_number_of_reviews'],\n",
       "      dtype='object')"
      ]
     },
     "execution_count": 148,
     "metadata": {},
     "output_type": "execute_result"
    }
   ],
   "source": [
    "data.columns"
   ]
  },
  {
   "cell_type": "code",
   "execution_count": 149,
   "metadata": {},
   "outputs": [
    {
     "ename": "KeyError",
     "evalue": "'n_bathrooms'",
     "output_type": "error",
     "traceback": [
      "\u001b[0;31m---------------------------------------------------------------------------\u001b[0m",
      "\u001b[0;31mKeyError\u001b[0m                                  Traceback (most recent call last)",
      "\u001b[0;32m/usr/local/lib/python3.8/site-packages/pandas/core/indexes/base.py\u001b[0m in \u001b[0;36mget_loc\u001b[0;34m(self, key, method, tolerance)\u001b[0m\n\u001b[1;32m   3079\u001b[0m             \u001b[0;32mtry\u001b[0m\u001b[0;34m:\u001b[0m\u001b[0;34m\u001b[0m\u001b[0;34m\u001b[0m\u001b[0m\n\u001b[0;32m-> 3080\u001b[0;31m                 \u001b[0;32mreturn\u001b[0m \u001b[0mself\u001b[0m\u001b[0;34m.\u001b[0m\u001b[0m_engine\u001b[0m\u001b[0;34m.\u001b[0m\u001b[0mget_loc\u001b[0m\u001b[0;34m(\u001b[0m\u001b[0mcasted_key\u001b[0m\u001b[0;34m)\u001b[0m\u001b[0;34m\u001b[0m\u001b[0;34m\u001b[0m\u001b[0m\n\u001b[0m\u001b[1;32m   3081\u001b[0m             \u001b[0;32mexcept\u001b[0m \u001b[0mKeyError\u001b[0m \u001b[0;32mas\u001b[0m \u001b[0merr\u001b[0m\u001b[0;34m:\u001b[0m\u001b[0;34m\u001b[0m\u001b[0;34m\u001b[0m\u001b[0m\n",
      "\u001b[0;32mpandas/_libs/index.pyx\u001b[0m in \u001b[0;36mpandas._libs.index.IndexEngine.get_loc\u001b[0;34m()\u001b[0m\n",
      "\u001b[0;32mpandas/_libs/index.pyx\u001b[0m in \u001b[0;36mpandas._libs.index.IndexEngine.get_loc\u001b[0;34m()\u001b[0m\n",
      "\u001b[0;32mpandas/_libs/hashtable_class_helper.pxi\u001b[0m in \u001b[0;36mpandas._libs.hashtable.PyObjectHashTable.get_item\u001b[0;34m()\u001b[0m\n",
      "\u001b[0;32mpandas/_libs/hashtable_class_helper.pxi\u001b[0m in \u001b[0;36mpandas._libs.hashtable.PyObjectHashTable.get_item\u001b[0;34m()\u001b[0m\n",
      "\u001b[0;31mKeyError\u001b[0m: 'n_bathrooms'",
      "\nThe above exception was the direct cause of the following exception:\n",
      "\u001b[0;31mKeyError\u001b[0m                                  Traceback (most recent call last)",
      "\u001b[0;32m<ipython-input-149-e4a710d1b46a>\u001b[0m in \u001b[0;36m<module>\u001b[0;34m\u001b[0m\n\u001b[1;32m      2\u001b[0m \u001b[0;34m\u001b[0m\u001b[0m\n\u001b[1;32m      3\u001b[0m \u001b[0mbins\u001b[0m \u001b[0;34m=\u001b[0m \u001b[0mpd\u001b[0m\u001b[0;34m.\u001b[0m\u001b[0mIntervalIndex\u001b[0m\u001b[0;34m.\u001b[0m\u001b[0mfrom_tuples\u001b[0m\u001b[0;34m(\u001b[0m\u001b[0;34m[\u001b[0m\u001b[0;34m(\u001b[0m\u001b[0;36m0\u001b[0m\u001b[0;34m,\u001b[0m \u001b[0;36m1\u001b[0m\u001b[0;34m)\u001b[0m\u001b[0;34m,\u001b[0m \u001b[0;34m(\u001b[0m\u001b[0;36m1\u001b[0m\u001b[0;34m,\u001b[0m \u001b[0;36m2\u001b[0m\u001b[0;34m)\u001b[0m\u001b[0;34m,\u001b[0m \u001b[0;34m(\u001b[0m\u001b[0;36m2\u001b[0m\u001b[0;34m,\u001b[0m \u001b[0;36m10\u001b[0m\u001b[0;34m)\u001b[0m\u001b[0;34m]\u001b[0m\u001b[0;34m,\u001b[0m \u001b[0mclosed\u001b[0m\u001b[0;34m=\u001b[0m\u001b[0;34m\"left\"\u001b[0m\u001b[0;34m)\u001b[0m\u001b[0;34m\u001b[0m\u001b[0;34m\u001b[0m\u001b[0m\n\u001b[0;32m----> 4\u001b[0;31m \u001b[0mf_bath\u001b[0m \u001b[0;34m=\u001b[0m \u001b[0mpd\u001b[0m\u001b[0;34m.\u001b[0m\u001b[0mcut\u001b[0m\u001b[0;34m(\u001b[0m\u001b[0mdata\u001b[0m\u001b[0;34m[\u001b[0m\u001b[0;34m\"n_bathrooms\"\u001b[0m\u001b[0;34m]\u001b[0m\u001b[0;34m.\u001b[0m\u001b[0mto_list\u001b[0m\u001b[0;34m(\u001b[0m\u001b[0;34m)\u001b[0m\u001b[0;34m,\u001b[0m \u001b[0mbins\u001b[0m\u001b[0;34m,\u001b[0m \u001b[0mlabels\u001b[0m\u001b[0;34m=\u001b[0m\u001b[0;34m[\u001b[0m\u001b[0;34m\"0\"\u001b[0m\u001b[0;34m,\u001b[0m \u001b[0;34m\"1\"\u001b[0m\u001b[0;34m,\u001b[0m \u001b[0;34m\"2\"\u001b[0m\u001b[0;34m]\u001b[0m\u001b[0;34m)\u001b[0m\u001b[0;34m\u001b[0m\u001b[0;34m\u001b[0m\u001b[0m\n\u001b[0m\u001b[1;32m      5\u001b[0m \u001b[0mf_bath\u001b[0m\u001b[0;34m.\u001b[0m\u001b[0mcategories\u001b[0m \u001b[0;34m=\u001b[0m \u001b[0;34m[\u001b[0m\u001b[0;36m0\u001b[0m\u001b[0;34m,\u001b[0m \u001b[0;36m1\u001b[0m\u001b[0;34m,\u001b[0m \u001b[0;36m2\u001b[0m\u001b[0;34m]\u001b[0m\u001b[0;34m\u001b[0m\u001b[0;34m\u001b[0m\u001b[0m\n\u001b[1;32m      6\u001b[0m \u001b[0mdata\u001b[0m\u001b[0;34m[\u001b[0m\u001b[0;34m\"f_bathroom\"\u001b[0m\u001b[0;34m]\u001b[0m \u001b[0;34m=\u001b[0m \u001b[0mf_bath\u001b[0m\u001b[0;34m\u001b[0m\u001b[0;34m\u001b[0m\u001b[0m\n",
      "\u001b[0;32m/usr/local/lib/python3.8/site-packages/pandas/core/frame.py\u001b[0m in \u001b[0;36m__getitem__\u001b[0;34m(self, key)\u001b[0m\n\u001b[1;32m   3022\u001b[0m             \u001b[0;32mif\u001b[0m \u001b[0mself\u001b[0m\u001b[0;34m.\u001b[0m\u001b[0mcolumns\u001b[0m\u001b[0;34m.\u001b[0m\u001b[0mnlevels\u001b[0m \u001b[0;34m>\u001b[0m \u001b[0;36m1\u001b[0m\u001b[0;34m:\u001b[0m\u001b[0;34m\u001b[0m\u001b[0;34m\u001b[0m\u001b[0m\n\u001b[1;32m   3023\u001b[0m                 \u001b[0;32mreturn\u001b[0m \u001b[0mself\u001b[0m\u001b[0;34m.\u001b[0m\u001b[0m_getitem_multilevel\u001b[0m\u001b[0;34m(\u001b[0m\u001b[0mkey\u001b[0m\u001b[0;34m)\u001b[0m\u001b[0;34m\u001b[0m\u001b[0;34m\u001b[0m\u001b[0m\n\u001b[0;32m-> 3024\u001b[0;31m             \u001b[0mindexer\u001b[0m \u001b[0;34m=\u001b[0m \u001b[0mself\u001b[0m\u001b[0;34m.\u001b[0m\u001b[0mcolumns\u001b[0m\u001b[0;34m.\u001b[0m\u001b[0mget_loc\u001b[0m\u001b[0;34m(\u001b[0m\u001b[0mkey\u001b[0m\u001b[0;34m)\u001b[0m\u001b[0;34m\u001b[0m\u001b[0;34m\u001b[0m\u001b[0m\n\u001b[0m\u001b[1;32m   3025\u001b[0m             \u001b[0;32mif\u001b[0m \u001b[0mis_integer\u001b[0m\u001b[0;34m(\u001b[0m\u001b[0mindexer\u001b[0m\u001b[0;34m)\u001b[0m\u001b[0;34m:\u001b[0m\u001b[0;34m\u001b[0m\u001b[0;34m\u001b[0m\u001b[0m\n\u001b[1;32m   3026\u001b[0m                 \u001b[0mindexer\u001b[0m \u001b[0;34m=\u001b[0m \u001b[0;34m[\u001b[0m\u001b[0mindexer\u001b[0m\u001b[0;34m]\u001b[0m\u001b[0;34m\u001b[0m\u001b[0;34m\u001b[0m\u001b[0m\n",
      "\u001b[0;32m/usr/local/lib/python3.8/site-packages/pandas/core/indexes/base.py\u001b[0m in \u001b[0;36mget_loc\u001b[0;34m(self, key, method, tolerance)\u001b[0m\n\u001b[1;32m   3080\u001b[0m                 \u001b[0;32mreturn\u001b[0m \u001b[0mself\u001b[0m\u001b[0;34m.\u001b[0m\u001b[0m_engine\u001b[0m\u001b[0;34m.\u001b[0m\u001b[0mget_loc\u001b[0m\u001b[0;34m(\u001b[0m\u001b[0mcasted_key\u001b[0m\u001b[0;34m)\u001b[0m\u001b[0;34m\u001b[0m\u001b[0;34m\u001b[0m\u001b[0m\n\u001b[1;32m   3081\u001b[0m             \u001b[0;32mexcept\u001b[0m \u001b[0mKeyError\u001b[0m \u001b[0;32mas\u001b[0m \u001b[0merr\u001b[0m\u001b[0;34m:\u001b[0m\u001b[0;34m\u001b[0m\u001b[0;34m\u001b[0m\u001b[0m\n\u001b[0;32m-> 3082\u001b[0;31m                 \u001b[0;32mraise\u001b[0m \u001b[0mKeyError\u001b[0m\u001b[0;34m(\u001b[0m\u001b[0mkey\u001b[0m\u001b[0;34m)\u001b[0m \u001b[0;32mfrom\u001b[0m \u001b[0merr\u001b[0m\u001b[0;34m\u001b[0m\u001b[0;34m\u001b[0m\u001b[0m\n\u001b[0m\u001b[1;32m   3083\u001b[0m \u001b[0;34m\u001b[0m\u001b[0m\n\u001b[1;32m   3084\u001b[0m         \u001b[0;32mif\u001b[0m \u001b[0mtolerance\u001b[0m \u001b[0;32mis\u001b[0m \u001b[0;32mnot\u001b[0m \u001b[0;32mNone\u001b[0m\u001b[0;34m:\u001b[0m\u001b[0;34m\u001b[0m\u001b[0;34m\u001b[0m\u001b[0m\n",
      "\u001b[0;31mKeyError\u001b[0m: 'n_bathrooms'"
     ]
    }
   ],
   "source": [
    "# Pool accomodations with 0,1,2,10 bathrooms\n",
    "\n",
    "bins = pd.IntervalIndex.from_tuples([(0, 1), (1, 2), (2, 10)], closed=\"left\")\n",
    "f_bath = pd.cut(data[\"n_bathrooms\"].to_list(), bins, labels=[\"0\", \"1\", \"2\"])\n",
    "f_bath.categories = [0, 1, 2]\n",
    "data[\"f_bathroom\"] = f_bath\n",
    "\n",
    "f_bath.value_counts(dropna=False)"
   ]
  },
  {
   "cell_type": "code",
   "execution_count": 152,
   "metadata": {},
   "outputs": [
    {
     "data": {
      "text/plain": [
       "1      4839\n",
       "0      2681\n",
       "2       985\n",
       "NaN       1\n",
       "Name: f_number_of_reviews, dtype: int64"
      ]
     },
     "execution_count": 152,
     "metadata": {},
     "output_type": "execute_result"
    }
   ],
   "source": [
    "# Pool num of reviews to 3 categories: none, 1-51 and >51\n",
    "\n",
    "bins = pd.IntervalIndex.from_tuples(\n",
    "    [(0, 1), (1, 51), (51, max(data.n_number_of_reviews))], closed=\"left\"\n",
    ")\n",
    "fnor = pd.cut(data[\"n_number_of_reviews\"].to_list(), bins, labels=[\"0\", \"1\", \"2\"])\n",
    "fnor.categories = [0, 1, 2]\n",
    "data[\"f_number_of_reviews\"] = fnor\n",
    "data[\"f_number_of_reviews\"].value_counts(dropna=False)"
   ]
  },
  {
   "cell_type": "code",
   "execution_count": 153,
   "metadata": {},
   "outputs": [
    {
     "data": {
      "text/plain": [
       "3      3848\n",
       "1      3697\n",
       "2       960\n",
       "NaN       1\n",
       "Name: f_minimum_nights, dtype: int64"
      ]
     },
     "execution_count": 153,
     "metadata": {},
     "output_type": "execute_result"
    }
   ],
   "source": [
    "# Pool and categorize the number of minimum nights: 1,2,3, 3+\n",
    "\n",
    "bins = pd.IntervalIndex.from_tuples(\n",
    "    [(1, 2), (2, 3), (3, max(data.n_minimum_nights))], closed=\"left\"\n",
    ")\n",
    "f_min_n = pd.cut(data[\"n_minimum_nights\"].to_list(), bins, labels=[\"1\", \"2\", \"3\"])\n",
    "f_min_n.categories = [1, 2, 3]\n",
    "data[\"f_minimum_nights\"] = f_min_n\n",
    "data[\"f_minimum_nights\"].value_counts(dropna=False)"
   ]
  },
  {
   "cell_type": "code",
   "execution_count": 155,
   "metadata": {},
   "outputs": [],
   "source": [
    "# Change Infinite values with NaNs\n",
    "data = data.replace([np.inf, -np.inf], np.nan)"
   ]
  },
  {
   "cell_type": "code",
   "execution_count": 156,
   "metadata": {},
   "outputs": [
    {
     "data": {
      "text/plain": [
       "usd_price_day             4832\n",
       "n_review_scores_rating    2681\n",
       "n_reviews_per_month       2681\n",
       "n_beds                     139\n",
       "n_days_since              2681\n",
       "price                     4832\n",
       "ln_beds                    433\n",
       "f_minimum_nights             1\n",
       "f_number_of_reviews          1\n",
       "dtype: int64"
      ]
     },
     "execution_count": 156,
     "metadata": {},
     "output_type": "execute_result"
    }
   ],
   "source": [
    "# ------------------------------------------------------------------------------------------------\n",
    "# where do we have missing variables now?\n",
    "to_filter = data.isna().sum()\n",
    "to_filter[to_filter > 0]"
   ]
  },
  {
   "cell_type": "code",
   "execution_count": 157,
   "metadata": {},
   "outputs": [],
   "source": [
    "# what to do with missing values?\n",
    "# 1. drop if no target\n",
    "data = data.loc[lambda x: x.price.notnull()]"
   ]
  },
  {
   "cell_type": "code",
   "execution_count": 158,
   "metadata": {},
   "outputs": [],
   "source": [
    "# 2. imput when few, not that important\n",
    "data = data.assign(\n",
    "    n_beds=lambda x: np.where(x[\"n_beds\"].isnull(), x[\"n_accommodates\"], x[\"n_beds\"]),\n",
    "    f_minimum_nights=lambda x: x[\"f_minimum_nights\"].fillna(1),\n",
    "    f_number_of_reviews=lambda x: x[\"f_number_of_reviews\"].fillna(1),\n",
    "    ln_beds=lambda x: x[\"ln_beds\"].fillna(0),\n",
    ")"
   ]
  },
  {
   "cell_type": "code",
   "execution_count": 160,
   "metadata": {},
   "outputs": [
    {
     "data": {
      "text/plain": [
       "n_review_scores_rating    905\n",
       "n_reviews_per_month       905\n",
       "n_days_since              905\n",
       "dtype: int64"
      ]
     },
     "execution_count": 160,
     "metadata": {},
     "output_type": "execute_result"
    }
   ],
   "source": [
    "to_filter = data.isna().sum()\n",
    "to_filter[to_filter > 0]"
   ]
  },
  {
   "cell_type": "code",
   "execution_count": 161,
   "metadata": {},
   "outputs": [],
   "source": [
    "# 4. Replace missing variables re reviews with zero, when no review + add flags\n",
    "data = data.assign(\n",
    "    flag_days_since=np.multiply(data.n_days_since.isna(), 1),\n",
    "    n_days_since=data.n_days_since.fillna(np.median(data.n_days_since.dropna())),\n",
    "    flag_review_scores_rating=np.multiply(data.n_review_scores_rating.isna(), 1),\n",
    "    n_review_scores_rating=data.n_review_scores_rating.fillna(\n",
    "        np.median(data.n_review_scores_rating.dropna())\n",
    "    ),\n",
    "    flag_reviews_per_month=np.multiply(data.n_reviews_per_month.isna(), 1),\n",
    "    n_reviews_per_month=data.n_reviews_per_month.fillna(\n",
    "        np.median(data.n_reviews_per_month.dropna())\n",
    "    ),\n",
    "    flag_n_number_of_reviews=np.multiply(data.n_number_of_reviews.isna(), 1),\n",
    ")"
   ]
  },
  {
   "cell_type": "code",
   "execution_count": 162,
   "metadata": {},
   "outputs": [
    {
     "data": {
      "text/plain": [
       "0    2769\n",
       "1     905\n",
       "Name: flag_days_since, dtype: int64"
      ]
     },
     "execution_count": 162,
     "metadata": {},
     "output_type": "execute_result"
    }
   ],
   "source": [
    "data.flag_days_since.value_counts()"
   ]
  },
  {
   "cell_type": "code",
   "execution_count": 163,
   "metadata": {},
   "outputs": [],
   "source": [
    "# redo features\n",
    "# Create variables, measuring the time since: squared, cubic, logs\n",
    "data = data.assign(\n",
    "    ln_days_since=lambda x: np.log(x[\"n_days_since\"] + 1),\n",
    "    ln_days_since2=lambda x: np.log(x[\"n_days_since\"] + 1) ** 2,\n",
    "    ln_days_since3=lambda x: np.log(x[\"n_days_since\"] + 1) ** 3,\n",
    "    n_days_since2=lambda x: x[\"n_days_since\"] ** 2,\n",
    "    n_days_since3=lambda x: x[\"n_days_since\"] ** 3,\n",
    "    ln_review_scores_rating=lambda x: np.log(x[\"n_review_scores_rating\"]),\n",
    ")"
   ]
  },
  {
   "cell_type": "code",
   "execution_count": 164,
   "metadata": {},
   "outputs": [],
   "source": [
    "data.ln_days_since = data[\"ln_days_since\"].fillna(0)\n",
    "data.ln_days_since2 = data[\"ln_days_since2\"].fillna(0)\n",
    "data.ln_days_since3 = data[\"ln_days_since3\"].fillna(0)"
   ]
  },
  {
   "cell_type": "code",
   "execution_count": 165,
   "metadata": {},
   "outputs": [
    {
     "data": {
      "text/plain": [
       "Series([], dtype: int64)"
      ]
     },
     "execution_count": 165,
     "metadata": {},
     "output_type": "execute_result"
    }
   ],
   "source": [
    "to_filter = data.isna().sum()\n",
    "to_filter[to_filter > 0]"
   ]
  },
  {
   "cell_type": "code",
   "execution_count": 166,
   "metadata": {},
   "outputs": [
    {
     "data": {
      "text/html": [
       "<div>\n",
       "<style scoped>\n",
       "    .dataframe tbody tr th:only-of-type {\n",
       "        vertical-align: middle;\n",
       "    }\n",
       "\n",
       "    .dataframe tbody tr th {\n",
       "        vertical-align: top;\n",
       "    }\n",
       "\n",
       "    .dataframe thead th {\n",
       "        text-align: right;\n",
       "    }\n",
       "</style>\n",
       "<table border=\"1\" class=\"dataframe\">\n",
       "  <thead>\n",
       "    <tr style=\"text-align: right;\">\n",
       "      <th></th>\n",
       "      <th>usd_price_day</th>\n",
       "      <th>p_host_response_rate</th>\n",
       "      <th>n_accommodates</th>\n",
       "      <th>n_review_scores_rating</th>\n",
       "      <th>n_number_of_reviews</th>\n",
       "      <th>n_reviews_per_month</th>\n",
       "      <th>n_minimum_nights</th>\n",
       "      <th>n_beds</th>\n",
       "      <th>n_days_since</th>\n",
       "      <th>d_airconditioning</th>\n",
       "      <th>...</th>\n",
       "      <th>flag_days_since</th>\n",
       "      <th>flag_review_scores_rating</th>\n",
       "      <th>flag_reviews_per_month</th>\n",
       "      <th>flag_n_number_of_reviews</th>\n",
       "      <th>ln_days_since</th>\n",
       "      <th>ln_days_since2</th>\n",
       "      <th>ln_days_since3</th>\n",
       "      <th>n_days_since2</th>\n",
       "      <th>n_days_since3</th>\n",
       "      <th>ln_review_scores_rating</th>\n",
       "    </tr>\n",
       "  </thead>\n",
       "  <tbody>\n",
       "    <tr>\n",
       "      <th>count</th>\n",
       "      <td>3674.000000</td>\n",
       "      <td>3674.0</td>\n",
       "      <td>3674.000000</td>\n",
       "      <td>3674.000000</td>\n",
       "      <td>3674.000000</td>\n",
       "      <td>3674.000000</td>\n",
       "      <td>3674.000000</td>\n",
       "      <td>3674.000000</td>\n",
       "      <td>3674.000000</td>\n",
       "      <td>3674.000000</td>\n",
       "      <td>...</td>\n",
       "      <td>3674.000000</td>\n",
       "      <td>3674.000000</td>\n",
       "      <td>3674.000000</td>\n",
       "      <td>3674.0</td>\n",
       "      <td>3674.000000</td>\n",
       "      <td>3674.000000</td>\n",
       "      <td>3674.000000</td>\n",
       "      <td>3.674000e+03</td>\n",
       "      <td>3.674000e+03</td>\n",
       "      <td>3674.000000</td>\n",
       "    </tr>\n",
       "    <tr>\n",
       "      <th>mean</th>\n",
       "      <td>679.878606</td>\n",
       "      <td>0.0</td>\n",
       "      <td>2.590637</td>\n",
       "      <td>4.660400</td>\n",
       "      <td>20.953457</td>\n",
       "      <td>0.666116</td>\n",
       "      <td>18.008710</td>\n",
       "      <td>1.246870</td>\n",
       "      <td>912.750953</td>\n",
       "      <td>0.979314</td>\n",
       "      <td>...</td>\n",
       "      <td>0.246326</td>\n",
       "      <td>0.246326</td>\n",
       "      <td>0.246326</td>\n",
       "      <td>0.0</td>\n",
       "      <td>6.652679</td>\n",
       "      <td>44.685104</td>\n",
       "      <td>302.408656</td>\n",
       "      <td>1.091206e+06</td>\n",
       "      <td>1.660902e+09</td>\n",
       "      <td>-inf</td>\n",
       "    </tr>\n",
       "    <tr>\n",
       "      <th>std</th>\n",
       "      <td>194.438174</td>\n",
       "      <td>0.0</td>\n",
       "      <td>0.943304</td>\n",
       "      <td>0.554124</td>\n",
       "      <td>42.359915</td>\n",
       "      <td>0.804098</td>\n",
       "      <td>45.836449</td>\n",
       "      <td>0.650261</td>\n",
       "      <td>508.096341</td>\n",
       "      <td>0.142350</td>\n",
       "      <td>...</td>\n",
       "      <td>0.430929</td>\n",
       "      <td>0.430929</td>\n",
       "      <td>0.430929</td>\n",
       "      <td>0.0</td>\n",
       "      <td>0.653519</td>\n",
       "      <td>7.944816</td>\n",
       "      <td>76.084095</td>\n",
       "      <td>1.370232e+06</td>\n",
       "      <td>3.516874e+09</td>\n",
       "      <td>NaN</td>\n",
       "    </tr>\n",
       "    <tr>\n",
       "      <th>min</th>\n",
       "      <td>269.000000</td>\n",
       "      <td>0.0</td>\n",
       "      <td>1.000000</td>\n",
       "      <td>0.000000</td>\n",
       "      <td>0.000000</td>\n",
       "      <td>0.010000</td>\n",
       "      <td>1.000000</td>\n",
       "      <td>0.000000</td>\n",
       "      <td>1.000000</td>\n",
       "      <td>0.000000</td>\n",
       "      <td>...</td>\n",
       "      <td>0.000000</td>\n",
       "      <td>0.000000</td>\n",
       "      <td>0.000000</td>\n",
       "      <td>0.0</td>\n",
       "      <td>0.693147</td>\n",
       "      <td>0.480453</td>\n",
       "      <td>0.333025</td>\n",
       "      <td>1.000000e+00</td>\n",
       "      <td>1.000000e+00</td>\n",
       "      <td>-inf</td>\n",
       "    </tr>\n",
       "    <tr>\n",
       "      <th>25%</th>\n",
       "      <td>500.000000</td>\n",
       "      <td>0.0</td>\n",
       "      <td>2.000000</td>\n",
       "      <td>4.650000</td>\n",
       "      <td>1.000000</td>\n",
       "      <td>0.220000</td>\n",
       "      <td>1.000000</td>\n",
       "      <td>1.000000</td>\n",
       "      <td>635.000000</td>\n",
       "      <td>1.000000</td>\n",
       "      <td>...</td>\n",
       "      <td>0.000000</td>\n",
       "      <td>0.000000</td>\n",
       "      <td>0.000000</td>\n",
       "      <td>0.0</td>\n",
       "      <td>6.455199</td>\n",
       "      <td>41.669588</td>\n",
       "      <td>268.985468</td>\n",
       "      <td>4.032250e+05</td>\n",
       "      <td>2.560479e+08</td>\n",
       "      <td>1.536867</td>\n",
       "    </tr>\n",
       "    <tr>\n",
       "      <th>50%</th>\n",
       "      <td>699.000000</td>\n",
       "      <td>0.0</td>\n",
       "      <td>2.000000</td>\n",
       "      <td>4.770000</td>\n",
       "      <td>4.000000</td>\n",
       "      <td>0.430000</td>\n",
       "      <td>2.000000</td>\n",
       "      <td>1.000000</td>\n",
       "      <td>790.000000</td>\n",
       "      <td>1.000000</td>\n",
       "      <td>...</td>\n",
       "      <td>0.000000</td>\n",
       "      <td>0.000000</td>\n",
       "      <td>0.000000</td>\n",
       "      <td>0.0</td>\n",
       "      <td>6.673298</td>\n",
       "      <td>44.532906</td>\n",
       "      <td>297.181350</td>\n",
       "      <td>6.241000e+05</td>\n",
       "      <td>4.930390e+08</td>\n",
       "      <td>1.562346</td>\n",
       "    </tr>\n",
       "    <tr>\n",
       "      <th>75%</th>\n",
       "      <td>850.000000</td>\n",
       "      <td>0.0</td>\n",
       "      <td>3.000000</td>\n",
       "      <td>4.897500</td>\n",
       "      <td>21.000000</td>\n",
       "      <td>0.780000</td>\n",
       "      <td>28.000000</td>\n",
       "      <td>1.000000</td>\n",
       "      <td>990.000000</td>\n",
       "      <td>1.000000</td>\n",
       "      <td>...</td>\n",
       "      <td>0.000000</td>\n",
       "      <td>0.000000</td>\n",
       "      <td>0.000000</td>\n",
       "      <td>0.0</td>\n",
       "      <td>6.898715</td>\n",
       "      <td>47.592262</td>\n",
       "      <td>328.325431</td>\n",
       "      <td>9.801000e+05</td>\n",
       "      <td>9.702990e+08</td>\n",
       "      <td>1.588724</td>\n",
       "    </tr>\n",
       "    <tr>\n",
       "      <th>max</th>\n",
       "      <td>999.000000</td>\n",
       "      <td>0.0</td>\n",
       "      <td>8.000000</td>\n",
       "      <td>5.000000</td>\n",
       "      <td>443.000000</td>\n",
       "      <td>15.370000</td>\n",
       "      <td>730.000000</td>\n",
       "      <td>8.000000</td>\n",
       "      <td>3848.000000</td>\n",
       "      <td>1.000000</td>\n",
       "      <td>...</td>\n",
       "      <td>1.000000</td>\n",
       "      <td>1.000000</td>\n",
       "      <td>1.000000</td>\n",
       "      <td>0.0</td>\n",
       "      <td>8.255569</td>\n",
       "      <td>68.154414</td>\n",
       "      <td>562.653442</td>\n",
       "      <td>1.480710e+07</td>\n",
       "      <td>5.697774e+10</td>\n",
       "      <td>1.609438</td>\n",
       "    </tr>\n",
       "  </tbody>\n",
       "</table>\n",
       "<p>8 rows × 82 columns</p>\n",
       "</div>"
      ],
      "text/plain": [
       "       usd_price_day  p_host_response_rate  n_accommodates  \\\n",
       "count    3674.000000                3674.0     3674.000000   \n",
       "mean      679.878606                   0.0        2.590637   \n",
       "std       194.438174                   0.0        0.943304   \n",
       "min       269.000000                   0.0        1.000000   \n",
       "25%       500.000000                   0.0        2.000000   \n",
       "50%       699.000000                   0.0        2.000000   \n",
       "75%       850.000000                   0.0        3.000000   \n",
       "max       999.000000                   0.0        8.000000   \n",
       "\n",
       "       n_review_scores_rating  n_number_of_reviews  n_reviews_per_month  \\\n",
       "count             3674.000000          3674.000000          3674.000000   \n",
       "mean                 4.660400            20.953457             0.666116   \n",
       "std                  0.554124            42.359915             0.804098   \n",
       "min                  0.000000             0.000000             0.010000   \n",
       "25%                  4.650000             1.000000             0.220000   \n",
       "50%                  4.770000             4.000000             0.430000   \n",
       "75%                  4.897500            21.000000             0.780000   \n",
       "max                  5.000000           443.000000            15.370000   \n",
       "\n",
       "       n_minimum_nights       n_beds  n_days_since  d_airconditioning  ...  \\\n",
       "count       3674.000000  3674.000000   3674.000000        3674.000000  ...   \n",
       "mean          18.008710     1.246870    912.750953           0.979314  ...   \n",
       "std           45.836449     0.650261    508.096341           0.142350  ...   \n",
       "min            1.000000     0.000000      1.000000           0.000000  ...   \n",
       "25%            1.000000     1.000000    635.000000           1.000000  ...   \n",
       "50%            2.000000     1.000000    790.000000           1.000000  ...   \n",
       "75%           28.000000     1.000000    990.000000           1.000000  ...   \n",
       "max          730.000000     8.000000   3848.000000           1.000000  ...   \n",
       "\n",
       "       flag_days_since  flag_review_scores_rating  flag_reviews_per_month  \\\n",
       "count      3674.000000                3674.000000             3674.000000   \n",
       "mean          0.246326                   0.246326                0.246326   \n",
       "std           0.430929                   0.430929                0.430929   \n",
       "min           0.000000                   0.000000                0.000000   \n",
       "25%           0.000000                   0.000000                0.000000   \n",
       "50%           0.000000                   0.000000                0.000000   \n",
       "75%           0.000000                   0.000000                0.000000   \n",
       "max           1.000000                   1.000000                1.000000   \n",
       "\n",
       "       flag_n_number_of_reviews  ln_days_since  ln_days_since2  \\\n",
       "count                    3674.0    3674.000000     3674.000000   \n",
       "mean                        0.0       6.652679       44.685104   \n",
       "std                         0.0       0.653519        7.944816   \n",
       "min                         0.0       0.693147        0.480453   \n",
       "25%                         0.0       6.455199       41.669588   \n",
       "50%                         0.0       6.673298       44.532906   \n",
       "75%                         0.0       6.898715       47.592262   \n",
       "max                         0.0       8.255569       68.154414   \n",
       "\n",
       "       ln_days_since3  n_days_since2  n_days_since3  ln_review_scores_rating  \n",
       "count     3674.000000   3.674000e+03   3.674000e+03              3674.000000  \n",
       "mean       302.408656   1.091206e+06   1.660902e+09                     -inf  \n",
       "std         76.084095   1.370232e+06   3.516874e+09                      NaN  \n",
       "min          0.333025   1.000000e+00   1.000000e+00                     -inf  \n",
       "25%        268.985468   4.032250e+05   2.560479e+08                 1.536867  \n",
       "50%        297.181350   6.241000e+05   4.930390e+08                 1.562346  \n",
       "75%        328.325431   9.801000e+05   9.702990e+08                 1.588724  \n",
       "max        562.653442   1.480710e+07   5.697774e+10                 1.609438  \n",
       "\n",
       "[8 rows x 82 columns]"
      ]
     },
     "execution_count": 166,
     "metadata": {},
     "output_type": "execute_result"
    }
   ],
   "source": [
    "data.describe()"
   ]
  },
  {
   "cell_type": "code",
   "execution_count": 168,
   "metadata": {},
   "outputs": [],
   "source": [
    "data.to_csv(\"../data/airbnb_bangkok_workfile.csv\", index=False)"
   ]
  },
  {
   "cell_type": "code",
   "execution_count": null,
   "metadata": {},
   "outputs": [],
   "source": []
  }
 ],
 "metadata": {
  "kernelspec": {
   "display_name": "Python 3",
   "language": "python",
   "name": "python3"
  },
  "language_info": {
   "codemirror_mode": {
    "name": "ipython",
    "version": 3
   },
   "file_extension": ".py",
   "mimetype": "text/x-python",
   "name": "python",
   "nbconvert_exporter": "python",
   "pygments_lexer": "ipython3",
   "version": "3.8.6"
  }
 },
 "nbformat": 4,
 "nbformat_minor": 4
}
