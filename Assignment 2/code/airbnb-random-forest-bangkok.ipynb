{
 "cells": [
  {
   "cell_type": "markdown",
   "metadata": {},
   "source": [
    "#### Prepared for Gabor's Data Analysis\n",
    "\n",
    "### Data Analysis for Business, Economics, and Policy\n",
    "by Gabor Bekes and Gabor Kezdi\n",
    " \n",
    "Cambridge University Press 2021\n",
    "\n",
    "**[gabors-data-analysis.com ](https://gabors-data-analysis.com/)**\n",
    "\n",
    " License: Free to share, modify and use for educational purposes. \n",
    " Not to be used for commercial purposes.\n",
    "\n",
    "### Chapter 16\n",
    "**CH16A Predicting apartment prices with random forest**\n",
    "\n",
    "using the airbnb dataset\n",
    "\n",
    "version 0.92 2021-07-05"
   ]
  },
  {
   "cell_type": "code",
   "execution_count": 1,
   "metadata": {},
   "outputs": [],
   "source": [
    "import pandas as pd\n",
    "import numpy as np\n",
    "\n",
    "from patsy import dmatrices\n",
    "from sklearn.model_selection import train_test_split\n",
    "from skranger.ensemble import RangerForestRegressor\n",
    "from sklearn.model_selection import GridSearchCV\n",
    "from sklearn.model_selection import RandomizedSearchCV\n",
    "from sklearn.impute import SimpleImputer\n",
    "from sklearn.inspection import permutation_importance\n",
    "from sklearn.inspection import plot_partial_dependence\n",
    "from sklearn.inspection import partial_dependence\n",
    "from sklearn.compose import ColumnTransformer\n",
    "from sklearn.pipeline import Pipeline\n",
    "from sklearn.preprocessing import OneHotEncoder"
   ]
  },
  {
   "cell_type": "markdown",
   "metadata": {},
   "source": [
    "## PART I\n",
    "### Loading and preparing data \n",
    "----------------------------------------------"
   ]
  },
  {
   "cell_type": "code",
   "execution_count": 2,
   "metadata": {},
   "outputs": [],
   "source": [
    "area = \"bangkok\"\n",
    "data = pd.read_csv(\"../data/airbnb_\" + area + \"_workfile.csv\")\n",
    "data = data.loc[data.price.notna(), :]"
   ]
  },
  {
   "cell_type": "code",
   "execution_count": 3,
   "metadata": {},
   "outputs": [],
   "source": [
    "def count_missing_values(df):\n",
    "    return df.isna().sum()[df.isna().sum()>0]"
   ]
  },
  {
   "cell_type": "code",
   "execution_count": 4,
   "metadata": {},
   "outputs": [
    {
     "data": {
      "text/plain": [
       "Series([], dtype: int64)"
      ]
     },
     "execution_count": 4,
     "metadata": {},
     "output_type": "execute_result"
    }
   ],
   "source": [
    "count_missing_values(data)"
   ]
  },
  {
   "cell_type": "code",
   "execution_count": 5,
   "metadata": {},
   "outputs": [],
   "source": [
    "# Sample definition and preparation ---------------------------------------\n",
    "\n",
    "# We focus on normal apartments, n<8\n",
    "data = data.query('2 <= n_accommodates <= 6')"
   ]
  },
  {
   "cell_type": "code",
   "execution_count": 6,
   "metadata": {},
   "outputs": [],
   "source": [
    "# copy a variable - purpose later, see at variable importance\n",
    "data = data.assign(n_accommodates_copy = data.n_accommodates)"
   ]
  },
  {
   "cell_type": "code",
   "execution_count": 7,
   "metadata": {},
   "outputs": [
    {
     "data": {
      "text/html": [
       "<div>\n",
       "<style scoped>\n",
       "    .dataframe tbody tr th:only-of-type {\n",
       "        vertical-align: middle;\n",
       "    }\n",
       "\n",
       "    .dataframe tbody tr th {\n",
       "        vertical-align: top;\n",
       "    }\n",
       "\n",
       "    .dataframe thead th {\n",
       "        text-align: right;\n",
       "    }\n",
       "</style>\n",
       "<table border=\"1\" class=\"dataframe\">\n",
       "  <thead>\n",
       "    <tr style=\"text-align: right;\">\n",
       "      <th></th>\n",
       "      <th>usd_price_day</th>\n",
       "      <th>p_host_response_rate</th>\n",
       "      <th>n_accommodates</th>\n",
       "      <th>n_review_scores_rating</th>\n",
       "      <th>n_number_of_reviews</th>\n",
       "      <th>n_reviews_per_month</th>\n",
       "      <th>n_minimum_nights</th>\n",
       "      <th>n_beds</th>\n",
       "      <th>n_days_since</th>\n",
       "      <th>d_airconditioning</th>\n",
       "      <th>...</th>\n",
       "      <th>flag_review_scores_rating</th>\n",
       "      <th>flag_reviews_per_month</th>\n",
       "      <th>flag_n_number_of_reviews</th>\n",
       "      <th>ln_days_since</th>\n",
       "      <th>ln_days_since2</th>\n",
       "      <th>ln_days_since3</th>\n",
       "      <th>n_days_since2</th>\n",
       "      <th>n_days_since3</th>\n",
       "      <th>ln_review_scores_rating</th>\n",
       "      <th>n_accommodates_copy</th>\n",
       "    </tr>\n",
       "  </thead>\n",
       "  <tbody>\n",
       "    <tr>\n",
       "      <th>count</th>\n",
       "      <td>3627.000000</td>\n",
       "      <td>3627.0</td>\n",
       "      <td>3627.000000</td>\n",
       "      <td>3627.000000</td>\n",
       "      <td>3627.000000</td>\n",
       "      <td>3627.000000</td>\n",
       "      <td>3627.000000</td>\n",
       "      <td>3627.000000</td>\n",
       "      <td>3627.000000</td>\n",
       "      <td>3627.000000</td>\n",
       "      <td>...</td>\n",
       "      <td>3627.000000</td>\n",
       "      <td>3627.000000</td>\n",
       "      <td>3627.0</td>\n",
       "      <td>3627.000000</td>\n",
       "      <td>3627.000000</td>\n",
       "      <td>3627.000000</td>\n",
       "      <td>3.627000e+03</td>\n",
       "      <td>3.627000e+03</td>\n",
       "      <td>3627.000000</td>\n",
       "      <td>3627.000000</td>\n",
       "    </tr>\n",
       "    <tr>\n",
       "      <th>mean</th>\n",
       "      <td>679.064792</td>\n",
       "      <td>0.0</td>\n",
       "      <td>2.586986</td>\n",
       "      <td>4.663774</td>\n",
       "      <td>20.970499</td>\n",
       "      <td>0.666981</td>\n",
       "      <td>17.510339</td>\n",
       "      <td>1.237938</td>\n",
       "      <td>910.653708</td>\n",
       "      <td>0.979322</td>\n",
       "      <td>...</td>\n",
       "      <td>0.245106</td>\n",
       "      <td>0.245106</td>\n",
       "      <td>0.0</td>\n",
       "      <td>6.649400</td>\n",
       "      <td>44.644182</td>\n",
       "      <td>302.018658</td>\n",
       "      <td>1.088121e+06</td>\n",
       "      <td>1.658374e+09</td>\n",
       "      <td>-inf</td>\n",
       "      <td>2.586986</td>\n",
       "    </tr>\n",
       "    <tr>\n",
       "      <th>std</th>\n",
       "      <td>194.503709</td>\n",
       "      <td>0.0</td>\n",
       "      <td>0.883648</td>\n",
       "      <td>0.542642</td>\n",
       "      <td>42.424963</td>\n",
       "      <td>0.805605</td>\n",
       "      <td>44.203518</td>\n",
       "      <td>0.617286</td>\n",
       "      <td>508.824030</td>\n",
       "      <td>0.142324</td>\n",
       "      <td>...</td>\n",
       "      <td>0.430209</td>\n",
       "      <td>0.430209</td>\n",
       "      <td>0.0</td>\n",
       "      <td>0.655580</td>\n",
       "      <td>7.964334</td>\n",
       "      <td>76.233420</td>\n",
       "      <td>1.373715e+06</td>\n",
       "      <td>3.530946e+09</td>\n",
       "      <td>NaN</td>\n",
       "      <td>0.883648</td>\n",
       "    </tr>\n",
       "    <tr>\n",
       "      <th>min</th>\n",
       "      <td>269.000000</td>\n",
       "      <td>0.0</td>\n",
       "      <td>2.000000</td>\n",
       "      <td>0.000000</td>\n",
       "      <td>0.000000</td>\n",
       "      <td>0.010000</td>\n",
       "      <td>1.000000</td>\n",
       "      <td>0.000000</td>\n",
       "      <td>1.000000</td>\n",
       "      <td>0.000000</td>\n",
       "      <td>...</td>\n",
       "      <td>0.000000</td>\n",
       "      <td>0.000000</td>\n",
       "      <td>0.0</td>\n",
       "      <td>0.693147</td>\n",
       "      <td>0.480453</td>\n",
       "      <td>0.333025</td>\n",
       "      <td>1.000000e+00</td>\n",
       "      <td>1.000000e+00</td>\n",
       "      <td>-inf</td>\n",
       "      <td>2.000000</td>\n",
       "    </tr>\n",
       "    <tr>\n",
       "      <th>25%</th>\n",
       "      <td>500.000000</td>\n",
       "      <td>0.0</td>\n",
       "      <td>2.000000</td>\n",
       "      <td>4.650000</td>\n",
       "      <td>1.000000</td>\n",
       "      <td>0.220000</td>\n",
       "      <td>1.000000</td>\n",
       "      <td>1.000000</td>\n",
       "      <td>634.000000</td>\n",
       "      <td>1.000000</td>\n",
       "      <td>...</td>\n",
       "      <td>0.000000</td>\n",
       "      <td>0.000000</td>\n",
       "      <td>0.0</td>\n",
       "      <td>6.453625</td>\n",
       "      <td>41.649276</td>\n",
       "      <td>268.788806</td>\n",
       "      <td>4.019560e+05</td>\n",
       "      <td>2.548401e+08</td>\n",
       "      <td>1.536867</td>\n",
       "      <td>2.000000</td>\n",
       "    </tr>\n",
       "    <tr>\n",
       "      <th>50%</th>\n",
       "      <td>699.000000</td>\n",
       "      <td>0.0</td>\n",
       "      <td>2.000000</td>\n",
       "      <td>4.770000</td>\n",
       "      <td>4.000000</td>\n",
       "      <td>0.430000</td>\n",
       "      <td>2.000000</td>\n",
       "      <td>1.000000</td>\n",
       "      <td>790.000000</td>\n",
       "      <td>1.000000</td>\n",
       "      <td>...</td>\n",
       "      <td>0.000000</td>\n",
       "      <td>0.000000</td>\n",
       "      <td>0.0</td>\n",
       "      <td>6.673298</td>\n",
       "      <td>44.532906</td>\n",
       "      <td>297.181350</td>\n",
       "      <td>6.241000e+05</td>\n",
       "      <td>4.930390e+08</td>\n",
       "      <td>1.562346</td>\n",
       "      <td>2.000000</td>\n",
       "    </tr>\n",
       "    <tr>\n",
       "      <th>75%</th>\n",
       "      <td>850.000000</td>\n",
       "      <td>0.0</td>\n",
       "      <td>3.000000</td>\n",
       "      <td>4.900000</td>\n",
       "      <td>21.000000</td>\n",
       "      <td>0.780000</td>\n",
       "      <td>28.000000</td>\n",
       "      <td>1.000000</td>\n",
       "      <td>982.000000</td>\n",
       "      <td>1.000000</td>\n",
       "      <td>...</td>\n",
       "      <td>0.000000</td>\n",
       "      <td>0.000000</td>\n",
       "      <td>0.0</td>\n",
       "      <td>6.890609</td>\n",
       "      <td>47.480494</td>\n",
       "      <td>327.169525</td>\n",
       "      <td>9.643240e+05</td>\n",
       "      <td>9.469662e+08</td>\n",
       "      <td>1.589235</td>\n",
       "      <td>3.000000</td>\n",
       "    </tr>\n",
       "    <tr>\n",
       "      <th>max</th>\n",
       "      <td>999.000000</td>\n",
       "      <td>0.0</td>\n",
       "      <td>6.000000</td>\n",
       "      <td>5.000000</td>\n",
       "      <td>443.000000</td>\n",
       "      <td>15.370000</td>\n",
       "      <td>730.000000</td>\n",
       "      <td>6.000000</td>\n",
       "      <td>3848.000000</td>\n",
       "      <td>1.000000</td>\n",
       "      <td>...</td>\n",
       "      <td>1.000000</td>\n",
       "      <td>1.000000</td>\n",
       "      <td>0.0</td>\n",
       "      <td>8.255569</td>\n",
       "      <td>68.154414</td>\n",
       "      <td>562.653442</td>\n",
       "      <td>1.480710e+07</td>\n",
       "      <td>5.697774e+10</td>\n",
       "      <td>1.609438</td>\n",
       "      <td>6.000000</td>\n",
       "    </tr>\n",
       "  </tbody>\n",
       "</table>\n",
       "<p>8 rows × 85 columns</p>\n",
       "</div>"
      ],
      "text/plain": [
       "       usd_price_day  p_host_response_rate  n_accommodates  \\\n",
       "count    3627.000000                3627.0     3627.000000   \n",
       "mean      679.064792                   0.0        2.586986   \n",
       "std       194.503709                   0.0        0.883648   \n",
       "min       269.000000                   0.0        2.000000   \n",
       "25%       500.000000                   0.0        2.000000   \n",
       "50%       699.000000                   0.0        2.000000   \n",
       "75%       850.000000                   0.0        3.000000   \n",
       "max       999.000000                   0.0        6.000000   \n",
       "\n",
       "       n_review_scores_rating  n_number_of_reviews  n_reviews_per_month  \\\n",
       "count             3627.000000          3627.000000          3627.000000   \n",
       "mean                 4.663774            20.970499             0.666981   \n",
       "std                  0.542642            42.424963             0.805605   \n",
       "min                  0.000000             0.000000             0.010000   \n",
       "25%                  4.650000             1.000000             0.220000   \n",
       "50%                  4.770000             4.000000             0.430000   \n",
       "75%                  4.900000            21.000000             0.780000   \n",
       "max                  5.000000           443.000000            15.370000   \n",
       "\n",
       "       n_minimum_nights       n_beds  n_days_since  d_airconditioning  ...  \\\n",
       "count       3627.000000  3627.000000   3627.000000        3627.000000  ...   \n",
       "mean          17.510339     1.237938    910.653708           0.979322  ...   \n",
       "std           44.203518     0.617286    508.824030           0.142324  ...   \n",
       "min            1.000000     0.000000      1.000000           0.000000  ...   \n",
       "25%            1.000000     1.000000    634.000000           1.000000  ...   \n",
       "50%            2.000000     1.000000    790.000000           1.000000  ...   \n",
       "75%           28.000000     1.000000    982.000000           1.000000  ...   \n",
       "max          730.000000     6.000000   3848.000000           1.000000  ...   \n",
       "\n",
       "       flag_review_scores_rating  flag_reviews_per_month  \\\n",
       "count                3627.000000             3627.000000   \n",
       "mean                    0.245106                0.245106   \n",
       "std                     0.430209                0.430209   \n",
       "min                     0.000000                0.000000   \n",
       "25%                     0.000000                0.000000   \n",
       "50%                     0.000000                0.000000   \n",
       "75%                     0.000000                0.000000   \n",
       "max                     1.000000                1.000000   \n",
       "\n",
       "       flag_n_number_of_reviews  ln_days_since  ln_days_since2  \\\n",
       "count                    3627.0    3627.000000     3627.000000   \n",
       "mean                        0.0       6.649400       44.644182   \n",
       "std                         0.0       0.655580        7.964334   \n",
       "min                         0.0       0.693147        0.480453   \n",
       "25%                         0.0       6.453625       41.649276   \n",
       "50%                         0.0       6.673298       44.532906   \n",
       "75%                         0.0       6.890609       47.480494   \n",
       "max                         0.0       8.255569       68.154414   \n",
       "\n",
       "       ln_days_since3  n_days_since2  n_days_since3  ln_review_scores_rating  \\\n",
       "count     3627.000000   3.627000e+03   3.627000e+03              3627.000000   \n",
       "mean       302.018658   1.088121e+06   1.658374e+09                     -inf   \n",
       "std         76.233420   1.373715e+06   3.530946e+09                      NaN   \n",
       "min          0.333025   1.000000e+00   1.000000e+00                     -inf   \n",
       "25%        268.788806   4.019560e+05   2.548401e+08                 1.536867   \n",
       "50%        297.181350   6.241000e+05   4.930390e+08                 1.562346   \n",
       "75%        327.169525   9.643240e+05   9.469662e+08                 1.589235   \n",
       "max        562.653442   1.480710e+07   5.697774e+10                 1.609438   \n",
       "\n",
       "       n_accommodates_copy  \n",
       "count          3627.000000  \n",
       "mean              2.586986  \n",
       "std               0.883648  \n",
       "min               2.000000  \n",
       "25%               2.000000  \n",
       "50%               2.000000  \n",
       "75%               3.000000  \n",
       "max               6.000000  \n",
       "\n",
       "[8 rows x 85 columns]"
      ]
     },
     "execution_count": 7,
     "metadata": {},
     "output_type": "execute_result"
    }
   ],
   "source": [
    "\n",
    "# basic descr stat -------------------------------------------\n",
    "data.describe()"
   ]
  },
  {
   "cell_type": "code",
   "execution_count": 8,
   "metadata": {},
   "outputs": [
    {
     "data": {
      "text/plain": [
       "count    3627.000000\n",
       "mean      679.064792\n",
       "std       194.503709\n",
       "min       269.000000\n",
       "25%       500.000000\n",
       "50%       699.000000\n",
       "75%       850.000000\n",
       "max       999.000000\n",
       "Name: price, dtype: float64"
      ]
     },
     "execution_count": 8,
     "metadata": {},
     "output_type": "execute_result"
    }
   ],
   "source": [
    "data.price.describe()"
   ]
  },
  {
   "cell_type": "code",
   "execution_count": 9,
   "metadata": {},
   "outputs": [
    {
     "data": {
      "text/plain": [
       "Entire rental unit            1983\n",
       "Entire condominium (condo)    1577\n",
       "Entire serviced apartment       67\n",
       "Name: f_property_type, dtype: int64"
      ]
     },
     "execution_count": 9,
     "metadata": {},
     "output_type": "execute_result"
    }
   ],
   "source": [
    "data.f_property_type.value_counts()"
   ]
  },
  {
   "cell_type": "code",
   "execution_count": 10,
   "metadata": {},
   "outputs": [
    {
     "data": {
      "text/plain": [
       "1    2304\n",
       "0     889\n",
       "2     434\n",
       "Name: f_number_of_reviews, dtype: int64"
      ]
     },
     "execution_count": 10,
     "metadata": {},
     "output_type": "execute_result"
    }
   ],
   "source": [
    "data.f_number_of_reviews.value_counts()"
   ]
  },
  {
   "cell_type": "code",
   "execution_count": 11,
   "metadata": {},
   "outputs": [],
   "source": [
    "# create train and holdout samples -------------------------------------------\n",
    "# train is where we do it all, incl CV\n",
    "\n",
    "# First pick a smaller than usual training set so that models run faster and check if works\n",
    "# If works, start anew without these two lines"
   ]
  },
  {
   "cell_type": "code",
   "execution_count": 12,
   "metadata": {},
   "outputs": [],
   "source": [
    "data_train, data_holdout = train_test_split(data, train_size=0.7, random_state=42)"
   ]
  },
  {
   "cell_type": "code",
   "execution_count": 13,
   "metadata": {},
   "outputs": [
    {
     "data": {
      "text/plain": [
       "((2538, 89), (1089, 89))"
      ]
     },
     "execution_count": 13,
     "metadata": {},
     "output_type": "execute_result"
    }
   ],
   "source": [
    "data_train.shape, data_holdout.shape"
   ]
  },
  {
   "cell_type": "code",
   "execution_count": 14,
   "metadata": {},
   "outputs": [],
   "source": [
    "# Basic Variables inc neighnourhood\n",
    "basic_vars = [\n",
    "    \"n_accommodates\",\n",
    "    \"n_beds\",\n",
    "    \"n_days_since\",\n",
    "    \"f_property_type\",\n",
    "    \"f_neighbourhood_cleansed\",\n",
    "]\n",
    "\n",
    "# reviews\n",
    "reviews = [\n",
    "    \"n_number_of_reviews\",\n",
    "    \"flag_n_number_of_reviews\",\n",
    "    \"n_review_scores_rating\",\n",
    "    \"flag_review_scores_rating\",\n",
    "]\n",
    "\n",
    "# Dummy variables\n",
    "amenities = [col for col in data if col.startswith(\"d_\")]\n",
    "\n",
    "# interactions for the LASSO\n",
    "# from ch14\n",
    "X1 = [\n",
    "    \"n_accommodates:f_property_type\",\n",
    "    \"n_accommodates:d_longtermstaysallowed\",\n",
    "    \"d_breakfast:f_property_type\",\n",
    "    \"d_kitchen:f_property_type\",\n",
    "    \"d_elevator:f_property_type\",\n",
    "    \"d_essentials:f_property_type\"\n",
    "]\n",
    "# with boroughs\n",
    "X2 = [\n",
    "    \"f_property_type:f_neighbourhood_cleansed\",\n",
    "    #\"f_room_type:f_neighbourhood_cleansed\",\n",
    "    \"n_accommodates:f_neighbourhood_cleansed\",\n",
    "]"
   ]
  },
  {
   "cell_type": "code",
   "execution_count": 15,
   "metadata": {},
   "outputs": [
    {
     "data": {
      "text/plain": [
       "0    3508\n",
       "1     119\n",
       "Name: d_bathtub, dtype: int64"
      ]
     },
     "execution_count": 15,
     "metadata": {},
     "output_type": "execute_result"
    }
   ],
   "source": [
    "data.d_bathtub.value_counts()"
   ]
  },
  {
   "cell_type": "code",
   "execution_count": 16,
   "metadata": {},
   "outputs": [],
   "source": [
    "predictors_1 = basic_vars\n",
    "predictors_2 = basic_vars + reviews + amenities\n",
    "predictors_E = basic_vars + reviews + amenities + X1 + X2"
   ]
  },
  {
   "cell_type": "markdown",
   "metadata": {},
   "source": [
    "## PART II\n",
    "### RANDOM FORESTS \n",
    "-------------------------------------------------------"
   ]
  },
  {
   "cell_type": "code",
   "execution_count": 17,
   "metadata": {},
   "outputs": [
    {
     "name": "stdout",
     "output_type": "stream",
     "text": [
      "Fitting 5 folds for each of 6 candidates, totalling 30 fits\n",
      "[CV 1/5] END ........min_node_size=5, mtry=5;, score=-183.842 total time=   0.3s\n",
      "[CV 2/5] END ........min_node_size=5, mtry=5;, score=-172.863 total time=   0.2s\n",
      "[CV 3/5] END ........min_node_size=5, mtry=5;, score=-169.477 total time=   0.2s\n",
      "[CV 4/5] END ........min_node_size=5, mtry=5;, score=-169.914 total time=   0.2s\n",
      "[CV 5/5] END ........min_node_size=5, mtry=5;, score=-172.206 total time=   0.2s\n",
      "[CV 1/5] END ........min_node_size=5, mtry=7;, score=-181.882 total time=   0.3s\n",
      "[CV 2/5] END ........min_node_size=5, mtry=7;, score=-170.047 total time=   0.3s\n",
      "[CV 3/5] END ........min_node_size=5, mtry=7;, score=-168.002 total time=   0.3s\n",
      "[CV 4/5] END ........min_node_size=5, mtry=7;, score=-168.752 total time=   0.2s\n",
      "[CV 5/5] END ........min_node_size=5, mtry=7;, score=-168.502 total time=   0.2s\n",
      "[CV 1/5] END ........min_node_size=5, mtry=9;, score=-180.606 total time=   0.3s\n",
      "[CV 2/5] END ........min_node_size=5, mtry=9;, score=-169.014 total time=   0.3s\n",
      "[CV 3/5] END ........min_node_size=5, mtry=9;, score=-166.115 total time=   0.3s\n",
      "[CV 4/5] END ........min_node_size=5, mtry=9;, score=-167.302 total time=   0.3s\n",
      "[CV 5/5] END ........min_node_size=5, mtry=9;, score=-167.122 total time=   0.3s\n",
      "[CV 1/5] END .......min_node_size=10, mtry=5;, score=-183.471 total time=   0.2s\n",
      "[CV 2/5] END .......min_node_size=10, mtry=5;, score=-173.043 total time=   0.2s\n",
      "[CV 3/5] END .......min_node_size=10, mtry=5;, score=-170.177 total time=   0.2s\n",
      "[CV 4/5] END .......min_node_size=10, mtry=5;, score=-169.721 total time=   0.2s\n",
      "[CV 5/5] END .......min_node_size=10, mtry=5;, score=-171.755 total time=   0.2s\n",
      "[CV 1/5] END .......min_node_size=10, mtry=7;, score=-181.856 total time=   0.2s\n",
      "[CV 2/5] END .......min_node_size=10, mtry=7;, score=-170.463 total time=   0.2s\n",
      "[CV 3/5] END .......min_node_size=10, mtry=7;, score=-168.689 total time=   0.2s\n",
      "[CV 4/5] END .......min_node_size=10, mtry=7;, score=-167.821 total time=   0.2s\n",
      "[CV 5/5] END .......min_node_size=10, mtry=7;, score=-168.927 total time=   0.3s\n",
      "[CV 1/5] END .......min_node_size=10, mtry=9;, score=-181.232 total time=   0.4s\n",
      "[CV 2/5] END .......min_node_size=10, mtry=9;, score=-168.451 total time=   0.2s\n",
      "[CV 3/5] END .......min_node_size=10, mtry=9;, score=-165.822 total time=   0.4s\n",
      "[CV 4/5] END .......min_node_size=10, mtry=9;, score=-167.437 total time=   0.4s\n",
      "[CV 5/5] END .......min_node_size=10, mtry=9;, score=-166.700 total time=   0.3s\n"
     ]
    }
   ],
   "source": [
    "rfr = RangerForestRegressor(importance=\"impurity\",seed = 42)\n",
    "\n",
    "tune_grid = {\"mtry\": [5, 7, 9], \"min_node_size\": [5, 10]}\n",
    "\n",
    "rf_random = GridSearchCV(\n",
    "    rfr,\n",
    "    tune_grid,\n",
    "    cv=5,\n",
    "    scoring=\"neg_root_mean_squared_error\",\n",
    "    verbose=3,\n",
    ")\n",
    "\n",
    "y, X = dmatrices(\"price ~ \" + \" + \".join(predictors_1), data_train)\n",
    "\n",
    "rf_model_1 = rf_random.fit(X, y.ravel())"
   ]
  },
  {
   "cell_type": "code",
   "execution_count": 18,
   "metadata": {},
   "outputs": [
    {
     "name": "stdout",
     "output_type": "stream",
     "text": [
      "Fitting 5 folds for each of 9 candidates, totalling 45 fits\n",
      "[CV 1/5] END ........min_node_size=5, mtry=8;, score=-154.935 total time=   0.4s\n",
      "[CV 2/5] END ........min_node_size=5, mtry=8;, score=-145.074 total time=   0.5s\n",
      "[CV 3/5] END ........min_node_size=5, mtry=8;, score=-143.711 total time=   0.4s\n",
      "[CV 4/5] END ........min_node_size=5, mtry=8;, score=-145.572 total time=   0.3s\n",
      "[CV 5/5] END ........min_node_size=5, mtry=8;, score=-146.757 total time=   0.3s\n",
      "[CV 1/5] END .......min_node_size=5, mtry=10;, score=-153.710 total time=   0.3s\n",
      "[CV 2/5] END .......min_node_size=5, mtry=10;, score=-143.862 total time=   0.5s\n",
      "[CV 3/5] END .......min_node_size=5, mtry=10;, score=-142.305 total time=   0.3s\n",
      "[CV 4/5] END .......min_node_size=5, mtry=10;, score=-145.228 total time=   0.3s\n",
      "[CV 5/5] END .......min_node_size=5, mtry=10;, score=-146.051 total time=   0.5s\n",
      "[CV 1/5] END .......min_node_size=5, mtry=12;, score=-151.722 total time=   0.9s\n",
      "[CV 2/5] END .......min_node_size=5, mtry=12;, score=-144.433 total time=   1.0s\n",
      "[CV 3/5] END .......min_node_size=5, mtry=12;, score=-142.116 total time=   0.8s\n",
      "[CV 4/5] END .......min_node_size=5, mtry=12;, score=-143.793 total time=   0.7s\n",
      "[CV 5/5] END .......min_node_size=5, mtry=12;, score=-145.493 total time=   0.6s\n",
      "[CV 1/5] END .......min_node_size=10, mtry=8;, score=-155.299 total time=   0.3s\n",
      "[CV 2/5] END .......min_node_size=10, mtry=8;, score=-146.121 total time=   0.3s\n",
      "[CV 3/5] END .......min_node_size=10, mtry=8;, score=-144.233 total time=   0.3s\n",
      "[CV 4/5] END .......min_node_size=10, mtry=8;, score=-147.392 total time=   0.3s\n",
      "[CV 5/5] END .......min_node_size=10, mtry=8;, score=-148.545 total time=   0.3s\n",
      "[CV 1/5] END ......min_node_size=10, mtry=10;, score=-154.889 total time=   0.3s\n",
      "[CV 2/5] END ......min_node_size=10, mtry=10;, score=-145.395 total time=   0.4s\n",
      "[CV 3/5] END ......min_node_size=10, mtry=10;, score=-142.766 total time=   0.6s\n",
      "[CV 4/5] END ......min_node_size=10, mtry=10;, score=-146.312 total time=   0.6s\n",
      "[CV 5/5] END ......min_node_size=10, mtry=10;, score=-147.909 total time=   0.9s\n",
      "[CV 1/5] END ......min_node_size=10, mtry=12;, score=-154.642 total time=   1.0s\n",
      "[CV 2/5] END ......min_node_size=10, mtry=12;, score=-145.488 total time=   0.6s\n",
      "[CV 3/5] END ......min_node_size=10, mtry=12;, score=-143.448 total time=   1.0s\n",
      "[CV 4/5] END ......min_node_size=10, mtry=12;, score=-146.042 total time=   0.7s\n",
      "[CV 5/5] END ......min_node_size=10, mtry=12;, score=-146.969 total time=   0.7s\n",
      "[CV 1/5] END .......min_node_size=15, mtry=8;, score=-158.104 total time=   0.4s\n",
      "[CV 2/5] END .......min_node_size=15, mtry=8;, score=-148.008 total time=   0.6s\n",
      "[CV 3/5] END .......min_node_size=15, mtry=8;, score=-144.316 total time=   0.5s\n",
      "[CV 4/5] END .......min_node_size=15, mtry=8;, score=-148.319 total time=   0.6s\n",
      "[CV 5/5] END .......min_node_size=15, mtry=8;, score=-149.660 total time=   0.6s\n",
      "[CV 1/5] END ......min_node_size=15, mtry=10;, score=-156.858 total time=   0.5s\n",
      "[CV 2/5] END ......min_node_size=15, mtry=10;, score=-146.887 total time=   0.5s\n",
      "[CV 3/5] END ......min_node_size=15, mtry=10;, score=-144.592 total time=   0.7s\n",
      "[CV 4/5] END ......min_node_size=15, mtry=10;, score=-148.252 total time=   0.9s\n",
      "[CV 5/5] END ......min_node_size=15, mtry=10;, score=-149.045 total time=   0.7s\n",
      "[CV 1/5] END ......min_node_size=15, mtry=12;, score=-156.301 total time=   0.7s\n",
      "[CV 2/5] END ......min_node_size=15, mtry=12;, score=-146.611 total time=   0.7s\n",
      "[CV 3/5] END ......min_node_size=15, mtry=12;, score=-145.099 total time=   0.5s\n",
      "[CV 4/5] END ......min_node_size=15, mtry=12;, score=-147.167 total time=   1.0s\n",
      "[CV 5/5] END ......min_node_size=15, mtry=12;, score=-147.311 total time=   0.4s\n"
     ]
    }
   ],
   "source": [
    "rfr = RangerForestRegressor(importance=\"impurity\",seed = 42)\n",
    "\n",
    "tune_grid = {\"mtry\": [8, 10, 12], \"min_node_size\": [5, 10, 15]}\n",
    "\n",
    "rf_random = GridSearchCV(\n",
    "    rfr,\n",
    "    tune_grid,\n",
    "    cv=5,\n",
    "    scoring=\"neg_root_mean_squared_error\",\n",
    "    verbose=3,\n",
    ")\n",
    "\n",
    "y, X = dmatrices(\"price ~ \" + \" + \".join(predictors_2), data_train)\n",
    "\n",
    "rf_model_2 = rf_random.fit(X,y.ravel())"
   ]
  },
  {
   "cell_type": "markdown",
   "metadata": {},
   "source": [
    "### Table 16.1 Random forest RMSE by tuning parameters"
   ]
  },
  {
   "cell_type": "code",
   "execution_count": 19,
   "metadata": {},
   "outputs": [
    {
     "data": {
      "text/html": [
       "<div>\n",
       "<style scoped>\n",
       "    .dataframe tbody tr th:only-of-type {\n",
       "        vertical-align: middle;\n",
       "    }\n",
       "\n",
       "    .dataframe tbody tr th {\n",
       "        vertical-align: top;\n",
       "    }\n",
       "\n",
       "    .dataframe thead th {\n",
       "        text-align: right;\n",
       "    }\n",
       "</style>\n",
       "<table border=\"1\" class=\"dataframe\">\n",
       "  <thead>\n",
       "    <tr style=\"text-align: right;\">\n",
       "      <th>Variables</th>\n",
       "      <th>8</th>\n",
       "      <th>10</th>\n",
       "      <th>12</th>\n",
       "    </tr>\n",
       "    <tr>\n",
       "      <th>Min_nodes</th>\n",
       "      <th></th>\n",
       "      <th></th>\n",
       "      <th></th>\n",
       "    </tr>\n",
       "  </thead>\n",
       "  <tbody>\n",
       "    <tr>\n",
       "      <th>5</th>\n",
       "      <td>147.21</td>\n",
       "      <td>146.23</td>\n",
       "      <td>145.51</td>\n",
       "    </tr>\n",
       "    <tr>\n",
       "      <th>10</th>\n",
       "      <td>148.32</td>\n",
       "      <td>147.45</td>\n",
       "      <td>147.32</td>\n",
       "    </tr>\n",
       "    <tr>\n",
       "      <th>15</th>\n",
       "      <td>149.68</td>\n",
       "      <td>149.13</td>\n",
       "      <td>148.50</td>\n",
       "    </tr>\n",
       "  </tbody>\n",
       "</table>\n",
       "</div>"
      ],
      "text/plain": [
       "Variables      8       10      12\n",
       "Min_nodes                        \n",
       "5          147.21  146.23  145.51\n",
       "10         148.32  147.45  147.32\n",
       "15         149.68  149.13  148.50"
      ]
     },
     "execution_count": 19,
     "metadata": {},
     "output_type": "execute_result"
    }
   ],
   "source": [
    "pd.DataFrame(rf_model_2.cv_results_)[\n",
    "    [\"param_mtry\", \"param_min_node_size\", \"mean_test_score\"]\n",
    "].assign(\n",
    "    mean_test_score=lambda x: x[\"mean_test_score\"] * -1,\n",
    "    Variables=lambda x: x[\"param_mtry\"],\n",
    "    Min_nodes=lambda x: x[\"param_min_node_size\"],\n",
    ").pivot(\n",
    "    index=\"Min_nodes\", columns=\"Variables\", values=\"mean_test_score\"\n",
    ").round(\n",
    "    2\n",
    ")"
   ]
  },
  {
   "cell_type": "code",
   "execution_count": 20,
   "metadata": {},
   "outputs": [
    {
     "data": {
      "text/html": [
       "<div>\n",
       "<style scoped>\n",
       "    .dataframe tbody tr th:only-of-type {\n",
       "        vertical-align: middle;\n",
       "    }\n",
       "\n",
       "    .dataframe tbody tr th {\n",
       "        vertical-align: top;\n",
       "    }\n",
       "\n",
       "    .dataframe thead th {\n",
       "        text-align: right;\n",
       "    }\n",
       "</style>\n",
       "<table border=\"1\" class=\"dataframe\">\n",
       "  <thead>\n",
       "    <tr style=\"text-align: right;\">\n",
       "      <th></th>\n",
       "      <th>Min vars</th>\n",
       "      <th>Min nodes</th>\n",
       "    </tr>\n",
       "  </thead>\n",
       "  <tbody>\n",
       "    <tr>\n",
       "      <th>Model A</th>\n",
       "      <td>9</td>\n",
       "      <td>10</td>\n",
       "    </tr>\n",
       "    <tr>\n",
       "      <th>Model B</th>\n",
       "      <td>12</td>\n",
       "      <td>5</td>\n",
       "    </tr>\n",
       "  </tbody>\n",
       "</table>\n",
       "</div>"
      ],
      "text/plain": [
       "         Min vars  Min nodes\n",
       "Model A         9         10\n",
       "Model B        12          5"
      ]
     },
     "execution_count": 20,
     "metadata": {},
     "output_type": "execute_result"
    }
   ],
   "source": [
    "pd.DataFrame(\n",
    "    {\n",
    "        \"Min vars\": [rf_model_1.best_estimator_.mtry, rf_model_2.best_estimator_.mtry],\n",
    "        \"Min nodes\": [\n",
    "            rf_model_1.best_estimator_.min_node_size,\n",
    "            rf_model_2.best_estimator_.min_node_size,\n",
    "        ],\n",
    "    },\n",
    "    [\"Model A\", \"Model B\"],\n",
    ")"
   ]
  },
  {
   "cell_type": "code",
   "execution_count": 27,
   "metadata": {},
   "outputs": [
    {
     "data": {
      "text/html": [
       "<div>\n",
       "<style scoped>\n",
       "    .dataframe tbody tr th:only-of-type {\n",
       "        vertical-align: middle;\n",
       "    }\n",
       "\n",
       "    .dataframe tbody tr th {\n",
       "        vertical-align: top;\n",
       "    }\n",
       "\n",
       "    .dataframe thead th {\n",
       "        text-align: right;\n",
       "    }\n",
       "</style>\n",
       "<table border=\"1\" class=\"dataframe\">\n",
       "  <thead>\n",
       "    <tr style=\"text-align: right;\">\n",
       "      <th></th>\n",
       "      <th>RMSE</th>\n",
       "    </tr>\n",
       "  </thead>\n",
       "  <tbody>\n",
       "    <tr>\n",
       "      <th>Model A</th>\n",
       "      <td>169.929</td>\n",
       "    </tr>\n",
       "    <tr>\n",
       "      <th>Model B</th>\n",
       "      <td>145.511</td>\n",
       "    </tr>\n",
       "  </tbody>\n",
       "</table>\n",
       "</div>"
      ],
      "text/plain": [
       "            RMSE\n",
       "Model A  169.929\n",
       "Model B  145.511"
      ]
     },
     "execution_count": 27,
     "metadata": {},
     "output_type": "execute_result"
    }
   ],
   "source": [
    "pd.DataFrame(\n",
    "    {\n",
    "        \"RMSE\": [\n",
    "            np.min(rf_model_1.cv_results_[\"mean_test_score\"]*-1),\n",
    "            np.min(rf_model_2.cv_results_[\"mean_test_score\"]*-1),\n",
    "        ]\n",
    "    },\n",
    "    [\"Model A\", \"Model B\"],\n",
    ").round(3)"
   ]
  },
  {
   "cell_type": "markdown",
   "metadata": {},
   "source": [
    "## PART III\n",
    "### MODEL DIAGNOSTICS \n",
    "---"
   ]
  },
  {
   "cell_type": "code",
   "execution_count": 28,
   "metadata": {},
   "outputs": [],
   "source": [
    "rf_model_2_var_imp_df = (\n",
    "    pd.DataFrame(\n",
    "        rf_model_2.best_estimator_.feature_importances_, X.design_info.column_names\n",
    "    )\n",
    "    .reset_index()\n",
    "    .rename({\"index\": \"varname\",0: \"imp\"}, axis=1)\n",
    "    .assign(imp_percentage=lambda x: x[\"imp\"] / x[\"imp\"].sum())\n",
    "    .sort_values(by=[\"imp\"], ascending=False)\n",
    ")"
   ]
  },
  {
   "cell_type": "markdown",
   "metadata": {},
   "source": [
    "**1) full varimp plot, above a cutoff**"
   ]
  },
  {
   "cell_type": "code",
   "execution_count": 31,
   "metadata": {},
   "outputs": [
    {
     "data": {
      "image/png": "[encoded data removed]",
      "text/plain": [
       "<Figure size 640x480 with 1 Axes>"
      ]
     },
     "metadata": {},
     "output_type": "display_data"
    },
    {
     "data": {
      "text/plain": [
       "<ggplot: (310361679)>"
      ]
     },
     "execution_count": 31,
     "metadata": {},
     "output_type": "execute_result"
    }
   ],
   "source": [
    "cutoff = 600000\n",
    "\n",
    "ggplot(\n",
    "    rf_model_2_var_imp_df.loc[lambda x: x.imp > cutoff],\n",
    "    aes(x=\"reorder(varname, imp)\", y=\"imp_percentage\"),\n",
    ") + geom_point(size=1.5) + geom_segment(\n",
    "    aes(x=\"varname\", xend=\"varname\", y=0, yend=\"imp_percentage\"), size=1\n",
    ") + ylab(\n",
    "    \"Importance (Percent)\"\n",
    ") + xlab(\n",
    "    \"Variable Name\"\n",
    ") + coord_flip() + scale_y_continuous(\n",
    "    labels=percent_format()\n",
    ") + theme_bw()"
   ]
  },
  {
   "cell_type": "markdown",
   "metadata": {},
   "source": [
    "**2) full varimp plot, top 10 only**"
   ]
  },
  {
   "cell_type": "code",
   "execution_count": 32,
   "metadata": {},
   "outputs": [
    {
     "data": {
      "image/png": "[encoded data removed]",
      "text/plain": [
       "<Figure size 640x480 with 1 Axes>"
      ]
     },
     "metadata": {},
     "output_type": "display_data"
    },
    {
     "data": {
      "text/plain": [
       "<ggplot: (310987873)>"
      ]
     },
     "execution_count": 32,
     "metadata": {},
     "output_type": "execute_result"
    }
   ],
   "source": [
    "ggplot(\n",
    "    rf_model_2_var_imp_df.iloc[:10, :],\n",
    "    aes(x=\"reorder(varname, imp)\", y=\"imp_percentage\"),\n",
    ") + geom_point(size=1.5) + geom_segment(\n",
    "    aes(x=\"varname\", xend=\"varname\", y=0, yend=\"imp_percentage\"), size=1\n",
    ") + ylab(\n",
    "    \"Importance (Percent)\"\n",
    ") + xlab(\n",
    "    \"Variable Name\"\n",
    ") + coord_flip() + scale_y_continuous(\n",
    "    labels=percent_format()\n",
    ") + theme_bw()"
   ]
  },
  {
   "cell_type": "markdown",
   "metadata": {},
   "source": [
    "**3) grouped variable importance - keep binaries created off factors together**\n",
    "\n",
    "For this, you need to create an sklearn pipeline and put OneHotEncoding in it (before, encoding was done by patsy's dmatrices). This way permutation_importance can calculate factor variables' importance "
   ]
  },
  {
   "cell_type": "code",
   "execution_count": 33,
   "metadata": {},
   "outputs": [],
   "source": [
    "categorical_columns = [col for col in predictors_2 if col.startswith(\"f_\")]\n",
    "numerical_columns = [col for col in predictors_2 if col not in categorical_columns]"
   ]
  },
  {
   "cell_type": "code",
   "execution_count": 34,
   "metadata": {},
   "outputs": [],
   "source": [
    "categorical_encoder = OneHotEncoder(handle_unknown=\"ignore\")\n",
    "\n",
    "preprocessing = ColumnTransformer(\n",
    "    [\n",
    "        (\"cat\", categorical_encoder, categorical_columns),\n",
    "        (\"num\", \"passthrough\", numerical_columns),\n",
    "    ]\n",
    ")\n",
    "\n",
    "rf = Pipeline(\n",
    "    [(\"preprocess\", preprocessing), (\"regressor\", rf_model_2.best_estimator_)] # put best model to pipeline\n",
    ")"
   ]
  },
  {
   "cell_type": "code",
   "execution_count": 35,
   "metadata": {},
   "outputs": [
    {
     "data": {
      "text/plain": [
       "Pipeline(steps=[('preprocess',\n",
       "                 ColumnTransformer(transformers=[('cat',\n",
       "                                                  OneHotEncoder(handle_unknown='ignore'),\n",
       "                                                  ['f_property_type',\n",
       "                                                   'f_neighbourhood_cleansed']),\n",
       "                                                 ('num', 'passthrough',\n",
       "                                                  ['n_accommodates', 'n_beds',\n",
       "                                                   'n_days_since',\n",
       "                                                   'n_number_of_reviews',\n",
       "                                                   'flag_n_number_of_reviews',\n",
       "                                                   'n_review_scores_rating',\n",
       "                                                   'flag_review_scores_rating',\n",
       "                                                   'd_airconditioning',\n",
       "                                                   'd_longte...\n",
       "                                                   'd_hangers', 'd_shampoo',\n",
       "                                                   'd_hairdryer', 'd_washer',\n",
       "                                                   'd_dedicatedworkspace',\n",
       "                                                   'd_kitchen', 'd_smokealarm',\n",
       "                                                   'd_tv', 'd_elevator',\n",
       "                                                   'd_hotwater',\n",
       "                                                   'd_freeparkingonpremises',\n",
       "                                                   'd_fireextinguisher',\n",
       "                                                   'd_pool', 'd_gym',\n",
       "                                                   'd_refrigerator', 'd_iron',\n",
       "                                                   'd_microwave',\n",
       "                                                   'd_dishesandsilverware',\n",
       "                                                   'd_dryer', ...])])),\n",
       "                ('regressor',\n",
       "                 RangerForestRegressor(importance='impurity', min_node_size=5,\n",
       "                                       mtry=12))])"
      ]
     },
     "execution_count": 35,
     "metadata": {},
     "output_type": "execute_result"
    }
   ],
   "source": [
    "rf.fit(data_train[predictors_2],data_train.price)"
   ]
  },
  {
   "cell_type": "code",
   "execution_count": 36,
   "metadata": {},
   "outputs": [],
   "source": [
    "# this takes a while to run\n",
    "result = permutation_importance(\n",
    "    rf,\n",
    "    data_train[predictors_2],\n",
    "    data_train.price,\n",
    "    n_repeats=10,\n",
    "    random_state=45,\n",
    ")"
   ]
  },
  {
   "cell_type": "code",
   "execution_count": 37,
   "metadata": {},
   "outputs": [
    {
     "data": {
      "text/plain": [
       "['f_property_type', 'f_neighbourhood_cleansed']"
      ]
     },
     "execution_count": 37,
     "metadata": {},
     "output_type": "execute_result"
    }
   ],
   "source": [
    "categorical_columns"
   ]
  },
  {
   "cell_type": "code",
   "execution_count": 39,
   "metadata": {},
   "outputs": [],
   "source": [
    "grouped = [\n",
    "    \"f_property_type\",\n",
    "    \"n_days_since\",\n",
    "    \"n_accommodates\",\n",
    "    \"n_beds\",\n",
    "    \"f_neighbourhood_cleansed\",\n",
    "]\n",
    "grouped_imp = (\n",
    "    pd.DataFrame(\n",
    "        result.importances_mean,\n",
    "        data_train[predictors_2].columns,\n",
    "    )\n",
    "    .loc[grouped]\n",
    "    .reset_index()\n",
    "    .rename({\"index\": \"varname\", 0: \"imp\"}, axis=1)\n",
    "    .assign(imp_percentage=lambda x: x[\"imp\"] / x[\"imp\"].sum())\n",
    "    .sort_values(by=[\"imp\"], ascending=False)\n",
    ")"
   ]
  },
  {
   "cell_type": "code",
   "execution_count": 42,
   "metadata": {},
   "outputs": [
    {
     "data": {
      "image/png": "[encoded data removed]",
      "text/plain": [
       "<Figure size 640x480 with 1 Axes>"
      ]
     },
     "metadata": {},
     "output_type": "display_data"
    },
    {
     "data": {
      "text/plain": [
       "<ggplot: (310562910)>"
      ]
     },
     "execution_count": 42,
     "metadata": {},
     "output_type": "execute_result"
    }
   ],
   "source": [
    "ggplot(grouped_imp, aes(x=\"reorder(varname, imp)\", y=\"imp_percentage\"),) + geom_point( size=1.5\n",
    ") + geom_segment(\n",
    "    aes(x=\"varname\", xend=\"varname\", y=0, yend=\"imp_percentage\"), size=1\n",
    ") + ylab(\n",
    "    \"Importance (Percent)\"\n",
    ") + xlab(\n",
    "    \"Variable Name\"\n",
    ") + coord_flip() + scale_y_continuous(\n",
    "    labels=percent_format()\n",
    ") + theme_bw()"
   ]
  },
  {
   "cell_type": "markdown",
   "metadata": {},
   "source": [
    "## Partial Dependence Plots \n",
    "-------------------------------------------------------\n"
   ]
  },
  {
   "cell_type": "code",
   "execution_count": 47,
   "metadata": {},
   "outputs": [
    {
     "data": {
      "image/png": "[encoded data removed]",
      "text/plain": [
       "<Figure size 432x288 with 2 Axes>"
      ]
     },
     "metadata": {
      "needs_background": "light"
     },
     "output_type": "display_data"
    }
   ],
   "source": [
    "# Note: easy way, sklearn has plot_partial_dependence function\n",
    "# we do this on holdout set!\n",
    "plot_partial_dependence(\n",
    "    rf,\n",
    "    data_holdout[predictors_2],\n",
    "    [\"n_accommodates\"],\n",
    "    feature_names=data_holdout[predictors_2].columns,\n",
    "    line_kw={\"marker\": \"o\", \"color\": \"blue\"},\n",
    ")\n",
    "plt.grid()\n",
    "plt.ylim(670, 710)\n",
    "plt.show()"
   ]
  },
  {
   "cell_type": "code",
   "execution_count": 49,
   "metadata": {},
   "outputs": [
    {
     "data": {
      "image/png": "[encoded data removed]",
      "text/plain": [
       "<Figure size 640x480 with 1 Axes>"
      ]
     },
     "metadata": {},
     "output_type": "display_data"
    },
    {
     "data": {
      "text/plain": [
       "<ggplot: (310697834)>"
      ]
     },
     "execution_count": 49,
     "metadata": {},
     "output_type": "execute_result"
    }
   ],
   "source": [
    "# replicate the exact book figure with plotnine\n",
    "accom_pdp = partial_dependence(\n",
    "    rf, data_holdout[predictors_2], [\"n_accommodates\"], kind=\"average\"\n",
    ")\n",
    "\n",
    "accom_pdp = (\n",
    "    pd.DataFrame(accom_pdp[\"average\"], columns=accom_pdp[\"values\"][0].tolist())\n",
    "    .T.reset_index()\n",
    "    .rename({0: \"Predicted price\", \"index\": \"Accomodates (person)\"}, axis=1)\n",
    ")\n",
    "\n",
    "ggplot(accom_pdp, aes(x=\"Accomodates (person)\", y=\"Predicted price\")) + geom_point( size=2\n",
    ") + geom_line( size=1) + scale_x_continuous(\n",
    "    breaks=range(1, 8)\n",
    ") + theme_bw()"
   ]
  },
  {
   "cell_type": "markdown",
   "metadata": {},
   "source": [
    "### Subsample performance: RMSE / mean(y) \n",
    "---------------------------------------\n",
    "NOTE  we do this on the holdout set.\n"
   ]
  },
  {
   "cell_type": "code",
   "execution_count": 51,
   "metadata": {},
   "outputs": [],
   "source": [
    "data_holdout_w_prediction = data_holdout.assign(\n",
    "    predicted_price=rf.predict(data_holdout[predictors_2])\n",
    ")"
   ]
  },
  {
   "cell_type": "markdown",
   "metadata": {},
   "source": [
    "create nice summary table of heterogeneity"
   ]
  },
  {
   "cell_type": "code",
   "execution_count": 52,
   "metadata": {},
   "outputs": [],
   "source": [
    "from sklearn.metrics import mean_squared_error\n",
    "\n",
    "\n",
    "def calculate_rmse(groupby_obj):\n",
    "    return (\n",
    "        groupby_obj.apply(\n",
    "            lambda x: mean_squared_error(x.predicted_price, x.price, squared=False),\n",
    "        )\n",
    "        .to_frame(name=\"rmse\")\n",
    "        .assign(mean_price=groupby_obj.apply(lambda x: np.mean(x.price)).values)\n",
    "        .assign(rmse_norm=lambda x: x.rmse / x.mean_price).round(2)\n",
    "    )"
   ]
  },
  {
   "cell_type": "code",
   "execution_count": 53,
   "metadata": {},
   "outputs": [],
   "source": [
    "# cheaper or more expensive flats - not used in book\n",
    "grouped_object = data_holdout_w_prediction.assign(\n",
    "    is_low_size=lambda x: np.where(x.n_accommodates <= 3, \"small apt\", \"large apt\")\n",
    ").groupby(\"is_low_size\")\n",
    "accom_subset = calculate_rmse(grouped_object)"
   ]
  },
  {
   "cell_type": "code",
   "execution_count": 60,
   "metadata": {},
   "outputs": [
    {
     "ename": "TypeError",
     "evalue": "'Index' object is not callable",
     "output_type": "error",
     "traceback": [
      "\u001b[0;31m---------------------------------------------------------------------------\u001b[0m",
      "\u001b[0;31mTypeError\u001b[0m                                 Traceback (most recent call last)",
      "\u001b[0;32m/var/folders/qz/88160n_50vxf3cjj4g40b5nw0000gn/T/ipykernel_37782/4247042720.py\u001b[0m in \u001b[0;36m<module>\u001b[0;34m\u001b[0m\n\u001b[0;32m----> 1\u001b[0;31m \u001b[0mdata\u001b[0m\u001b[0;34m.\u001b[0m\u001b[0mf_neighbourhood_cleansed\u001b[0m\u001b[0;34m.\u001b[0m\u001b[0mvalue_counts\u001b[0m\u001b[0;34m(\u001b[0m\u001b[0;34m)\u001b[0m\u001b[0;34m.\u001b[0m\u001b[0mhead\u001b[0m\u001b[0;34m(\u001b[0m\u001b[0;36m10\u001b[0m\u001b[0;34m)\u001b[0m\u001b[0;34m.\u001b[0m\u001b[0mindex\u001b[0m\u001b[0;34m(\u001b[0m\u001b[0;34m)\u001b[0m\u001b[0;34m.\u001b[0m\u001b[0mtolist\u001b[0m\u001b[0;34m(\u001b[0m\u001b[0;34m)\u001b[0m\u001b[0;34m\u001b[0m\u001b[0;34m\u001b[0m\u001b[0m\n\u001b[0m",
      "\u001b[0;31mTypeError\u001b[0m: 'Index' object is not callable"
     ]
    }
   ],
   "source": [
    "data.f_neighbourhood_cleansed.value_counts().head(10).index().tolist()"
   ]
  },
  {
   "cell_type": "code",
   "execution_count": 59,
   "metadata": {},
   "outputs": [],
   "source": [
    "grouped_object = data_holdout_w_prediction.loc[\n",
    "    lambda x: x.f_neighbourhood_cleansed.isin(data.f_neighbourhood_cleansed.value_counts().head(10).index.tolist())\n",
    "].groupby(\"f_neighbourhood_cleansed\")\n",
    "neightbourhood_subset = calculate_rmse(grouped_object)"
   ]
  },
  {
   "cell_type": "code",
   "execution_count": 62,
   "metadata": {},
   "outputs": [],
   "source": [
    "all_holdout = pd.DataFrame(\n",
    "    [\n",
    "        mean_squared_error(\n",
    "            data_holdout_w_prediction.price,\n",
    "            data_holdout_w_prediction.predicted_price,\n",
    "            squared=False,\n",
    "        ),\n",
    "        data_holdout_w_prediction.price.mean(),\n",
    "    ],\n",
    "    index=[\"rmse\", \"mean_price\"],\n",
    ").T.assign(rmse_norm=lambda x: x.rmse / x.mean_price)\n",
    "all_holdout.index = [\"All\"]"
   ]
  },
  {
   "cell_type": "code",
   "execution_count": 66,
   "metadata": {},
   "outputs": [],
   "source": [
    "type_rows = pd.DataFrame(\n",
    "    None,\n",
    "    index=[\"Apartment size\", \"Borough\"],\n",
    "    columns=[\"rmse\", \"mean_price\", \"rmse_norm\"],\n",
    ").fillna(\"\")"
   ]
  },
  {
   "cell_type": "markdown",
   "metadata": {},
   "source": [
    "### Table 16.2 Performance across subsamples"
   ]
  },
  {
   "cell_type": "code",
   "execution_count": 68,
   "metadata": {},
   "outputs": [
    {
     "data": {
      "text/html": [
       "<div>\n",
       "<style scoped>\n",
       "    .dataframe tbody tr th:only-of-type {\n",
       "        vertical-align: middle;\n",
       "    }\n",
       "\n",
       "    .dataframe tbody tr th {\n",
       "        vertical-align: top;\n",
       "    }\n",
       "\n",
       "    .dataframe thead th {\n",
       "        text-align: right;\n",
       "    }\n",
       "</style>\n",
       "<table border=\"1\" class=\"dataframe\">\n",
       "  <thead>\n",
       "    <tr style=\"text-align: right;\">\n",
       "      <th></th>\n",
       "      <th>rmse</th>\n",
       "      <th>mean_price</th>\n",
       "      <th>rmse_norm</th>\n",
       "    </tr>\n",
       "  </thead>\n",
       "  <tbody>\n",
       "    <tr>\n",
       "      <th>Apartment size</th>\n",
       "      <td></td>\n",
       "      <td></td>\n",
       "      <td></td>\n",
       "    </tr>\n",
       "    <tr>\n",
       "      <th>large apt</th>\n",
       "      <td>143.08</td>\n",
       "      <td>668.27</td>\n",
       "      <td>0.21</td>\n",
       "    </tr>\n",
       "    <tr>\n",
       "      <th>small apt</th>\n",
       "      <td>141.79</td>\n",
       "      <td>686.42</td>\n",
       "      <td>0.21</td>\n",
       "    </tr>\n",
       "    <tr>\n",
       "      <th>Borough</th>\n",
       "      <td></td>\n",
       "      <td></td>\n",
       "      <td></td>\n",
       "    </tr>\n",
       "    <tr>\n",
       "      <th>Bang Na</th>\n",
       "      <td>188.5</td>\n",
       "      <td>597.38</td>\n",
       "      <td>0.32</td>\n",
       "    </tr>\n",
       "    <tr>\n",
       "      <th>Bang Sue</th>\n",
       "      <td>154.25</td>\n",
       "      <td>674.58</td>\n",
       "      <td>0.23</td>\n",
       "    </tr>\n",
       "    <tr>\n",
       "      <th>Chatu Chak</th>\n",
       "      <td>130.12</td>\n",
       "      <td>756.23</td>\n",
       "      <td>0.17</td>\n",
       "    </tr>\n",
       "    <tr>\n",
       "      <th>Din Daeng</th>\n",
       "      <td>127.6</td>\n",
       "      <td>758.0</td>\n",
       "      <td>0.17</td>\n",
       "    </tr>\n",
       "    <tr>\n",
       "      <th>Huai Khwang</th>\n",
       "      <td>141.95</td>\n",
       "      <td>651.87</td>\n",
       "      <td>0.22</td>\n",
       "    </tr>\n",
       "    <tr>\n",
       "      <th>Khlong Toei</th>\n",
       "      <td>117.59</td>\n",
       "      <td>651.74</td>\n",
       "      <td>0.18</td>\n",
       "    </tr>\n",
       "    <tr>\n",
       "      <th>Phra Khanong</th>\n",
       "      <td>135.72</td>\n",
       "      <td>751.74</td>\n",
       "      <td>0.18</td>\n",
       "    </tr>\n",
       "    <tr>\n",
       "      <th>Ratchathewi</th>\n",
       "      <td>97.08</td>\n",
       "      <td>663.58</td>\n",
       "      <td>0.15</td>\n",
       "    </tr>\n",
       "    <tr>\n",
       "      <th>Sathon</th>\n",
       "      <td>120.55</td>\n",
       "      <td>701.92</td>\n",
       "      <td>0.17</td>\n",
       "    </tr>\n",
       "    <tr>\n",
       "      <th>Vadhana</th>\n",
       "      <td>160.7</td>\n",
       "      <td>791.14</td>\n",
       "      <td>0.2</td>\n",
       "    </tr>\n",
       "    <tr>\n",
       "      <th>All</th>\n",
       "      <td>142.030988</td>\n",
       "      <td>682.989899</td>\n",
       "      <td>0.207955</td>\n",
       "    </tr>\n",
       "  </tbody>\n",
       "</table>\n",
       "</div>"
      ],
      "text/plain": [
       "                      rmse  mean_price rmse_norm\n",
       "Apartment size                                  \n",
       "large apt           143.08      668.27      0.21\n",
       "small apt           141.79      686.42      0.21\n",
       "Borough                                         \n",
       "Bang Na              188.5      597.38      0.32\n",
       "Bang Sue            154.25      674.58      0.23\n",
       "Chatu Chak          130.12      756.23      0.17\n",
       "Din Daeng            127.6       758.0      0.17\n",
       "Huai Khwang         141.95      651.87      0.22\n",
       "Khlong Toei         117.59      651.74      0.18\n",
       "Phra Khanong        135.72      751.74      0.18\n",
       "Ratchathewi          97.08      663.58      0.15\n",
       "Sathon              120.55      701.92      0.17\n",
       "Vadhana              160.7      791.14       0.2\n",
       "All             142.030988  682.989899  0.207955"
      ]
     },
     "execution_count": 68,
     "metadata": {},
     "output_type": "execute_result"
    }
   ],
   "source": [
    "pd.concat(\n",
    "    [\n",
    "        type_rows.iloc[[0]],\n",
    "        accom_subset,\n",
    "        type_rows.iloc[[1]],\n",
    "        neightbourhood_subset,\n",
    "        all_holdout,\n",
    "    ]\n",
    ")"
   ]
  },
  {
   "cell_type": "markdown",
   "metadata": {},
   "source": [
    "## PART IV\n",
    "### HORSERACE: compare with other models \n",
    "-----------------------------------------------\n",
    "**NOTE: this part of the code is not finished**"
   ]
  },
  {
   "cell_type": "markdown",
   "metadata": {},
   "source": [
    "1. OLS with dummies for area\n",
    "\n",
    " using model B"
   ]
  },
  {
   "cell_type": "code",
   "execution_count": 69,
   "metadata": {},
   "outputs": [],
   "source": [
    "from sklearn.linear_model import LinearRegression\n",
    "from sklearn.metrics import mean_squared_error"
   ]
  },
  {
   "cell_type": "code",
   "execution_count": 70,
   "metadata": {},
   "outputs": [
    {
     "data": {
      "text/plain": [
       "157.04410229200752"
      ]
     },
     "execution_count": 70,
     "metadata": {},
     "output_type": "execute_result"
    }
   ],
   "source": [
    "y, X = dmatrices(\"price ~ \" + \" + \".join(predictors_2), data_train)\n",
    "\n",
    "ols_model = LinearRegression().fit(X,y)\n",
    "\n",
    "#y_test, X_test = dmatrices(\"price ~ \" + \" + \".join(predictors_2), data_holdout)\n",
    "\n",
    "y_hat = ols_model.predict(X)\n",
    "\n",
    "ols_rmse = mean_squared_error(y,y_hat,squared=False)\n",
    "ols_rmse"
   ]
  },
  {
   "cell_type": "code",
   "execution_count": 71,
   "metadata": {},
   "outputs": [],
   "source": [
    "ols_model_coeffs_df = pd.DataFrame(\n",
    "    ols_model.coef_.tolist()[0],\n",
    "    index=X.design_info.column_names,\n",
    "    columns=[\"ols_coefficient\"],\n",
    ").assign(ols_coefficient=lambda x: x.ols_coefficient.round(3))"
   ]
  },
  {
   "cell_type": "code",
   "execution_count": 72,
   "metadata": {},
   "outputs": [
    {
     "data": {
      "text/html": [
       "<div>\n",
       "<style scoped>\n",
       "    .dataframe tbody tr th:only-of-type {\n",
       "        vertical-align: middle;\n",
       "    }\n",
       "\n",
       "    .dataframe tbody tr th {\n",
       "        vertical-align: top;\n",
       "    }\n",
       "\n",
       "    .dataframe thead th {\n",
       "        text-align: right;\n",
       "    }\n",
       "</style>\n",
       "<table border=\"1\" class=\"dataframe\">\n",
       "  <thead>\n",
       "    <tr style=\"text-align: right;\">\n",
       "      <th></th>\n",
       "      <th>ols_coefficient</th>\n",
       "    </tr>\n",
       "  </thead>\n",
       "  <tbody>\n",
       "    <tr>\n",
       "      <th>Intercept</th>\n",
       "      <td>0.000</td>\n",
       "    </tr>\n",
       "    <tr>\n",
       "      <th>f_property_type[T.Entire rental unit]</th>\n",
       "      <td>11.811</td>\n",
       "    </tr>\n",
       "    <tr>\n",
       "      <th>f_property_type[T.Entire serviced apartment]</th>\n",
       "      <td>50.540</td>\n",
       "    </tr>\n",
       "    <tr>\n",
       "      <th>f_neighbourhood_cleansed[T.Bang Khae]</th>\n",
       "      <td>-100.439</td>\n",
       "    </tr>\n",
       "    <tr>\n",
       "      <th>f_neighbourhood_cleansed[T.Bang Khen]</th>\n",
       "      <td>-45.909</td>\n",
       "    </tr>\n",
       "    <tr>\n",
       "      <th>...</th>\n",
       "      <td>...</td>\n",
       "    </tr>\n",
       "    <tr>\n",
       "      <th>d_hotwaterkettle</th>\n",
       "      <td>34.539</td>\n",
       "    </tr>\n",
       "    <tr>\n",
       "      <th>d_keypad</th>\n",
       "      <td>13.671</td>\n",
       "    </tr>\n",
       "    <tr>\n",
       "      <th>d_bathtub</th>\n",
       "      <td>44.927</td>\n",
       "    </tr>\n",
       "    <tr>\n",
       "      <th>d_singlelevelhome</th>\n",
       "      <td>53.860</td>\n",
       "    </tr>\n",
       "    <tr>\n",
       "      <th>d_paidparkingoffpremises</th>\n",
       "      <td>-41.504</td>\n",
       "    </tr>\n",
       "  </tbody>\n",
       "</table>\n",
       "<p>111 rows × 1 columns</p>\n",
       "</div>"
      ],
      "text/plain": [
       "                                              ols_coefficient\n",
       "Intercept                                               0.000\n",
       "f_property_type[T.Entire rental unit]                  11.811\n",
       "f_property_type[T.Entire serviced apartment]           50.540\n",
       "f_neighbourhood_cleansed[T.Bang Khae]                -100.439\n",
       "f_neighbourhood_cleansed[T.Bang Khen]                 -45.909\n",
       "...                                                       ...\n",
       "d_hotwaterkettle                                       34.539\n",
       "d_keypad                                               13.671\n",
       "d_bathtub                                              44.927\n",
       "d_singlelevelhome                                      53.860\n",
       "d_paidparkingoffpremises                              -41.504\n",
       "\n",
       "[111 rows x 1 columns]"
      ]
     },
     "execution_count": 72,
     "metadata": {},
     "output_type": "execute_result"
    }
   ],
   "source": [
    "ols_model_coeffs_df"
   ]
  },
  {
   "cell_type": "markdown",
   "metadata": {},
   "source": [
    "2.  LASSO\n",
    "\n",
    "using extended model w interactions"
   ]
  },
  {
   "cell_type": "code",
   "execution_count": 73,
   "metadata": {},
   "outputs": [],
   "source": [
    "from sklearn.linear_model import ElasticNet"
   ]
  },
  {
   "cell_type": "markdown",
   "metadata": {},
   "source": [
    "The parameter l1_ratio corresponds to alpha in the glmnet R package while alpha corresponds to the lambda parameter in glmnet. Specifically, l1_ratio = 1 is the lasso penalty. Currently, l1_ratio <= 0.01 is not reliable, unless you supply your own sequence of alpha.\n",
    "\n",
    "https://scikit-learn.org/stable/modules/generated/sklearn.linear_model.ElasticNet.html"
   ]
  },
  {
   "cell_type": "code",
   "execution_count": 74,
   "metadata": {},
   "outputs": [],
   "source": [
    "lasso_model =  ElasticNet(l1_ratio = 1,normalize=True,fit_intercept=True)"
   ]
  },
  {
   "cell_type": "code",
   "execution_count": 75,
   "metadata": {},
   "outputs": [],
   "source": [
    "lasso_model_cv = GridSearchCV(\n",
    "    lasso_model,\n",
    "    {\"alpha\":[i/100 for i in range(1, 26, 1)]},\n",
    "    cv=5,\n",
    "    scoring=\"neg_root_mean_squared_error\",\n",
    "    verbose=3,\n",
    ")\n"
   ]
  },
  {
   "cell_type": "code",
   "execution_count": 76,
   "metadata": {},
   "outputs": [],
   "source": [
    "y, X = dmatrices(\"price ~ \" + \" + \".join(predictors_E), data_train)"
   ]
  },
  {
   "cell_type": "code",
   "execution_count": 77,
   "metadata": {},
   "outputs": [
    {
     "name": "stdout",
     "output_type": "stream",
     "text": [
      "Fitting 5 folds for each of 25 candidates, totalling 125 fits\n",
      "[CV 1/5] END .....................alpha=0.01;, score=-172.708 total time=   0.1s\n",
      "[CV 2/5] END .....................alpha=0.01;, score=-162.493 total time=   0.2s\n",
      "[CV 3/5] END .....................alpha=0.01;, score=-163.747 total time=   0.1s\n",
      "[CV 4/5] END .....................alpha=0.01;, score=-161.200 total time=   0.1s\n",
      "[CV 5/5] END .....................alpha=0.01;, score=-166.638 total time=   0.1s\n",
      "[CV 1/5] END .....................alpha=0.02;, score=-172.322 total time=   0.1s\n",
      "[CV 2/5] END .....................alpha=0.02;, score=-163.089 total time=   0.0s\n",
      "[CV 3/5] END .....................alpha=0.02;, score=-163.433 total time=   0.0s\n",
      "[CV 4/5] END .....................alpha=0.02;, score=-160.484 total time=   0.1s\n",
      "[CV 5/5] END .....................alpha=0.02;, score=-163.796 total time=   0.1s\n",
      "[CV 1/5] END .....................alpha=0.03;, score=-172.170 total time=   0.1s\n",
      "[CV 2/5] END .....................alpha=0.03;, score=-163.234 total time=   0.0s\n",
      "[CV 3/5] END .....................alpha=0.03;, score=-163.072 total time=   0.0s\n",
      "[CV 4/5] END .....................alpha=0.03;, score=-160.796 total time=   0.1s\n",
      "[CV 5/5] END .....................alpha=0.03;, score=-162.801 total time=   0.1s\n",
      "[CV 1/5] END .....................alpha=0.04;, score=-172.118 total time=   0.0s\n",
      "[CV 2/5] END .....................alpha=0.04;, score=-163.410 total time=   0.0s\n",
      "[CV 3/5] END .....................alpha=0.04;, score=-162.588 total time=   0.1s\n",
      "[CV 4/5] END .....................alpha=0.04;, score=-160.835 total time=   0.1s\n",
      "[CV 5/5] END .....................alpha=0.04;, score=-162.304 total time=   0.1s\n",
      "[CV 1/5] END .....................alpha=0.05;, score=-172.144 total time=   0.0s\n",
      "[CV 2/5] END .....................alpha=0.05;, score=-163.615 total time=   0.1s\n",
      "[CV 3/5] END .....................alpha=0.05;, score=-162.106 total time=   0.1s\n",
      "[CV 4/5] END .....................alpha=0.05;, score=-161.306 total time=   0.0s\n",
      "[CV 5/5] END .....................alpha=0.05;, score=-161.907 total time=   0.1s\n",
      "[CV 1/5] END .....................alpha=0.06;, score=-172.129 total time=   0.0s\n",
      "[CV 2/5] END .....................alpha=0.06;, score=-163.946 total time=   0.0s\n",
      "[CV 3/5] END .....................alpha=0.06;, score=-161.795 total time=   0.1s\n",
      "[CV 4/5] END .....................alpha=0.06;, score=-161.906 total time=   0.1s\n",
      "[CV 5/5] END .....................alpha=0.06;, score=-161.882 total time=   0.1s\n",
      "[CV 1/5] END .....................alpha=0.07;, score=-172.343 total time=   0.0s\n",
      "[CV 2/5] END .....................alpha=0.07;, score=-164.356 total time=   0.1s\n",
      "[CV 3/5] END .....................alpha=0.07;, score=-161.721 total time=   0.0s\n",
      "[CV 4/5] END .....................alpha=0.07;, score=-162.298 total time=   0.0s\n",
      "[CV 5/5] END .....................alpha=0.07;, score=-162.077 total time=   0.0s\n",
      "[CV 1/5] END .....................alpha=0.08;, score=-172.624 total time=   0.0s\n",
      "[CV 2/5] END .....................alpha=0.08;, score=-164.729 total time=   0.0s\n",
      "[CV 3/5] END .....................alpha=0.08;, score=-161.704 total time=   0.0s\n",
      "[CV 4/5] END .....................alpha=0.08;, score=-162.623 total time=   0.0s\n",
      "[CV 5/5] END .....................alpha=0.08;, score=-162.219 total time=   0.0s\n",
      "[CV 1/5] END .....................alpha=0.09;, score=-172.963 total time=   0.0s\n",
      "[CV 2/5] END .....................alpha=0.09;, score=-165.082 total time=   0.0s\n",
      "[CV 3/5] END .....................alpha=0.09;, score=-161.816 total time=   0.0s\n",
      "[CV 4/5] END .....................alpha=0.09;, score=-162.954 total time=   0.0s\n",
      "[CV 5/5] END .....................alpha=0.09;, score=-162.409 total time=   0.0s\n",
      "[CV 1/5] END ......................alpha=0.1;, score=-173.295 total time=   0.0s\n",
      "[CV 2/5] END ......................alpha=0.1;, score=-165.321 total time=   0.0s\n",
      "[CV 3/5] END ......................alpha=0.1;, score=-161.912 total time=   0.0s\n",
      "[CV 4/5] END ......................alpha=0.1;, score=-163.343 total time=   0.0s\n",
      "[CV 5/5] END ......................alpha=0.1;, score=-162.697 total time=   0.0s\n",
      "[CV 1/5] END .....................alpha=0.11;, score=-173.671 total time=   0.0s\n",
      "[CV 2/5] END .....................alpha=0.11;, score=-165.520 total time=   0.0s\n",
      "[CV 3/5] END .....................alpha=0.11;, score=-161.969 total time=   0.0s\n",
      "[CV 4/5] END .....................alpha=0.11;, score=-163.785 total time=   0.0s\n",
      "[CV 5/5] END .....................alpha=0.11;, score=-162.992 total time=   0.0s\n",
      "[CV 1/5] END .....................alpha=0.12;, score=-174.057 total time=   0.0s\n",
      "[CV 2/5] END .....................alpha=0.12;, score=-165.811 total time=   0.0s\n",
      "[CV 3/5] END .....................alpha=0.12;, score=-162.058 total time=   0.0s\n",
      "[CV 4/5] END .....................alpha=0.12;, score=-164.288 total time=   0.0s\n",
      "[CV 5/5] END .....................alpha=0.12;, score=-163.345 total time=   0.0s\n",
      "[CV 1/5] END .....................alpha=0.13;, score=-174.416 total time=   0.0s\n",
      "[CV 2/5] END .....................alpha=0.13;, score=-166.117 total time=   0.0s\n",
      "[CV 3/5] END .....................alpha=0.13;, score=-162.218 total time=   0.0s\n",
      "[CV 4/5] END .....................alpha=0.13;, score=-164.799 total time=   0.0s\n",
      "[CV 5/5] END .....................alpha=0.13;, score=-163.771 total time=   0.0s\n",
      "[CV 1/5] END .....................alpha=0.14;, score=-174.733 total time=   0.0s\n",
      "[CV 2/5] END .....................alpha=0.14;, score=-166.460 total time=   0.0s\n",
      "[CV 3/5] END .....................alpha=0.14;, score=-162.432 total time=   0.0s\n",
      "[CV 4/5] END .....................alpha=0.14;, score=-165.322 total time=   0.0s\n",
      "[CV 5/5] END .....................alpha=0.14;, score=-164.261 total time=   0.0s\n",
      "[CV 1/5] END .....................alpha=0.15;, score=-175.003 total time=   0.0s\n",
      "[CV 2/5] END .....................alpha=0.15;, score=-166.762 total time=   0.0s\n",
      "[CV 3/5] END .....................alpha=0.15;, score=-162.628 total time=   0.0s\n",
      "[CV 4/5] END .....................alpha=0.15;, score=-165.762 total time=   0.0s\n",
      "[CV 5/5] END .....................alpha=0.15;, score=-164.721 total time=   0.0s\n",
      "[CV 1/5] END .....................alpha=0.16;, score=-175.328 total time=   0.0s\n",
      "[CV 2/5] END .....................alpha=0.16;, score=-167.077 total time=   0.0s\n",
      "[CV 3/5] END .....................alpha=0.16;, score=-162.834 total time=   0.0s\n",
      "[CV 4/5] END .....................alpha=0.16;, score=-166.219 total time=   0.0s\n",
      "[CV 5/5] END .....................alpha=0.16;, score=-165.220 total time=   0.0s\n",
      "[CV 1/5] END .....................alpha=0.17;, score=-175.653 total time=   0.0s\n",
      "[CV 2/5] END .....................alpha=0.17;, score=-167.438 total time=   0.0s\n",
      "[CV 3/5] END .....................alpha=0.17;, score=-163.111 total time=   0.0s\n",
      "[CV 4/5] END .....................alpha=0.17;, score=-166.706 total time=   0.0s\n",
      "[CV 5/5] END .....................alpha=0.17;, score=-165.764 total time=   0.0s\n",
      "[CV 1/5] END .....................alpha=0.18;, score=-176.005 total time=   0.0s\n",
      "[CV 2/5] END .....................alpha=0.18;, score=-167.760 total time=   0.0s\n",
      "[CV 3/5] END .....................alpha=0.18;, score=-163.394 total time=   0.1s\n",
      "[CV 4/5] END .....................alpha=0.18;, score=-167.193 total time=   0.0s\n",
      "[CV 5/5] END .....................alpha=0.18;, score=-166.328 total time=   0.0s\n",
      "[CV 1/5] END .....................alpha=0.19;, score=-176.378 total time=   0.0s\n",
      "[CV 2/5] END .....................alpha=0.19;, score=-168.099 total time=   0.1s\n",
      "[CV 3/5] END .....................alpha=0.19;, score=-163.607 total time=   0.0s\n",
      "[CV 4/5] END .....................alpha=0.19;, score=-167.690 total time=   0.0s\n",
      "[CV 5/5] END .....................alpha=0.19;, score=-166.876 total time=   0.0s\n",
      "[CV 1/5] END ......................alpha=0.2;, score=-176.781 total time=   0.0s\n",
      "[CV 2/5] END ......................alpha=0.2;, score=-168.429 total time=   0.0s\n",
      "[CV 3/5] END ......................alpha=0.2;, score=-163.881 total time=   0.0s\n",
      "[CV 4/5] END ......................alpha=0.2;, score=-168.172 total time=   0.0s\n",
      "[CV 5/5] END ......................alpha=0.2;, score=-167.464 total time=   0.0s\n",
      "[CV 1/5] END .....................alpha=0.21;, score=-177.172 total time=   0.0s\n",
      "[CV 2/5] END .....................alpha=0.21;, score=-168.735 total time=   0.0s\n",
      "[CV 3/5] END .....................alpha=0.21;, score=-164.155 total time=   0.0s\n",
      "[CV 4/5] END .....................alpha=0.21;, score=-168.586 total time=   0.0s\n",
      "[CV 5/5] END .....................alpha=0.21;, score=-168.068 total time=   0.0s\n",
      "[CV 1/5] END .....................alpha=0.22;, score=-177.557 total time=   0.0s\n",
      "[CV 2/5] END .....................alpha=0.22;, score=-169.018 total time=   0.0s\n"
     ]
    },
    {
     "name": "stdout",
     "output_type": "stream",
     "text": [
      "[CV 3/5] END .....................alpha=0.22;, score=-164.385 total time=   0.0s\n",
      "[CV 4/5] END .....................alpha=0.22;, score=-168.957 total time=   0.0s\n",
      "[CV 5/5] END .....................alpha=0.22;, score=-168.676 total time=   0.0s\n",
      "[CV 1/5] END .....................alpha=0.23;, score=-177.951 total time=   0.0s\n",
      "[CV 2/5] END .....................alpha=0.23;, score=-169.301 total time=   0.0s\n",
      "[CV 3/5] END .....................alpha=0.23;, score=-164.644 total time=   0.0s\n",
      "[CV 4/5] END .....................alpha=0.23;, score=-169.319 total time=   0.0s\n",
      "[CV 5/5] END .....................alpha=0.23;, score=-169.261 total time=   0.0s\n",
      "[CV 1/5] END .....................alpha=0.24;, score=-178.320 total time=   0.0s\n",
      "[CV 2/5] END .....................alpha=0.24;, score=-169.588 total time=   0.0s\n",
      "[CV 3/5] END .....................alpha=0.24;, score=-164.921 total time=   0.0s\n",
      "[CV 4/5] END .....................alpha=0.24;, score=-169.676 total time=   0.0s\n",
      "[CV 5/5] END .....................alpha=0.24;, score=-169.864 total time=   0.0s\n",
      "[CV 1/5] END .....................alpha=0.25;, score=-178.660 total time=   0.0s\n",
      "[CV 2/5] END .....................alpha=0.25;, score=-169.902 total time=   0.1s\n",
      "[CV 3/5] END .....................alpha=0.25;, score=-165.212 total time=   0.0s\n",
      "[CV 4/5] END .....................alpha=0.25;, score=-169.968 total time=   0.0s\n",
      "[CV 5/5] END .....................alpha=0.25;, score=-170.478 total time=   0.0s\n"
     ]
    },
    {
     "data": {
      "text/plain": [
       "GridSearchCV(cv=5, estimator=ElasticNet(l1_ratio=1, normalize=True),\n",
       "             param_grid={'alpha': [0.01, 0.02, 0.03, 0.04, 0.05, 0.06, 0.07,\n",
       "                                   0.08, 0.09, 0.1, 0.11, 0.12, 0.13, 0.14,\n",
       "                                   0.15, 0.16, 0.17, 0.18, 0.19, 0.2, 0.21,\n",
       "                                   0.22, 0.23, 0.24, 0.25]},\n",
       "             scoring='neg_root_mean_squared_error', verbose=3)"
      ]
     },
     "execution_count": 77,
     "metadata": {},
     "output_type": "execute_result"
    }
   ],
   "source": [
    "lasso_model_cv.fit(X, y.ravel())"
   ]
  },
  {
   "cell_type": "code",
   "execution_count": 78,
   "metadata": {},
   "outputs": [
    {
     "data": {
      "text/html": [
       "<div>\n",
       "<style scoped>\n",
       "    .dataframe tbody tr th:only-of-type {\n",
       "        vertical-align: middle;\n",
       "    }\n",
       "\n",
       "    .dataframe tbody tr th {\n",
       "        vertical-align: top;\n",
       "    }\n",
       "\n",
       "    .dataframe thead th {\n",
       "        text-align: right;\n",
       "    }\n",
       "</style>\n",
       "<table border=\"1\" class=\"dataframe\">\n",
       "  <thead>\n",
       "    <tr style=\"text-align: right;\">\n",
       "      <th></th>\n",
       "      <th>lasso_coefficient</th>\n",
       "    </tr>\n",
       "  </thead>\n",
       "  <tbody>\n",
       "    <tr>\n",
       "      <th>f_neighbourhood_cleansed[T.Bang Khae]</th>\n",
       "      <td>-45.069</td>\n",
       "    </tr>\n",
       "    <tr>\n",
       "      <th>f_neighbourhood_cleansed[T.Bang Kho laen]</th>\n",
       "      <td>0.200</td>\n",
       "    </tr>\n",
       "    <tr>\n",
       "      <th>f_neighbourhood_cleansed[T.Bang Khun thain]</th>\n",
       "      <td>-4.585</td>\n",
       "    </tr>\n",
       "    <tr>\n",
       "      <th>f_neighbourhood_cleansed[T.Bang Na]</th>\n",
       "      <td>-27.460</td>\n",
       "    </tr>\n",
       "    <tr>\n",
       "      <th>f_neighbourhood_cleansed[T.Bang Phlat]</th>\n",
       "      <td>-81.722</td>\n",
       "    </tr>\n",
       "    <tr>\n",
       "      <th>...</th>\n",
       "      <td>...</td>\n",
       "    </tr>\n",
       "    <tr>\n",
       "      <th>d_hotwaterkettle</th>\n",
       "      <td>9.603</td>\n",
       "    </tr>\n",
       "    <tr>\n",
       "      <th>d_keypad</th>\n",
       "      <td>0.408</td>\n",
       "    </tr>\n",
       "    <tr>\n",
       "      <th>d_bathtub</th>\n",
       "      <td>40.910</td>\n",
       "    </tr>\n",
       "    <tr>\n",
       "      <th>d_singlelevelhome</th>\n",
       "      <td>48.073</td>\n",
       "    </tr>\n",
       "    <tr>\n",
       "      <th>d_paidparkingoffpremises</th>\n",
       "      <td>-26.326</td>\n",
       "    </tr>\n",
       "  </tbody>\n",
       "</table>\n",
       "<p>107 rows × 1 columns</p>\n",
       "</div>"
      ],
      "text/plain": [
       "                                             lasso_coefficient\n",
       "f_neighbourhood_cleansed[T.Bang Khae]                  -45.069\n",
       "f_neighbourhood_cleansed[T.Bang Kho laen]                0.200\n",
       "f_neighbourhood_cleansed[T.Bang Khun thain]             -4.585\n",
       "f_neighbourhood_cleansed[T.Bang Na]                    -27.460\n",
       "f_neighbourhood_cleansed[T.Bang Phlat]                 -81.722\n",
       "...                                                        ...\n",
       "d_hotwaterkettle                                         9.603\n",
       "d_keypad                                                 0.408\n",
       "d_bathtub                                               40.910\n",
       "d_singlelevelhome                                       48.073\n",
       "d_paidparkingoffpremises                               -26.326\n",
       "\n",
       "[107 rows x 1 columns]"
      ]
     },
     "execution_count": 78,
     "metadata": {},
     "output_type": "execute_result"
    }
   ],
   "source": [
    "pd.DataFrame(\n",
    "    lasso_model_cv.best_estimator_.coef_.tolist(),\n",
    "    index=X.design_info.column_names,\n",
    "    columns=[\"lasso_coefficient\"],\n",
    ").assign(lasso_coefficient=lambda x: x.lasso_coefficient.round(3)).loc[\n",
    "    lambda x: x.lasso_coefficient != 0\n",
    "]"
   ]
  },
  {
   "cell_type": "code",
   "execution_count": 79,
   "metadata": {
    "scrolled": true
   },
   "outputs": [
    {
     "data": {
      "text/plain": [
       "164.21569656046614"
      ]
     },
     "execution_count": 79,
     "metadata": {},
     "output_type": "execute_result"
    }
   ],
   "source": [
    "lasso_rmse = pd.DataFrame(lasso_model_cv.cv_results_).loc[\n",
    "    lambda x: x.param_alpha == lasso_model_cv.best_estimator_.alpha\n",
    "].mean_test_score.values[0] * -1\n",
    "lasso_rmse"
   ]
  },
  {
   "cell_type": "markdown",
   "metadata": {},
   "source": [
    "3. CART model"
   ]
  },
  {
   "cell_type": "code",
   "execution_count": 80,
   "metadata": {},
   "outputs": [],
   "source": [
    "from sklearn.tree import DecisionTreeClassifier"
   ]
  },
  {
   "cell_type": "code",
   "execution_count": 81,
   "metadata": {},
   "outputs": [],
   "source": [
    "y, X = dmatrices(\"price ~ \" + \" + \".join(predictors_2), data_train)"
   ]
  },
  {
   "cell_type": "code",
   "execution_count": 82,
   "metadata": {},
   "outputs": [],
   "source": [
    "cart_model = DecisionTreeClassifier(random_state=2018, criterion=\"gini\")"
   ]
  },
  {
   "cell_type": "code",
   "execution_count": 83,
   "metadata": {},
   "outputs": [],
   "source": [
    "# Get potential ccp_alpha parameters\n",
    "\n",
    "path = cart_model.cost_complexity_pruning_path(X, y.ravel())\n",
    "ccp_alphas, impurities = path.ccp_alphas, path.impurities"
   ]
  },
  {
   "cell_type": "code",
   "execution_count": 84,
   "metadata": {},
   "outputs": [
    {
     "name": "stdout",
     "output_type": "stream",
     "text": [
      "Fitting 5 folds for each of 10 candidates, totalling 50 fits\n",
      "[CV 1/5] END ccp_alpha=0.0006129060502582961;, score=-256.253 total time=   0.1s\n"
     ]
    },
    {
     "name": "stderr",
     "output_type": "stream",
     "text": [
      "/Users/vigadam/.local/share/virtualenvs/Assignment_2-7CJqppZW/lib/python3.9/site-packages/sklearn/model_selection/_split.py:666: UserWarning: The least populated class in y has only 1 members, which is less than n_splits=5.\n"
     ]
    },
    {
     "name": "stdout",
     "output_type": "stream",
     "text": [
      "[CV 2/5] END ccp_alpha=0.0006129060502582961;, score=-221.947 total time=   0.1s\n",
      "[CV 3/5] END ccp_alpha=0.0006129060502582961;, score=-234.076 total time=   0.2s\n",
      "[CV 4/5] END ccp_alpha=0.0006129060502582961;, score=-236.717 total time=   0.1s\n",
      "[CV 5/5] END ccp_alpha=0.0006129060502582961;, score=-239.093 total time=   0.1s\n",
      "[CV 1/5] END ccp_alpha=0.0003940110323089047;, score=-210.843 total time=   0.1s\n",
      "[CV 2/5] END ccp_alpha=0.0003940110323089047;, score=-198.147 total time=   0.1s\n",
      "[CV 3/5] END ccp_alpha=0.0003940110323089047;, score=-219.228 total time=   0.1s\n",
      "[CV 4/5] END ccp_alpha=0.0003940110323089047;, score=-221.510 total time=   0.1s\n",
      "[CV 5/5] END ccp_alpha=0.0003940110323089047;, score=-214.348 total time=   0.1s\n",
      "[CV 1/5] END ccp_alpha=0.0003940110323089047;, score=-210.843 total time=   0.2s\n",
      "[CV 2/5] END ccp_alpha=0.0003940110323089047;, score=-198.147 total time=   0.2s\n",
      "[CV 3/5] END ccp_alpha=0.0003940110323089047;, score=-219.228 total time=   0.1s\n",
      "[CV 4/5] END ccp_alpha=0.0003940110323089047;, score=-221.510 total time=   0.1s\n",
      "[CV 5/5] END ccp_alpha=0.0003940110323089047;, score=-214.348 total time=   0.1s\n",
      "[CV 1/5] END ccp_alpha=0.0003940110323089046;, score=-210.843 total time=   0.2s\n",
      "[CV 2/5] END ccp_alpha=0.0003940110323089046;, score=-198.147 total time=   0.1s\n",
      "[CV 3/5] END ccp_alpha=0.0003940110323089046;, score=-219.228 total time=   0.3s\n",
      "[CV 4/5] END ccp_alpha=0.0003940110323089046;, score=-221.510 total time=   0.1s\n",
      "[CV 5/5] END ccp_alpha=0.0003940110323089046;, score=-214.348 total time=   0.1s\n",
      "[CV 1/5] END ccp_alpha=0.0005253480430785398;, score=-255.902 total time=   0.1s\n",
      "[CV 2/5] END ccp_alpha=0.0005253480430785398;, score=-226.656 total time=   0.2s\n",
      "[CV 3/5] END ccp_alpha=0.0005253480430785398;, score=-236.843 total time=   0.3s\n",
      "[CV 4/5] END ccp_alpha=0.0005253480430785398;, score=-243.442 total time=   0.1s\n",
      "[CV 5/5] END ccp_alpha=0.0005253480430785398;, score=-242.536 total time=   0.1s\n",
      "[CV 1/5] END ccp_alpha=0.0015558950208481193;, score=-193.861 total time=   0.1s\n",
      "[CV 2/5] END ccp_alpha=0.0015558950208481193;, score=-192.304 total time=   0.1s\n",
      "[CV 3/5] END ccp_alpha=0.0015558950208481193;, score=-205.327 total time=   0.1s\n",
      "[CV 4/5] END ccp_alpha=0.0015558950208481193;, score=-212.993 total time=   0.1s\n",
      "[CV 5/5] END ccp_alpha=0.0015558950208481193;, score=-200.246 total time=   0.1s\n",
      "[CV 1/5] END ccp_alpha=0.0009409527731040757;, score=-182.942 total time=   0.1s\n",
      "[CV 2/5] END ccp_alpha=0.0009409527731040757;, score=-192.205 total time=   0.1s\n",
      "[CV 3/5] END ccp_alpha=0.0009409527731040757;, score=-217.644 total time=   0.1s\n",
      "[CV 4/5] END ccp_alpha=0.0009409527731040757;, score=-224.513 total time=   0.1s\n",
      "[CV 5/5] END ccp_alpha=0.0009409527731040757;, score=-185.491 total time=   0.1s\n",
      "[CV 1/5] END ccp_alpha=0.0008318010682076874;, score=-214.411 total time=   0.1s\n",
      "[CV 2/5] END ccp_alpha=0.0008318010682076874;, score=-213.887 total time=   0.1s\n",
      "[CV 3/5] END ccp_alpha=0.0008318010682076874;, score=-206.663 total time=   0.1s\n",
      "[CV 4/5] END ccp_alpha=0.0008318010682076874;, score=-223.485 total time=   0.2s\n",
      "[CV 5/5] END ccp_alpha=0.0008318010682076874;, score=-222.423 total time=   0.1s\n",
      "[CV 1/5] END ccp_alpha=0.0006228324125695843;, score=-255.944 total time=   0.1s\n",
      "[CV 2/5] END ccp_alpha=0.0006228324125695843;, score=-221.175 total time=   0.1s\n",
      "[CV 3/5] END ccp_alpha=0.0006228324125695843;, score=-234.973 total time=   0.1s\n",
      "[CV 4/5] END ccp_alpha=0.0006228324125695843;, score=-237.356 total time=   0.2s\n",
      "[CV 5/5] END ccp_alpha=0.0006228324125695843;, score=-239.201 total time=   0.2s\n",
      "[CV 1/5] END ccp_alpha=0.0003940110323089046;, score=-210.843 total time=   0.2s\n",
      "[CV 2/5] END ccp_alpha=0.0003940110323089046;, score=-198.147 total time=   0.2s\n",
      "[CV 3/5] END ccp_alpha=0.0003940110323089046;, score=-219.228 total time=   0.2s\n",
      "[CV 4/5] END ccp_alpha=0.0003940110323089046;, score=-221.510 total time=   0.2s\n",
      "[CV 5/5] END ccp_alpha=0.0003940110323089046;, score=-214.348 total time=   0.1s\n"
     ]
    },
    {
     "data": {
      "text/plain": [
       "RandomizedSearchCV(cv=5, estimator=DecisionTreeClassifier(random_state=2018),\n",
       "                   param_distributions={'ccp_alpha': array([0.00000000e+00, 6.56685054e-05, 1.31337011e-04, 1.31337011e-04,\n",
       "       1.31337011e-04, 1.50099441e-04, 1.97005516e-04, 2.62674022e-04,\n",
       "       2.95508274e-04, 2.95508274e-04, 2.95508274e-04, 2.95508274e-04,\n",
       "       2.95508274e-04, 3.06453025e-04, 3.15208826e-04, 3.1520882...\n",
       "       1.32212591e-03, 1.33547229e-03, 1.39162408e-03, 1.40546618e-03,\n",
       "       1.41439858e-03, 1.41754291e-03, 1.43362893e-03, 1.49597772e-03,\n",
       "       1.55589502e-03, 1.68031101e-03, 1.74021539e-03, 1.79229650e-03,\n",
       "       2.18971992e-03, 2.30838026e-03, 2.41732562e-03, 2.42469024e-03,\n",
       "       2.86484888e-03, 3.87891405e-03, 4.36998259e-03, 4.70288338e-03,\n",
       "       6.81983312e-03, 7.10191545e-03])},\n",
       "                   scoring='neg_root_mean_squared_error', verbose=3)"
      ]
     },
     "execution_count": 84,
     "metadata": {},
     "output_type": "execute_result"
    }
   ],
   "source": [
    "# apply random search to select a \"best\" alpha \n",
    "# RandomizedSearchCV does not calculate all potential alphas, just a random subset\n",
    "\n",
    "cart_model_cv = RandomizedSearchCV(\n",
    "    cart_model,\n",
    "    {\"ccp_alpha\":ccp_alphas},\n",
    "    cv=5,\n",
    "    scoring=\"neg_root_mean_squared_error\",\n",
    "    verbose=3,\n",
    ")\n",
    "\n",
    "\n",
    "cart_model_cv.fit(X,y.ravel())"
   ]
  },
  {
   "cell_type": "code",
   "execution_count": 85,
   "metadata": {},
   "outputs": [
    {
     "data": {
      "text/plain": [
       "200.55896773747577"
      ]
     },
     "execution_count": 85,
     "metadata": {},
     "output_type": "execute_result"
    }
   ],
   "source": [
    "cart_rmse = pd.DataFrame(cart_model_cv.cv_results_).loc[\n",
    "    lambda x: x.param_ccp_alpha == cart_model_cv.best_estimator_.ccp_alpha\n",
    "].mean_test_score.values[0] * -1\n",
    "cart_rmse"
   ]
  }
 ],
 "metadata": {
  "kernelspec": {
   "display_name": "Python 3 (ipykernel)",
   "language": "python",
   "name": "python3"
  },
  "language_info": {
   "codemirror_mode": {
    "name": "ipython",
    "version": 3
   },
   "file_extension": ".py",
   "mimetype": "text/x-python",
   "name": "python",
   "nbconvert_exporter": "python",
   "pygments_lexer": "ipython3",
   "version": "3.9.7"
  }
 },
 "nbformat": 4,
 "nbformat_minor": 4
}
