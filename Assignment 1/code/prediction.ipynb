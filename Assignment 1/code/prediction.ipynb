{
 "cells": [
  {
   "cell_type": "code",
   "execution_count": 2,
   "metadata": {},
   "outputs": [],
   "source": [
    "import pandas as pd\n",
    "import numpy as np\n",
    "\n",
    "from plotnine import *\n",
    "\n",
    "import statsmodels.formula.api as smf\n",
    "\n",
    "from pandas_profiling import ProfileReport\n",
    "\n",
    "import warnings\n",
    "\n",
    "warnings.filterwarnings(\"ignore\")"
   ]
  },
  {
   "cell_type": "code",
   "execution_count": 3,
   "metadata": {},
   "outputs": [],
   "source": [
    "data = pd.read_csv(\"../data/cps-earnings/clean/morg-2014-emp.csv\",index_col = 0)"
   ]
  },
  {
   "cell_type": "code",
   "execution_count": 40,
   "metadata": {},
   "outputs": [
    {
     "data": {
      "text/plain": [
       "Index(['hhid', 'intmonth', 'stfips', 'weight', 'earnwke', 'uhours', 'grade92',\n",
       "       'race', 'ethnic', 'age', 'sex', 'marital', 'ownchild', 'chldpres',\n",
       "       'prcitshp', 'state', 'ind02', 'occ2012', 'class', 'unionmme',\n",
       "       'unioncov', 'lfsr94'],\n",
       "      dtype='object')"
      ]
     },
     "execution_count": 40,
     "metadata": {},
     "output_type": "execute_result"
    }
   ],
   "source": [
    "data.columns"
   ]
  },
  {
   "cell_type": "markdown",
   "metadata": {},
   "source": [
    " Selecting:\n",
    " - Computer programmers 1010\n",
    " - Software developers, applications and systems software 1020\n",
    " - Web developers 1030"
   ]
  },
  {
   "cell_type": "code",
   "execution_count": 551,
   "metadata": {},
   "outputs": [],
   "source": [
    "work = data.loc[lambda x: x[\"occ2012\"].isin([1010,1020,1030])]"
   ]
  },
  {
   "cell_type": "markdown",
   "metadata": {},
   "source": [
    "Dropping household id and month of questionary, (also the weight ?)"
   ]
  },
  {
   "cell_type": "code",
   "execution_count": 552,
   "metadata": {},
   "outputs": [],
   "source": [
    "work = work.drop([\"hhid\",\"intmonth\"],axis=1)"
   ]
  },
  {
   "cell_type": "code",
   "execution_count": 553,
   "metadata": {},
   "outputs": [
    {
     "data": {
      "text/plain": [
       "stfips         0\n",
       "weight         0\n",
       "earnwke        0\n",
       "uhours         0\n",
       "grade92        0\n",
       "race           0\n",
       "ethnic      1977\n",
       "age            0\n",
       "sex            0\n",
       "marital        0\n",
       "ownchild       0\n",
       "chldpres       0\n",
       "prcitshp       0\n",
       "state          0\n",
       "ind02          0\n",
       "occ2012        0\n",
       "class          0\n",
       "unionmme       0\n",
       "unioncov      55\n",
       "lfsr94         0\n",
       "dtype: int64"
      ]
     },
     "execution_count": 553,
     "metadata": {},
     "output_type": "execute_result"
    }
   ],
   "source": [
    "work.isnull().sum()"
   ]
  },
  {
   "cell_type": "markdown",
   "metadata": {},
   "source": [
    "# 1. Feature engineering"
   ]
  },
  {
   "cell_type": "markdown",
   "metadata": {},
   "source": [
    "## Target variable"
   ]
  },
  {
   "cell_type": "code",
   "execution_count": 554,
   "metadata": {},
   "outputs": [],
   "source": [
    "work[\"w\"] = work[\"earnwke\"] / work[\"uhours\"]\n",
    "work[\"lnw\"] = np.log(work[\"w\"])"
   ]
  },
  {
   "cell_type": "markdown",
   "metadata": {},
   "source": [
    "## Continous variables"
   ]
  },
  {
   "cell_type": "markdown",
   "metadata": {},
   "source": [
    "### 1. age"
   ]
  },
  {
   "cell_type": "code",
   "execution_count": 555,
   "metadata": {},
   "outputs": [],
   "source": [
    "work[\"agesq\"] = np.power(work[\"age\"], 2)"
   ]
  },
  {
   "cell_type": "markdown",
   "metadata": {},
   "source": [
    "### 2. education"
   ]
  },
  {
   "cell_type": "markdown",
   "metadata": {},
   "source": [
    "Calculate years spend in education to get experience"
   ]
  },
  {
   "cell_type": "code",
   "execution_count": 556,
   "metadata": {},
   "outputs": [],
   "source": [
    "work[\"edu\"] = work[\"grade92\"]"
   ]
  },
  {
   "cell_type": "code",
   "execution_count": 557,
   "metadata": {},
   "outputs": [
    {
     "data": {
      "text/plain": [
       "36       1\n",
       "37       2\n",
       "38       2\n",
       "39      71\n",
       "40     184\n",
       "41      60\n",
       "42      98\n",
       "43    1098\n",
       "44     505\n",
       "45       9\n",
       "46      37\n",
       "Name: edu, dtype: int64"
      ]
     },
     "execution_count": 557,
     "metadata": {},
     "output_type": "execute_result"
    }
   ],
   "source": [
    "work[\"edu\"].value_counts().sort_index()"
   ]
  },
  {
   "cell_type": "code",
   "execution_count": 558,
   "metadata": {},
   "outputs": [],
   "source": [
    "work[\"years_in_edu\"] = work[\"edu\"].map(\n",
    "    {\n",
    "        36: 10,\n",
    "        37: 11,\n",
    "        38: 12,\n",
    "        39: 12,\n",
    "        40: 13,\n",
    "        41: 15,\n",
    "        42: 15,\n",
    "        43: 15,\n",
    "        44: 17,\n",
    "        45: 17,\n",
    "        46: 22,\n",
    "    }\n",
    ")"
   ]
  },
  {
   "cell_type": "markdown",
   "metadata": {},
   "source": [
    "## Categorical variables"
   ]
  },
  {
   "cell_type": "markdown",
   "metadata": {},
   "source": [
    "### 0. create categorical from education"
   ]
  },
  {
   "cell_type": "code",
   "execution_count": 559,
   "metadata": {},
   "outputs": [],
   "source": [
    "work[\"edu\"] = np.where(\n",
    "    work[\"edu\"] < 43,\n",
    "    \"no degree\",\n",
    "    np.where(\n",
    "        work[\"edu\"] == 43,\n",
    "        \"BA degree\",\n",
    "        np.where((work[\"edu\"] == 44) | (work[\"edu\"] == 45), \"MA degree\", \"Phd degree\"),\n",
    "    ),\n",
    ")"
   ]
  },
  {
   "cell_type": "code",
   "execution_count": 560,
   "metadata": {},
   "outputs": [
    {
     "data": {
      "text/plain": [
       "BA degree     1098\n",
       "MA degree      514\n",
       "no degree      418\n",
       "Phd degree      37\n",
       "Name: edu, dtype: int64"
      ]
     },
     "execution_count": 560,
     "metadata": {},
     "output_type": "execute_result"
    }
   ],
   "source": [
    "work[\"edu\"].value_counts()"
   ]
  },
  {
   "cell_type": "markdown",
   "metadata": {},
   "source": [
    "### 1. race"
   ]
  },
  {
   "cell_type": "code",
   "execution_count": 561,
   "metadata": {},
   "outputs": [
    {
     "data": {
      "text/plain": [
       "1     1443\n",
       "4      487\n",
       "2       97\n",
       "8       16\n",
       "3        8\n",
       "5        6\n",
       "7        5\n",
       "6        2\n",
       "11       1\n",
       "13       1\n",
       "17       1\n",
       "Name: race, dtype: int64"
      ]
     },
     "execution_count": 561,
     "metadata": {},
     "output_type": "execute_result"
    }
   ],
   "source": [
    "work.race.value_counts()"
   ]
  },
  {
   "cell_type": "markdown",
   "metadata": {},
   "source": [
    "I decode race based on pdf as: 1:\"white\" 2:\"black\" 4:\"asian\" else:\"other\""
   ]
  },
  {
   "cell_type": "code",
   "execution_count": 562,
   "metadata": {},
   "outputs": [],
   "source": [
    "work[\"race\"] = np.where(\n",
    "    work[\"race\"] == 1,\n",
    "    \"white\",\n",
    "    np.where(\n",
    "        work[\"race\"] == 2,\n",
    "        \"black\",\n",
    "        np.where(work[\"race\"] == 4, \"asian\", \"other\"),\n",
    "    ),\n",
    ")"
   ]
  },
  {
   "cell_type": "markdown",
   "metadata": {},
   "source": [
    "### 2. gender"
   ]
  },
  {
   "cell_type": "code",
   "execution_count": 563,
   "metadata": {},
   "outputs": [],
   "source": [
    "work[\"sex\"] = work.sex.map({1:\"male\",2:\"female\"})"
   ]
  },
  {
   "cell_type": "markdown",
   "metadata": {},
   "source": [
    "### 3. marital"
   ]
  },
  {
   "cell_type": "code",
   "execution_count": 564,
   "metadata": {},
   "outputs": [
    {
     "data": {
      "text/plain": [
       "1    1306\n",
       "2       4\n",
       "3      35\n",
       "4      13\n",
       "5     133\n",
       "6      24\n",
       "7     552\n",
       "Name: marital, dtype: int64"
      ]
     },
     "execution_count": 564,
     "metadata": {},
     "output_type": "execute_result"
    }
   ],
   "source": [
    "work.marital.value_counts().sort_index()"
   ]
  },
  {
   "cell_type": "code",
   "execution_count": 565,
   "metadata": {},
   "outputs": [],
   "source": [
    "work[\"marital_status\"] = np.where(\n",
    "    work[\"marital\"].isin([1, 2, 3]),\n",
    "    \"married\",\n",
    "    np.where(work[\"marital\"].isin([4, 5, 6]), \"used to be married\", \"never married\"),\n",
    ")"
   ]
  },
  {
   "cell_type": "markdown",
   "metadata": {},
   "source": [
    "### 4. union"
   ]
  },
  {
   "cell_type": "code",
   "execution_count": 566,
   "metadata": {},
   "outputs": [],
   "source": [
    "work[\"union\"] = ((work[\"unionmme\"] == \"Yes\") | (work[\"unioncov\"] == \"Yes\")).astype(int)"
   ]
  },
  {
   "cell_type": "markdown",
   "metadata": {},
   "source": [
    "### 5. children"
   ]
  },
  {
   "cell_type": "code",
   "execution_count": 567,
   "metadata": {},
   "outputs": [
    {
     "data": {
      "text/plain": [
       "0    1236\n",
       "1     344\n",
       "2     367\n",
       "3      97\n",
       "4      14\n",
       "5       4\n",
       "6       3\n",
       "7       1\n",
       "9       1\n",
       "Name: ownchild, dtype: int64"
      ]
     },
     "execution_count": 567,
     "metadata": {},
     "output_type": "execute_result"
    }
   ],
   "source": [
    "work.ownchild.value_counts().sort_index()"
   ]
  },
  {
   "cell_type": "code",
   "execution_count": 568,
   "metadata": {},
   "outputs": [],
   "source": [
    "work[\"n_children\"] = np.where(work[\"ownchild\"]>=3,\"3>=\",work[\"ownchild\"].astype(\"str\"))"
   ]
  },
  {
   "cell_type": "markdown",
   "metadata": {},
   "source": [
    "### 6. employment status"
   ]
  },
  {
   "cell_type": "code",
   "execution_count": 569,
   "metadata": {},
   "outputs": [
    {
     "data": {
      "text/plain": [
       "Employed-At Work    2023\n",
       "Employed-Absent       44\n",
       "Name: emp_status, dtype: int64"
      ]
     },
     "execution_count": 569,
     "metadata": {},
     "output_type": "execute_result"
    }
   ],
   "source": [
    "work[\"emp_status\"] = work.lfsr94\n",
    "\n",
    "work.emp_status.value_counts()"
   ]
  },
  {
   "cell_type": "markdown",
   "metadata": {},
   "source": [
    "### 7. class"
   ]
  },
  {
   "cell_type": "code",
   "execution_count": 570,
   "metadata": {},
   "outputs": [
    {
     "data": {
      "text/plain": [
       "Private, For Profit     1796\n",
       "Private, Nonprofit        92\n",
       "Government - Federal      81\n",
       "Government - State        74\n",
       "Government - Local        24\n",
       "Name: working_class, dtype: int64"
      ]
     },
     "execution_count": 570,
     "metadata": {},
     "output_type": "execute_result"
    }
   ],
   "source": [
    "work[\"working_class\"] = work[\"class\"]\n",
    "work[\"working_class\"].value_counts()"
   ]
  },
  {
   "cell_type": "markdown",
   "metadata": {},
   "source": [
    "### 8. occupation"
   ]
  },
  {
   "cell_type": "code",
   "execution_count": 571,
   "metadata": {},
   "outputs": [
    {
     "data": {
      "text/plain": [
       "1020    1335\n",
       "1010     516\n",
       "1030     216\n",
       "Name: occup, dtype: int64"
      ]
     },
     "execution_count": 571,
     "metadata": {},
     "output_type": "execute_result"
    }
   ],
   "source": [
    "work[\"occup\"] = work[\"occ2012\"]\n",
    "work[\"occup\"].value_counts()"
   ]
  },
  {
   "cell_type": "markdown",
   "metadata": {},
   "source": [
    "### 9. industry"
   ]
  },
  {
   "cell_type": "code",
   "execution_count": 572,
   "metadata": {},
   "outputs": [
    {
     "data": {
      "text/plain": [
       "Other                      1340\n",
       "Computer systems design     727\n",
       "Name: industry, dtype: int64"
      ]
     },
     "execution_count": 572,
     "metadata": {},
     "output_type": "execute_result"
    }
   ],
   "source": [
    "work[\"industry\"] = work[\"ind02\"]\n",
    "\n",
    "work[\"industry\"] = np.where(\n",
    "    work[\"industry\"] == \"Computer systems design and related services (5415)\",\n",
    "    \"Computer systems design\",\n",
    "    \"Other\",\n",
    ")\n",
    "\n",
    "work[\"industry\"].value_counts()"
   ]
  },
  {
   "cell_type": "markdown",
   "metadata": {},
   "source": [
    "### 10. state\n",
    "\n",
    "Lof of states, probably won't use it."
   ]
  },
  {
   "cell_type": "code",
   "execution_count": 573,
   "metadata": {},
   "outputs": [],
   "source": [
    "work[\"state\"] = work[\"stfips\"]"
   ]
  },
  {
   "cell_type": "markdown",
   "metadata": {},
   "source": [
    "### 11. non-USborn"
   ]
  },
  {
   "cell_type": "code",
   "execution_count": 574,
   "metadata": {},
   "outputs": [
    {
     "data": {
      "text/plain": [
       "Native, Born In US                        1445\n",
       "Foreign Born, Not a US Citizen             323\n",
       "Foreign Born, US Cit By Naturalization     263\n",
       "Native, Born Abroad Of US Parent(s)         29\n",
       "Native, Born in PR or US Outlying Area       7\n",
       "Name: prcitshp, dtype: int64"
      ]
     },
     "execution_count": 574,
     "metadata": {},
     "output_type": "execute_result"
    }
   ],
   "source": [
    "work.prcitshp.value_counts()"
   ]
  },
  {
   "cell_type": "code",
   "execution_count": 575,
   "metadata": {},
   "outputs": [],
   "source": [
    "work[\"nonUSborn\"] = (\n",
    "    (work[\"prcitshp\"] == \"Foreign Born, US Cit By Naturalization\")\n",
    "    | (work[\"prcitshp\"] == \"Foreign Born, Not a US Citizen\")\n",
    ").astype(int)"
   ]
  },
  {
   "cell_type": "code",
   "execution_count": 576,
   "metadata": {},
   "outputs": [],
   "source": [
    "work_clean = work.filter(\n",
    "    [\n",
    "        \"w\",\n",
    "        \"lnw\",\n",
    "        \"age\",\n",
    "        \"agesq\",\n",
    "        \"exp\",\n",
    "        \"expsq\",\n",
    "        \"sex\",\n",
    "        \"race\",\n",
    "        \"edu\",\n",
    "        \"years_in_edu\",\n",
    "        \"marital_status\",\n",
    "        \"n_children\",\n",
    "        \"union\",\n",
    "        \"emp_status\",\n",
    "        \"working_class\",\n",
    "        \"occup\",\n",
    "        \"industry\",\n",
    "        \"nonUSborn\",\n",
    "    ]\n",
    ")"
   ]
  },
  {
   "cell_type": "markdown",
   "metadata": {},
   "source": [
    "### + addigional features"
   ]
  },
  {
   "cell_type": "markdown",
   "metadata": {},
   "source": [
    "### experience\n",
    "\n"
   ]
  },
  {
   "cell_type": "code",
   "execution_count": 577,
   "metadata": {},
   "outputs": [],
   "source": [
    "work_clean[\"exp\"] = work_clean[\"age\"] - work_clean[\"years_in_edu\"] - 6\n",
    "work_clean[\"expsq\"] = work_clean[\"exp\"]**2"
   ]
  },
  {
   "cell_type": "code",
   "execution_count": 578,
   "metadata": {},
   "outputs": [
    {
     "data": {
      "text/html": [
       "<div>\n",
       "<style scoped>\n",
       "    .dataframe tbody tr th:only-of-type {\n",
       "        vertical-align: middle;\n",
       "    }\n",
       "\n",
       "    .dataframe tbody tr th {\n",
       "        vertical-align: top;\n",
       "    }\n",
       "\n",
       "    .dataframe thead th {\n",
       "        text-align: right;\n",
       "    }\n",
       "</style>\n",
       "<table border=\"1\" class=\"dataframe\">\n",
       "  <thead>\n",
       "    <tr style=\"text-align: right;\">\n",
       "      <th></th>\n",
       "      <th>age</th>\n",
       "      <th>exp</th>\n",
       "    </tr>\n",
       "  </thead>\n",
       "  <tbody>\n",
       "    <tr>\n",
       "      <th>age</th>\n",
       "      <td>1.000000</td>\n",
       "      <td>0.989701</td>\n",
       "    </tr>\n",
       "    <tr>\n",
       "      <th>exp</th>\n",
       "      <td>0.989701</td>\n",
       "      <td>1.000000</td>\n",
       "    </tr>\n",
       "  </tbody>\n",
       "</table>\n",
       "</div>"
      ],
      "text/plain": [
       "          age       exp\n",
       "age  1.000000  0.989701\n",
       "exp  0.989701  1.000000"
      ]
     },
     "execution_count": 578,
     "metadata": {},
     "output_type": "execute_result"
    }
   ],
   "source": [
    "work_clean[[\"age\",\"exp\"]].corr()"
   ]
  },
  {
   "cell_type": "markdown",
   "metadata": {},
   "source": [
    "This is a problem, will decide age vs exp to use."
   ]
  },
  {
   "cell_type": "markdown",
   "metadata": {},
   "source": [
    "# 2. Descriptive statistics"
   ]
  },
  {
   "cell_type": "markdown",
   "metadata": {},
   "source": [
    "profile = ProfileReport(work, title=\"CPS-earnings\", explorative=True)\n",
    "\n",
    "profile.to_file(\"cps_report.html\")"
   ]
  },
  {
   "cell_type": "code",
   "execution_count": 579,
   "metadata": {},
   "outputs": [
    {
     "data": {
      "text/plain": [
       "<AxesSubplot:>"
      ]
     },
     "execution_count": 579,
     "metadata": {},
     "output_type": "execute_result"
    },
    {
     "data": {
      "image/png": "[encoded data removed]",
      "text/plain": [
       "<Figure size 432x288 with 1 Axes>"
      ]
     },
     "metadata": {
      "needs_background": "light"
     },
     "output_type": "display_data"
    }
   ],
   "source": [
    "work.w.hist(bins=30)"
   ]
  },
  {
   "cell_type": "code",
   "execution_count": 580,
   "metadata": {},
   "outputs": [],
   "source": [
    "import pandas as pd\n",
    "import seaborn as sns\n",
    "import matplotlib.pyplot as plt\n",
    "from mizani.formatters import percent_format\n",
    "import os\n",
    "from plotnine import *\n",
    "import numpy as np\n",
    "import sys\n",
    "import numpy as np\n",
    "import statsmodels.api as sm\n",
    "import statsmodels.formula.api as smf\n",
    "from stargazer import stargazer\n",
    "from statsmodels.tools.eval_measures import mse,rmse"
   ]
  },
  {
   "cell_type": "code",
   "execution_count": 581,
   "metadata": {},
   "outputs": [],
   "source": [
    "from sklearn.model_selection import KFold\n",
    "k = KFold(n_splits=4, shuffle=False, random_state=None)"
   ]
  },
  {
   "cell_type": "code",
   "execution_count": 582,
   "metadata": {},
   "outputs": [],
   "source": [
    "def cv_reg(formula, data, kfold, robustse=None):\n",
    "    regression_list = []\n",
    "    predicts_on_test = []\n",
    "    rsquared = []\n",
    "    rmse_list = []\n",
    "    rmse_list_test = []\n",
    "    target = formula.split(\"~\")[0].strip()\n",
    "\n",
    "    # Calculating OLS for each fold\n",
    "\n",
    "    for train_index, test_index in k.split(data):\n",
    "        # print(\"TRAIN:\", train_index, \"TEST:\", test_index)\n",
    "        data_train, data_test = data.iloc[train_index, :], data.iloc[test_index, :]\n",
    "        if robustse is None:\n",
    "            model = smf.ols(formula, data=data_train).fit()\n",
    "        else:\n",
    "            model = smf.ols(formula, data=data_train).fit(cov_type=robustse)\n",
    "        regression_list += [model]\n",
    "        predicts_on_test += [model.predict(data_test)]\n",
    "        rsquared += [model.rsquared]\n",
    "\n",
    "        rmse_tr = pd.concat(\n",
    "            [data_train[target], model.predict(data_train)],\n",
    "            axis=1,\n",
    "            keys=[target, \"predicted\"],\n",
    "        )\n",
    "        rmse_tr = rmse_tr[~rmse_tr.isna().any(axis=1)]\n",
    "\n",
    "        rmse_te = pd.concat(\n",
    "            [data_test[target], model.predict(data_test)],\n",
    "            axis=1,\n",
    "            keys=[target, \"predicted\"],\n",
    "        )\n",
    "        rmse_te = rmse_te[~rmse_te.isna().any(axis=1)]\n",
    "\n",
    "        rmse_list += [rmse(rmse_tr[target], rmse_tr[\"predicted\"], axis=0)]\n",
    "        rmse_list_test += [rmse(rmse_te[target], rmse_te[\"predicted\"], axis=0)]\n",
    "    nvars = model.df_model\n",
    "\n",
    "    return {\n",
    "        \"regressions\": regression_list,\n",
    "        \"test_predict\": predicts_on_test,\n",
    "        \"r2\": rsquared,\n",
    "        \"rmse\": rmse_list,\n",
    "        \"rmse_test\": rmse_list_test,\n",
    "        \"nvars\": nvars,\n",
    "    }\n",
    "\n",
    "\n",
    "def summarize_cv(cvlist, stat=\"rmse_test\"):\n",
    "    result = pd.DataFrame(\n",
    "        {\"Model\" + str(x + 1): cvlist[x][stat] for x in range(len(cvlist))}\n",
    "    )\n",
    "    result[\"Resample\"] = [\"Fold\" + str(x + 1) for x in range(len(cvlist[0][\"rmse\"]))]\n",
    "    result = result.set_index(\"Resample\")\n",
    "    result = pd.concat([result, pd.DataFrame(result.mean(), columns=[\"Average\"]).T])\n",
    "    return result"
   ]
  },
  {
   "cell_type": "code",
   "execution_count": 605,
   "metadata": {},
   "outputs": [],
   "source": [
    "target = \"w\"\n",
    "continous = [\"age\", \"agesq\", \"exp\", \"expsq\"]\n",
    "\n",
    "categorical = [\n",
    "    \"sex\",\n",
    "    \"race\",\n",
    "    \"edu\",\n",
    "    \"marital_status\",\n",
    "    \"n_children\",\n",
    "    \"union\",\n",
    "    \"emp_status\",\n",
    "    \"working_class\",\n",
    "    \"occup\",\n",
    "    \"industry\",\n",
    "    \"nonUSborn\",\n",
    "]\n",
    "\n",
    "interactions = \" + (edu + sex + race) * (marital_status  + n_children)\""
   ]
  },
  {
   "cell_type": "code",
   "execution_count": 606,
   "metadata": {},
   "outputs": [],
   "source": [
    "cv1 = cv_reg(target + \"~\" + \"age + agesq\", work_clean, k, \"HC0\")\n",
    "cv2 = cv_reg(target + \"~\" + \"+\".join(continous + categorical), work_clean, k, \"HC0\")\n",
    "cv3 = cv_reg(\n",
    "    target + \"~\" + \"+\".join(continous + categorical) + interactions,\n",
    "    work_clean,\n",
    "    k,\n",
    "    \"HC0\",\n",
    ")\n",
    "cv4 = cv_reg(\n",
    "    target\n",
    "    + \"~\"\n",
    "    + \"+\".join(continous + categorical)\n",
    "    + \"+(\"\n",
    "    + \"+\".join(continous)\n",
    "    + \")*(\"\n",
    "    + \"+\".join(categorical)\n",
    "    + \")\",\n",
    "    work_clean,\n",
    "    k,\n",
    "    \"HC0\",\n",
    ")"
   ]
  },
  {
   "cell_type": "code",
   "execution_count": 607,
   "metadata": {},
   "outputs": [],
   "source": [
    "cv_list = [cv1, cv2, cv3, cv4]\n",
    "avg_rmse = summarize_cv(cv_list)"
   ]
  },
  {
   "cell_type": "code",
   "execution_count": 608,
   "metadata": {},
   "outputs": [],
   "source": [
    "results = pd.DataFrame(\n",
    "    {\n",
    "        \"rmse\": avg_rmse.loc[\"Average\", :],\n",
    "        \"nvars\": [cv1[\"nvars\"], cv2[\"nvars\"], cv3[\"nvars\"], cv4[\"nvars\"]],\n",
    "    }\n",
    ")"
   ]
  },
  {
   "cell_type": "code",
   "execution_count": 609,
   "metadata": {},
   "outputs": [
    {
     "data": {
      "text/plain": [
       "(14.0, 15.4)"
      ]
     },
     "execution_count": 609,
     "metadata": {},
     "output_type": "execute_result"
    },
    {
     "data": {
      "image/png": "[encoded data removed]",
      "text/plain": [
       "<Figure size 432x288 with 1 Axes>"
      ]
     },
     "metadata": {
      "needs_background": "light"
     },
     "output_type": "display_data"
    }
   ],
   "source": [
    "sns.scatterplot(results[\"nvars\"], results[\"rmse\"])\n",
    "plt.ylim(14, 15.4)"
   ]
  },
  {
   "cell_type": "code",
   "execution_count": null,
   "metadata": {},
   "outputs": [],
   "source": []
  },
  {
   "cell_type": "code",
   "execution_count": null,
   "metadata": {},
   "outputs": [],
   "source": []
  },
  {
   "cell_type": "code",
   "execution_count": null,
   "metadata": {},
   "outputs": [],
   "source": []
  }
 ],
 "metadata": {
  "kernelspec": {
   "display_name": "Python 3",
   "language": "python",
   "name": "python3"
  },
  "language_info": {
   "codemirror_mode": {
    "name": "ipython",
    "version": 3
   },
   "file_extension": ".py",
   "mimetype": "text/x-python",
   "name": "python",
   "nbconvert_exporter": "python",
   "pygments_lexer": "ipython3",
   "version": "3.8.6"
  }
 },
 "nbformat": 4,
 "nbformat_minor": 4
}
