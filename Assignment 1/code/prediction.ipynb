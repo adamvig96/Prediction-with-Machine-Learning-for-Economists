{
 "cells": [
  {
   "cell_type": "code",
   "execution_count": 1,
   "metadata": {},
   "outputs": [],
   "source": [
    "import pandas as pd\n",
    "import numpy as np\n",
    "\n",
    "\n",
    "import statsmodels.api as sm\n",
    "import statsmodels.formula.api as smf\n",
    "from statsmodels.tools.eval_measures import mse,rmse\n",
    "\n",
    "from pandas_profiling import ProfileReport\n",
    "\n",
    "from plotnine import *\n",
    "import seaborn as sns\n",
    "import matplotlib.pyplot as plt\n",
    "\n",
    "from sklearn.model_selection import KFold\n",
    "\n",
    "import warnings\n",
    "\n",
    "warnings.filterwarnings(\"ignore\")"
   ]
  },
  {
   "cell_type": "code",
   "execution_count": 128,
   "metadata": {},
   "outputs": [],
   "source": [
    "def cv_reg(formula, data, kfold, robustse=None):\n",
    "    regression_list = []\n",
    "    predicts_on_test = []\n",
    "    rsquared = []\n",
    "    rmse_list = []\n",
    "    rmse_list_test = []\n",
    "    target = formula.split(\"~\")[0].strip()\n",
    "\n",
    "    # Calculating OLS for each fold\n",
    "\n",
    "    for train_index, test_index in k.split(data):\n",
    "        # print(\"TRAIN:\", train_index, \"TEST:\", test_index)\n",
    "        data_train, data_test = data.iloc[train_index, :], data.iloc[test_index, :]\n",
    "\n",
    "        if robustse is None:\n",
    "            model = smf.ols(formula, data=data_train).fit()\n",
    "        else:\n",
    "            model = smf.ols(formula, data=data_train).fit(cov_type=robustse)\n",
    "\n",
    "        regression_list += [model]\n",
    "        predicts_on_test += [model.predict(data_test)]\n",
    "        rsquared += [model.rsquared]\n",
    "\n",
    "        rmse_tr = pd.concat(\n",
    "            [data_train[target], model.predict(data_train)],\n",
    "            axis=1,\n",
    "            keys=[target, \"predicted\"],\n",
    "        )\n",
    "        rmse_tr = rmse_tr[~rmse_tr.isna().any(axis=1)]\n",
    "\n",
    "        rmse_te = pd.concat(\n",
    "            [data_test[target], model.predict(data_test)],\n",
    "            axis=1,\n",
    "            keys=[target, \"predicted\"],\n",
    "        )\n",
    "        rmse_te = rmse_te[~rmse_te.isna().any(axis=1)]\n",
    "\n",
    "        rmse_list += [rmse(rmse_tr[target], rmse_tr[\"predicted\"], axis=0)]\n",
    "        rmse_list_test += [rmse(rmse_te[target], rmse_te[\"predicted\"], axis=0)]\n",
    "    nvars = model.df_model\n",
    "\n",
    "    return {\n",
    "        \"regressions\": regression_list,\n",
    "        \"test_predict\": predicts_on_test,\n",
    "        \"r2\": rsquared,\n",
    "        \"rmse\": rmse_list,\n",
    "        \"rmse_test\": rmse_list_test,\n",
    "        \"nvars\": nvars,\n",
    "    }\n",
    "\n",
    "\n",
    "def summarize_cv(cvlist, stat=\"rmse_test\"):\n",
    "    result = pd.DataFrame(\n",
    "        {\"Model\" + str(x + 1): cvlist[x][stat] for x in range(len(cvlist))}\n",
    "    )\n",
    "    result[\"Resample\"] = [\n",
    "        \"Fold\" + str(x + 1) + \" rmse on test\" for x in range(len(cvlist[0][\"rmse\"]))\n",
    "    ]\n",
    "    result = result.set_index(\"Resample\")\n",
    "    result = pd.concat(\n",
    "        [result, pd.DataFrame(result.mean(), columns=[\"Average RMSE on test\"]).T]\n",
    "    )\n",
    "    return result"
   ]
  },
  {
   "cell_type": "code",
   "execution_count": 2,
   "metadata": {},
   "outputs": [],
   "source": [
    "data = pd.read_csv(\"../data/cps-earnings/clean/morg-2014-emp.csv\",index_col = 0)"
   ]
  },
  {
   "cell_type": "code",
   "execution_count": 3,
   "metadata": {},
   "outputs": [
    {
     "data": {
      "text/plain": [
       "Index(['hhid', 'intmonth', 'stfips', 'weight', 'earnwke', 'uhours', 'grade92',\n",
       "       'race', 'ethnic', 'age', 'sex', 'marital', 'ownchild', 'chldpres',\n",
       "       'prcitshp', 'state', 'ind02', 'occ2012', 'class', 'unionmme',\n",
       "       'unioncov', 'lfsr94'],\n",
       "      dtype='object')"
      ]
     },
     "execution_count": 3,
     "metadata": {},
     "output_type": "execute_result"
    }
   ],
   "source": [
    "data.columns"
   ]
  },
  {
   "cell_type": "markdown",
   "metadata": {},
   "source": [
    " Selecting:\n",
    " - Computer programmers 1010\n",
    " - Software developers, applications and systems software 1020\n",
    " - Web developers 1030"
   ]
  },
  {
   "cell_type": "code",
   "execution_count": 266,
   "metadata": {},
   "outputs": [],
   "source": [
    "work = data.loc[lambda x: x[\"occ2012\"].isin([1010,1020,1030])]"
   ]
  },
  {
   "cell_type": "markdown",
   "metadata": {},
   "source": [
    "Dropping household id and month of questionary and weight - for sure I dont need these variables"
   ]
  },
  {
   "cell_type": "code",
   "execution_count": 267,
   "metadata": {},
   "outputs": [],
   "source": [
    "work = work.drop([\"hhid\",\"intmonth\",\"weight\"],axis=1)"
   ]
  },
  {
   "cell_type": "code",
   "execution_count": 268,
   "metadata": {},
   "outputs": [
    {
     "data": {
      "text/plain": [
       "stfips         0\n",
       "earnwke        0\n",
       "uhours         0\n",
       "grade92        0\n",
       "race           0\n",
       "ethnic      1977\n",
       "age            0\n",
       "sex            0\n",
       "marital        0\n",
       "ownchild       0\n",
       "chldpres       0\n",
       "prcitshp       0\n",
       "state          0\n",
       "ind02          0\n",
       "occ2012        0\n",
       "class          0\n",
       "unionmme       0\n",
       "unioncov      55\n",
       "lfsr94         0\n",
       "dtype: int64"
      ]
     },
     "execution_count": 268,
     "metadata": {},
     "output_type": "execute_result"
    }
   ],
   "source": [
    "work.isnull().sum()"
   ]
  },
  {
   "cell_type": "markdown",
   "metadata": {},
   "source": [
    "# Feature engineering"
   ]
  },
  {
   "cell_type": "markdown",
   "metadata": {},
   "source": [
    "## Target variable"
   ]
  },
  {
   "cell_type": "code",
   "execution_count": 269,
   "metadata": {},
   "outputs": [],
   "source": [
    "work[\"w\"] = work[\"earnwke\"] / work[\"uhours\"]\n",
    "work[\"lnw\"] = np.log(work[\"w\"])"
   ]
  },
  {
   "cell_type": "markdown",
   "metadata": {},
   "source": [
    "## Continous variables"
   ]
  },
  {
   "cell_type": "markdown",
   "metadata": {},
   "source": [
    "### 1. age"
   ]
  },
  {
   "cell_type": "code",
   "execution_count": 270,
   "metadata": {},
   "outputs": [],
   "source": [
    "work[\"agesq\"] = np.power(work[\"age\"], 2)"
   ]
  },
  {
   "cell_type": "markdown",
   "metadata": {},
   "source": [
    "### 2. education"
   ]
  },
  {
   "cell_type": "markdown",
   "metadata": {},
   "source": [
    "Calculate years spend in education to get experience later"
   ]
  },
  {
   "cell_type": "code",
   "execution_count": 271,
   "metadata": {},
   "outputs": [],
   "source": [
    "work[\"edu\"] = work[\"grade92\"]"
   ]
  },
  {
   "cell_type": "code",
   "execution_count": 272,
   "metadata": {},
   "outputs": [
    {
     "data": {
      "text/plain": [
       "36       1\n",
       "37       2\n",
       "38       2\n",
       "39      71\n",
       "40     184\n",
       "41      60\n",
       "42      98\n",
       "43    1098\n",
       "44     505\n",
       "45       9\n",
       "46      37\n",
       "Name: edu, dtype: int64"
      ]
     },
     "execution_count": 272,
     "metadata": {},
     "output_type": "execute_result"
    }
   ],
   "source": [
    "work[\"edu\"].value_counts().sort_index()"
   ]
  },
  {
   "cell_type": "code",
   "execution_count": 273,
   "metadata": {},
   "outputs": [],
   "source": [
    "work[\"years_in_edu\"] = work[\"edu\"].map(\n",
    "    {\n",
    "        36: 10,\n",
    "        37: 11,\n",
    "        38: 12,\n",
    "        39: 12,\n",
    "        40: 13,\n",
    "        41: 15,\n",
    "        42: 15,\n",
    "        43: 15,\n",
    "        44: 17,\n",
    "        45: 17,\n",
    "        46: 22,\n",
    "    }\n",
    ")"
   ]
  },
  {
   "cell_type": "markdown",
   "metadata": {},
   "source": [
    "## Categorical variables"
   ]
  },
  {
   "cell_type": "markdown",
   "metadata": {},
   "source": [
    "### 0. create categorical from education"
   ]
  },
  {
   "cell_type": "code",
   "execution_count": 274,
   "metadata": {},
   "outputs": [],
   "source": [
    "work[\"edu\"] = np.where(\n",
    "    work[\"edu\"] < 43,\n",
    "    \"no degree\",\n",
    "    np.where(\n",
    "        work[\"edu\"] == 43,\n",
    "        \"BA degree\",\n",
    "        np.where((work[\"edu\"] == 44) | (work[\"edu\"] == 45), \"MA degree\", \"Phd degree\"),\n",
    "    ),\n",
    ")"
   ]
  },
  {
   "cell_type": "code",
   "execution_count": 275,
   "metadata": {},
   "outputs": [
    {
     "data": {
      "text/plain": [
       "BA degree     1098\n",
       "MA degree      514\n",
       "no degree      418\n",
       "Phd degree      37\n",
       "Name: edu, dtype: int64"
      ]
     },
     "execution_count": 275,
     "metadata": {},
     "output_type": "execute_result"
    }
   ],
   "source": [
    "work[\"edu\"].value_counts()"
   ]
  },
  {
   "cell_type": "markdown",
   "metadata": {},
   "source": [
    "### 1. race"
   ]
  },
  {
   "cell_type": "code",
   "execution_count": 276,
   "metadata": {},
   "outputs": [
    {
     "data": {
      "text/plain": [
       "1     1443\n",
       "4      487\n",
       "2       97\n",
       "8       16\n",
       "3        8\n",
       "5        6\n",
       "7        5\n",
       "6        2\n",
       "11       1\n",
       "13       1\n",
       "17       1\n",
       "Name: race, dtype: int64"
      ]
     },
     "execution_count": 276,
     "metadata": {},
     "output_type": "execute_result"
    }
   ],
   "source": [
    "work.race.value_counts()"
   ]
  },
  {
   "cell_type": "markdown",
   "metadata": {},
   "source": [
    "I decode race based on pdf as: 1:\"white\" 2:\"black\" 4:\"asian\" else:\"other\""
   ]
  },
  {
   "cell_type": "code",
   "execution_count": 277,
   "metadata": {},
   "outputs": [],
   "source": [
    "work[\"race\"] = np.where(\n",
    "    work[\"race\"] == 1,\n",
    "    \"white\",\n",
    "    np.where(\n",
    "        work[\"race\"] == 2,\n",
    "        \"black\",\n",
    "        np.where(work[\"race\"] == 4, \"asian\", \"other\"),\n",
    "    ),\n",
    ")"
   ]
  },
  {
   "cell_type": "markdown",
   "metadata": {},
   "source": [
    "### 2. gender"
   ]
  },
  {
   "cell_type": "code",
   "execution_count": 278,
   "metadata": {},
   "outputs": [],
   "source": [
    "work[\"sex\"] = work.sex.map({1:\"male\",2:\"female\"})"
   ]
  },
  {
   "cell_type": "markdown",
   "metadata": {},
   "source": [
    "### 3. marital"
   ]
  },
  {
   "cell_type": "code",
   "execution_count": 279,
   "metadata": {},
   "outputs": [
    {
     "data": {
      "text/plain": [
       "1    1306\n",
       "2       4\n",
       "3      35\n",
       "4      13\n",
       "5     133\n",
       "6      24\n",
       "7     552\n",
       "Name: marital, dtype: int64"
      ]
     },
     "execution_count": 279,
     "metadata": {},
     "output_type": "execute_result"
    }
   ],
   "source": [
    "work.marital.value_counts().sort_index()"
   ]
  },
  {
   "cell_type": "code",
   "execution_count": 280,
   "metadata": {},
   "outputs": [],
   "source": [
    "work[\"marital_status\"] = np.where(\n",
    "    work[\"marital\"].isin([1, 2, 3]),\n",
    "    \"married\",\n",
    "    np.where(work[\"marital\"].isin([4, 5, 6]), \"used to be married\", \"never married\"),\n",
    ")"
   ]
  },
  {
   "cell_type": "markdown",
   "metadata": {},
   "source": [
    "### 4. union"
   ]
  },
  {
   "cell_type": "code",
   "execution_count": 281,
   "metadata": {},
   "outputs": [],
   "source": [
    "work[\"union\"] = ((work[\"unionmme\"] == \"Yes\") | (work[\"unioncov\"] == \"Yes\")).astype(int)"
   ]
  },
  {
   "cell_type": "markdown",
   "metadata": {},
   "source": [
    "### 5. children"
   ]
  },
  {
   "cell_type": "code",
   "execution_count": 282,
   "metadata": {},
   "outputs": [
    {
     "data": {
      "text/plain": [
       "0    1236\n",
       "1     344\n",
       "2     367\n",
       "3      97\n",
       "4      14\n",
       "5       4\n",
       "6       3\n",
       "7       1\n",
       "9       1\n",
       "Name: ownchild, dtype: int64"
      ]
     },
     "execution_count": 282,
     "metadata": {},
     "output_type": "execute_result"
    }
   ],
   "source": [
    "work.ownchild.value_counts().sort_index()"
   ]
  },
  {
   "cell_type": "code",
   "execution_count": 283,
   "metadata": {},
   "outputs": [],
   "source": [
    "work[\"n_children\"] = np.where(work[\"ownchild\"]>=3,\"3>=\",work[\"ownchild\"].astype(\"str\"))"
   ]
  },
  {
   "cell_type": "markdown",
   "metadata": {},
   "source": [
    "### 6. employment status"
   ]
  },
  {
   "cell_type": "code",
   "execution_count": 284,
   "metadata": {},
   "outputs": [
    {
     "data": {
      "text/plain": [
       "Employed-At Work    2023\n",
       "Employed-Absent       44\n",
       "Name: emp_status, dtype: int64"
      ]
     },
     "execution_count": 284,
     "metadata": {},
     "output_type": "execute_result"
    }
   ],
   "source": [
    "work[\"emp_status\"] = work.lfsr94\n",
    "\n",
    "work.emp_status.value_counts()"
   ]
  },
  {
   "cell_type": "markdown",
   "metadata": {},
   "source": [
    "### 7. class"
   ]
  },
  {
   "cell_type": "code",
   "execution_count": 285,
   "metadata": {},
   "outputs": [
    {
     "data": {
      "text/plain": [
       "Private, For Profit     1796\n",
       "Private, Nonprofit        92\n",
       "Government - Federal      81\n",
       "Government - State        74\n",
       "Government - Local        24\n",
       "Name: working_class, dtype: int64"
      ]
     },
     "execution_count": 285,
     "metadata": {},
     "output_type": "execute_result"
    }
   ],
   "source": [
    "work[\"working_class\"] = work[\"class\"]\n",
    "work[\"working_class\"].value_counts()"
   ]
  },
  {
   "cell_type": "markdown",
   "metadata": {},
   "source": [
    "### 8. occupation"
   ]
  },
  {
   "cell_type": "code",
   "execution_count": 286,
   "metadata": {},
   "outputs": [
    {
     "data": {
      "text/plain": [
       "1020    1335\n",
       "1010     516\n",
       "1030     216\n",
       "Name: occup, dtype: int64"
      ]
     },
     "execution_count": 286,
     "metadata": {},
     "output_type": "execute_result"
    }
   ],
   "source": [
    "work[\"occup\"] = work[\"occ2012\"]\n",
    "work[\"occup\"].value_counts()"
   ]
  },
  {
   "cell_type": "markdown",
   "metadata": {},
   "source": [
    "### 9. industry"
   ]
  },
  {
   "cell_type": "code",
   "execution_count": 291,
   "metadata": {},
   "outputs": [
    {
     "data": {
      "text/plain": [
       "Computer systems design and related services (5415)                                    727\n",
       "Insurance carriers and related activities (524)                                         93\n",
       "Colleges and universities, including junior colleges (6112, 6113)                       71\n",
       "Management, scientific, and technical consulting services (5416)                        53\n",
       "Electronic component and product manufacturing, n.e.c. (3344, 3346)                     53\n",
       "Architectural, engineering, and related services (5413)                                 48\n",
       "Banking and related activities (521, 52211,52219)                                       46\n",
       "Hospitals (622)                                                                         42\n",
       "3365                                                                                    38\n",
       "Securities, commodities, funds, trusts, and other financial investments (523, 525)      37\n",
       "National security and international affairs (928)                                       33\n",
       "Software publishing (5112)                                                              33\n",
       "4795                                                                                    30\n",
       "Other telecommunications services (*517 exc. 5171, 5175)                                28\n",
       "Non-depository credit and related activities (5222, 5223)                               28\n",
       "Advertising and related services (5418)                                                 26\n",
       "Wired telecommunications carriers (*5171)                                               26\n",
       "Aerospace products and parts manufacturing (336414, 336415, 336419)                     25\n",
       "** Professional and commercial equipment and supplies, merchant wholesalers (*4234)     21\n",
       "Scientific research and development services (5417)                                     18\n",
       "Name: ind02, dtype: int64"
      ]
     },
     "execution_count": 291,
     "metadata": {},
     "output_type": "execute_result"
    }
   ],
   "source": [
    "work[\"ind02\"].value_counts().head(20)"
   ]
  },
  {
   "cell_type": "code",
   "execution_count": 287,
   "metadata": {},
   "outputs": [
    {
     "data": {
      "text/plain": [
       "Other                      1340\n",
       "Computer systems design     727\n",
       "Name: industry, dtype: int64"
      ]
     },
     "execution_count": 287,
     "metadata": {},
     "output_type": "execute_result"
    }
   ],
   "source": [
    "work[\"industry\"] = work[\"ind02\"]\n",
    "\n",
    "work[\"industry\"] = np.where(\n",
    "    work[\"industry\"] == \"Computer systems design and related services (5415)\",\n",
    "    \"Computer systems design\",\n",
    "    \"Other\",\n",
    ")\n",
    "\n",
    "work[\"industry\"].value_counts()"
   ]
  },
  {
   "cell_type": "markdown",
   "metadata": {},
   "source": [
    "### 10. state\n",
    "\n",
    "Lof of states, probably won't use it."
   ]
  },
  {
   "cell_type": "code",
   "execution_count": 65,
   "metadata": {},
   "outputs": [],
   "source": [
    "work[\"state\"] = work[\"stfips\"]"
   ]
  },
  {
   "cell_type": "markdown",
   "metadata": {},
   "source": [
    "### 11. non-USborn"
   ]
  },
  {
   "cell_type": "code",
   "execution_count": 66,
   "metadata": {},
   "outputs": [
    {
     "data": {
      "text/plain": [
       "Native, Born In US                        1445\n",
       "Foreign Born, Not a US Citizen             323\n",
       "Foreign Born, US Cit By Naturalization     263\n",
       "Native, Born Abroad Of US Parent(s)         29\n",
       "Native, Born in PR or US Outlying Area       7\n",
       "Name: prcitshp, dtype: int64"
      ]
     },
     "execution_count": 66,
     "metadata": {},
     "output_type": "execute_result"
    }
   ],
   "source": [
    "work.prcitshp.value_counts()"
   ]
  },
  {
   "cell_type": "code",
   "execution_count": 67,
   "metadata": {},
   "outputs": [],
   "source": [
    "work[\"nonUSborn\"] = (\n",
    "    (work[\"prcitshp\"] == \"Foreign Born, US Cit By Naturalization\")\n",
    "    | (work[\"prcitshp\"] == \"Foreign Born, Not a US Citizen\")\n",
    ").astype(int)"
   ]
  },
  {
   "cell_type": "code",
   "execution_count": 68,
   "metadata": {},
   "outputs": [],
   "source": [
    "data_clean = work.filter(\n",
    "    [\n",
    "        \"w\",\n",
    "        \"lnw\",\n",
    "        \"age\",\n",
    "        \"agesq\",\n",
    "        \"exp\",\n",
    "        \"expsq\",\n",
    "        \"sex\",\n",
    "        \"race\",\n",
    "        \"edu\",\n",
    "        \"years_in_edu\",\n",
    "        \"marital_status\",\n",
    "        \"n_children\",\n",
    "        \"union\",\n",
    "        \"emp_status\",\n",
    "        \"working_class\",\n",
    "        \"occup\",\n",
    "        \"industry\",\n",
    "        \"nonUSborn\",\n",
    "    ]\n",
    ")"
   ]
  },
  {
   "cell_type": "markdown",
   "metadata": {},
   "source": [
    "### + addigional features"
   ]
  },
  {
   "cell_type": "markdown",
   "metadata": {},
   "source": [
    "### experience\n",
    "\n"
   ]
  },
  {
   "cell_type": "code",
   "execution_count": 69,
   "metadata": {},
   "outputs": [],
   "source": [
    "data_clean[\"exp\"] = data_clean[\"age\"] - data_clean[\"years_in_edu\"] - 6\n",
    "data_clean[\"expsq\"] = data_clean[\"exp\"]**2"
   ]
  },
  {
   "cell_type": "code",
   "execution_count": 70,
   "metadata": {},
   "outputs": [
    {
     "data": {
      "text/html": [
       "<div>\n",
       "<style scoped>\n",
       "    .dataframe tbody tr th:only-of-type {\n",
       "        vertical-align: middle;\n",
       "    }\n",
       "\n",
       "    .dataframe tbody tr th {\n",
       "        vertical-align: top;\n",
       "    }\n",
       "\n",
       "    .dataframe thead th {\n",
       "        text-align: right;\n",
       "    }\n",
       "</style>\n",
       "<table border=\"1\" class=\"dataframe\">\n",
       "  <thead>\n",
       "    <tr style=\"text-align: right;\">\n",
       "      <th></th>\n",
       "      <th>age</th>\n",
       "      <th>exp</th>\n",
       "    </tr>\n",
       "  </thead>\n",
       "  <tbody>\n",
       "    <tr>\n",
       "      <th>age</th>\n",
       "      <td>1.000000</td>\n",
       "      <td>0.989701</td>\n",
       "    </tr>\n",
       "    <tr>\n",
       "      <th>exp</th>\n",
       "      <td>0.989701</td>\n",
       "      <td>1.000000</td>\n",
       "    </tr>\n",
       "  </tbody>\n",
       "</table>\n",
       "</div>"
      ],
      "text/plain": [
       "          age       exp\n",
       "age  1.000000  0.989701\n",
       "exp  0.989701  1.000000"
      ]
     },
     "execution_count": 70,
     "metadata": {},
     "output_type": "execute_result"
    }
   ],
   "source": [
    "data_clean[[\"age\",\"exp\"]].corr()"
   ]
  },
  {
   "cell_type": "markdown",
   "metadata": {},
   "source": [
    "This might be a problem, will decide age vs exp to use."
   ]
  },
  {
   "cell_type": "markdown",
   "metadata": {},
   "source": [
    "## Descriptive statistics"
   ]
  },
  {
   "cell_type": "markdown",
   "metadata": {},
   "source": [
    "profile = ProfileReport(work, title=\"CPS-earnings\", explorative=True)\n",
    "\n",
    "profile.to_file(\"cps_report.html\")"
   ]
  },
  {
   "cell_type": "code",
   "execution_count": 71,
   "metadata": {},
   "outputs": [
    {
     "data": {
      "text/plain": [
       "<AxesSubplot:>"
      ]
     },
     "execution_count": 71,
     "metadata": {},
     "output_type": "execute_result"
    },
    {
     "data": {
      "image/png": "[encoded data removed]",
      "text/plain": [
       "<Figure size 432x288 with 1 Axes>"
      ]
     },
     "metadata": {
      "needs_background": "light"
     },
     "output_type": "display_data"
    }
   ],
   "source": [
    "data_clean.w.hist(bins=30)"
   ]
  },
  {
   "cell_type": "markdown",
   "metadata": {},
   "source": [
    "## Model estimation"
   ]
  },
  {
   "cell_type": "markdown",
   "metadata": {},
   "source": [
    "variable types"
   ]
  },
  {
   "cell_type": "code",
   "execution_count": 249,
   "metadata": {},
   "outputs": [],
   "source": [
    "target = \"w\"\n",
    "continous = [\"age\", \"agesq\", \"exp\", \"expsq\"]\n",
    "\n",
    "categorical = [\n",
    "    \"sex\",\n",
    "    \"race\",\n",
    "    \"edu\",\n",
    "    \"marital_status\",\n",
    "    \"n_children\",\n",
    "    \"union\",\n",
    "    \"emp_status\",\n",
    "    \"working_class\",\n",
    "    \"occup\",\n",
    "    \"industry\",\n",
    "    \"nonUSborn\",\n",
    "]\n",
    "\n",
    "suggested_interactions = \" + (edu + sex + race) * (marital_status  + n_children)\""
   ]
  },
  {
   "cell_type": "markdown",
   "metadata": {},
   "source": [
    " equations to estimate"
   ]
  },
  {
   "cell_type": "code",
   "execution_count": 250,
   "metadata": {},
   "outputs": [],
   "source": [
    "model1 = target + \"~\" + \"age + agesq\"\n",
    "model2 = target + \"~\" + \"+\".join(continous + categorical)\n",
    "model3 = target + \"~\" + \"+\".join(continous + categorical) + suggested_interactions\n",
    "model4 = (\n",
    "    target\n",
    "    + \"~\"\n",
    "    + \"+\".join(continous + categorical)\n",
    "    + \"+(\"\n",
    "    + \"+\".join(continous)\n",
    "    + \")*(\"\n",
    "    + \"+\".join(categorical)\n",
    "    + \")\"\n",
    ")\n",
    "\n",
    "models = [model1, model2, model3, model4]"
   ]
  },
  {
   "cell_type": "markdown",
   "metadata": {},
   "source": [
    "fit models on full sample"
   ]
  },
  {
   "cell_type": "code",
   "execution_count": 252,
   "metadata": {},
   "outputs": [],
   "source": [
    "model_fits = [smf.ols(model, data_clean).fit() for model in models]"
   ]
  },
  {
   "cell_type": "markdown",
   "metadata": {},
   "source": [
    "## Results"
   ]
  },
  {
   "cell_type": "markdown",
   "metadata": {},
   "source": [
    "get BIC"
   ]
  },
  {
   "cell_type": "code",
   "execution_count": 254,
   "metadata": {},
   "outputs": [],
   "source": [
    "model_bics = [model_fit.bic for model_fit in model_fits]"
   ]
  },
  {
   "cell_type": "markdown",
   "metadata": {},
   "source": [
    "get RMSE on full sample"
   ]
  },
  {
   "cell_type": "code",
   "execution_count": 255,
   "metadata": {},
   "outputs": [],
   "source": [
    "model_rmses = [\n",
    "    rmse(model_fit.predict(data_clean), work_clean[target]) for model_fit in model_fits\n",
    "]"
   ]
  },
  {
   "cell_type": "markdown",
   "metadata": {},
   "source": [
    "do cross validation and get test set average RMSE-s"
   ]
  },
  {
   "cell_type": "code",
   "execution_count": 261,
   "metadata": {},
   "outputs": [],
   "source": [
    "k = KFold(n_splits=4, shuffle=False, random_state=42)\n",
    "\n",
    "cv_list = [cv_reg(model, data_clean, k) for model in models]\n",
    "avg_rmse = summarize_cv(cv_list)"
   ]
  },
  {
   "cell_type": "markdown",
   "metadata": {},
   "source": [
    " display results in a table"
   ]
  },
  {
   "cell_type": "code",
   "execution_count": 262,
   "metadata": {},
   "outputs": [
    {
     "data": {
      "text/html": [
       "<div>\n",
       "<style scoped>\n",
       "    .dataframe tbody tr th:only-of-type {\n",
       "        vertical-align: middle;\n",
       "    }\n",
       "\n",
       "    .dataframe tbody tr th {\n",
       "        vertical-align: top;\n",
       "    }\n",
       "\n",
       "    .dataframe thead th {\n",
       "        text-align: right;\n",
       "    }\n",
       "</style>\n",
       "<table border=\"1\" class=\"dataframe\">\n",
       "  <thead>\n",
       "    <tr style=\"text-align: right;\">\n",
       "      <th></th>\n",
       "      <th>Model1</th>\n",
       "      <th>Model2</th>\n",
       "      <th>Model3</th>\n",
       "      <th>Model4</th>\n",
       "    </tr>\n",
       "  </thead>\n",
       "  <tbody>\n",
       "    <tr>\n",
       "      <th>BIC on full sample</th>\n",
       "      <td>17064.73</td>\n",
       "      <td>16973.20</td>\n",
       "      <td>17182.42</td>\n",
       "      <td>17483.29</td>\n",
       "    </tr>\n",
       "    <tr>\n",
       "      <th>RMSE on full sample</th>\n",
       "      <td>14.93</td>\n",
       "      <td>14.00</td>\n",
       "      <td>13.83</td>\n",
       "      <td>13.71</td>\n",
       "    </tr>\n",
       "    <tr>\n",
       "      <th>Fold1 rmse on test</th>\n",
       "      <td>14.93</td>\n",
       "      <td>14.03</td>\n",
       "      <td>14.29</td>\n",
       "      <td>14.32</td>\n",
       "    </tr>\n",
       "    <tr>\n",
       "      <th>Fold2 rmse on test</th>\n",
       "      <td>14.74</td>\n",
       "      <td>14.24</td>\n",
       "      <td>14.43</td>\n",
       "      <td>15.01</td>\n",
       "    </tr>\n",
       "    <tr>\n",
       "      <th>Fold3 rmse on test</th>\n",
       "      <td>14.99</td>\n",
       "      <td>14.30</td>\n",
       "      <td>14.45</td>\n",
       "      <td>14.62</td>\n",
       "    </tr>\n",
       "    <tr>\n",
       "      <th>Fold4 rmse on test</th>\n",
       "      <td>15.24</td>\n",
       "      <td>14.21</td>\n",
       "      <td>14.31</td>\n",
       "      <td>14.53</td>\n",
       "    </tr>\n",
       "    <tr>\n",
       "      <th>Average RMSE on test</th>\n",
       "      <td>14.97</td>\n",
       "      <td>14.20</td>\n",
       "      <td>14.37</td>\n",
       "      <td>14.62</td>\n",
       "    </tr>\n",
       "  </tbody>\n",
       "</table>\n",
       "</div>"
      ],
      "text/plain": [
       "                        Model1    Model2    Model3    Model4\n",
       "BIC on full sample    17064.73  16973.20  17182.42  17483.29\n",
       "RMSE on full sample      14.93     14.00     13.83     13.71\n",
       "Fold1 rmse on test       14.93     14.03     14.29     14.32\n",
       "Fold2 rmse on test       14.74     14.24     14.43     15.01\n",
       "Fold3 rmse on test       14.99     14.30     14.45     14.62\n",
       "Fold4 rmse on test       15.24     14.21     14.31     14.53\n",
       "Average RMSE on test     14.97     14.20     14.37     14.62"
      ]
     },
     "execution_count": 262,
     "metadata": {},
     "output_type": "execute_result"
    }
   ],
   "source": [
    "results = pd.concat(\n",
    "    [\n",
    "        pd.DataFrame(\n",
    "            data=[model_bics, model_rmses],\n",
    "            columns=[\"Model1\", \"Model2\", \"Model3\", \"Model4\"],\n",
    "        ).rename({1: \"RMSE on full sample\", 0: \"BIC on full sample\"}, axis=0),\n",
    "        avg_rmse,\n",
    "    ]\n",
    ").round(2)\n",
    "results"
   ]
  },
  {
   "cell_type": "markdown",
   "metadata": {},
   "source": [
    " plot relationship of model complexity and model performance"
   ]
  },
  {
   "cell_type": "code",
   "execution_count": 263,
   "metadata": {},
   "outputs": [
    {
     "data": {
      "image/png": "[encoded data removed]",
      "text/plain": [
       "<Figure size 576x360 with 1 Axes>"
      ]
     },
     "metadata": {
      "needs_background": "light"
     },
     "output_type": "display_data"
    }
   ],
   "source": [
    "plot_results = pd.DataFrame(\n",
    "    {\n",
    "        \"Average RMSE on cross validated test sets\": results.loc[\n",
    "            \"Average RMSE on test\", :\n",
    "        ],\n",
    "        \"RMSE on full sample\": results.loc[\"RMSE on full sample\", :],\n",
    "        \"Number of variables\": [\n",
    "            cv_list[0][\"nvars\"],\n",
    "            cv_list[1][\"nvars\"],\n",
    "            cv_list[2][\"nvars\"],\n",
    "            cv_list[3][\"nvars\"],\n",
    "        ],\n",
    "    }\n",
    ").melt(\n",
    "    value_vars=[\"Average RMSE on cross validated test sets\", \"RMSE on full sample\"],\n",
    "    id_vars=[\"Number of variables\"],\n",
    ")\n",
    "\n",
    "plt.rcParams[\"figure.figsize\"] = (8, 5)\n",
    "sns.scatterplot(x=\"Number of variables\", y=\"value\", hue=\"variable\", data=plot_results)\n",
    "plt.legend(title=None)\n",
    "plt.ylabel(\"RMSE\")\n",
    "plt.ylim(13, 16)\n",
    "plt.xlim(-5, 120)\n",
    "plt.title(\"Model complexity vs model performance\")\n",
    "plt.show()"
   ]
  },
  {
   "cell_type": "code",
   "execution_count": null,
   "metadata": {},
   "outputs": [],
   "source": []
  },
  {
   "cell_type": "code",
   "execution_count": null,
   "metadata": {},
   "outputs": [],
   "source": []
  }
 ],
 "metadata": {
  "kernelspec": {
   "display_name": "Python 3",
   "language": "python",
   "name": "python3"
  },
  "language_info": {
   "codemirror_mode": {
    "name": "ipython",
    "version": 3
   },
   "file_extension": ".py",
   "mimetype": "text/x-python",
   "name": "python",
   "nbconvert_exporter": "python",
   "pygments_lexer": "ipython3",
   "version": "3.8.6"
  }
 },
 "nbformat": 4,
 "nbformat_minor": 4
}
