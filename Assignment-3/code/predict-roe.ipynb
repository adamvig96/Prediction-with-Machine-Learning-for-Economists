{
 "cells": [
  {
   "cell_type": "markdown",
   "metadata": {},
   "source": [
    "# Predicting firm growth\n",
    "# B) Prediction with ROE as target\n",
    "## Prediction with machine learning for economist assignment 3\n"
   ]
  },
  {
   "cell_type": "markdown",
   "metadata": {},
   "source": [
    "# 1. Preparations"
   ]
  },
  {
   "cell_type": "code",
   "execution_count": 1,
   "metadata": {},
   "outputs": [],
   "source": [
    "import os\n",
    "import pandas as pd\n",
    "import numpy as np\n",
    "import sys\n",
    "import patsy\n",
    "import statsmodels.api as sm\n",
    "from sklearn.linear_model import (\n",
    "    LinearRegression,\n",
    "    LogisticRegression,\n",
    "    LogisticRegressionCV,\n",
    ")\n",
    "from sklearn.model_selection import train_test_split, GridSearchCV, KFold\n",
    "import sklearn.metrics as metrics\n",
    "from sklearn.metrics import (\n",
    "    brier_score_loss,\n",
    "    roc_curve,\n",
    "    auc,\n",
    "    confusion_matrix,\n",
    "    roc_auc_score,\n",
    "    mean_squared_error,\n",
    ")\n",
    "from sklearn.ensemble import RandomForestClassifier\n",
    "from plotnine import *\n",
    "import matplotlib.pyplot as plt\n",
    "from sklearn.model_selection import train_test_split\n",
    "from sklearn.preprocessing import StandardScaler\n",
    "\n",
    "import warnings\n",
    "\n",
    "warnings.filterwarnings(\"ignore\")"
   ]
  },
  {
   "cell_type": "code",
   "execution_count": 2,
   "metadata": {},
   "outputs": [],
   "source": [
    "# Import the prewritten helper functions\n",
    "from py_helper_functions import *"
   ]
  },
  {
   "cell_type": "markdown",
   "metadata": {},
   "source": [
    "## 1.1. Import data"
   ]
  },
  {
   "cell_type": "code",
   "execution_count": 3,
   "metadata": {},
   "outputs": [],
   "source": [
    "data = pd.read_csv(\"../data/clean/bisnode_firms_clean.csv\")"
   ]
  },
  {
   "cell_type": "code",
   "execution_count": 4,
   "metadata": {},
   "outputs": [
    {
     "data": {
      "text/plain": [
       "array([2011])"
      ]
     },
     "execution_count": 4,
     "metadata": {},
     "output_type": "execute_result"
    }
   ],
   "source": [
    "data.year.unique()"
   ]
  },
  {
   "cell_type": "markdown",
   "metadata": {},
   "source": [
    "# 1.2. Define helper functions"
   ]
  },
  {
   "cell_type": "code",
   "execution_count": 5,
   "metadata": {},
   "outputs": [],
   "source": [
    "def regression_results(y_true, y_pred):\n",
    "\n",
    "    # Regression metrics\n",
    "    explained_variance = metrics.explained_variance_score(y_true, y_pred)\n",
    "    mean_absolute_error = metrics.mean_absolute_error(y_true, y_pred)\n",
    "    mse = metrics.mean_squared_error(y_true, y_pred)\n",
    "    median_absolute_error = metrics.median_absolute_error(y_true, y_pred)\n",
    "    r2 = metrics.r2_score(y_true, y_pred)\n",
    "\n",
    "    print(\"explained_variance: \", round(explained_variance, 4))\n",
    "    print(\"r2: \", round(r2, 4))\n",
    "    print(\"MAE: \", round(mean_absolute_error, 4))\n",
    "    print(\"MSE: \", round(mse, 4))\n",
    "    print(\"RMSE: \", round(np.sqrt(mse), 4))\n",
    "\n",
    "\n",
    "def coef_matrix(X, model):\n",
    "\n",
    "    coef_matrix = pd.concat(\n",
    "        [pd.DataFrame(X.columns), pd.DataFrame(np.transpose(model.coef_))], axis=1\n",
    "    )\n",
    "    coef_matrix.columns = [\"variable\", \"coefficient\"]\n",
    "    coef_matrix = coef_matrix.append(\n",
    "        {\"variable\": \"Intercept\", \"coefficient\": np.asscalar(model.intercept_)},\n",
    "        ignore_index=True,\n",
    "    )\n",
    "    return coef_matrix\n",
    "\n",
    "\n",
    "def cv_summary(lambdas, C_values, model):\n",
    "    d = {\n",
    "        \"lambdas\": lambdas,\n",
    "        \"C_values\": C_values,\n",
    "        \"mean_cv_score\": model.scores_[1].mean(axis=0),\n",
    "    }\n",
    "    return pd.DataFrame(data=d)\n",
    "\n",
    "\n",
    "def create_roc_plot(y_true, y_pred):\n",
    "    fpr, tpr, thresholds = roc_curve(y_true, y_pred)\n",
    "    all_coords = pd.DataFrame({\"fpr\": fpr, \"tpr\": tpr, \"thresholds\": thresholds})\n",
    "\n",
    "    plot = (\n",
    "        ggplot(all_coords, aes(x=\"fpr\", y=\"tpr\"))\n",
    "        + geom_line(color=color[0], size=0.7)\n",
    "        + geom_area(position=\"identity\", fill=\"mediumaquamarine\", alpha=0.3)\n",
    "        + xlab(\"False Positive Rate (1-Specifity)\")\n",
    "        + ylab(\"True Positive Rate (Sensitivity)\")\n",
    "        + geom_abline(intercept=0, slope=1, linetype=\"dotted\", color=\"black\")\n",
    "        + scale_y_continuous(limits=(0, 1), breaks=seq(0, 1, 0.1), expand=(0, 0.01))\n",
    "        + scale_x_continuous(limits=(0, 1), breaks=seq(0, 1, 0.1), expand=(0.01, 0))\n",
    "        + theme_bw()\n",
    "    )\n",
    "    return plot\n",
    "\n",
    "\n",
    "def sigmoid_array(x):\n",
    "    return 1 / (1 + np.exp(-x))\n",
    "\n",
    "\n",
    "def generate_fold_prediction(model, X, fold, param_index):\n",
    "    fold_coef = model.coefs_paths_[1][fold, param_index, :]\n",
    "    return sigmoid_array(\n",
    "        np.dot(X, np.transpose(fold_coef)[:-1]) + np.transpose(fold_coef)[-1]\n",
    "    )\n",
    "\n",
    "\n",
    "def create_loss_plot(all_coords, optimal_threshold, curr_exp_loss):\n",
    "    all_coords_copy = all_coords.copy()\n",
    "    all_coords_copy[\"loss\"] = (\n",
    "        all_coords_copy.false_pos * FP + all_coords_copy.false_neg * FN\n",
    "    ) / all_coords_copy.n\n",
    "\n",
    "    t = optimal_threshold\n",
    "    l = curr_exp_loss\n",
    "\n",
    "    plot = (\n",
    "        ggplot(all_coords_copy, aes(x=\"thresholds\", y=\"loss\"))\n",
    "        + geom_line(color=color[0], size=0.7)\n",
    "        + scale_x_continuous(breaks=seq(0, 1.1, by=0.1))\n",
    "        + coord_cartesian(xlim=(0, 1))\n",
    "        + geom_vline(xintercept=t, color=color[0])\n",
    "        + annotate(\n",
    "            geom=\"text\",\n",
    "            x=t - 0.01,\n",
    "            y=max(all_coords_copy.loss) - 0.4,\n",
    "            label=\"best threshold: \" + str(round(t, 2)),\n",
    "            colour=color[1],\n",
    "            angle=90,\n",
    "            size=7,\n",
    "        )\n",
    "        + annotate(geom=\"text\", x=t + 0.06, y=l, label=str(round(l, 2)), size=7)\n",
    "        + theme_bw()\n",
    "    )\n",
    "    return plot\n",
    "\n",
    "\n",
    "def create_roc_plot_with_optimal(all_coords, optimal_threshold):\n",
    "    all_coords_copy = all_coords.copy()\n",
    "    all_coords_copy[\"sp\"] = 1 - all_coords_copy.true_neg / all_coords_copy.neg\n",
    "    all_coords_copy[\"se\"] = all_coords_copy.true_pos / all_coords_copy.pos\n",
    "\n",
    "    best_coords = all_coords_copy[all_coords_copy.thresholds == optimal_threshold]\n",
    "    sp = best_coords.sp.values[0]\n",
    "    se = best_coords.se.values[0]\n",
    "\n",
    "    plot = (\n",
    "        ggplot(all_coords_copy, aes(x=\"sp\", y=\"se\"))\n",
    "        + geom_line(color=color[0], size=0.7)\n",
    "        + scale_y_continuous(breaks=seq(0, 1.1, by=0.1))\n",
    "        + scale_x_continuous(breaks=seq(0, 1.1, by=0.1))\n",
    "        + geom_point(data=pd.DataFrame({\"sp\": [sp], \"se\": [se]}))\n",
    "        + annotate(\n",
    "            geom=\"text\",\n",
    "            x=sp,\n",
    "            y=se + 0.03,\n",
    "            label=str(round(sp, 2)) + \", \" + str(round(se, 2)),\n",
    "            size=7,\n",
    "        )\n",
    "        + geom_area(position=\"identity\", fill=\"mediumaquamarine\", alpha=0.3)\n",
    "        + xlab(\"False Positive Rate (1-Specifity)\")\n",
    "        + ylab(\"True Positive Rate (Sensitivity)\")\n",
    "        + geom_abline(intercept=0, slope=1, linetype=\"dotted\", color=\"black\")\n",
    "        + theme_bw()\n",
    "    )\n",
    "    return plot"
   ]
  },
  {
   "cell_type": "markdown",
   "metadata": {},
   "source": [
    "## 1.3. Define variable sets "
   ]
  },
  {
   "cell_type": "code",
   "execution_count": 6,
   "metadata": {},
   "outputs": [],
   "source": [
    "rawvars = [\n",
    "    \"curr_assets\",\n",
    "    \"curr_liab\",\n",
    "    \"extra_exp\",\n",
    "    \"extra_inc\",\n",
    "    \"extra_profit_loss\",\n",
    "    \"fixed_assets\",\n",
    "    \"inc_bef_tax\",\n",
    "    \"intang_assets\",\n",
    "    \"inventories\",\n",
    "    \"liq_assets\",\n",
    "    \"material_exp\",\n",
    "    \"personnel_exp\",\n",
    "    \"profit_loss_year\",\n",
    "    \"sales\",\n",
    "    \"share_eq\",\n",
    "    \"subscribed_cap\",\n",
    "]\n",
    "qualityvars = [\"balsheet_flag\", \"balsheet_length\", \"balsheet_notfullyear\"]\n",
    "engvar = [\n",
    "    \"total_assets_bs\",\n",
    "    \"fixed_assets_bs\",\n",
    "    \"liq_assets_bs\",\n",
    "    \"curr_assets_bs\",\n",
    "    \"share_eq_bs\",\n",
    "    \"subscribed_cap_bs\",\n",
    "    \"intang_assets_bs\",\n",
    "    \"extra_exp_pl\",\n",
    "    \"extra_inc_pl\",\n",
    "    \"extra_profit_loss_pl\",\n",
    "    \"inc_bef_tax_pl\",\n",
    "    \"inventories_pl\",\n",
    "    \"material_exp_pl\",\n",
    "    \"profit_loss_year_pl\",\n",
    "    \"personnel_exp_pl\",\n",
    "]\n",
    "engvar2 = [\n",
    "    \"extra_profit_loss_pl_quad\",\n",
    "    \"inc_bef_tax_pl_quad\",\n",
    "    \"profit_loss_year_pl_quad\",\n",
    "    \"share_eq_bs_quad\",\n",
    "]\n",
    "engvar3 = []\n",
    "for col in data.columns:\n",
    "    if (\n",
    "        col.endswith(\"flag_low\")\n",
    "        or col.endswith(\"flag_high\")\n",
    "        or col.endswith(\"flag_error\")\n",
    "        or col.endswith(\"flag_zero\")\n",
    "    ):\n",
    "        engvar3.append(col)\n",
    "\n",
    "\n",
    "hr = [\n",
    "    \"female\",\n",
    "    \"ceo_age\",\n",
    "    \"flag_high_ceo_age\",\n",
    "    \"flag_low_ceo_age\",\n",
    "    \"flag_miss_ceo_age\",\n",
    "    \"ceo_count\",\n",
    "    \"labor_avg_mod\",\n",
    "    \"flag_miss_labor_avg\",\n",
    "    \"foreign_management\",\n",
    "]\n",
    "\n",
    "financial_extras = [\n",
    "    \"ROE\",\n",
    "    \"EBITDA\",\n",
    "    \"ROA\",\n",
    "    \"sales_per_tot_assets\",\n",
    "    \"liquidity_rate\",\n",
    "    \"own_equity_rate\",\n",
    "]"
   ]
  },
  {
   "cell_type": "code",
   "execution_count": 7,
   "metadata": {},
   "outputs": [],
   "source": [
    "# Creat dummy columns from category variables and drop first level\n",
    "ind2_catmat = patsy.dmatrix(\"0 + C(ind2_cat)\", data, return_type=\"dataframe\")\n",
    "ind2_catmat = ind2_catmat.drop([\"C(ind2_cat)[26.0]\"], axis=1)\n",
    "\n",
    "m_region_locmat = patsy.dmatrix(\"0 + C(m_region_loc)\", data, return_type=\"dataframe\")\n",
    "m_region_locmat = m_region_locmat.drop([\"C(m_region_loc)[Central]\"], axis=1)\n",
    "\n",
    "urban_mmat = patsy.dmatrix(\"0 + C(urban_m)\", data, return_type=\"dataframe\")\n",
    "urban_mmat = urban_mmat.drop([\"C(urban_m)[1.0]\"], axis=1)"
   ]
  },
  {
   "cell_type": "code",
   "execution_count": 8,
   "metadata": {},
   "outputs": [],
   "source": [
    "# Define X1\n",
    "basevars = data[\n",
    "    [\"sales_mil_log\", \"sales_mil_log_sq\", \"sale_growth\", \"profit_loss_year_pl\"]\n",
    "]\n",
    "X1 = pd.concat([basevars, ind2_catmat], axis=1)\n",
    "# Define X2\n",
    "X2additional_vars = data[\n",
    "    [\n",
    "        \"fixed_assets_bs\",\n",
    "        \"share_eq_bs\",\n",
    "        \"curr_liab_bs\",\n",
    "        \"curr_liab_bs_flag_high\",\n",
    "        \"curr_liab_bs_flag_error\",\n",
    "        \"age\",\n",
    "        \"foreign_management\",\n",
    "    ]\n",
    "]\n",
    "X2 = pd.concat([X1, X2additional_vars], axis=1)\n",
    "# Define X3\n",
    "firm = pd.concat(\n",
    "    [data[[\"age\", \"age2\", \"new\"]], ind2_catmat, m_region_locmat, urban_mmat], axis=1\n",
    ")\n",
    "X3 = pd.concat([data[[\"sales_mil_log\", \"sales_mil_log_sq\"] + engvar], firm], axis=1)\n",
    "# Define X4\n",
    "X4 = pd.concat(\n",
    "    [\n",
    "        data[\n",
    "            [\"sales_mil_log\", \"sales_mil_log_sq\"]\n",
    "            + engvar\n",
    "            + engvar2\n",
    "            + engvar3\n",
    "            + hr\n",
    "            + qualityvars\n",
    "            + financial_extras\n",
    "        ],\n",
    "        firm,\n",
    "    ],\n",
    "    axis=1,\n",
    ")"
   ]
  },
  {
   "cell_type": "code",
   "execution_count": 9,
   "metadata": {
    "scrolled": true
   },
   "outputs": [],
   "source": [
    "# Define X5\n",
    "# Creat matrix for interactions1 variables\n",
    "int1mat = patsy.dmatrix(\n",
    "    \"0 + C(ind2_cat):age + C(ind2_cat):age2 + C(ind2_cat):sale_growth \\\n",
    "                + C(ind2_cat):sales_mil_log + C(ind2_cat):ceo_age + C(ind2_cat):foreign_management \\\n",
    "                + C(ind2_cat):female + C(ind2_cat):C(urban_m) + C(ind2_cat):labor_avg_mod\",\n",
    "    data,\n",
    "    return_type=\"dataframe\",\n",
    ")\n",
    "# Drop first level to get k-1 dummies out of k categorical levels\n",
    "for col in int1mat.columns:\n",
    "    if col.startswith(\"C(ind2_cat)[26.0]\") or col.endswith(\"C(urban_m)[1.0]\"):\n",
    "        int1mat = int1mat.drop([col], axis=1)\n",
    "\n",
    "# Creat matrix for interactions2 variables\n",
    "int2mat = patsy.dmatrix(\n",
    "    \"0 + sales_mil_log:age + sales_mil_log:female + sales_mil_log:profit_loss_year_pl \\\n",
    "                + sales_mil_log:foreign_management\",\n",
    "    data,\n",
    "    return_type=\"dataframe\",\n",
    ")\n",
    "X5 = pd.concat([X4, int1mat, int2mat], axis=1)"
   ]
  },
  {
   "cell_type": "code",
   "execution_count": 10,
   "metadata": {},
   "outputs": [],
   "source": [
    "# Define logitvars for LASSO\n",
    "logitvars = pd.concat([X4, int1mat, int2mat], axis=1)"
   ]
  },
  {
   "cell_type": "code",
   "execution_count": 11,
   "metadata": {},
   "outputs": [],
   "source": [
    "# Define rfvars for RF (no interactions, no modified features)\n",
    "rfvars = pd.concat([data[[\"sales_mil\"] + rawvars + hr + qualityvars], firm], axis=1)"
   ]
  },
  {
   "cell_type": "code",
   "execution_count": 13,
   "metadata": {},
   "outputs": [],
   "source": [
    "y = data[\"high_roe_firm\"]\n",
    "target = \"high_roe_firm\""
   ]
  },
  {
   "cell_type": "code",
   "execution_count": 14,
   "metadata": {},
   "outputs": [
    {
     "data": {
      "text/html": [
       "<div>\n",
       "<style scoped>\n",
       "    .dataframe tbody tr th:only-of-type {\n",
       "        vertical-align: middle;\n",
       "    }\n",
       "\n",
       "    .dataframe tbody tr th {\n",
       "        vertical-align: top;\n",
       "    }\n",
       "\n",
       "    .dataframe thead th {\n",
       "        text-align: right;\n",
       "    }\n",
       "</style>\n",
       "<table border=\"1\" class=\"dataframe\">\n",
       "  <thead>\n",
       "    <tr style=\"text-align: right;\">\n",
       "      <th></th>\n",
       "      <th>high_growth_firm</th>\n",
       "      <th>high_roe_firm</th>\n",
       "    </tr>\n",
       "  </thead>\n",
       "  <tbody>\n",
       "    <tr>\n",
       "      <th>high_growth_firm</th>\n",
       "      <td>1.000000</td>\n",
       "      <td>0.171986</td>\n",
       "    </tr>\n",
       "    <tr>\n",
       "      <th>high_roe_firm</th>\n",
       "      <td>0.171986</td>\n",
       "      <td>1.000000</td>\n",
       "    </tr>\n",
       "  </tbody>\n",
       "</table>\n",
       "</div>"
      ],
      "text/plain": [
       "                  high_growth_firm  high_roe_firm\n",
       "high_growth_firm          1.000000       0.171986\n",
       "high_roe_firm             0.171986       1.000000"
      ]
     },
     "execution_count": 14,
     "metadata": {},
     "output_type": "execute_result"
    }
   ],
   "source": [
    "data[[\"high_growth_firm\",\"high_roe_firm\"]].corr()"
   ]
  },
  {
   "cell_type": "markdown",
   "metadata": {},
   "source": [
    "## 1.4. Separate train and holdout data"
   ]
  },
  {
   "cell_type": "code",
   "execution_count": 15,
   "metadata": {},
   "outputs": [],
   "source": [
    "index_train, index_holdout= train_test_split(\n",
    "    data.index.values, train_size=round(0.7*len(data.index)), random_state=44)\n",
    "\n",
    "y_train = y.iloc[index_train]\n",
    "y_holdout = y.iloc[index_holdout]"
   ]
  },
  {
   "cell_type": "code",
   "execution_count": 16,
   "metadata": {},
   "outputs": [
    {
     "name": "stdout",
     "output_type": "stream",
     "text": [
      "Total\n",
      "0    0.839115\n",
      "1    0.160885\n",
      "Name: high_roe_firm, dtype: float64\n",
      "Train\n",
      "0    0.839325\n",
      "1    0.160675\n",
      "Name: high_roe_firm, dtype: float64\n",
      "Holdout\n",
      "0    0.838623\n",
      "1    0.161377\n",
      "Name: high_roe_firm, dtype: float64\n"
     ]
    }
   ],
   "source": [
    "print('Total')\n",
    "print(data[target].value_counts(normalize=True))\n",
    "print('Train')\n",
    "print(data.iloc[index_train][target].value_counts(normalize=True))\n",
    "print('Holdout')\n",
    "print(data.iloc[index_holdout][target].value_counts(normalize=True))"
   ]
  },
  {
   "cell_type": "markdown",
   "metadata": {},
   "source": [
    "# 2. PREDICT PROBABILITIES with Logit and Lasso Logit models"
   ]
  },
  {
   "cell_type": "code",
   "execution_count": 17,
   "metadata": {},
   "outputs": [],
   "source": [
    "#specify cross-validation method\n",
    "k = KFold(n_splits=5, shuffle=True, random_state=42)"
   ]
  },
  {
   "cell_type": "markdown",
   "metadata": {},
   "source": [
    "## 2.1. Train logit models"
   ]
  },
  {
   "cell_type": "code",
   "execution_count": 19,
   "metadata": {},
   "outputs": [],
   "source": [
    "# no regularisation needed so setting the paremeter to very high value\n",
    "C_value_logit=[1e20]"
   ]
  },
  {
   "cell_type": "code",
   "execution_count": 20,
   "metadata": {},
   "outputs": [],
   "source": [
    "# Train Logit Models ----------------------------------------------\n",
    "logit_model_vars = [\n",
    "    X1.iloc[index_train],\n",
    "    X2.iloc[index_train],\n",
    "    X3.iloc[index_train],\n",
    "    X4.iloc[index_train],\n",
    "    X5.iloc[index_train],\n",
    "]\n",
    "\n",
    "logit_models = dict()\n",
    "CV_RMSE_folds = dict()\n",
    "\n",
    "for i in range(len(logit_model_vars)):\n",
    "    LRCV_brier = LogisticRegressionCV(\n",
    "        Cs=C_value_logit,\n",
    "        cv=k,\n",
    "        refit=True,\n",
    "        scoring=\"neg_brier_score\",\n",
    "        solver=\"newton-cg\",\n",
    "        tol=1e-7,\n",
    "        random_state=42,\n",
    "    )\n",
    "    logit_models[\"X\" + str(i + 1)] = LRCV_brier.fit(logit_model_vars[i], y_train)\n",
    "    # Calculate RMSE on test for each fold\n",
    "    CV_RMSE_folds[\"X\" + str(i + 1)] = np.sqrt(\n",
    "        -1 * (logit_models[\"X\" + str(i + 1)].scores_[1])\n",
    "    ).tolist()"
   ]
  },
  {
   "cell_type": "markdown",
   "metadata": {},
   "source": [
    "## 2.2. Lasso logit"
   ]
  },
  {
   "cell_type": "code",
   "execution_count": 21,
   "metadata": {},
   "outputs": [],
   "source": [
    "normalized_logitvars=pd.DataFrame(StandardScaler().fit_transform(logitvars.iloc[index_train]))\n",
    "normalized_logitvars.columns=logitvars.columns"
   ]
  },
  {
   "cell_type": "code",
   "execution_count": 22,
   "metadata": {},
   "outputs": [],
   "source": [
    "lambdas = list(10 ** np.arange(-1, -4.01, -1 / 3))\n",
    "n_obs = normalized_logitvars.shape[0] * 4 / 5\n",
    "C_values = [1 / (l * n_obs) for l in lambdas]\n",
    "\n",
    "logLasso = LogisticRegressionCV(\n",
    "    Cs=C_values,\n",
    "    penalty=\"l1\",\n",
    "    cv=k,\n",
    "    refit=True,\n",
    "    scoring=\"accuracy\",\n",
    "    solver=\"liblinear\",\n",
    "    random_state=42,\n",
    ")"
   ]
  },
  {
   "cell_type": "code",
   "execution_count": 23,
   "metadata": {},
   "outputs": [],
   "source": [
    "logit_models[\"LASSO\"] = logLasso.fit(normalized_logitvars, y_train)"
   ]
  },
  {
   "cell_type": "code",
   "execution_count": 24,
   "metadata": {},
   "outputs": [
    {
     "data": {
      "text/html": [
       "<div>\n",
       "<style scoped>\n",
       "    .dataframe tbody tr th:only-of-type {\n",
       "        vertical-align: middle;\n",
       "    }\n",
       "\n",
       "    .dataframe tbody tr th {\n",
       "        vertical-align: top;\n",
       "    }\n",
       "\n",
       "    .dataframe thead th {\n",
       "        text-align: right;\n",
       "    }\n",
       "</style>\n",
       "<table border=\"1\" class=\"dataframe\">\n",
       "  <thead>\n",
       "    <tr style=\"text-align: right;\">\n",
       "      <th></th>\n",
       "      <th>lambdas</th>\n",
       "      <th>C_values</th>\n",
       "      <th>mean_cv_score</th>\n",
       "    </tr>\n",
       "  </thead>\n",
       "  <tbody>\n",
       "    <tr>\n",
       "      <th>0</th>\n",
       "      <td>0.100000</td>\n",
       "      <td>0.001104</td>\n",
       "      <td>0.839325</td>\n",
       "    </tr>\n",
       "    <tr>\n",
       "      <th>1</th>\n",
       "      <td>0.046416</td>\n",
       "      <td>0.002379</td>\n",
       "      <td>0.839325</td>\n",
       "    </tr>\n",
       "    <tr>\n",
       "      <th>2</th>\n",
       "      <td>0.021544</td>\n",
       "      <td>0.005125</td>\n",
       "      <td>0.843036</td>\n",
       "    </tr>\n",
       "    <tr>\n",
       "      <th>3</th>\n",
       "      <td>0.010000</td>\n",
       "      <td>0.011041</td>\n",
       "      <td>0.846304</td>\n",
       "    </tr>\n",
       "    <tr>\n",
       "      <th>4</th>\n",
       "      <td>0.004642</td>\n",
       "      <td>0.023788</td>\n",
       "      <td>0.848777</td>\n",
       "    </tr>\n",
       "    <tr>\n",
       "      <th>5</th>\n",
       "      <td>0.002154</td>\n",
       "      <td>0.051250</td>\n",
       "      <td>0.849395</td>\n",
       "    </tr>\n",
       "    <tr>\n",
       "      <th>6</th>\n",
       "      <td>0.001000</td>\n",
       "      <td>0.110414</td>\n",
       "      <td>0.847717</td>\n",
       "    </tr>\n",
       "    <tr>\n",
       "      <th>7</th>\n",
       "      <td>0.000464</td>\n",
       "      <td>0.237880</td>\n",
       "      <td>0.846392</td>\n",
       "    </tr>\n",
       "    <tr>\n",
       "      <th>8</th>\n",
       "      <td>0.000215</td>\n",
       "      <td>0.512498</td>\n",
       "      <td>0.845597</td>\n",
       "    </tr>\n",
       "    <tr>\n",
       "      <th>9</th>\n",
       "      <td>0.000100</td>\n",
       "      <td>1.104143</td>\n",
       "      <td>0.845685</td>\n",
       "    </tr>\n",
       "  </tbody>\n",
       "</table>\n",
       "</div>"
      ],
      "text/plain": [
       "    lambdas  C_values  mean_cv_score\n",
       "0  0.100000  0.001104       0.839325\n",
       "1  0.046416  0.002379       0.839325\n",
       "2  0.021544  0.005125       0.843036\n",
       "3  0.010000  0.011041       0.846304\n",
       "4  0.004642  0.023788       0.848777\n",
       "5  0.002154  0.051250       0.849395\n",
       "6  0.001000  0.110414       0.847717\n",
       "7  0.000464  0.237880       0.846392\n",
       "8  0.000215  0.512498       0.845597\n",
       "9  0.000100  1.104143       0.845685"
      ]
     },
     "execution_count": 24,
     "metadata": {},
     "output_type": "execute_result"
    }
   ],
   "source": [
    "cv_summary_lasso = cv_summary(lambdas, C_values, logit_models[\"LASSO\"])\n",
    "#cv_summary_lasso"
   ]
  },
  {
   "cell_type": "code",
   "execution_count": 25,
   "metadata": {},
   "outputs": [],
   "source": [
    "best_lambda = cv_summary_lasso.sort_values('mean_cv_score', ascending = False).iloc[0,0]"
   ]
  },
  {
   "cell_type": "code",
   "execution_count": 26,
   "metadata": {},
   "outputs": [
    {
     "data": {
      "text/html": [
       "<div>\n",
       "<style scoped>\n",
       "    .dataframe tbody tr th:only-of-type {\n",
       "        vertical-align: middle;\n",
       "    }\n",
       "\n",
       "    .dataframe tbody tr th {\n",
       "        vertical-align: top;\n",
       "    }\n",
       "\n",
       "    .dataframe thead th {\n",
       "        text-align: right;\n",
       "    }\n",
       "</style>\n",
       "<table border=\"1\" class=\"dataframe\">\n",
       "  <thead>\n",
       "    <tr style=\"text-align: right;\">\n",
       "      <th></th>\n",
       "      <th>variable</th>\n",
       "      <th>coefficient</th>\n",
       "    </tr>\n",
       "  </thead>\n",
       "  <tbody>\n",
       "    <tr>\n",
       "      <th>0</th>\n",
       "      <td>sales_mil_log</td>\n",
       "      <td>0.132507</td>\n",
       "    </tr>\n",
       "    <tr>\n",
       "      <th>1</th>\n",
       "      <td>sales_mil_log_sq</td>\n",
       "      <td>0.000000</td>\n",
       "    </tr>\n",
       "    <tr>\n",
       "      <th>2</th>\n",
       "      <td>total_assets_bs</td>\n",
       "      <td>-0.106725</td>\n",
       "    </tr>\n",
       "    <tr>\n",
       "      <th>3</th>\n",
       "      <td>fixed_assets_bs</td>\n",
       "      <td>0.000000</td>\n",
       "    </tr>\n",
       "    <tr>\n",
       "      <th>4</th>\n",
       "      <td>liq_assets_bs</td>\n",
       "      <td>0.154739</td>\n",
       "    </tr>\n",
       "    <tr>\n",
       "      <th>...</th>\n",
       "      <td>...</td>\n",
       "      <td>...</td>\n",
       "    </tr>\n",
       "    <tr>\n",
       "      <th>150</th>\n",
       "      <td>sales_mil_log:age</td>\n",
       "      <td>0.034013</td>\n",
       "    </tr>\n",
       "    <tr>\n",
       "      <th>151</th>\n",
       "      <td>sales_mil_log:female</td>\n",
       "      <td>0.000000</td>\n",
       "    </tr>\n",
       "    <tr>\n",
       "      <th>152</th>\n",
       "      <td>sales_mil_log:profit_loss_year_pl</td>\n",
       "      <td>0.237825</td>\n",
       "    </tr>\n",
       "    <tr>\n",
       "      <th>153</th>\n",
       "      <td>sales_mil_log:foreign_management</td>\n",
       "      <td>0.000000</td>\n",
       "    </tr>\n",
       "    <tr>\n",
       "      <th>154</th>\n",
       "      <td>Intercept</td>\n",
       "      <td>-1.943909</td>\n",
       "    </tr>\n",
       "  </tbody>\n",
       "</table>\n",
       "<p>155 rows × 2 columns</p>\n",
       "</div>"
      ],
      "text/plain": [
       "                              variable  coefficient\n",
       "0                        sales_mil_log     0.132507\n",
       "1                     sales_mil_log_sq     0.000000\n",
       "2                      total_assets_bs    -0.106725\n",
       "3                      fixed_assets_bs     0.000000\n",
       "4                        liq_assets_bs     0.154739\n",
       "..                                 ...          ...\n",
       "150                  sales_mil_log:age     0.034013\n",
       "151               sales_mil_log:female     0.000000\n",
       "152  sales_mil_log:profit_loss_year_pl     0.237825\n",
       "153   sales_mil_log:foreign_management     0.000000\n",
       "154                          Intercept    -1.943909\n",
       "\n",
       "[155 rows x 2 columns]"
      ]
     },
     "execution_count": 26,
     "metadata": {},
     "output_type": "execute_result"
    }
   ],
   "source": [
    "#coef_matrix(normalized_logitvars, logit_models[\"LASSO\"])"
   ]
  },
  {
   "cell_type": "code",
   "execution_count": 27,
   "metadata": {},
   "outputs": [],
   "source": [
    "# refit with negative brier score so we have RMSE values for the same cv split\n",
    "logLasso_brier = LogisticRegressionCV(\n",
    "    Cs=C_values,\n",
    "    penalty=\"l1\",\n",
    "    cv=k,\n",
    "    refit=True,\n",
    "    scoring=\"neg_brier_score\",\n",
    "    solver=\"liblinear\",\n",
    "    random_state=42,\n",
    ")\n",
    "logLasso_brier_fitted = logLasso_brier.fit(normalized_logitvars, y_train)"
   ]
  },
  {
   "cell_type": "code",
   "execution_count": 28,
   "metadata": {},
   "outputs": [],
   "source": [
    "for i, l in enumerate(lambdas):\n",
    "    if l == best_lambda:\n",
    "        best_lambda_i = i\n",
    "        CV_RMSE_folds[\"LASSO\"] = np.sqrt(\n",
    "            -1 * (logLasso_brier_fitted.scores_[1][:, i])\n",
    "        ).tolist()"
   ]
  },
  {
   "cell_type": "markdown",
   "metadata": {},
   "source": [
    "# 3. Classification of Logit and Lasso Logit models\n",
    "## 3.1. Without a loss function"
   ]
  },
  {
   "cell_type": "code",
   "execution_count": 29,
   "metadata": {},
   "outputs": [],
   "source": [
    "# Calculate AUC for each folds --------------------------------\n",
    "CV_AUC_folds = dict()\n",
    "\n",
    "# refit logit models with AUC so we have AUC values for the same cv split\n",
    "for i in range(len(logit_model_vars)):\n",
    "    LRCV_auc = LogisticRegressionCV(\n",
    "        Cs=C_value_logit,\n",
    "        cv=k,\n",
    "        refit=True,\n",
    "        scoring=\"roc_auc\",\n",
    "        solver=\"newton-cg\",\n",
    "        tol=1e-7,\n",
    "        random_state=42,\n",
    "    )\n",
    "    LRCV_auc_fit = LRCV_auc.fit(logit_model_vars[i], y_train)\n",
    "    # Calculate AUC on test for each fold\n",
    "    CV_AUC_folds[\"X\" + str(i + 1)] = LRCV_auc_fit.scores_[1][:, 0].tolist()"
   ]
  },
  {
   "cell_type": "code",
   "execution_count": 30,
   "metadata": {},
   "outputs": [],
   "source": [
    "# refit with AUC so we have AUC values for the same cv split\n",
    "logLasso_auc = LogisticRegressionCV(\n",
    "    Cs=C_values,\n",
    "    penalty=\"l1\",\n",
    "    cv=k,\n",
    "    refit=True,\n",
    "    scoring=\"roc_auc\",\n",
    "    solver=\"liblinear\",\n",
    "    random_state=42,\n",
    ")\n",
    "logLasso_auc_fitted = logLasso_auc.fit(normalized_logitvars, y_train)\n",
    "CV_AUC_folds[\"LASSO\"] = logLasso_auc_fitted.scores_[1][:, best_lambda_i].tolist()"
   ]
  },
  {
   "cell_type": "code",
   "execution_count": 31,
   "metadata": {},
   "outputs": [],
   "source": [
    "# For each model: average RMSE and average AUC for models ----------------------------------\n",
    "CV_RMSE = dict()\n",
    "CV_AUC = dict()\n",
    "nvars = dict()\n",
    "\n",
    "for key in logit_models:\n",
    "    CV_RMSE[key] = np.mean(CV_RMSE_folds[key])\n",
    "    CV_AUC[key] = np.mean(CV_AUC_folds[key])\n",
    "\n",
    "for key in logit_models:\n",
    "    if key != \"LASSO\":\n",
    "        nvars[key] = logit_models[key].n_features_in_\n",
    "    else:\n",
    "        nvars[key] = sum(x != 0 for x in logit_models[key].coef_[0].tolist())"
   ]
  },
  {
   "cell_type": "code",
   "execution_count": 32,
   "metadata": {},
   "outputs": [],
   "source": [
    "# We have 6 models, (5 logit and the logit lasso). For each we have a 5-CV RMSE and AUC.\n",
    "# We pick our preferred model based on that. -----------------------------------------------\n",
    "logit_summary1 = np.transpose(\n",
    "    pd.DataFrame.from_dict([nvars, CV_RMSE, CV_AUC], orient=\"columns\")\n",
    ")\n",
    "logit_summary1.columns = [\"Number of predictors\", \"CV RMSE\", \"CV AUC\"]"
   ]
  },
  {
   "cell_type": "code",
   "execution_count": 33,
   "metadata": {},
   "outputs": [
    {
     "data": {
      "text/html": [
       "<div>\n",
       "<style scoped>\n",
       "    .dataframe tbody tr th:only-of-type {\n",
       "        vertical-align: middle;\n",
       "    }\n",
       "\n",
       "    .dataframe tbody tr th {\n",
       "        vertical-align: top;\n",
       "    }\n",
       "\n",
       "    .dataframe thead th {\n",
       "        text-align: right;\n",
       "    }\n",
       "</style>\n",
       "<table border=\"1\" class=\"dataframe\">\n",
       "  <thead>\n",
       "    <tr style=\"text-align: right;\">\n",
       "      <th></th>\n",
       "      <th>Number of predictors</th>\n",
       "      <th>CV RMSE</th>\n",
       "      <th>CV AUC</th>\n",
       "    </tr>\n",
       "  </thead>\n",
       "  <tbody>\n",
       "    <tr>\n",
       "      <th>X1</th>\n",
       "      <td>11.0</td>\n",
       "      <td>0.360102</td>\n",
       "      <td>0.660501</td>\n",
       "    </tr>\n",
       "    <tr>\n",
       "      <th>X2</th>\n",
       "      <td>18.0</td>\n",
       "      <td>0.351269</td>\n",
       "      <td>0.710155</td>\n",
       "    </tr>\n",
       "    <tr>\n",
       "      <th>X3</th>\n",
       "      <td>31.0</td>\n",
       "      <td>0.349487</td>\n",
       "      <td>0.713738</td>\n",
       "    </tr>\n",
       "    <tr>\n",
       "      <th>X4</th>\n",
       "      <td>80.0</td>\n",
       "      <td>0.341813</td>\n",
       "      <td>0.750579</td>\n",
       "    </tr>\n",
       "    <tr>\n",
       "      <th>X5</th>\n",
       "      <td>154.0</td>\n",
       "      <td>0.341537</td>\n",
       "      <td>0.751646</td>\n",
       "    </tr>\n",
       "    <tr>\n",
       "      <th>LASSO</th>\n",
       "      <td>86.0</td>\n",
       "      <td>0.340363</td>\n",
       "      <td>0.757228</td>\n",
       "    </tr>\n",
       "  </tbody>\n",
       "</table>\n",
       "</div>"
      ],
      "text/plain": [
       "       Number of predictors   CV RMSE    CV AUC\n",
       "X1                     11.0  0.360102  0.660501\n",
       "X2                     18.0  0.351269  0.710155\n",
       "X3                     31.0  0.349487  0.713738\n",
       "X4                     80.0  0.341813  0.750579\n",
       "X5                    154.0  0.341537  0.751646\n",
       "LASSO                  86.0  0.340363  0.757228"
      ]
     },
     "execution_count": 33,
     "metadata": {},
     "output_type": "execute_result"
    }
   ],
   "source": [
    "logit_summary1"
   ]
  },
  {
   "cell_type": "markdown",
   "metadata": {},
   "source": [
    "## 3.2. Evaluation: Take best model and estimate RMSE on holdout"
   ]
  },
  {
   "cell_type": "code",
   "execution_count": 84,
   "metadata": {},
   "outputs": [
    {
     "data": {
      "text/plain": [
       "0.337"
      ]
     },
     "execution_count": 84,
     "metadata": {},
     "output_type": "execute_result"
    }
   ],
   "source": [
    "best_model = logit_models[\"X4\"]\n",
    "data_train = X4.iloc[index_train]\n",
    "\n",
    "best_model.fit(data_train,y_train)\n",
    "best_model_X_holdout = X4.iloc[index_holdout]\n",
    "\n",
    "logit_predicted_probabilities_train = best_model.predict_proba(data_train)[\n",
    "    :, 1\n",
    "]\n",
    "\n",
    "logit_predicted_probabilities_holdout = best_model.predict_proba(best_model_X_holdout)[\n",
    "    :, 1\n",
    "]\n",
    "best_rmse_holdout = np.sqrt(\n",
    "    metrics.mean_squared_error(y_holdout, logit_predicted_probabilities_holdout)\n",
    ")\n",
    "round(best_rmse_holdout, 3)"
   ]
  },
  {
   "cell_type": "code",
   "execution_count": 85,
   "metadata": {},
   "outputs": [],
   "source": [
    "# discrete ROC (with thresholds in steps) on holdout -------------------------------------------------\n",
    "\n",
    "thresholds = seq(0.01, 0.7, by=0.05)\n",
    "cm = dict()\n",
    "true_positive_rates = []\n",
    "false_positive_rates = []\n",
    "holdout_prediction = []\n",
    "for thr in thresholds:\n",
    "    holdout_prediction = np.where(logit_predicted_probabilities_holdout < thr, 0, 1)\n",
    "    cm_thr = confusion_matrix(y_holdout, holdout_prediction, labels=[0, 1])\n",
    "    cm[thr] = cm_thr\n",
    "    tn, fp, fn, tp = cm_thr.ravel()\n",
    "    true_positive_rates.append(tp / (tp + fn))\n",
    "    false_positive_rates.append(fp / (fp + tn))"
   ]
  },
  {
   "cell_type": "code",
   "execution_count": 86,
   "metadata": {},
   "outputs": [],
   "source": [
    "tpr_fpr_for_thresholds = pd.DataFrame(\n",
    "    {\n",
    "        \"thresholds\": thresholds,\n",
    "        \"true_positive_rates\": true_positive_rates,\n",
    "        \"false_positive_rates\": false_positive_rates,\n",
    "    }\n",
    ")"
   ]
  },
  {
   "cell_type": "code",
   "execution_count": 87,
   "metadata": {},
   "outputs": [
    {
     "data": {
      "image/png": "[encoded data removed]",
      "text/plain": [
       "<Figure size 640x480 with 1 Axes>"
      ]
     },
     "metadata": {},
     "output_type": "display_data"
    },
    {
     "data": {
      "text/plain": [
       "<ggplot: (325916519)>"
      ]
     },
     "execution_count": 87,
     "metadata": {},
     "output_type": "execute_result"
    }
   ],
   "source": [
    "(\n",
    "    ggplot(\n",
    "        tpr_fpr_for_thresholds,\n",
    "        aes(x=\"false_positive_rates\", y=\"true_positive_rates\", color=\"thresholds\"),\n",
    "    )\n",
    "    + labs(\n",
    "        x=\"False positive rate (1 - Specificity)\", y=\"True positive rate (Sensitivity)\"\n",
    "    )\n",
    "    + geom_point(size=2, alpha=0.8)\n",
    "    + scale_color_continuous(trans=\"reverse\")\n",
    "    + scale_x_continuous(limits=(0, 1), breaks=seq(0, 1.01, by=0.1))\n",
    "    + scale_y_continuous(limits=(0, 1), breaks=seq(0, 1.01, by=0.1))\n",
    "    + theme_bw()\n",
    "    + theme(\n",
    "        legend_position=\"right\",\n",
    "        axis_text=element_text(size=5),\n",
    "        axis_title=element_text(size=5),\n",
    "        legend_text=element_text(size=4),\n",
    "        legend_title=element_text(size=4),\n",
    "        legend_key_size=6,\n",
    "    )\n",
    ")"
   ]
  },
  {
   "cell_type": "code",
   "execution_count": 88,
   "metadata": {},
   "outputs": [
    {
     "data": {
      "image/png": "[encoded data removed]",
      "text/plain": [
       "<Figure size 640x480 with 1 Axes>"
      ]
     },
     "metadata": {},
     "output_type": "display_data"
    },
    {
     "data": {
      "text/plain": [
       "<ggplot: (325836023)>"
      ]
     },
     "execution_count": 88,
     "metadata": {},
     "output_type": "execute_result"
    }
   ],
   "source": [
    "# continuous ROC on holdout with best model (Logit 4) -------------------------------------------\n",
    "\n",
    "create_roc_plot(y_holdout, logit_predicted_probabilities_holdout)"
   ]
  },
  {
   "cell_type": "code",
   "execution_count": 89,
   "metadata": {},
   "outputs": [
    {
     "name": "stdout",
     "output_type": "stream",
     "text": [
      "0  low growth:  4673\n",
      "1  high growth:  179\n"
     ]
    }
   ],
   "source": [
    "# Confusion table with different tresholds ----------------------------------------------------------\n",
    "\n",
    "# default: the threshold 0.5 is used to convert probabilities to binary classes\n",
    "logit_class_prediction = best_model.predict(best_model_X_holdout)\n",
    "\n",
    "values, counts = np.unique(logit_class_prediction.tolist(), return_counts=True)\n",
    "print(values[0], \" low growth: \", counts[0])\n",
    "print(values[1], \" high growth: \", counts[1])"
   ]
  },
  {
   "cell_type": "code",
   "execution_count": 90,
   "metadata": {},
   "outputs": [
    {
     "data": {
      "text/html": [
       "<div>\n",
       "<style scoped>\n",
       "    .dataframe tbody tr th:only-of-type {\n",
       "        vertical-align: middle;\n",
       "    }\n",
       "\n",
       "    .dataframe tbody tr th {\n",
       "        vertical-align: top;\n",
       "    }\n",
       "\n",
       "    .dataframe thead th {\n",
       "        text-align: right;\n",
       "    }\n",
       "</style>\n",
       "<table border=\"1\" class=\"dataframe\">\n",
       "  <thead>\n",
       "    <tr style=\"text-align: right;\">\n",
       "      <th></th>\n",
       "      <th>Predicted low growth</th>\n",
       "      <th>Predicted high growth</th>\n",
       "    </tr>\n",
       "  </thead>\n",
       "  <tbody>\n",
       "    <tr>\n",
       "      <th>Actul low growth</th>\n",
       "      <td>4014</td>\n",
       "      <td>55</td>\n",
       "    </tr>\n",
       "    <tr>\n",
       "      <th>Actual hight growth</th>\n",
       "      <td>659</td>\n",
       "      <td>124</td>\n",
       "    </tr>\n",
       "  </tbody>\n",
       "</table>\n",
       "</div>"
      ],
      "text/plain": [
       "                     Predicted low growth  Predicted high growth\n",
       "Actul low growth                     4014                     55\n",
       "Actual hight growth                   659                    124"
      ]
     },
     "execution_count": 90,
     "metadata": {},
     "output_type": "execute_result"
    }
   ],
   "source": [
    "# confusion matrix: summarize different type of errors and successfully predicted cases\n",
    "# positive = \"yes\": explicitly specify the positive case\n",
    "cm_object1 = confusion_matrix(y_holdout, logit_class_prediction, labels=[0, 1])\n",
    "cm1 = pd.DataFrame(\n",
    "    cm_object1,\n",
    "    index=[\"Actul low growth\", \"Actual hight growth\"],\n",
    "    columns=[\"Predicted low growth\", \"Predicted high growth\"],\n",
    ")\n",
    "cm1"
   ]
  },
  {
   "cell_type": "code",
   "execution_count": 91,
   "metadata": {},
   "outputs": [
    {
     "data": {
      "text/plain": [
       "0.165"
      ]
     },
     "execution_count": 91,
     "metadata": {},
     "output_type": "execute_result"
    }
   ],
   "source": [
    "# a sensible choice: mean of predicted probabilities\n",
    "mean_predicted_default_prob = np.mean(logit_predicted_probabilities_holdout)\n",
    "round(mean_predicted_default_prob, 3)"
   ]
  },
  {
   "cell_type": "code",
   "execution_count": 92,
   "metadata": {},
   "outputs": [
    {
     "data": {
      "text/html": [
       "<div>\n",
       "<style scoped>\n",
       "    .dataframe tbody tr th:only-of-type {\n",
       "        vertical-align: middle;\n",
       "    }\n",
       "\n",
       "    .dataframe tbody tr th {\n",
       "        vertical-align: top;\n",
       "    }\n",
       "\n",
       "    .dataframe thead th {\n",
       "        text-align: right;\n",
       "    }\n",
       "</style>\n",
       "<table border=\"1\" class=\"dataframe\">\n",
       "  <thead>\n",
       "    <tr style=\"text-align: right;\">\n",
       "      <th></th>\n",
       "      <th>Predicted low growth</th>\n",
       "      <th>Predicted high growth</th>\n",
       "    </tr>\n",
       "  </thead>\n",
       "  <tbody>\n",
       "    <tr>\n",
       "      <th>Actual low growth</th>\n",
       "      <td>2822</td>\n",
       "      <td>1247</td>\n",
       "    </tr>\n",
       "    <tr>\n",
       "      <th>Actual high growth</th>\n",
       "      <td>222</td>\n",
       "      <td>561</td>\n",
       "    </tr>\n",
       "  </tbody>\n",
       "</table>\n",
       "</div>"
      ],
      "text/plain": [
       "                    Predicted low growth  Predicted high growth\n",
       "Actual low growth                   2822                   1247\n",
       "Actual high growth                   222                    561"
      ]
     },
     "execution_count": 92,
     "metadata": {},
     "output_type": "execute_result"
    }
   ],
   "source": [
    "holdout_prediction = np.where(\n",
    "    logit_predicted_probabilities_holdout < mean_predicted_default_prob, 0, 1\n",
    ")\n",
    "cm_object2 = confusion_matrix(y_holdout, holdout_prediction, labels=[0, 1])\n",
    "cm2 = pd.DataFrame(\n",
    "    cm_object2,\n",
    "    index=[\"Actual low growth\", \"Actual high growth\"],\n",
    "    columns=[\"Predicted low growth\", \"Predicted high growth\"],\n",
    ")\n",
    "cm2"
   ]
  },
  {
   "cell_type": "code",
   "execution_count": 93,
   "metadata": {
    "scrolled": false
   },
   "outputs": [
    {
     "data": {
      "image/png": "[encoded data removed]",
      "text/plain": [
       "<Figure size 640x480 with 1 Axes>"
      ]
     },
     "metadata": {},
     "output_type": "display_data"
    },
    {
     "data": {
      "text/plain": [
       "<ggplot: (326135122)>"
      ]
     },
     "execution_count": 93,
     "metadata": {},
     "output_type": "execute_result"
    }
   ],
   "source": [
    "# Calibration curve -----------------------------------------------------------\n",
    "# how well do estimated vs actual event probabilities relate to each other?\n",
    "\n",
    "holdout = pd.concat([best_model_X_holdout, y_holdout], axis=1)\n",
    "holdout[\"best_logit_no_loss_pred\"] = logit_predicted_probabilities_holdout\n",
    "create_calibration_plot(\n",
    "    holdout,\n",
    "    file_name=\"ch17-figure-1-logit-m4-calibration\",\n",
    "    prob_var=\"best_logit_no_loss_pred\",\n",
    "    actual_var=target,\n",
    "    y_lab=\"Actual event probability\",\n",
    "    #breaks=[0,0.1,0.2,0.3,0.4,0.5,0.6,0.7],\n",
    ")"
   ]
  },
  {
   "cell_type": "code",
   "execution_count": 94,
   "metadata": {},
   "outputs": [],
   "source": [
    "data_train = data_train.assign(\n",
    "    best_logit_no_loss_pred=logit_predicted_probabilities_train, target=y_train\n",
    ")"
   ]
  },
  {
   "cell_type": "code",
   "execution_count": 95,
   "metadata": {},
   "outputs": [
    {
     "data": {
      "image/png": "[encoded data removed]",
      "text/plain": [
       "<Figure size 640x480 with 1 Axes>"
      ]
     },
     "metadata": {},
     "output_type": "display_data"
    },
    {
     "data": {
      "text/plain": [
       "<ggplot: (325897831)>"
      ]
     },
     "execution_count": 95,
     "metadata": {},
     "output_type": "execute_result"
    }
   ],
   "source": [
    "\n",
    "create_calibration_plot(\n",
    "    data_train,\n",
    "    file_name=\"ch17-figure-1-logit-m4-calibration\",\n",
    "    prob_var=\"best_logit_no_loss_pred\",\n",
    "    actual_var=\"target\",\n",
    "    y_lab=\"Actual event probability\",\n",
    "        #breaks=[0,0.1,0.2,0.3,0.4,0.5,0.6,0.7],\n",
    ")"
   ]
  },
  {
   "cell_type": "code",
   "execution_count": 47,
   "metadata": {},
   "outputs": [
    {
     "data": {
      "text/plain": [
       "'high_roe_firm'"
      ]
     },
     "execution_count": 47,
     "metadata": {},
     "output_type": "execute_result"
    }
   ],
   "source": [
    "target"
   ]
  },
  {
   "cell_type": "code",
   "execution_count": 48,
   "metadata": {},
   "outputs": [
    {
     "data": {
      "text/plain": [
       "<AxesSubplot:>"
      ]
     },
     "execution_count": 48,
     "metadata": {},
     "output_type": "execute_result"
    },
    {
     "data": {
      "image/png": "[encoded data removed]",
      "text/plain": [
       "<Figure size 432x288 with 1 Axes>"
      ]
     },
     "metadata": {
      "needs_background": "light"
     },
     "output_type": "display_data"
    }
   ],
   "source": [
    "#data_train.best_logit_no_loss_pred.hist()"
   ]
  },
  {
   "cell_type": "code",
   "execution_count": 49,
   "metadata": {},
   "outputs": [
    {
     "data": {
      "text/plain": [
       "<AxesSubplot:>"
      ]
     },
     "execution_count": 49,
     "metadata": {},
     "output_type": "execute_result"
    },
    {
     "data": {
      "image/png": "[encoded data removed]",
      "text/plain": [
       "<Figure size 432x288 with 1 Axes>"
      ]
     },
     "metadata": {
      "needs_background": "light"
     },
     "output_type": "display_data"
    }
   ],
   "source": [
    "#holdout.best_logit_no_loss_pred.hist()"
   ]
  },
  {
   "cell_type": "code",
   "execution_count": 50,
   "metadata": {},
   "outputs": [
    {
     "data": {
      "text/html": [
       "<div>\n",
       "<style scoped>\n",
       "    .dataframe tbody tr th:only-of-type {\n",
       "        vertical-align: middle;\n",
       "    }\n",
       "\n",
       "    .dataframe tbody tr th {\n",
       "        vertical-align: top;\n",
       "    }\n",
       "\n",
       "    .dataframe thead th {\n",
       "        text-align: right;\n",
       "    }\n",
       "</style>\n",
       "<table border=\"1\" class=\"dataframe\">\n",
       "  <thead>\n",
       "    <tr style=\"text-align: right;\">\n",
       "      <th></th>\n",
       "      <th>variable</th>\n",
       "      <th>coefficient</th>\n",
       "    </tr>\n",
       "  </thead>\n",
       "  <tbody>\n",
       "    <tr>\n",
       "      <th>13</th>\n",
       "      <td>inventories_pl</td>\n",
       "      <td>-1.774547</td>\n",
       "    </tr>\n",
       "    <tr>\n",
       "      <th>41</th>\n",
       "      <td>inc_bef_tax_pl_flag_high</td>\n",
       "      <td>-1.702249</td>\n",
       "    </tr>\n",
       "    <tr>\n",
       "      <th>20</th>\n",
       "      <td>share_eq_bs_quad</td>\n",
       "      <td>-1.622787</td>\n",
       "    </tr>\n",
       "    <tr>\n",
       "      <th>50</th>\n",
       "      <td>flag_high_ceo_age</td>\n",
       "      <td>-1.308357</td>\n",
       "    </tr>\n",
       "    <tr>\n",
       "      <th>8</th>\n",
       "      <td>intang_assets_bs</td>\n",
       "      <td>-0.888759</td>\n",
       "    </tr>\n",
       "    <tr>\n",
       "      <th>...</th>\n",
       "      <td>...</td>\n",
       "      <td>...</td>\n",
       "    </tr>\n",
       "    <tr>\n",
       "      <th>91</th>\n",
       "      <td>C(ind2_cat)[33.0]:C(urban_m)[3.0]</td>\n",
       "      <td>0.774950</td>\n",
       "    </tr>\n",
       "    <tr>\n",
       "      <th>35</th>\n",
       "      <td>liq_assets_bs_flag_error</td>\n",
       "      <td>0.780016</td>\n",
       "    </tr>\n",
       "    <tr>\n",
       "      <th>19</th>\n",
       "      <td>profit_loss_year_pl_quad</td>\n",
       "      <td>0.931902</td>\n",
       "    </tr>\n",
       "    <tr>\n",
       "      <th>23</th>\n",
       "      <td>inventories_pl_flag_high</td>\n",
       "      <td>1.157218</td>\n",
       "    </tr>\n",
       "    <tr>\n",
       "      <th>12</th>\n",
       "      <td>inc_bef_tax_pl</td>\n",
       "      <td>2.219217</td>\n",
       "    </tr>\n",
       "  </tbody>\n",
       "</table>\n",
       "<p>155 rows × 2 columns</p>\n",
       "</div>"
      ],
      "text/plain": [
       "                             variable  coefficient\n",
       "13                     inventories_pl    -1.774547\n",
       "41           inc_bef_tax_pl_flag_high    -1.702249\n",
       "20                   share_eq_bs_quad    -1.622787\n",
       "50                  flag_high_ceo_age    -1.308357\n",
       "8                    intang_assets_bs    -0.888759\n",
       "..                                ...          ...\n",
       "91  C(ind2_cat)[33.0]:C(urban_m)[3.0]     0.774950\n",
       "35           liq_assets_bs_flag_error     0.780016\n",
       "19           profit_loss_year_pl_quad     0.931902\n",
       "23           inventories_pl_flag_high     1.157218\n",
       "12                     inc_bef_tax_pl     2.219217\n",
       "\n",
       "[155 rows x 2 columns]"
      ]
     },
     "execution_count": 50,
     "metadata": {},
     "output_type": "execute_result"
    }
   ],
   "source": [
    "#coef_matrix(best_model_X_holdout,best_model).sort_values(by=[\"coefficient\"])"
   ]
  },
  {
   "cell_type": "code",
   "execution_count": 51,
   "metadata": {},
   "outputs": [
    {
     "data": {
      "text/plain": [
       "0.30054973819011876"
      ]
     },
     "execution_count": 51,
     "metadata": {},
     "output_type": "execute_result"
    }
   ],
   "source": [
    "holdout.loc[lambda x: x[target]==1,\"best_logit_no_loss_pred\"].mean()"
   ]
  },
  {
   "cell_type": "code",
   "execution_count": 52,
   "metadata": {},
   "outputs": [
    {
     "data": {
      "text/plain": [
       "0.1392353466002537"
      ]
     },
     "execution_count": 52,
     "metadata": {},
     "output_type": "execute_result"
    }
   ],
   "source": [
    "holdout.loc[lambda x: x[target]==0,\"best_logit_no_loss_pred\"].mean()"
   ]
  },
  {
   "cell_type": "markdown",
   "metadata": {},
   "source": [
    "## 3.3. Classification with a loss function"
   ]
  },
  {
   "cell_type": "code",
   "execution_count": 19,
   "metadata": {},
   "outputs": [],
   "source": [
    "# Introduce loss function\n",
    "# relative cost of of a false negative classification (as compared with a false positive classification)\n",
    "FP = 2\n",
    "FN = 1\n",
    "cost = FN / FP\n",
    "# the prevalence, or the proportion of cases in the population (n.cases/(n.controls+n.cases))\n",
    "prevelance = y_train.sum() / len(y_train)"
   ]
  },
  {
   "cell_type": "code",
   "execution_count": 54,
   "metadata": {},
   "outputs": [],
   "source": [
    "# Draw ROC Curve and find optimal threshold with loss function --------------------------\n",
    "# The optimal cut-off is the threshold that maximizes the distance to the identity (diagonal) line\n",
    "\n",
    "best_thresholds_cv = dict()\n",
    "expected_loss_cv = dict()\n",
    "fold5_threshold = dict()\n",
    "fold5_expected_loss = dict()\n",
    "fold5_all_coords = dict()\n",
    "\n",
    "for i, model_name in enumerate(logit_models):\n",
    "    best_thresholds = []\n",
    "    expected_loss = []\n",
    "    if model_name != \"LASSO\":\n",
    "        X = logit_model_vars[i]\n",
    "        c_index = 0\n",
    "    else:\n",
    "        X = normalized_logitvars\n",
    "        c_index = best_lambda_i\n",
    "    fold = 0\n",
    "    for train_index, test_index in k.split(X):\n",
    "        X_fold = X.iloc[test_index, :]\n",
    "        y_fold = y_train.iloc[test_index]\n",
    "        pred_fold = generate_fold_prediction(\n",
    "            logit_models[model_name], X_fold, fold, c_index\n",
    "        )\n",
    "        false_pos_rate, true_pos_rate, thresholds = roc_curve(y_fold, pred_fold)\n",
    "        optimal_threshold = sorted(\n",
    "            list(\n",
    "                zip(\n",
    "                    np.abs(\n",
    "                        true_pos_rate\n",
    "                        + (1 - prevelance) / (cost * prevelance) * (1 - false_pos_rate)\n",
    "                    ),\n",
    "                    thresholds,\n",
    "                )\n",
    "            ),\n",
    "            key=lambda i: i[0],\n",
    "            reverse=True,\n",
    "        )[0][1]\n",
    "        best_thresholds.append(optimal_threshold)\n",
    "        threshold_prediction = np.where(pred_fold < optimal_threshold, 0, 1)\n",
    "        tn, fp, fn, tp = confusion_matrix(\n",
    "            y_fold, threshold_prediction, labels=[0, 1]\n",
    "        ).ravel()\n",
    "        curr_exp_loss = (fp * FP + fn * FN) / len(y_fold)\n",
    "        expected_loss.append(curr_exp_loss)\n",
    "        fold = fold + 1\n",
    "\n",
    "    best_thresholds_cv[model_name] = np.mean(best_thresholds)\n",
    "    expected_loss_cv[model_name] = np.mean(expected_loss)\n",
    "\n",
    "    # for fold #5\n",
    "    fold5_threshold[model_name] = optimal_threshold\n",
    "    fold5_expected_loss[model_name] = curr_exp_loss\n",
    "\n",
    "    all_coords = pd.DataFrame(\n",
    "        {\n",
    "            \"false_pos\": false_pos_rate * sum(y_fold == 0),\n",
    "            \"true_pos\": true_pos_rate * sum(y_fold == 1),\n",
    "            \"false_neg\": sum(y_fold == 1) - true_pos_rate * sum(y_fold == 1),\n",
    "            \"true_neg\": sum(y_fold == 0) - false_pos_rate * sum(y_fold == 0),\n",
    "            \"pos\": sum(y_fold == 1),\n",
    "            \"neg\": sum(y_fold == 0),\n",
    "            \"n\": len(y_fold),\n",
    "            \"thresholds\": thresholds,\n",
    "        }\n",
    "    )\n",
    "\n",
    "    fold5_all_coords[model_name] = all_coords"
   ]
  },
  {
   "cell_type": "code",
   "execution_count": 55,
   "metadata": {},
   "outputs": [],
   "source": [
    "logit_summary2 = pd.DataFrame(\n",
    "    best_thresholds_cv.items(), columns=[\"Model\", \"Avg of optimal thresholds\"]\n",
    ")\n",
    "logit_summary2[\"Threshold for Fold5\"] = fold5_threshold.values()\n",
    "logit_summary2[\"Avg expected loss\"] = expected_loss_cv.values()\n",
    "logit_summary2[\"Expected loss for Fold5\"] = fold5_expected_loss.values()"
   ]
  },
  {
   "cell_type": "code",
   "execution_count": 56,
   "metadata": {},
   "outputs": [
    {
     "data": {
      "text/plain": [
       "{'X1': 0.1604980148051077,\n",
       " 'X2': 0.16049797580324338,\n",
       " 'X3': 0.15864289113019603,\n",
       " 'X4': 0.15581615301211396,\n",
       " 'X5': 0.1558160750083854,\n",
       " 'LASSO': 0.15449098666916278}"
      ]
     },
     "execution_count": 56,
     "metadata": {},
     "output_type": "execute_result"
    }
   ],
   "source": [
    "#expected_loss_cv"
   ]
  },
  {
   "cell_type": "code",
   "execution_count": 57,
   "metadata": {
    "scrolled": true
   },
   "outputs": [
    {
     "data": {
      "text/html": [
       "<div>\n",
       "<style scoped>\n",
       "    .dataframe tbody tr th:only-of-type {\n",
       "        vertical-align: middle;\n",
       "    }\n",
       "\n",
       "    .dataframe tbody tr th {\n",
       "        vertical-align: top;\n",
       "    }\n",
       "\n",
       "    .dataframe thead th {\n",
       "        text-align: right;\n",
       "    }\n",
       "</style>\n",
       "<table border=\"1\" class=\"dataframe\">\n",
       "  <thead>\n",
       "    <tr style=\"text-align: right;\">\n",
       "      <th></th>\n",
       "      <th>Model</th>\n",
       "      <th>Avg of optimal thresholds</th>\n",
       "      <th>Threshold for Fold5</th>\n",
       "      <th>Avg expected loss</th>\n",
       "      <th>Expected loss for Fold5</th>\n",
       "    </tr>\n",
       "  </thead>\n",
       "  <tbody>\n",
       "    <tr>\n",
       "      <th>0</th>\n",
       "      <td>X1</td>\n",
       "      <td>1.087004</td>\n",
       "      <td>1.554836</td>\n",
       "      <td>0.160498</td>\n",
       "      <td>0.163428</td>\n",
       "    </tr>\n",
       "    <tr>\n",
       "      <th>1</th>\n",
       "      <td>X2</td>\n",
       "      <td>1.285319</td>\n",
       "      <td>1.583218</td>\n",
       "      <td>0.160498</td>\n",
       "      <td>0.163428</td>\n",
       "    </tr>\n",
       "    <tr>\n",
       "      <th>2</th>\n",
       "      <td>X3</td>\n",
       "      <td>0.568751</td>\n",
       "      <td>0.511444</td>\n",
       "      <td>0.158643</td>\n",
       "      <td>0.161219</td>\n",
       "    </tr>\n",
       "    <tr>\n",
       "      <th>3</th>\n",
       "      <td>X4</td>\n",
       "      <td>0.574241</td>\n",
       "      <td>0.528519</td>\n",
       "      <td>0.155816</td>\n",
       "      <td>0.155477</td>\n",
       "    </tr>\n",
       "    <tr>\n",
       "      <th>4</th>\n",
       "      <td>X5</td>\n",
       "      <td>0.604047</td>\n",
       "      <td>0.536958</td>\n",
       "      <td>0.155816</td>\n",
       "      <td>0.156802</td>\n",
       "    </tr>\n",
       "    <tr>\n",
       "      <th>5</th>\n",
       "      <td>LASSO</td>\n",
       "      <td>0.610444</td>\n",
       "      <td>0.671059</td>\n",
       "      <td>0.154491</td>\n",
       "      <td>0.155035</td>\n",
       "    </tr>\n",
       "  </tbody>\n",
       "</table>\n",
       "</div>"
      ],
      "text/plain": [
       "   Model  Avg of optimal thresholds  Threshold for Fold5  Avg expected loss  \\\n",
       "0     X1                   1.087004             1.554836           0.160498   \n",
       "1     X2                   1.285319             1.583218           0.160498   \n",
       "2     X3                   0.568751             0.511444           0.158643   \n",
       "3     X4                   0.574241             0.528519           0.155816   \n",
       "4     X5                   0.604047             0.536958           0.155816   \n",
       "5  LASSO                   0.610444             0.671059           0.154491   \n",
       "\n",
       "   Expected loss for Fold5  \n",
       "0                 0.163428  \n",
       "1                 0.163428  \n",
       "2                 0.161219  \n",
       "3                 0.155477  \n",
       "4                 0.156802  \n",
       "5                 0.155035  "
      ]
     },
     "execution_count": 57,
     "metadata": {},
     "output_type": "execute_result"
    }
   ],
   "source": [
    "logit_summary2"
   ]
  },
  {
   "cell_type": "code",
   "execution_count": 58,
   "metadata": {},
   "outputs": [
    {
     "data": {
      "image/png": "[encoded data removed]",
      "text/plain": [
       "<Figure size 640x480 with 1 Axes>"
      ]
     },
     "metadata": {},
     "output_type": "display_data"
    },
    {
     "data": {
      "text/plain": [
       "<ggplot: (325809758)>"
      ]
     },
     "execution_count": 58,
     "metadata": {},
     "output_type": "execute_result"
    }
   ],
   "source": [
    "# Create loss plot based on Fold5 in CV ----------------------------------------------\n",
    "# select model to plot\n",
    "model_to_plot = \"X4\"\n",
    "create_loss_plot(\n",
    "    fold5_all_coords[model_to_plot],\n",
    "    fold5_threshold[model_to_plot],\n",
    "    fold5_expected_loss[model_to_plot],\n",
    ")"
   ]
  },
  {
   "cell_type": "code",
   "execution_count": 137,
   "metadata": {},
   "outputs": [
    {
     "data": {
      "image/png": "[encoded data removed]",
      "text/plain": [
       "<Figure size 640x480 with 1 Axes>"
      ]
     },
     "metadata": {},
     "output_type": "display_data"
    },
    {
     "data": {
      "text/plain": [
       "<ggplot: (325840101)>"
      ]
     },
     "execution_count": 137,
     "metadata": {},
     "output_type": "execute_result"
    }
   ],
   "source": [
    "# Create roc plot plot based on Fold5 in CV ----------------------------------------------\n",
    "# select model to plot\n",
    "model_to_plot = \"X4\"\n",
    "create_roc_plot_with_optimal(\n",
    "    fold5_all_coords[model_to_plot], fold5_threshold[model_to_plot]\n",
    ")"
   ]
  },
  {
   "cell_type": "code",
   "execution_count": 60,
   "metadata": {},
   "outputs": [
    {
     "data": {
      "text/plain": [
       "0.156"
      ]
     },
     "execution_count": 60,
     "metadata": {},
     "output_type": "execute_result"
    }
   ],
   "source": [
    "# Pick best model based on average expected loss ----------------------------------\n",
    "# X5\n",
    "best_logit_optimal_treshold = best_thresholds_cv[\"X5\"]\n",
    "\n",
    "# Get expected loss on holdout\n",
    "holdout_treshold = np.where(\n",
    "    logit_predicted_probabilities_holdout < best_logit_optimal_treshold, 0, 1\n",
    ")\n",
    "tn, fp, fn, tp = confusion_matrix(y_holdout, holdout_treshold, labels=[0, 1]).ravel()\n",
    "expected_loss_holdout = (fp * FP + fn * FN) / len(y_holdout)\n",
    "round(expected_loss_holdout, 3)"
   ]
  },
  {
   "cell_type": "code",
   "execution_count": 61,
   "metadata": {},
   "outputs": [
    {
     "data": {
      "text/html": [
       "<div>\n",
       "<style scoped>\n",
       "    .dataframe tbody tr th:only-of-type {\n",
       "        vertical-align: middle;\n",
       "    }\n",
       "\n",
       "    .dataframe tbody tr th {\n",
       "        vertical-align: top;\n",
       "    }\n",
       "\n",
       "    .dataframe thead th {\n",
       "        text-align: right;\n",
       "    }\n",
       "</style>\n",
       "<table border=\"1\" class=\"dataframe\">\n",
       "  <thead>\n",
       "    <tr style=\"text-align: right;\">\n",
       "      <th></th>\n",
       "      <th>Predicted low growth</th>\n",
       "      <th>Predicted higth growth</th>\n",
       "    </tr>\n",
       "  </thead>\n",
       "  <tbody>\n",
       "    <tr>\n",
       "      <th>Actual low growth</th>\n",
       "      <td>4041</td>\n",
       "      <td>28</td>\n",
       "    </tr>\n",
       "    <tr>\n",
       "      <th>Actual high growth</th>\n",
       "      <td>703</td>\n",
       "      <td>80</td>\n",
       "    </tr>\n",
       "  </tbody>\n",
       "</table>\n",
       "</div>"
      ],
      "text/plain": [
       "                    Predicted low growth  Predicted higth growth\n",
       "Actual low growth                   4041                      28\n",
       "Actual high growth                   703                      80"
      ]
     },
     "execution_count": 61,
     "metadata": {},
     "output_type": "execute_result"
    }
   ],
   "source": [
    "cm_object3 = confusion_matrix(y_holdout, holdout_treshold, labels=[0, 1])\n",
    "cm3 = pd.DataFrame(\n",
    "    cm_object3,\n",
    "    index=[\"Actual low growth\", \"Actual high growth\"],\n",
    "    columns=[\"Predicted low growth\", \"Predicted higth growth\"],\n",
    ")\n",
    "cm3"
   ]
  },
  {
   "cell_type": "markdown",
   "metadata": {},
   "source": [
    "# 4. PREDICTION WITH RANDOM FOREST"
   ]
  },
  {
   "cell_type": "code",
   "execution_count": 18,
   "metadata": {},
   "outputs": [],
   "source": [
    "rfvars_train = rfvars.iloc[index_train]\n",
    "rfvars_holdout = rfvars.iloc[index_holdout]"
   ]
  },
  {
   "cell_type": "markdown",
   "metadata": {},
   "source": [
    "## 4.1. Probability forest\n",
    "\n",
    "Split by gini, ratio of 1's in each tree, average over trees"
   ]
  },
  {
   "cell_type": "code",
   "execution_count": 17,
   "metadata": {},
   "outputs": [],
   "source": [
    "grid = {\n",
    "    \"max_features\": [5, 6, 7],\n",
    "    \"criterion\": [\"gini\"],\n",
    "    \"min_samples_split\": [11, 16],\n",
    "}  # 1 more than in R because here condition for min node size is >= while > in R"
   ]
  },
  {
   "cell_type": "code",
   "execution_count": 64,
   "metadata": {},
   "outputs": [],
   "source": [
    "prob_forest = RandomForestClassifier(random_state=42, n_estimators=500, oob_score=True)\n",
    "prob_forest_grid = GridSearchCV(prob_forest, grid, cv=k, refit='accuracy',\n",
    "                                scoring = ['accuracy', 'roc_auc', 'neg_brier_score'], n_jobs=-1)"
   ]
  },
  {
   "cell_type": "code",
   "execution_count": 65,
   "metadata": {},
   "outputs": [],
   "source": [
    "prob_forest_fit = prob_forest_grid.fit(rfvars_train, y_train)"
   ]
  },
  {
   "cell_type": "code",
   "execution_count": 66,
   "metadata": {},
   "outputs": [],
   "source": [
    "# create CV summary table\n",
    "cv_accuracy = np.zeros([6])\n",
    "for i in range(5):\n",
    "    cv_accuracy = (\n",
    "        cv_accuracy + prob_forest_fit.cv_results_[\"split\" + str(i) + \"_test_accuracy\"]\n",
    "    )\n",
    "cv_accuracy = cv_accuracy / 5\n",
    "\n",
    "cv_auc = np.zeros([6])\n",
    "for i in range(5):\n",
    "    cv_auc = cv_auc + prob_forest_fit.cv_results_[\"split\" + str(i) + \"_test_roc_auc\"]\n",
    "cv_auc = cv_auc / 5\n",
    "\n",
    "cv_rmse = np.zeros([6])\n",
    "for i in range(5):\n",
    "    cv_rmse = (\n",
    "        cv_rmse\n",
    "        + np.sqrt(\n",
    "            -1\n",
    "            * (prob_forest_fit.cv_results_[\"split\" + str(i) + \"_test_neg_brier_score\"])\n",
    "        ).tolist()\n",
    "    )\n",
    "cv_rmse = cv_rmse / 5\n",
    "\n",
    "prob_forest_cv_results = pd.DataFrame(\n",
    "    {\n",
    "        \"max_features\": prob_forest_fit.cv_results_[\"param_max_features\"],\n",
    "        \"min_samples_split\": prob_forest_fit.cv_results_[\"param_min_samples_split\"],\n",
    "        \"cv_accuracy\": cv_accuracy,\n",
    "        \"cv_auc\": cv_auc,\n",
    "        \"cv_rmse\": cv_rmse,\n",
    "    }\n",
    ")"
   ]
  },
  {
   "cell_type": "code",
   "execution_count": 67,
   "metadata": {},
   "outputs": [
    {
     "data": {
      "text/html": [
       "<div>\n",
       "<style scoped>\n",
       "    .dataframe tbody tr th:only-of-type {\n",
       "        vertical-align: middle;\n",
       "    }\n",
       "\n",
       "    .dataframe tbody tr th {\n",
       "        vertical-align: top;\n",
       "    }\n",
       "\n",
       "    .dataframe thead th {\n",
       "        text-align: right;\n",
       "    }\n",
       "</style>\n",
       "<table border=\"1\" class=\"dataframe\">\n",
       "  <thead>\n",
       "    <tr style=\"text-align: right;\">\n",
       "      <th></th>\n",
       "      <th>max_features</th>\n",
       "      <th>min_samples_split</th>\n",
       "      <th>cv_accuracy</th>\n",
       "      <th>cv_auc</th>\n",
       "      <th>cv_rmse</th>\n",
       "    </tr>\n",
       "  </thead>\n",
       "  <tbody>\n",
       "    <tr>\n",
       "      <th>0</th>\n",
       "      <td>5</td>\n",
       "      <td>11</td>\n",
       "      <td>0.848954</td>\n",
       "      <td>0.773154</td>\n",
       "      <td>0.337478</td>\n",
       "    </tr>\n",
       "    <tr>\n",
       "      <th>1</th>\n",
       "      <td>5</td>\n",
       "      <td>16</td>\n",
       "      <td>0.848424</td>\n",
       "      <td>0.772710</td>\n",
       "      <td>0.337718</td>\n",
       "    </tr>\n",
       "    <tr>\n",
       "      <th>2</th>\n",
       "      <td>6</td>\n",
       "      <td>11</td>\n",
       "      <td>0.849925</td>\n",
       "      <td>0.775176</td>\n",
       "      <td>0.336763</td>\n",
       "    </tr>\n",
       "    <tr>\n",
       "      <th>3</th>\n",
       "      <td>6</td>\n",
       "      <td>16</td>\n",
       "      <td>0.849395</td>\n",
       "      <td>0.776157</td>\n",
       "      <td>0.336774</td>\n",
       "    </tr>\n",
       "    <tr>\n",
       "      <th>4</th>\n",
       "      <td>7</td>\n",
       "      <td>11</td>\n",
       "      <td>0.850279</td>\n",
       "      <td>0.777199</td>\n",
       "      <td>0.336117</td>\n",
       "    </tr>\n",
       "    <tr>\n",
       "      <th>5</th>\n",
       "      <td>7</td>\n",
       "      <td>16</td>\n",
       "      <td>0.850455</td>\n",
       "      <td>0.778175</td>\n",
       "      <td>0.336017</td>\n",
       "    </tr>\n",
       "  </tbody>\n",
       "</table>\n",
       "</div>"
      ],
      "text/plain": [
       "  max_features min_samples_split  cv_accuracy    cv_auc   cv_rmse\n",
       "0            5                11     0.848954  0.773154  0.337478\n",
       "1            5                16     0.848424  0.772710  0.337718\n",
       "2            6                11     0.849925  0.775176  0.336763\n",
       "3            6                16     0.849395  0.776157  0.336774\n",
       "4            7                11     0.850279  0.777199  0.336117\n",
       "5            7                16     0.850455  0.778175  0.336017"
      ]
     },
     "execution_count": 67,
     "metadata": {},
     "output_type": "execute_result"
    }
   ],
   "source": [
    "prob_forest_cv_results"
   ]
  },
  {
   "cell_type": "code",
   "execution_count": 68,
   "metadata": {},
   "outputs": [
    {
     "data": {
      "text/plain": [
       "{'criterion': 'gini', 'max_features': 7, 'min_samples_split': 16}"
      ]
     },
     "execution_count": 68,
     "metadata": {},
     "output_type": "execute_result"
    }
   ],
   "source": [
    "# obtain optimal parameter values\n",
    "best_mtry = prob_forest_fit.best_params_[\"max_features\"]\n",
    "best_min_node_size = prob_forest_fit.best_params_[\"min_samples_split\"]\n",
    "prob_forest_fit.best_params_"
   ]
  },
  {
   "cell_type": "code",
   "execution_count": 69,
   "metadata": {},
   "outputs": [],
   "source": [
    "# Get average (ie over the folds) RMSE and AUC ------------------------------------\n",
    "prob_forest_best_results = prob_forest_cv_results[\n",
    "    (prob_forest_cv_results.max_features == best_mtry)\n",
    "    & (prob_forest_cv_results.min_samples_split == best_min_node_size)\n",
    "]\n",
    "prob_forest_best_results_index = prob_forest_best_results.index.values[0]\n",
    "\n",
    "CV_RMSE[\"rf_p\"] = prob_forest_best_results.cv_rmse.values[0]\n",
    "CV_AUC[\"rf_p\"] = prob_forest_best_results.cv_auc.values[0]"
   ]
  },
  {
   "cell_type": "code",
   "execution_count": 70,
   "metadata": {},
   "outputs": [],
   "source": [
    "# Get fold level RMSE and AUC ------------------------------------\n",
    "\n",
    "CV_RMSE_folds_rf_p = list()\n",
    "for i in range(5):\n",
    "    rmse = np.sqrt(\n",
    "        -1 * (prob_forest_fit.cv_results_[\"split\" + str(i) + \"_test_neg_brier_score\"])\n",
    "    ).tolist()[prob_forest_best_results_index]\n",
    "    CV_RMSE_folds_rf_p.append(rmse)\n",
    "CV_RMSE_folds[\"rf_p\"] = CV_RMSE_folds_rf_p\n",
    "\n",
    "CV_AUC_folds_rf_p = list()\n",
    "for i in range(5):\n",
    "    rmse = prob_forest_fit.cv_results_[\"split\" + str(i) + \"_test_roc_auc\"][\n",
    "        prob_forest_best_results_index\n",
    "    ]\n",
    "    CV_AUC_folds_rf_p.append(rmse)\n",
    "CV_AUC_folds[\"rf_p\"] = CV_AUC_folds_rf_p"
   ]
  },
  {
   "cell_type": "code",
   "execution_count": 20,
   "metadata": {},
   "outputs": [],
   "source": [
    "best_mtry = 7\n",
    "best_min_node_size = 16"
   ]
  },
  {
   "cell_type": "markdown",
   "metadata": {},
   "source": [
    "## 4.2. Use loss function and search for best thresholds and expected loss over folds"
   ]
  },
  {
   "cell_type": "code",
   "execution_count": 21,
   "metadata": {},
   "outputs": [],
   "source": [
    "best_thresholds = list()\n",
    "expected_loss = list()\n",
    "\n",
    "fold = 0\n",
    "for train_index, test_index in k.split(rfvars_train):\n",
    "    X_fold = rfvars_train.iloc[test_index, :]\n",
    "    y_fold = y_train.iloc[test_index]\n",
    "\n",
    "    X_fold_train = rfvars_train.iloc[train_index, :]\n",
    "    y_fold_train = y_train.iloc[train_index]\n",
    "\n",
    "    prob_forest_best = RandomForestClassifier(\n",
    "        random_state=42,\n",
    "        n_estimators=500,\n",
    "        oob_score=True,\n",
    "        criterion=\"gini\",\n",
    "        max_features=best_mtry,\n",
    "        min_samples_split=best_min_node_size,\n",
    "    )\n",
    "    prob_forest_best_fold = prob_forest_best.fit(X_fold_train, y_fold_train)\n",
    "    pred_fold = prob_forest_best_fold.predict_proba(X_fold)[:, 1]\n",
    "\n",
    "    false_pos_rate, true_pos_rate, threshold = roc_curve(y_fold, pred_fold)\n",
    "    best_threshold = sorted(\n",
    "        list(\n",
    "            zip(\n",
    "                np.abs(\n",
    "                    true_pos_rate\n",
    "                    + (1 - prevelance) / (cost * prevelance) * (1 - false_pos_rate)\n",
    "                ),\n",
    "                threshold,\n",
    "            )\n",
    "        ),\n",
    "        key=lambda x: x[0],\n",
    "        reverse=True,\n",
    "    )[0][1]\n",
    "    best_thresholds.append(best_threshold)\n",
    "    threshold_prediction = np.where(pred_fold < best_threshold, 0, 1)\n",
    "    tn, fp, fn, tp = confusion_matrix(\n",
    "        y_fold, threshold_prediction, labels=[0, 1]\n",
    "    ).ravel()\n",
    "    curr_exp_loss = (fp * FP + fn * FN) / len(y_fold)\n",
    "    expected_loss.append(curr_exp_loss)\n",
    "\n",
    "fold5_threshold_rf = best_threshold\n",
    "fold5_expected_loss_rf = curr_exp_loss\n",
    "\n",
    "all_coords_rf = pd.DataFrame(\n",
    "    {\n",
    "        \"false_pos\": false_pos_rate * sum(y_fold == 0),\n",
    "        \"true_pos\": true_pos_rate * sum(y_fold == 1),\n",
    "        \"false_neg\": sum(y_fold == 1) - true_pos_rate * sum(y_fold == 1),\n",
    "        \"true_neg\": sum(y_fold == 0) - false_pos_rate * sum(y_fold == 0),\n",
    "        \"pos\": sum(y_fold == 1),\n",
    "        \"neg\": sum(y_fold == 0),\n",
    "        \"n\": len(y_fold),\n",
    "        \"thresholds\": threshold,\n",
    "    }\n",
    ")"
   ]
  },
  {
   "cell_type": "code",
   "execution_count": 33,
   "metadata": {},
   "outputs": [],
   "source": [
    "fold5_threshold_rf = best_threshold\n",
    "fold5_expected_loss_rf = curr_exp_loss\n",
    "\n",
    "all_coords_rf = pd.DataFrame(\n",
    "    {\n",
    "        \"false_pos\": false_pos_rate * sum(y_fold == 0),\n",
    "        \"true_pos\": true_pos_rate * sum(y_fold == 1),\n",
    "        \"false_neg\": sum(y_fold == 1) - true_pos_rate * sum(y_fold == 1),\n",
    "        \"true_neg\": sum(y_fold == 0) - false_pos_rate * sum(y_fold == 0),\n",
    "        \"pos\": sum(y_fold == 1),\n",
    "        \"neg\": sum(y_fold == 0),\n",
    "        \"n\": len(y_fold),\n",
    "        \"thresholds\": threshold,\n",
    "    }\n",
    ")"
   ]
  },
  {
   "cell_type": "code",
   "execution_count": 73,
   "metadata": {},
   "outputs": [],
   "source": [
    "expected_loss_cv[\"rf_p\"] = np.mean(expected_loss)\n",
    "best_thresholds_cv[\"rf_p\"] = np.mean(best_thresholds)"
   ]
  },
  {
   "cell_type": "code",
   "execution_count": 74,
   "metadata": {},
   "outputs": [
    {
     "data": {
      "text/html": [
       "<div>\n",
       "<style scoped>\n",
       "    .dataframe tbody tr th:only-of-type {\n",
       "        vertical-align: middle;\n",
       "    }\n",
       "\n",
       "    .dataframe tbody tr th {\n",
       "        vertical-align: top;\n",
       "    }\n",
       "\n",
       "    .dataframe thead th {\n",
       "        text-align: right;\n",
       "    }\n",
       "</style>\n",
       "<table border=\"1\" class=\"dataframe\">\n",
       "  <thead>\n",
       "    <tr style=\"text-align: right;\">\n",
       "      <th></th>\n",
       "      <th>CV RMSE</th>\n",
       "      <th>CV AUC</th>\n",
       "      <th>Avg of optimal thresholds</th>\n",
       "      <th>Threshold for Fold5</th>\n",
       "      <th>Avg expected loss</th>\n",
       "      <th>Expected loss for Fold5</th>\n",
       "    </tr>\n",
       "  </thead>\n",
       "  <tbody>\n",
       "    <tr>\n",
       "      <th>0</th>\n",
       "      <td>0.336</td>\n",
       "      <td>0.778</td>\n",
       "      <td>0.533</td>\n",
       "      <td>0.594</td>\n",
       "      <td>0.153</td>\n",
       "      <td>0.154</td>\n",
       "    </tr>\n",
       "  </tbody>\n",
       "</table>\n",
       "</div>"
      ],
      "text/plain": [
       "   CV RMSE  CV AUC  Avg of optimal thresholds  Threshold for Fold5  \\\n",
       "0    0.336   0.778                      0.533                0.594   \n",
       "\n",
       "   Avg expected loss  Expected loss for Fold5  \n",
       "0              0.153                    0.154  "
      ]
     },
     "execution_count": 74,
     "metadata": {},
     "output_type": "execute_result"
    }
   ],
   "source": [
    "rf_summary = pd.DataFrame(\n",
    "    {\n",
    "        \"CV RMSE\": [round(CV_RMSE[\"rf_p\"], 3)],\n",
    "        \"CV AUC\": [round(CV_AUC[\"rf_p\"], 3)],\n",
    "        \"Avg of optimal thresholds\": [round(best_thresholds_cv[\"rf_p\"], 3)],\n",
    "        \"Threshold for Fold5\": [round(best_threshold, 3)],\n",
    "        \"Avg expected loss\": [round(expected_loss_cv[\"rf_p\"], 3)],\n",
    "        \"Expected loss for Fold5\": [round(curr_exp_loss, 3)],\n",
    "    }\n",
    ")\n",
    "\n",
    "rf_summary"
   ]
  },
  {
   "cell_type": "code",
   "execution_count": 75,
   "metadata": {},
   "outputs": [
    {
     "data": {
      "image/png": "[encoded data removed]",
      "text/plain": [
       "<Figure size 640x480 with 1 Axes>"
      ]
     },
     "metadata": {},
     "output_type": "display_data"
    },
    {
     "data": {
      "text/plain": [
       "<ggplot: (286066857)>"
      ]
     },
     "execution_count": 75,
     "metadata": {},
     "output_type": "execute_result"
    }
   ],
   "source": [
    "# Create plots based on Fold5 in CV ----------------------------------------------\n",
    "create_loss_plot(all_coords_rf, fold5_threshold_rf, fold5_expected_loss_rf)"
   ]
  },
  {
   "cell_type": "code",
   "execution_count": 136,
   "metadata": {},
   "outputs": [
    {
     "data": {
      "image/png": "[encoded data removed]",
      "text/plain": [
       "<Figure size 640x480 with 1 Axes>"
      ]
     },
     "metadata": {},
     "output_type": "display_data"
    },
    {
     "data": {
      "text/plain": [
       "<ggplot: (325740873)>"
      ]
     },
     "execution_count": 136,
     "metadata": {},
     "output_type": "execute_result"
    }
   ],
   "source": [
    "create_roc_plot_with_optimal(all_coords_rf, fold5_threshold_rf)"
   ]
  },
  {
   "cell_type": "code",
   "execution_count": 77,
   "metadata": {},
   "outputs": [
    {
     "data": {
      "text/plain": [
       "0.333"
      ]
     },
     "execution_count": 77,
     "metadata": {},
     "output_type": "execute_result"
    }
   ],
   "source": [
    "# Take model to holdout and estimate RMSE, AUC and expected loss ------------------------------------\n",
    "prob_forest_fit_best = prob_forest_fit.best_estimator_\n",
    "rf_predicted_probabilities_holdout = prob_forest_fit_best.predict_proba(rfvars_holdout)[:,1]\n",
    "rmse_rf = np.sqrt(mean_squared_error(y_holdout, rf_predicted_probabilities_holdout))\n",
    "round(rmse_rf, 3)"
   ]
  },
  {
   "cell_type": "code",
   "execution_count": 78,
   "metadata": {},
   "outputs": [
    {
     "data": {
      "text/plain": [
       "0.788"
      ]
     },
     "execution_count": 78,
     "metadata": {},
     "output_type": "execute_result"
    }
   ],
   "source": [
    "# ROC AUC  on holdout\n",
    "auc_rf = roc_auc_score(y_holdout, rf_predicted_probabilities_holdout)\n",
    "round(auc_rf, 3)"
   ]
  },
  {
   "cell_type": "code",
   "execution_count": 79,
   "metadata": {},
   "outputs": [
    {
     "data": {
      "text/plain": [
       "0.155"
      ]
     },
     "execution_count": 79,
     "metadata": {},
     "output_type": "execute_result"
    }
   ],
   "source": [
    "# Get expected loss on holdout\n",
    "holdout_treshold = np.where(rf_predicted_probabilities_holdout < best_thresholds_cv['rf_p'], 0, 1)\n",
    "tn, fp, fn, tp = confusion_matrix(y_holdout, holdout_treshold, labels=[0,1]).ravel()\n",
    "expected_loss_holdout = (fp*FP + fn*FN)/len(y_holdout)\n",
    "round(expected_loss_holdout, 3)"
   ]
  },
  {
   "cell_type": "code",
   "execution_count": 142,
   "metadata": {},
   "outputs": [
    {
     "data": {
      "image/png": "[encoded data removed]",
      "text/plain": [
       "<Figure size 640x480 with 1 Axes>"
      ]
     },
     "metadata": {},
     "output_type": "display_data"
    },
    {
     "data": {
      "text/plain": [
       "<ggplot: (326939121)>"
      ]
     },
     "execution_count": 142,
     "metadata": {},
     "output_type": "execute_result"
    }
   ],
   "source": [
    "# Calibration curve -----------------------------------------------------------\n",
    "# how well do estimated vs actual event probabilities relate to each other?\n",
    "\n",
    "holdout = pd.concat([rfvars_holdout, y_holdout], axis=1)\n",
    "holdout[\"best_rf_no_loss_pred\"] = prob_forest_fit_best.predict_proba(rfvars_holdout)[:,1]\n",
    "create_calibration_plot(\n",
    "    holdout,\n",
    "    file_name=\"ch17-figure-1-logit-m4-calibration\",\n",
    "    prob_var=\"best_rf_no_loss_pred\",\n",
    "    actual_var=target,\n",
    "    y_lab=\"Actual event probability\",\n",
    ")"
   ]
  },
  {
   "cell_type": "markdown",
   "metadata": {},
   "source": [
    "# 5. Compare and evalute models"
   ]
  },
  {
   "cell_type": "markdown",
   "metadata": {},
   "source": [
    "## 5.1. Final results to comapre models"
   ]
  },
  {
   "cell_type": "code",
   "execution_count": 150,
   "metadata": {},
   "outputs": [],
   "source": [
    "#Note: in R length(rfvars) counts 1 for category variables (39), here they count category number-1 (44)\n",
    "nvars['rf_p'] = len(rfvars.columns)"
   ]
  },
  {
   "cell_type": "code",
   "execution_count": 151,
   "metadata": {},
   "outputs": [],
   "source": [
    "summary_results = pd.DataFrame(\n",
    "    {\n",
    "        \"Model\": list(nvars.keys()),\n",
    "        \"Number of predictors\": list(nvars.values()),\n",
    "        \"CV RMSE\": list(CV_RMSE.values()),\n",
    "        \"CV AUC\": list(CV_AUC.values()),\n",
    "        \"CV threshold\": list(best_thresholds_cv.values()),\n",
    "        \"CV expected Loss\": list(expected_loss_cv.values()),\n",
    "    }\n",
    ")"
   ]
  },
  {
   "cell_type": "code",
   "execution_count": 152,
   "metadata": {
    "scrolled": true
   },
   "outputs": [
    {
     "data": {
      "text/html": [
       "<div>\n",
       "<style scoped>\n",
       "    .dataframe tbody tr th:only-of-type {\n",
       "        vertical-align: middle;\n",
       "    }\n",
       "\n",
       "    .dataframe tbody tr th {\n",
       "        vertical-align: top;\n",
       "    }\n",
       "\n",
       "    .dataframe thead th {\n",
       "        text-align: right;\n",
       "    }\n",
       "</style>\n",
       "<table border=\"1\" class=\"dataframe\">\n",
       "  <thead>\n",
       "    <tr style=\"text-align: right;\">\n",
       "      <th></th>\n",
       "      <th>Model</th>\n",
       "      <th>Number of predictors</th>\n",
       "      <th>CV RMSE</th>\n",
       "      <th>CV AUC</th>\n",
       "      <th>CV threshold</th>\n",
       "      <th>CV expected Loss</th>\n",
       "    </tr>\n",
       "  </thead>\n",
       "  <tbody>\n",
       "    <tr>\n",
       "      <th>0</th>\n",
       "      <td>X1</td>\n",
       "      <td>11</td>\n",
       "      <td>0.360</td>\n",
       "      <td>0.661</td>\n",
       "      <td>1.087</td>\n",
       "      <td>0.160</td>\n",
       "    </tr>\n",
       "    <tr>\n",
       "      <th>1</th>\n",
       "      <td>X2</td>\n",
       "      <td>18</td>\n",
       "      <td>0.351</td>\n",
       "      <td>0.710</td>\n",
       "      <td>1.285</td>\n",
       "      <td>0.160</td>\n",
       "    </tr>\n",
       "    <tr>\n",
       "      <th>2</th>\n",
       "      <td>X3</td>\n",
       "      <td>31</td>\n",
       "      <td>0.349</td>\n",
       "      <td>0.714</td>\n",
       "      <td>0.569</td>\n",
       "      <td>0.159</td>\n",
       "    </tr>\n",
       "    <tr>\n",
       "      <th>3</th>\n",
       "      <td>X4</td>\n",
       "      <td>80</td>\n",
       "      <td>0.342</td>\n",
       "      <td>0.751</td>\n",
       "      <td>0.574</td>\n",
       "      <td>0.156</td>\n",
       "    </tr>\n",
       "    <tr>\n",
       "      <th>4</th>\n",
       "      <td>X5</td>\n",
       "      <td>154</td>\n",
       "      <td>0.342</td>\n",
       "      <td>0.752</td>\n",
       "      <td>0.604</td>\n",
       "      <td>0.156</td>\n",
       "    </tr>\n",
       "    <tr>\n",
       "      <th>5</th>\n",
       "      <td>LASSO</td>\n",
       "      <td>86</td>\n",
       "      <td>0.340</td>\n",
       "      <td>0.757</td>\n",
       "      <td>0.610</td>\n",
       "      <td>0.154</td>\n",
       "    </tr>\n",
       "    <tr>\n",
       "      <th>6</th>\n",
       "      <td>rf_p</td>\n",
       "      <td>43</td>\n",
       "      <td>0.336</td>\n",
       "      <td>0.778</td>\n",
       "      <td>0.533</td>\n",
       "      <td>0.153</td>\n",
       "    </tr>\n",
       "  </tbody>\n",
       "</table>\n",
       "</div>"
      ],
      "text/plain": [
       "   Model  Number of predictors  CV RMSE  CV AUC  CV threshold  \\\n",
       "0     X1                    11    0.360   0.661         1.087   \n",
       "1     X2                    18    0.351   0.710         1.285   \n",
       "2     X3                    31    0.349   0.714         0.569   \n",
       "3     X4                    80    0.342   0.751         0.574   \n",
       "4     X5                   154    0.342   0.752         0.604   \n",
       "5  LASSO                    86    0.340   0.757         0.610   \n",
       "6   rf_p                    43    0.336   0.778         0.533   \n",
       "\n",
       "   CV expected Loss  \n",
       "0             0.160  \n",
       "1             0.160  \n",
       "2             0.159  \n",
       "3             0.156  \n",
       "4             0.156  \n",
       "5             0.154  \n",
       "6             0.153  "
      ]
     },
     "execution_count": 152,
     "metadata": {},
     "output_type": "execute_result"
    }
   ],
   "source": [
    "summary_results.round(3)"
   ]
  },
  {
   "cell_type": "markdown",
   "metadata": {},
   "source": [
    "## 5.2. Refit best model on whole train dataset"
   ]
  },
  {
   "cell_type": "code",
   "execution_count": 22,
   "metadata": {},
   "outputs": [],
   "source": [
    "best_prob_forest = RandomForestClassifier(\n",
    "    criterion=\"gini\",\n",
    "    max_features=7,\n",
    "    min_samples_split=16,\n",
    "    random_state=42,\n",
    "    n_estimators=500,\n",
    "    oob_score=True,\n",
    ")"
   ]
  },
  {
   "cell_type": "code",
   "execution_count": 23,
   "metadata": {},
   "outputs": [],
   "source": [
    "prob_forest_fit = best_prob_forest.fit(rfvars_train, y_train)\n",
    "\n",
    "best_prob_forest_holdout_pred = prob_forest_fit.predict(rfvars_holdout)"
   ]
  },
  {
   "cell_type": "code",
   "execution_count": 24,
   "metadata": {},
   "outputs": [
    {
     "data": {
      "text/html": [
       "<div>\n",
       "<style scoped>\n",
       "    .dataframe tbody tr th:only-of-type {\n",
       "        vertical-align: middle;\n",
       "    }\n",
       "\n",
       "    .dataframe tbody tr th {\n",
       "        vertical-align: top;\n",
       "    }\n",
       "\n",
       "    .dataframe thead th {\n",
       "        text-align: right;\n",
       "    }\n",
       "</style>\n",
       "<table border=\"1\" class=\"dataframe\">\n",
       "  <thead>\n",
       "    <tr style=\"text-align: right;\">\n",
       "      <th></th>\n",
       "      <th>Predicted low growth</th>\n",
       "      <th>Predicted high growth</th>\n",
       "    </tr>\n",
       "  </thead>\n",
       "  <tbody>\n",
       "    <tr>\n",
       "      <th>Actual low growth</th>\n",
       "      <td>4033</td>\n",
       "      <td>36</td>\n",
       "    </tr>\n",
       "    <tr>\n",
       "      <th>Actual high growth</th>\n",
       "      <td>685</td>\n",
       "      <td>98</td>\n",
       "    </tr>\n",
       "  </tbody>\n",
       "</table>\n",
       "</div>"
      ],
      "text/plain": [
       "                    Predicted low growth  Predicted high growth\n",
       "Actual low growth                   4033                     36\n",
       "Actual high growth                   685                     98"
      ]
     },
     "execution_count": 24,
     "metadata": {},
     "output_type": "execute_result"
    }
   ],
   "source": [
    "holdout_prediction = np.where(\n",
    "    best_prob_forest_holdout_pred < fold5_threshold_rf, 0, 1\n",
    ")\n",
    "cm_object2 = confusion_matrix(y_holdout, holdout_prediction, labels=[0, 1])\n",
    "cm2 = pd.DataFrame(\n",
    "    cm_object2,\n",
    "    index=[\"Actual low growth\", \"Actual high growth\"],\n",
    "    columns=[\"Predicted low growth\", \"Predicted high growth\"],\n",
    ")\n",
    "cm2"
   ]
  },
  {
   "cell_type": "code",
   "execution_count": 25,
   "metadata": {},
   "outputs": [
    {
     "data": {
      "text/html": [
       "<div>\n",
       "<style scoped>\n",
       "    .dataframe tbody tr th:only-of-type {\n",
       "        vertical-align: middle;\n",
       "    }\n",
       "\n",
       "    .dataframe tbody tr th {\n",
       "        vertical-align: top;\n",
       "    }\n",
       "\n",
       "    .dataframe thead th {\n",
       "        text-align: right;\n",
       "    }\n",
       "</style>\n",
       "<table border=\"1\" class=\"dataframe\">\n",
       "  <thead>\n",
       "    <tr style=\"text-align: right;\">\n",
       "      <th></th>\n",
       "      <th>Predicted low growth</th>\n",
       "      <th>Predicted high growth</th>\n",
       "    </tr>\n",
       "  </thead>\n",
       "  <tbody>\n",
       "    <tr>\n",
       "      <th>Actual low growth</th>\n",
       "      <td>0.854811</td>\n",
       "      <td>0.268657</td>\n",
       "    </tr>\n",
       "    <tr>\n",
       "      <th>Actual high growth</th>\n",
       "      <td>0.145189</td>\n",
       "      <td>0.731343</td>\n",
       "    </tr>\n",
       "  </tbody>\n",
       "</table>\n",
       "</div>"
      ],
      "text/plain": [
       "                    Predicted low growth  Predicted high growth\n",
       "Actual low growth               0.854811               0.268657\n",
       "Actual high growth              0.145189               0.731343"
      ]
     },
     "execution_count": 25,
     "metadata": {},
     "output_type": "execute_result"
    }
   ],
   "source": [
    "cm_object2 = confusion_matrix(y_holdout, holdout_prediction, labels=[0, 1],normalize=\"pred\")\n",
    "cm2 = pd.DataFrame(\n",
    "    cm_object2,\n",
    "    index=[\"Actual low growth\", \"Actual high growth\"],\n",
    "    columns=[\"Predicted low growth\", \"Predicted high growth\"],\n",
    ")\n",
    "cm2"
   ]
  },
  {
   "cell_type": "code",
   "execution_count": 26,
   "metadata": {},
   "outputs": [
    {
     "data": {
      "text/html": [
       "<div>\n",
       "<style scoped>\n",
       "    .dataframe tbody tr th:only-of-type {\n",
       "        vertical-align: middle;\n",
       "    }\n",
       "\n",
       "    .dataframe tbody tr th {\n",
       "        vertical-align: top;\n",
       "    }\n",
       "\n",
       "    .dataframe thead th {\n",
       "        text-align: right;\n",
       "    }\n",
       "</style>\n",
       "<table border=\"1\" class=\"dataframe\">\n",
       "  <thead>\n",
       "    <tr style=\"text-align: right;\">\n",
       "      <th></th>\n",
       "      <th>Predicted low growth</th>\n",
       "      <th>Predicted high growth</th>\n",
       "    </tr>\n",
       "  </thead>\n",
       "  <tbody>\n",
       "    <tr>\n",
       "      <th>Actual low growth</th>\n",
       "      <td>0.831204</td>\n",
       "      <td>0.007420</td>\n",
       "    </tr>\n",
       "    <tr>\n",
       "      <th>Actual high growth</th>\n",
       "      <td>0.141179</td>\n",
       "      <td>0.020198</td>\n",
       "    </tr>\n",
       "  </tbody>\n",
       "</table>\n",
       "</div>"
      ],
      "text/plain": [
       "                    Predicted low growth  Predicted high growth\n",
       "Actual low growth               0.831204               0.007420\n",
       "Actual high growth              0.141179               0.020198"
      ]
     },
     "execution_count": 26,
     "metadata": {},
     "output_type": "execute_result"
    }
   ],
   "source": [
    "cm_object2 = confusion_matrix(y_holdout, holdout_prediction, labels=[0, 1],normalize=\"all\")\n",
    "cm2 = pd.DataFrame(\n",
    "    cm_object2,\n",
    "    index=[\"Actual low growth\", \"Actual high growth\"],\n",
    "    columns=[\"Predicted low growth\", \"Predicted high growth\"],\n",
    ")\n",
    "cm2"
   ]
  },
  {
   "cell_type": "markdown",
   "metadata": {},
   "source": [
    "# 6. Predict and calculate profit on \"live\" data, year 2014"
   ]
  },
  {
   "cell_type": "markdown",
   "metadata": {},
   "source": [
    "## 6.1. Use best model to predict high ROE firms"
   ]
  },
  {
   "cell_type": "code",
   "execution_count": 27,
   "metadata": {},
   "outputs": [],
   "source": [
    "live_data = pd.read_csv(\"../data/clean/bisnode_firms_live_clean.csv\")\n",
    "\n",
    "# Creat dummy columns from category variables and drop first level\n",
    "ind2_catmat = patsy.dmatrix(\"0 + C(ind2_cat)\", live_data, return_type=\"dataframe\")\n",
    "ind2_catmat = ind2_catmat.drop([\"C(ind2_cat)[26.0]\"], axis=1)\n",
    "\n",
    "m_region_locmat = patsy.dmatrix(\"0 + C(m_region_loc)\", live_data, return_type=\"dataframe\")\n",
    "m_region_locmat = m_region_locmat.drop([\"C(m_region_loc)[Central]\"], axis=1)\n",
    "\n",
    "urban_mmat = patsy.dmatrix(\"0 + C(urban_m)\", live_data, return_type=\"dataframe\")\n",
    "urban_mmat = urban_mmat.drop([\"C(urban_m)[1.0]\"], axis=1)\n",
    "firm = pd.concat(\n",
    "    [live_data[[\"age\", \"age2\", \"new\"]], ind2_catmat, m_region_locmat, urban_mmat], axis=1\n",
    ")\n",
    "\n",
    "# Define rfvars for RF (no interactions, no modified features)\n",
    "rfvars_live = pd.concat([live_data[[\"sales_mil\"] + rawvars + hr + qualityvars], firm], axis=1)\n",
    "y_live = live_data[\"high_roe_firm\"]"
   ]
  },
  {
   "cell_type": "code",
   "execution_count": 30,
   "metadata": {},
   "outputs": [],
   "source": [
    "best_prob_forest_live_pred = prob_forest_fit.predict(rfvars_live)"
   ]
  },
  {
   "cell_type": "code",
   "execution_count": 31,
   "metadata": {},
   "outputs": [
    {
     "data": {
      "text/html": [
       "<div>\n",
       "<style scoped>\n",
       "    .dataframe tbody tr th:only-of-type {\n",
       "        vertical-align: middle;\n",
       "    }\n",
       "\n",
       "    .dataframe tbody tr th {\n",
       "        vertical-align: top;\n",
       "    }\n",
       "\n",
       "    .dataframe thead th {\n",
       "        text-align: right;\n",
       "    }\n",
       "</style>\n",
       "<table border=\"1\" class=\"dataframe\">\n",
       "  <thead>\n",
       "    <tr style=\"text-align: right;\">\n",
       "      <th></th>\n",
       "      <th>Predicted low growth</th>\n",
       "      <th>Predicted high growth</th>\n",
       "    </tr>\n",
       "  </thead>\n",
       "  <tbody>\n",
       "    <tr>\n",
       "      <th>Actual low growth</th>\n",
       "      <td>13814</td>\n",
       "      <td>116</td>\n",
       "    </tr>\n",
       "    <tr>\n",
       "      <th>Actual high growth</th>\n",
       "      <td>3436</td>\n",
       "      <td>405</td>\n",
       "    </tr>\n",
       "  </tbody>\n",
       "</table>\n",
       "</div>"
      ],
      "text/plain": [
       "                    Predicted low growth  Predicted high growth\n",
       "Actual low growth                  13814                    116\n",
       "Actual high growth                  3436                    405"
      ]
     },
     "execution_count": 31,
     "metadata": {},
     "output_type": "execute_result"
    }
   ],
   "source": [
    "live_prediction = np.where(\n",
    "    best_prob_forest_live_pred < fold5_threshold_rf, 0, 1\n",
    ")\n",
    "cm_object2 = confusion_matrix(y_live, live_prediction, labels=[0, 1])\n",
    "cm2 = pd.DataFrame(\n",
    "    cm_object2,\n",
    "    index=[\"Actual low growth\", \"Actual high growth\"],\n",
    "    columns=[\"Predicted low growth\", \"Predicted high growth\"],\n",
    ")\n",
    "cm2"
   ]
  },
  {
   "cell_type": "code",
   "execution_count": 32,
   "metadata": {},
   "outputs": [
    {
     "data": {
      "text/html": [
       "<div>\n",
       "<style scoped>\n",
       "    .dataframe tbody tr th:only-of-type {\n",
       "        vertical-align: middle;\n",
       "    }\n",
       "\n",
       "    .dataframe tbody tr th {\n",
       "        vertical-align: top;\n",
       "    }\n",
       "\n",
       "    .dataframe thead th {\n",
       "        text-align: right;\n",
       "    }\n",
       "</style>\n",
       "<table border=\"1\" class=\"dataframe\">\n",
       "  <thead>\n",
       "    <tr style=\"text-align: right;\">\n",
       "      <th></th>\n",
       "      <th>Predicted low growth</th>\n",
       "      <th>Predicted high growth</th>\n",
       "    </tr>\n",
       "  </thead>\n",
       "  <tbody>\n",
       "    <tr>\n",
       "      <th>Actual low growth</th>\n",
       "      <td>0.800812</td>\n",
       "      <td>0.222649</td>\n",
       "    </tr>\n",
       "    <tr>\n",
       "      <th>Actual high growth</th>\n",
       "      <td>0.199188</td>\n",
       "      <td>0.777351</td>\n",
       "    </tr>\n",
       "  </tbody>\n",
       "</table>\n",
       "</div>"
      ],
      "text/plain": [
       "                    Predicted low growth  Predicted high growth\n",
       "Actual low growth               0.800812               0.222649\n",
       "Actual high growth              0.199188               0.777351"
      ]
     },
     "execution_count": 32,
     "metadata": {},
     "output_type": "execute_result"
    }
   ],
   "source": [
    "cm_object2 = confusion_matrix(y_live, live_prediction, labels=[0, 1],normalize=\"pred\")\n",
    "cm2 = pd.DataFrame(\n",
    "    cm_object2,\n",
    "    index=[\"Actual low growth\", \"Actual high growth\"],\n",
    "    columns=[\"Predicted low growth\", \"Predicted high growth\"],\n",
    ")\n",
    "cm2"
   ]
  },
  {
   "cell_type": "code",
   "execution_count": 33,
   "metadata": {},
   "outputs": [
    {
     "data": {
      "text/html": [
       "<div>\n",
       "<style scoped>\n",
       "    .dataframe tbody tr th:only-of-type {\n",
       "        vertical-align: middle;\n",
       "    }\n",
       "\n",
       "    .dataframe tbody tr th {\n",
       "        vertical-align: top;\n",
       "    }\n",
       "\n",
       "    .dataframe thead th {\n",
       "        text-align: right;\n",
       "    }\n",
       "</style>\n",
       "<table border=\"1\" class=\"dataframe\">\n",
       "  <thead>\n",
       "    <tr style=\"text-align: right;\">\n",
       "      <th></th>\n",
       "      <th>Predicted low growth</th>\n",
       "      <th>Predicted high growth</th>\n",
       "    </tr>\n",
       "  </thead>\n",
       "  <tbody>\n",
       "    <tr>\n",
       "      <th>Actual low growth</th>\n",
       "      <td>0.777334</td>\n",
       "      <td>0.006527</td>\n",
       "    </tr>\n",
       "    <tr>\n",
       "      <th>Actual high growth</th>\n",
       "      <td>0.193349</td>\n",
       "      <td>0.022790</td>\n",
       "    </tr>\n",
       "  </tbody>\n",
       "</table>\n",
       "</div>"
      ],
      "text/plain": [
       "                    Predicted low growth  Predicted high growth\n",
       "Actual low growth               0.777334               0.006527\n",
       "Actual high growth              0.193349               0.022790"
      ]
     },
     "execution_count": 33,
     "metadata": {},
     "output_type": "execute_result"
    }
   ],
   "source": [
    "cm_object2 = confusion_matrix(y_live, live_prediction, labels=[0, 1],normalize=\"all\")\n",
    "cm2 = pd.DataFrame(\n",
    "    cm_object2,\n",
    "    index=[\"Actual low growth\", \"Actual high growth\"],\n",
    "    columns=[\"Predicted low growth\", \"Predicted high growth\"],\n",
    ")\n",
    "cm2"
   ]
  },
  {
   "cell_type": "markdown",
   "metadata": {},
   "source": [
    "## 6.2. Calculate actuall profit/loss from ROE\n",
    "\n",
    "investment = 100.000 $ in 2014"
   ]
  },
  {
   "cell_type": "code",
   "execution_count": 38,
   "metadata": {},
   "outputs": [],
   "source": [
    "live_data = live_data.assign(buy = live_prediction)\n",
    "\n",
    "invested_roes = live_data.loc[lambda x: x[\"buy\"] == 1,\"ROE_target\"]\n",
    "\n",
    "invested_roes = np.where(invested_roes< -1,-1,invested_roes)\n",
    "\n",
    "invested_roes = np.where(invested_roes> 1,1,invested_roes)"
   ]
  },
  {
   "cell_type": "code",
   "execution_count": 90,
   "metadata": {},
   "outputs": [
    {
     "data": {
      "text/plain": [
       "count    521.000000\n",
       "mean       0.642630\n",
       "std        0.508343\n",
       "min       -1.000000\n",
       "25%        0.388283\n",
       "50%        0.952928\n",
       "75%        1.000000\n",
       "max        1.000000\n",
       "dtype: float64"
      ]
     },
     "execution_count": 90,
     "metadata": {},
     "output_type": "execute_result"
    }
   ],
   "source": [
    "pd.Series(invested_roes).describe()"
   ]
  },
  {
   "cell_type": "code",
   "execution_count": 95,
   "metadata": {},
   "outputs": [
    {
     "data": {
      "text/plain": [
       "164262.97426183886"
      ]
     },
     "execution_count": 95,
     "metadata": {},
     "output_type": "execute_result"
    }
   ],
   "source": [
    "(1+invested_roes.mean())*100000"
   ]
  }
 ],
 "metadata": {
  "kernelspec": {
   "display_name": "Python 3",
   "language": "python",
   "name": "python3"
  },
  "language_info": {
   "codemirror_mode": {
    "name": "ipython",
    "version": 3
   },
   "file_extension": ".py",
   "mimetype": "text/x-python",
   "name": "python",
   "nbconvert_exporter": "python",
   "pygments_lexer": "ipython3",
   "version": "3.8.3"
  }
 },
 "nbformat": 4,
 "nbformat_minor": 4
}
