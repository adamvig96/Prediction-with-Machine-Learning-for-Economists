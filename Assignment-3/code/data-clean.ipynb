{
 "cells": [
  {
   "cell_type": "markdown",
   "metadata": {},
   "source": [
    "#### Prepared for Gabor's Data Analysis\n",
    "\n",
    "# Data Analysis for Business, Economics, and Policy\n",
    "by Gabor Bekes and  Gabor Kezdi\n",
    " \n",
    "Cambridge University Press 2021\n",
    "\n",
    "**[gabors-data-analysis.com ](https://gabors-data-analysis.com/)**\n",
    "\n",
    " License: Free to share, modify and use for educational purposes. \n",
    " Not to be used for commercial purposes.\n",
    "\n",
    "# Chapter 17\n",
    "\n",
    "Data preparation"
   ]
  },
  {
   "cell_type": "code",
   "execution_count": 1,
   "metadata": {},
   "outputs": [],
   "source": [
    "import os\n",
    "import pandas as pd\n",
    "import numpy as np\n",
    "import sys\n",
    "from plotnine import *\n",
    "import statsmodels.api as sm\n",
    "import statsmodels.formula.api as smf"
   ]
  },
  {
   "cell_type": "code",
   "execution_count": 2,
   "metadata": {},
   "outputs": [],
   "source": [
    "# Import the prewritten helper functions\n",
    "from py_helper_functions import *"
   ]
  },
  {
   "cell_type": "markdown",
   "metadata": {},
   "source": [
    "# Import data"
   ]
  },
  {
   "cell_type": "markdown",
   "metadata": {},
   "source": [
    "## 1. clean train data"
   ]
  },
  {
   "cell_type": "code",
   "execution_count": 3,
   "metadata": {},
   "outputs": [],
   "source": [
    "data = pd.read_csv(\"../data/raw/cs_bisnode_panel.csv\")\n",
    "data = data.query('year <=2012 & year >= 2010')\n",
    "data = data.drop(columns = ['COGS', 'finished_prod', 'net_dom_sales', 'net_exp_sales', 'wages'])"
   ]
  },
  {
   "cell_type": "markdown",
   "metadata": {},
   "source": [
    "\n",
    "# Label engineering\n"
   ]
  },
  {
   "cell_type": "code",
   "execution_count": 4,
   "metadata": {},
   "outputs": [],
   "source": [
    "# add all missing year and comp_id combinations -\n",
    "# originally missing combinations will have NAs in all other columns\n",
    "data = (\n",
    "    data.set_index([\"year\", \"comp_id\"])\n",
    "    .unstack(fill_value=\"toReplace\")\n",
    "    .stack()\n",
    "    .reset_index()\n",
    ")\n",
    "data = data.replace(\"toReplace\", np.nan)  # only way I could define it as NaN"
   ]
  },
  {
   "cell_type": "code",
   "execution_count": 5,
   "metadata": {},
   "outputs": [],
   "source": [
    "data_raw = data.copy()"
   ]
  },
  {
   "cell_type": "markdown",
   "metadata": {},
   "source": [
    "### drop those, who went bankrupt in 2010 or 2011"
   ]
  },
  {
   "cell_type": "code",
   "execution_count": 6,
   "metadata": {},
   "outputs": [],
   "source": [
    "data = data_raw.copy()"
   ]
  },
  {
   "cell_type": "code",
   "execution_count": 7,
   "metadata": {},
   "outputs": [],
   "source": [
    "data = data.assign(\n",
    "    year=lambda x: x[\"year\"].astype(str),\n",
    "    lived_at_the_end_of_the_year=lambda x: x[\"year\"] + \"-12-31\",\n",
    ")"
   ]
  },
  {
   "cell_type": "code",
   "execution_count": 8,
   "metadata": {},
   "outputs": [
    {
     "data": {
      "text/plain": [
       "33359"
      ]
     },
     "execution_count": 8,
     "metadata": {},
     "output_type": "execute_result"
    }
   ],
   "source": [
    "data.comp_id.nunique()"
   ]
  },
  {
   "cell_type": "code",
   "execution_count": 9,
   "metadata": {},
   "outputs": [],
   "source": [
    "has_no_begin_in_2010_or_2011 = (\n",
    "    data.loc[\n",
    "        lambda x: (x[\"year\"].isin([\"2010\", \"2011\"]) & x[\"begin\"].isnull()), \"comp_id\"\n",
    "    ]\n",
    "    .drop_duplicates()\n",
    "    .tolist()\n",
    ")"
   ]
  },
  {
   "cell_type": "code",
   "execution_count": 10,
   "metadata": {},
   "outputs": [],
   "source": [
    "data = data.loc[lambda x: ~x[\"comp_id\"].isin(has_no_begin_in_2010_or_2011)]"
   ]
  },
  {
   "cell_type": "code",
   "execution_count": 11,
   "metadata": {},
   "outputs": [
    {
     "data": {
      "text/plain": [
       "24188"
      ]
     },
     "execution_count": 11,
     "metadata": {},
     "output_type": "execute_result"
    }
   ],
   "source": [
    "data.comp_id.nunique()"
   ]
  },
  {
   "cell_type": "code",
   "execution_count": 12,
   "metadata": {},
   "outputs": [],
   "source": [
    "died_in_2010 = data.loc[\n",
    "    lambda x: ((x[\"year\"] == \"2010\") & (x[\"end\"] < x[\"lived_at_the_end_of_the_year\"])),\n",
    "    \"comp_id\",\n",
    "].tolist()\n",
    "\n",
    "died_in_2011 = data.loc[\n",
    "    lambda x: ((x[\"year\"] == \"2011\") & (x[\"end\"] < x[\"lived_at_the_end_of_the_year\"])),\n",
    "    \"comp_id\",\n",
    "].tolist()"
   ]
  },
  {
   "cell_type": "markdown",
   "metadata": {},
   "source": [
    "dropping them here"
   ]
  },
  {
   "cell_type": "code",
   "execution_count": 13,
   "metadata": {},
   "outputs": [],
   "source": [
    "data = data.loc[lambda x: ~x[\"comp_id\"].isin(died_in_2011 + died_in_2010)]"
   ]
  },
  {
   "cell_type": "markdown",
   "metadata": {},
   "source": [
    "## drop those who's status is not alive in 2010 or 2011"
   ]
  },
  {
   "cell_type": "code",
   "execution_count": 14,
   "metadata": {},
   "outputs": [],
   "source": [
    "# generate status_alive; if sales larger than zero and not-NA, then firm is alive\n",
    "data[\"status_alive\"] = (data[\"sales\"] > 0 & (False == data[\"sales\"].isna())).astype(int)"
   ]
  },
  {
   "cell_type": "code",
   "execution_count": 15,
   "metadata": {},
   "outputs": [
    {
     "data": {
      "text/plain": [
       "1    58583\n",
       "0    12955\n",
       "Name: status_alive, dtype: int64"
      ]
     },
     "execution_count": 15,
     "metadata": {},
     "output_type": "execute_result"
    }
   ],
   "source": [
    "data[\"status_alive\"].value_counts()"
   ]
  },
  {
   "cell_type": "code",
   "execution_count": 16,
   "metadata": {},
   "outputs": [],
   "source": [
    "status_dead_2010 = data.loc[lambda x: (x[\"status_alive\"] == 0) & (x[\"year\"] == \"2010\"),\"comp_id\"].tolist()\n",
    "status_dead_2011 = data.loc[lambda x: (x[\"status_alive\"] == 0) & (x[\"year\"] == \"2011\"),\"comp_id\"].tolist()"
   ]
  },
  {
   "cell_type": "code",
   "execution_count": 17,
   "metadata": {},
   "outputs": [],
   "source": [
    "data = data.loc[lambda x: ~x[\"comp_id\"].isin(status_dead_2010 + status_dead_2011)]"
   ]
  },
  {
   "cell_type": "code",
   "execution_count": 18,
   "metadata": {},
   "outputs": [
    {
     "data": {
      "text/plain": [
       "19147"
      ]
     },
     "execution_count": 18,
     "metadata": {},
     "output_type": "execute_result"
    }
   ],
   "source": [
    "data.comp_id.nunique()"
   ]
  },
  {
   "cell_type": "code",
   "execution_count": 19,
   "metadata": {},
   "outputs": [
    {
     "data": {
      "text/plain": [
       "count    5.612900e+04\n",
       "mean     5.753157e+05\n",
       "std      4.128342e+06\n",
       "min     -1.834445e+04\n",
       "25%      1.500000e+04\n",
       "50%      4.639259e+04\n",
       "75%      1.447148e+05\n",
       "max      1.110294e+08\n",
       "Name: sales, dtype: float64"
      ]
     },
     "execution_count": 19,
     "metadata": {},
     "output_type": "execute_result"
    }
   ],
   "source": [
    "data[\"sales\"].describe()"
   ]
  },
  {
   "cell_type": "code",
   "execution_count": 20,
   "metadata": {},
   "outputs": [
    {
     "name": "stderr",
     "output_type": "stream",
     "text": [
      "/usr/local/lib/python3.8/site-packages/pandas/core/arraylike.py:358: RuntimeWarning: divide by zero encountered in log\n",
      "/usr/local/lib/python3.8/site-packages/pandas/core/arraylike.py:358: RuntimeWarning: divide by zero encountered in log\n"
     ]
    }
   ],
   "source": [
    "data[\"sales\"] = np.where(\n",
    "    data[\"sales\"] < 0, 1, data[\"sales\"]\n",
    ")  # has to be outside of assin()\n",
    "data = data.assign(\n",
    "    ln_sales=np.where(\n",
    "        data[\"sales\"] > 0,\n",
    "        np.log(data[\"sales\"]),\n",
    "        (np.where(data[\"sales\"].isna(), np.nan, 0)),\n",
    "    ),  # NaN remain NaN\n",
    "    sales_mil=data[\"sales\"] / 1000000,\n",
    "    sales_mil_log=np.where(\n",
    "        data[\"sales\"] > 0,\n",
    "        np.log(data[\"sales\"] / 1000000),\n",
    "        (np.where(data[\"sales\"].isna(), np.nan, 0)),\n",
    "    ),\n",
    ")"
   ]
  },
  {
   "cell_type": "code",
   "execution_count": 21,
   "metadata": {},
   "outputs": [
    {
     "data": {
      "text/plain": [
       "<AxesSubplot:>"
      ]
     },
     "execution_count": 21,
     "metadata": {},
     "output_type": "execute_result"
    },
    {
     "data": {
      "image/png": "[encoded data removed]",
      "text/plain": [
       "<Figure size 432x288 with 1 Axes>"
      ]
     },
     "metadata": {
      "needs_background": "light"
     },
     "output_type": "display_data"
    }
   ],
   "source": [
    "data.ln_sales.hist()"
   ]
  },
  {
   "cell_type": "code",
   "execution_count": 22,
   "metadata": {},
   "outputs": [],
   "source": [
    "data = data.sort_values(by=[\"comp_id\",\"year\"])"
   ]
  },
  {
   "cell_type": "code",
   "execution_count": 23,
   "metadata": {},
   "outputs": [],
   "source": [
    "data[\"sale_growth\"] = data[\"ln_sales\"] - data.groupby(\"comp_id\")[\"ln_sales\"].shift(1)"
   ]
  },
  {
   "cell_type": "code",
   "execution_count": 24,
   "metadata": {},
   "outputs": [],
   "source": [
    "vars = [\"comp_id\",\"year\",\"status_alive\",\"sales\",\"ln_sales\",\"sale_growth\"]"
   ]
  },
  {
   "cell_type": "code",
   "execution_count": 25,
   "metadata": {},
   "outputs": [
    {
     "data": {
      "text/html": [
       "<div>\n",
       "<style scoped>\n",
       "    .dataframe tbody tr th:only-of-type {\n",
       "        vertical-align: middle;\n",
       "    }\n",
       "\n",
       "    .dataframe tbody tr th {\n",
       "        vertical-align: top;\n",
       "    }\n",
       "\n",
       "    .dataframe thead th {\n",
       "        text-align: right;\n",
       "    }\n",
       "</style>\n",
       "<table border=\"1\" class=\"dataframe\">\n",
       "  <thead>\n",
       "    <tr style=\"text-align: right;\">\n",
       "      <th></th>\n",
       "      <th>comp_id</th>\n",
       "      <th>year</th>\n",
       "      <th>status_alive</th>\n",
       "      <th>sales</th>\n",
       "      <th>ln_sales</th>\n",
       "      <th>sale_growth</th>\n",
       "    </tr>\n",
       "  </thead>\n",
       "  <tbody>\n",
       "    <tr>\n",
       "      <th>2</th>\n",
       "      <td>1002029.0</td>\n",
       "      <td>2010</td>\n",
       "      <td>1</td>\n",
       "      <td>8.437741e+05</td>\n",
       "      <td>13.645640</td>\n",
       "      <td>NaN</td>\n",
       "    </tr>\n",
       "    <tr>\n",
       "      <th>33361</th>\n",
       "      <td>1002029.0</td>\n",
       "      <td>2011</td>\n",
       "      <td>1</td>\n",
       "      <td>5.732222e+05</td>\n",
       "      <td>13.259029</td>\n",
       "      <td>-0.386611</td>\n",
       "    </tr>\n",
       "    <tr>\n",
       "      <th>66720</th>\n",
       "      <td>1002029.0</td>\n",
       "      <td>2012</td>\n",
       "      <td>1</td>\n",
       "      <td>1.136515e+06</td>\n",
       "      <td>13.943477</td>\n",
       "      <td>0.684448</td>\n",
       "    </tr>\n",
       "    <tr>\n",
       "      <th>3</th>\n",
       "      <td>1003200.0</td>\n",
       "      <td>2010</td>\n",
       "      <td>1</td>\n",
       "      <td>1.379259e+04</td>\n",
       "      <td>9.531887</td>\n",
       "      <td>NaN</td>\n",
       "    </tr>\n",
       "    <tr>\n",
       "      <th>33362</th>\n",
       "      <td>1003200.0</td>\n",
       "      <td>2011</td>\n",
       "      <td>1</td>\n",
       "      <td>1.157778e+04</td>\n",
       "      <td>9.356843</td>\n",
       "      <td>-0.175044</td>\n",
       "    </tr>\n",
       "    <tr>\n",
       "      <th>66721</th>\n",
       "      <td>1003200.0</td>\n",
       "      <td>2012</td>\n",
       "      <td>1</td>\n",
       "      <td>2.785185e+03</td>\n",
       "      <td>7.932070</td>\n",
       "      <td>-1.424773</td>\n",
       "    </tr>\n",
       "    <tr>\n",
       "      <th>4</th>\n",
       "      <td>1004012.0</td>\n",
       "      <td>2010</td>\n",
       "      <td>1</td>\n",
       "      <td>2.533333e+03</td>\n",
       "      <td>7.837291</td>\n",
       "      <td>NaN</td>\n",
       "    </tr>\n",
       "    <tr>\n",
       "      <th>33363</th>\n",
       "      <td>1004012.0</td>\n",
       "      <td>2011</td>\n",
       "      <td>1</td>\n",
       "      <td>1.914815e+03</td>\n",
       "      <td>7.557376</td>\n",
       "      <td>-0.279915</td>\n",
       "    </tr>\n",
       "    <tr>\n",
       "      <th>66722</th>\n",
       "      <td>1004012.0</td>\n",
       "      <td>2012</td>\n",
       "      <td>0</td>\n",
       "      <td>NaN</td>\n",
       "      <td>NaN</td>\n",
       "      <td>NaN</td>\n",
       "    </tr>\n",
       "    <tr>\n",
       "      <th>5</th>\n",
       "      <td>1007261.0</td>\n",
       "      <td>2010</td>\n",
       "      <td>1</td>\n",
       "      <td>2.188889e+03</td>\n",
       "      <td>7.691149</td>\n",
       "      <td>NaN</td>\n",
       "    </tr>\n",
       "    <tr>\n",
       "      <th>33364</th>\n",
       "      <td>1007261.0</td>\n",
       "      <td>2011</td>\n",
       "      <td>1</td>\n",
       "      <td>7.925926e+02</td>\n",
       "      <td>6.675309</td>\n",
       "      <td>-1.015840</td>\n",
       "    </tr>\n",
       "    <tr>\n",
       "      <th>66723</th>\n",
       "      <td>1007261.0</td>\n",
       "      <td>2012</td>\n",
       "      <td>0</td>\n",
       "      <td>0.000000e+00</td>\n",
       "      <td>0.000000</td>\n",
       "      <td>-6.675309</td>\n",
       "    </tr>\n",
       "    <tr>\n",
       "      <th>6</th>\n",
       "      <td>1011889.0</td>\n",
       "      <td>2010</td>\n",
       "      <td>1</td>\n",
       "      <td>3.414592e+05</td>\n",
       "      <td>12.740984</td>\n",
       "      <td>NaN</td>\n",
       "    </tr>\n",
       "    <tr>\n",
       "      <th>33365</th>\n",
       "      <td>1011889.0</td>\n",
       "      <td>2011</td>\n",
       "      <td>1</td>\n",
       "      <td>3.932926e+05</td>\n",
       "      <td>12.882309</td>\n",
       "      <td>0.141326</td>\n",
       "    </tr>\n",
       "    <tr>\n",
       "      <th>66724</th>\n",
       "      <td>1011889.0</td>\n",
       "      <td>2012</td>\n",
       "      <td>1</td>\n",
       "      <td>4.336667e+05</td>\n",
       "      <td>12.980031</td>\n",
       "      <td>0.097722</td>\n",
       "    </tr>\n",
       "    <tr>\n",
       "      <th>7</th>\n",
       "      <td>1014183.0</td>\n",
       "      <td>2010</td>\n",
       "      <td>1</td>\n",
       "      <td>1.073815e+05</td>\n",
       "      <td>11.584143</td>\n",
       "      <td>NaN</td>\n",
       "    </tr>\n",
       "    <tr>\n",
       "      <th>33366</th>\n",
       "      <td>1014183.0</td>\n",
       "      <td>2011</td>\n",
       "      <td>1</td>\n",
       "      <td>1.704667e+05</td>\n",
       "      <td>12.046295</td>\n",
       "      <td>0.462152</td>\n",
       "    </tr>\n",
       "    <tr>\n",
       "      <th>66725</th>\n",
       "      <td>1014183.0</td>\n",
       "      <td>2012</td>\n",
       "      <td>1</td>\n",
       "      <td>1.297296e+05</td>\n",
       "      <td>11.773208</td>\n",
       "      <td>-0.273087</td>\n",
       "    </tr>\n",
       "    <tr>\n",
       "      <th>8</th>\n",
       "      <td>1018301.0</td>\n",
       "      <td>2010</td>\n",
       "      <td>1</td>\n",
       "      <td>5.074074e+03</td>\n",
       "      <td>8.531899</td>\n",
       "      <td>NaN</td>\n",
       "    </tr>\n",
       "    <tr>\n",
       "      <th>33367</th>\n",
       "      <td>1018301.0</td>\n",
       "      <td>2011</td>\n",
       "      <td>1</td>\n",
       "      <td>6.851852e+03</td>\n",
       "      <td>8.832274</td>\n",
       "      <td>0.300375</td>\n",
       "    </tr>\n",
       "  </tbody>\n",
       "</table>\n",
       "</div>"
      ],
      "text/plain": [
       "         comp_id  year  status_alive         sales   ln_sales  sale_growth\n",
       "2      1002029.0  2010             1  8.437741e+05  13.645640          NaN\n",
       "33361  1002029.0  2011             1  5.732222e+05  13.259029    -0.386611\n",
       "66720  1002029.0  2012             1  1.136515e+06  13.943477     0.684448\n",
       "3      1003200.0  2010             1  1.379259e+04   9.531887          NaN\n",
       "33362  1003200.0  2011             1  1.157778e+04   9.356843    -0.175044\n",
       "66721  1003200.0  2012             1  2.785185e+03   7.932070    -1.424773\n",
       "4      1004012.0  2010             1  2.533333e+03   7.837291          NaN\n",
       "33363  1004012.0  2011             1  1.914815e+03   7.557376    -0.279915\n",
       "66722  1004012.0  2012             0           NaN        NaN          NaN\n",
       "5      1007261.0  2010             1  2.188889e+03   7.691149          NaN\n",
       "33364  1007261.0  2011             1  7.925926e+02   6.675309    -1.015840\n",
       "66723  1007261.0  2012             0  0.000000e+00   0.000000    -6.675309\n",
       "6      1011889.0  2010             1  3.414592e+05  12.740984          NaN\n",
       "33365  1011889.0  2011             1  3.932926e+05  12.882309     0.141326\n",
       "66724  1011889.0  2012             1  4.336667e+05  12.980031     0.097722\n",
       "7      1014183.0  2010             1  1.073815e+05  11.584143          NaN\n",
       "33366  1014183.0  2011             1  1.704667e+05  12.046295     0.462152\n",
       "66725  1014183.0  2012             1  1.297296e+05  11.773208    -0.273087\n",
       "8      1018301.0  2010             1  5.074074e+03   8.531899          NaN\n",
       "33367  1018301.0  2011             1  6.851852e+03   8.832274     0.300375"
      ]
     },
     "execution_count": 25,
     "metadata": {},
     "output_type": "execute_result"
    }
   ],
   "source": [
    "data[vars].head(20)"
   ]
  },
  {
   "cell_type": "code",
   "execution_count": 26,
   "metadata": {},
   "outputs": [
    {
     "data": {
      "text/plain": [
       "<AxesSubplot:>"
      ]
     },
     "execution_count": 26,
     "metadata": {},
     "output_type": "execute_result"
    },
    {
     "data": {
      "image/png": "[encoded data removed]",
      "text/plain": [
       "<Figure size 432x288 with 1 Axes>"
      ]
     },
     "metadata": {
      "needs_background": "light"
     },
     "output_type": "display_data"
    }
   ],
   "source": [
    "data.sale_growth.hist(bins=30)"
   ]
  },
  {
   "cell_type": "code",
   "execution_count": 27,
   "metadata": {},
   "outputs": [],
   "source": [
    "# replace w 0 for new firms + add dummy to capture it\n",
    "data[\"age\"] = np.where(\n",
    "    data[\"year\"].astype(int) - data[\"founded_year\"] < 0, 0, data[\"year\"].astype(int) - data[\"founded_year\"]\n",
    ")\n",
    "data[\"new\"] = np.where(\n",
    "    ((data[\"age\"] <= 1) | (data[\"balsheet_notfullyear\"] == 1)),\n",
    "    1,\n",
    "    (np.where(data[\"age\"].isna(), np.nan, 0)),\n",
    ")\n",
    "data[\"sale_growth\"] = np.where(\n",
    "    data[\"new\"] == 1, 0, np.where(data[\"new\"].isna(), np.nan, data[\"sale_growth\"])\n",
    ")\n",
    "data[\"new\"] = np.where(data[\"sale_growth\"].isna(), 1, data[\"new\"])\n",
    "data[\"sale_growth\"] = np.where(data[\"sale_growth\"].isna(), 0, data[\"sale_growth\"])"
   ]
  },
  {
   "cell_type": "code",
   "execution_count": 28,
   "metadata": {},
   "outputs": [
    {
     "data": {
      "text/plain": [
       "count    57441.000000\n",
       "mean        -0.146176\n",
       "std          1.161675\n",
       "min        -16.260223\n",
       "25%         -0.049354\n",
       "50%          0.000000\n",
       "75%          0.018978\n",
       "max         10.658247\n",
       "Name: sale_growth, dtype: float64"
      ]
     },
     "execution_count": 28,
     "metadata": {},
     "output_type": "execute_result"
    }
   ],
   "source": [
    "data['sale_growth'].describe()"
   ]
  },
  {
   "cell_type": "code",
   "execution_count": 29,
   "metadata": {},
   "outputs": [
    {
     "data": {
      "text/plain": [
       "count    57441.000000\n",
       "mean         0.444090\n",
       "std          0.496869\n",
       "min          0.000000\n",
       "25%          0.000000\n",
       "50%          0.000000\n",
       "75%          1.000000\n",
       "max          1.000000\n",
       "Name: new, dtype: float64"
      ]
     },
     "execution_count": 29,
     "metadata": {},
     "output_type": "execute_result"
    }
   ],
   "source": [
    "data['new'].describe()"
   ]
  },
  {
   "cell_type": "code",
   "execution_count": 30,
   "metadata": {},
   "outputs": [],
   "source": [
    "data.to_csv(\"../data/clean/data_train_raw.csv\",index=False)"
   ]
  },
  {
   "cell_type": "markdown",
   "metadata": {},
   "source": [
    "## target variable"
   ]
  },
  {
   "cell_type": "markdown",
   "metadata": {},
   "source": [
    "target variable will be next year's growth"
   ]
  },
  {
   "cell_type": "code",
   "execution_count": 31,
   "metadata": {},
   "outputs": [],
   "source": [
    "data = pd.read_csv(\"../data/clean/data_train_raw.csv\")"
   ]
  },
  {
   "cell_type": "code",
   "execution_count": 32,
   "metadata": {},
   "outputs": [
    {
     "data": {
      "text/plain": [
       "<AxesSubplot:>"
      ]
     },
     "execution_count": 32,
     "metadata": {},
     "output_type": "execute_result"
    },
    {
     "data": {
      "image/png": "[encoded data removed]",
      "text/plain": [
       "<Figure size 432x288 with 1 Axes>"
      ]
     },
     "metadata": {
      "needs_background": "light"
     },
     "output_type": "display_data"
    }
   ],
   "source": [
    "data.sale_growth.hist()"
   ]
  },
  {
   "cell_type": "code",
   "execution_count": 33,
   "metadata": {},
   "outputs": [],
   "source": [
    "data[\"sale_growth_target\"] = data[\"sale_growth\"].shift(-1)"
   ]
  },
  {
   "cell_type": "code",
   "execution_count": 34,
   "metadata": {},
   "outputs": [
    {
     "data": {
      "text/html": [
       "<div>\n",
       "<style scoped>\n",
       "    .dataframe tbody tr th:only-of-type {\n",
       "        vertical-align: middle;\n",
       "    }\n",
       "\n",
       "    .dataframe tbody tr th {\n",
       "        vertical-align: top;\n",
       "    }\n",
       "\n",
       "    .dataframe thead th {\n",
       "        text-align: right;\n",
       "    }\n",
       "</style>\n",
       "<table border=\"1\" class=\"dataframe\">\n",
       "  <thead>\n",
       "    <tr style=\"text-align: right;\">\n",
       "      <th></th>\n",
       "      <th>comp_id</th>\n",
       "      <th>year</th>\n",
       "      <th>status_alive</th>\n",
       "      <th>sales</th>\n",
       "      <th>ln_sales</th>\n",
       "      <th>sale_growth</th>\n",
       "      <th>sale_growth_target</th>\n",
       "    </tr>\n",
       "  </thead>\n",
       "  <tbody>\n",
       "    <tr>\n",
       "      <th>0</th>\n",
       "      <td>1.002029e+06</td>\n",
       "      <td>2010</td>\n",
       "      <td>1</td>\n",
       "      <td>8.437741e+05</td>\n",
       "      <td>13.645640</td>\n",
       "      <td>0.000000</td>\n",
       "      <td>-0.386611</td>\n",
       "    </tr>\n",
       "    <tr>\n",
       "      <th>1</th>\n",
       "      <td>1.002029e+06</td>\n",
       "      <td>2011</td>\n",
       "      <td>1</td>\n",
       "      <td>5.732222e+05</td>\n",
       "      <td>13.259029</td>\n",
       "      <td>-0.386611</td>\n",
       "      <td>0.684448</td>\n",
       "    </tr>\n",
       "    <tr>\n",
       "      <th>2</th>\n",
       "      <td>1.002029e+06</td>\n",
       "      <td>2012</td>\n",
       "      <td>1</td>\n",
       "      <td>1.136515e+06</td>\n",
       "      <td>13.943477</td>\n",
       "      <td>0.684448</td>\n",
       "      <td>0.000000</td>\n",
       "    </tr>\n",
       "    <tr>\n",
       "      <th>3</th>\n",
       "      <td>1.003200e+06</td>\n",
       "      <td>2010</td>\n",
       "      <td>1</td>\n",
       "      <td>1.379259e+04</td>\n",
       "      <td>9.531887</td>\n",
       "      <td>0.000000</td>\n",
       "      <td>-0.175044</td>\n",
       "    </tr>\n",
       "    <tr>\n",
       "      <th>4</th>\n",
       "      <td>1.003200e+06</td>\n",
       "      <td>2011</td>\n",
       "      <td>1</td>\n",
       "      <td>1.157778e+04</td>\n",
       "      <td>9.356843</td>\n",
       "      <td>-0.175044</td>\n",
       "      <td>-1.424773</td>\n",
       "    </tr>\n",
       "    <tr>\n",
       "      <th>...</th>\n",
       "      <td>...</td>\n",
       "      <td>...</td>\n",
       "      <td>...</td>\n",
       "      <td>...</td>\n",
       "      <td>...</td>\n",
       "      <td>...</td>\n",
       "      <td>...</td>\n",
       "    </tr>\n",
       "    <tr>\n",
       "      <th>57436</th>\n",
       "      <td>4.641050e+11</td>\n",
       "      <td>2011</td>\n",
       "      <td>1</td>\n",
       "      <td>1.600148e+05</td>\n",
       "      <td>11.983022</td>\n",
       "      <td>-0.015526</td>\n",
       "      <td>-0.032630</td>\n",
       "    </tr>\n",
       "    <tr>\n",
       "      <th>57437</th>\n",
       "      <td>4.641050e+11</td>\n",
       "      <td>2012</td>\n",
       "      <td>1</td>\n",
       "      <td>1.548778e+05</td>\n",
       "      <td>11.950392</td>\n",
       "      <td>-0.032630</td>\n",
       "      <td>0.000000</td>\n",
       "    </tr>\n",
       "    <tr>\n",
       "      <th>57438</th>\n",
       "      <td>4.641209e+11</td>\n",
       "      <td>2010</td>\n",
       "      <td>1</td>\n",
       "      <td>2.592592e+02</td>\n",
       "      <td>5.557829</td>\n",
       "      <td>0.000000</td>\n",
       "      <td>0.108214</td>\n",
       "    </tr>\n",
       "    <tr>\n",
       "      <th>57439</th>\n",
       "      <td>4.641209e+11</td>\n",
       "      <td>2011</td>\n",
       "      <td>1</td>\n",
       "      <td>2.888889e+02</td>\n",
       "      <td>5.666042</td>\n",
       "      <td>0.108214</td>\n",
       "      <td>-5.666042</td>\n",
       "    </tr>\n",
       "    <tr>\n",
       "      <th>57440</th>\n",
       "      <td>4.641209e+11</td>\n",
       "      <td>2012</td>\n",
       "      <td>0</td>\n",
       "      <td>0.000000e+00</td>\n",
       "      <td>0.000000</td>\n",
       "      <td>-5.666042</td>\n",
       "      <td>NaN</td>\n",
       "    </tr>\n",
       "  </tbody>\n",
       "</table>\n",
       "<p>57441 rows × 7 columns</p>\n",
       "</div>"
      ],
      "text/plain": [
       "            comp_id  year  status_alive         sales   ln_sales  sale_growth  \\\n",
       "0      1.002029e+06  2010             1  8.437741e+05  13.645640     0.000000   \n",
       "1      1.002029e+06  2011             1  5.732222e+05  13.259029    -0.386611   \n",
       "2      1.002029e+06  2012             1  1.136515e+06  13.943477     0.684448   \n",
       "3      1.003200e+06  2010             1  1.379259e+04   9.531887     0.000000   \n",
       "4      1.003200e+06  2011             1  1.157778e+04   9.356843    -0.175044   \n",
       "...             ...   ...           ...           ...        ...          ...   \n",
       "57436  4.641050e+11  2011             1  1.600148e+05  11.983022    -0.015526   \n",
       "57437  4.641050e+11  2012             1  1.548778e+05  11.950392    -0.032630   \n",
       "57438  4.641209e+11  2010             1  2.592592e+02   5.557829     0.000000   \n",
       "57439  4.641209e+11  2011             1  2.888889e+02   5.666042     0.108214   \n",
       "57440  4.641209e+11  2012             0  0.000000e+00   0.000000    -5.666042   \n",
       "\n",
       "       sale_growth_target  \n",
       "0               -0.386611  \n",
       "1                0.684448  \n",
       "2                0.000000  \n",
       "3               -0.175044  \n",
       "4               -1.424773  \n",
       "...                   ...  \n",
       "57436           -0.032630  \n",
       "57437            0.000000  \n",
       "57438            0.108214  \n",
       "57439           -5.666042  \n",
       "57440                 NaN  \n",
       "\n",
       "[57441 rows x 7 columns]"
      ]
     },
     "execution_count": 34,
     "metadata": {},
     "output_type": "execute_result"
    }
   ],
   "source": [
    "data[vars + [\"sale_growth_target\"]]"
   ]
  },
  {
   "cell_type": "code",
   "execution_count": 35,
   "metadata": {},
   "outputs": [
    {
     "data": {
      "text/html": [
       "<div>\n",
       "<style scoped>\n",
       "    .dataframe tbody tr th:only-of-type {\n",
       "        vertical-align: middle;\n",
       "    }\n",
       "\n",
       "    .dataframe tbody tr th {\n",
       "        vertical-align: top;\n",
       "    }\n",
       "\n",
       "    .dataframe thead th {\n",
       "        text-align: right;\n",
       "    }\n",
       "</style>\n",
       "<table border=\"1\" class=\"dataframe\">\n",
       "  <thead>\n",
       "    <tr style=\"text-align: right;\">\n",
       "      <th></th>\n",
       "      <th>comp_id</th>\n",
       "      <th>year</th>\n",
       "      <th>status_alive</th>\n",
       "      <th>sales</th>\n",
       "      <th>ln_sales</th>\n",
       "      <th>sale_growth</th>\n",
       "      <th>sale_growth_target</th>\n",
       "    </tr>\n",
       "  </thead>\n",
       "  <tbody>\n",
       "    <tr>\n",
       "      <th>0</th>\n",
       "      <td>1.002029e+06</td>\n",
       "      <td>2010</td>\n",
       "      <td>1</td>\n",
       "      <td>8.437741e+05</td>\n",
       "      <td>13.645640</td>\n",
       "      <td>0.000000</td>\n",
       "      <td>-0.386611</td>\n",
       "    </tr>\n",
       "    <tr>\n",
       "      <th>1</th>\n",
       "      <td>1.002029e+06</td>\n",
       "      <td>2011</td>\n",
       "      <td>1</td>\n",
       "      <td>5.732222e+05</td>\n",
       "      <td>13.259029</td>\n",
       "      <td>-0.386611</td>\n",
       "      <td>0.684448</td>\n",
       "    </tr>\n",
       "    <tr>\n",
       "      <th>2</th>\n",
       "      <td>1.002029e+06</td>\n",
       "      <td>2012</td>\n",
       "      <td>1</td>\n",
       "      <td>1.136515e+06</td>\n",
       "      <td>13.943477</td>\n",
       "      <td>0.684448</td>\n",
       "      <td>0.000000</td>\n",
       "    </tr>\n",
       "    <tr>\n",
       "      <th>3</th>\n",
       "      <td>1.003200e+06</td>\n",
       "      <td>2010</td>\n",
       "      <td>1</td>\n",
       "      <td>1.379259e+04</td>\n",
       "      <td>9.531887</td>\n",
       "      <td>0.000000</td>\n",
       "      <td>-0.175044</td>\n",
       "    </tr>\n",
       "    <tr>\n",
       "      <th>4</th>\n",
       "      <td>1.003200e+06</td>\n",
       "      <td>2011</td>\n",
       "      <td>1</td>\n",
       "      <td>1.157778e+04</td>\n",
       "      <td>9.356843</td>\n",
       "      <td>-0.175044</td>\n",
       "      <td>-1.424773</td>\n",
       "    </tr>\n",
       "    <tr>\n",
       "      <th>...</th>\n",
       "      <td>...</td>\n",
       "      <td>...</td>\n",
       "      <td>...</td>\n",
       "      <td>...</td>\n",
       "      <td>...</td>\n",
       "      <td>...</td>\n",
       "      <td>...</td>\n",
       "    </tr>\n",
       "    <tr>\n",
       "      <th>57436</th>\n",
       "      <td>4.641050e+11</td>\n",
       "      <td>2011</td>\n",
       "      <td>1</td>\n",
       "      <td>1.600148e+05</td>\n",
       "      <td>11.983022</td>\n",
       "      <td>-0.015526</td>\n",
       "      <td>-0.032630</td>\n",
       "    </tr>\n",
       "    <tr>\n",
       "      <th>57437</th>\n",
       "      <td>4.641050e+11</td>\n",
       "      <td>2012</td>\n",
       "      <td>1</td>\n",
       "      <td>1.548778e+05</td>\n",
       "      <td>11.950392</td>\n",
       "      <td>-0.032630</td>\n",
       "      <td>0.000000</td>\n",
       "    </tr>\n",
       "    <tr>\n",
       "      <th>57438</th>\n",
       "      <td>4.641209e+11</td>\n",
       "      <td>2010</td>\n",
       "      <td>1</td>\n",
       "      <td>2.592592e+02</td>\n",
       "      <td>5.557829</td>\n",
       "      <td>0.000000</td>\n",
       "      <td>0.108214</td>\n",
       "    </tr>\n",
       "    <tr>\n",
       "      <th>57439</th>\n",
       "      <td>4.641209e+11</td>\n",
       "      <td>2011</td>\n",
       "      <td>1</td>\n",
       "      <td>2.888889e+02</td>\n",
       "      <td>5.666042</td>\n",
       "      <td>0.108214</td>\n",
       "      <td>-5.666042</td>\n",
       "    </tr>\n",
       "    <tr>\n",
       "      <th>57440</th>\n",
       "      <td>4.641209e+11</td>\n",
       "      <td>2012</td>\n",
       "      <td>0</td>\n",
       "      <td>0.000000e+00</td>\n",
       "      <td>0.000000</td>\n",
       "      <td>-5.666042</td>\n",
       "      <td>NaN</td>\n",
       "    </tr>\n",
       "  </tbody>\n",
       "</table>\n",
       "<p>57441 rows × 7 columns</p>\n",
       "</div>"
      ],
      "text/plain": [
       "            comp_id  year  status_alive         sales   ln_sales  sale_growth  \\\n",
       "0      1.002029e+06  2010             1  8.437741e+05  13.645640     0.000000   \n",
       "1      1.002029e+06  2011             1  5.732222e+05  13.259029    -0.386611   \n",
       "2      1.002029e+06  2012             1  1.136515e+06  13.943477     0.684448   \n",
       "3      1.003200e+06  2010             1  1.379259e+04   9.531887     0.000000   \n",
       "4      1.003200e+06  2011             1  1.157778e+04   9.356843    -0.175044   \n",
       "...             ...   ...           ...           ...        ...          ...   \n",
       "57436  4.641050e+11  2011             1  1.600148e+05  11.983022    -0.015526   \n",
       "57437  4.641050e+11  2012             1  1.548778e+05  11.950392    -0.032630   \n",
       "57438  4.641209e+11  2010             1  2.592592e+02   5.557829     0.000000   \n",
       "57439  4.641209e+11  2011             1  2.888889e+02   5.666042     0.108214   \n",
       "57440  4.641209e+11  2012             0  0.000000e+00   0.000000    -5.666042   \n",
       "\n",
       "       sale_growth_target  \n",
       "0               -0.386611  \n",
       "1                0.684448  \n",
       "2                0.000000  \n",
       "3               -0.175044  \n",
       "4               -1.424773  \n",
       "...                   ...  \n",
       "57436           -0.032630  \n",
       "57437            0.000000  \n",
       "57438            0.108214  \n",
       "57439           -5.666042  \n",
       "57440                 NaN  \n",
       "\n",
       "[57441 rows x 7 columns]"
      ]
     },
     "execution_count": 35,
     "metadata": {},
     "output_type": "execute_result"
    }
   ],
   "source": [
    "data[vars + [\"sale_growth_target\"]]"
   ]
  },
  {
   "cell_type": "markdown",
   "metadata": {},
   "source": [
    "# Feature engineering"
   ]
  },
  {
   "cell_type": "code",
   "execution_count": 36,
   "metadata": {},
   "outputs": [],
   "source": [
    "# change some industry category codes\n",
    "data[\"ind2_cat\"] = data[\"ind2\"].copy()\n",
    "data[\"ind2_cat\"] = np.where(data[\"ind2\"] > 56, 60, data[\"ind2_cat\"])\n",
    "data[\"ind2_cat\"] = np.where(data[\"ind2\"] < 26, 20, data[\"ind2_cat\"])\n",
    "data[\"ind2_cat\"] = np.where(\n",
    "    (data[\"ind2\"] < 55) & (data[\"ind2\"] > 35), 40, data[\"ind2_cat\"]\n",
    ")\n",
    "data[\"ind2_cat\"] = np.where(data[\"ind2\"] == 31, 30, data[\"ind2_cat\"])\n",
    "data[\"ind2_cat\"] = np.where(data[\"ind2\"].isna(), 99, data[\"ind2_cat\"])"
   ]
  },
  {
   "cell_type": "code",
   "execution_count": 37,
   "metadata": {},
   "outputs": [],
   "source": [
    "# Firm characteristics\n",
    "data[\"age2\"] = data[\"age\"] ** 2\n",
    "data[\"foreign_management\"] = np.where(\n",
    "    data[\"foreign\"] >= 0.5, 1, np.where(data[\"foreign\"].isna(), np.nan, 0)\n",
    ")\n",
    "data[\"gender_m\"] = data[\"gender\"].astype(\"category\")\n",
    "data[\"m_region_loc\"] = data[\"region_m\"].astype(\"category\")"
   ]
  },
  {
   "cell_type": "code",
   "execution_count": 38,
   "metadata": {},
   "outputs": [
    {
     "data": {
      "text/plain": [
       "flag_asset_problem\n",
       "0.0    56240\n",
       "1.0       32\n",
       "Name: comp_id, dtype: int64"
      ]
     },
     "execution_count": 38,
     "metadata": {},
     "output_type": "execute_result"
    }
   ],
   "source": [
    "###########################################################\n",
    "# look at more financial variables, create ratios\n",
    "###########################################################\n",
    "\n",
    "# assets can't be negative. Change them to 0 and add a flag.\n",
    "data[\"flag_asset_problem\"] = np.where(\n",
    "    (\n",
    "        (data[\"intang_assets\"] < 0)\n",
    "        | (data[\"curr_assets\"] < 0)\n",
    "        | (data[\"fixed_assets\"] < 0)\n",
    "    ),\n",
    "    1,\n",
    "    0,\n",
    ")\n",
    "data[\"flag_asset_problem\"] = np.where(\n",
    "    (\n",
    "        (data[\"intang_assets\"].isna())\n",
    "        | (data[\"curr_assets\"].isna())\n",
    "        | (data[\"fixed_assets\"].isna())\n",
    "    ),\n",
    "    np.nan,\n",
    "    data[\"flag_asset_problem\"],\n",
    ")\n",
    "data.groupby(\"flag_asset_problem\").count()[\"comp_id\"]"
   ]
  },
  {
   "cell_type": "code",
   "execution_count": 39,
   "metadata": {},
   "outputs": [],
   "source": [
    "data['intang_assets'] = np.where(data['intang_assets'] < 0, 0, data['intang_assets'])\n",
    "data['curr_assets'] = np.where(data['curr_assets'] < 0, 0, data['curr_assets'])\n",
    "data['fixed_assets'] = np.where(data['fixed_assets'] < 0, 0, data['fixed_assets'])"
   ]
  },
  {
   "cell_type": "code",
   "execution_count": 40,
   "metadata": {},
   "outputs": [
    {
     "data": {
      "text/plain": [
       "count    5.627200e+04\n",
       "mean     5.501076e+05\n",
       "std      4.767587e+06\n",
       "min      0.000000e+00\n",
       "25%      7.770370e+03\n",
       "50%      2.821111e+04\n",
       "75%      1.144704e+05\n",
       "max      4.918527e+08\n",
       "Name: total_assets_bs, dtype: float64"
      ]
     },
     "execution_count": 40,
     "metadata": {},
     "output_type": "execute_result"
    }
   ],
   "source": [
    "# generate total assets\n",
    "data['total_assets_bs'] = data['intang_assets'] + data['curr_assets'] + data['fixed_assets']\n",
    "data['total_assets_bs'].describe()"
   ]
  },
  {
   "cell_type": "code",
   "execution_count": 41,
   "metadata": {},
   "outputs": [],
   "source": [
    "pl_names = ['extra_exp','extra_inc',  'extra_profit_loss', 'inc_bef_tax' ,'inventories',\n",
    "              'material_exp', 'profit_loss_year', 'personnel_exp']\n",
    "bs_names = ['intang_assets', 'curr_liab', 'fixed_assets', 'liq_assets', 'curr_assets',\n",
    "              'share_eq', 'subscribed_cap', 'tang_assets' ]"
   ]
  },
  {
   "cell_type": "code",
   "execution_count": 42,
   "metadata": {},
   "outputs": [],
   "source": [
    "# divide all pl_names elements by sales and create new column for it\n",
    "data[[col +'_pl' for col in pl_names]] = data[pl_names].div(data['sales'], axis='index')"
   ]
  },
  {
   "cell_type": "code",
   "execution_count": 43,
   "metadata": {},
   "outputs": [],
   "source": [
    "# divide all bs_names elements by total_assets_bs and create new column for it\n",
    "data[[col +'_bs' for col in bs_names]] =  data[bs_names].div(data['total_assets_bs'], axis='index').replace((np.inf, -np.inf, np.nan), (0, 0, 0))\n",
    "# get Nan values where total_assets_bs is NaN\n",
    "for col in bs_names:\n",
    "    data[[col +'_bs']] = np.where(data['total_assets_bs'].isna(), np.nan, data[col +'_bs'])"
   ]
  },
  {
   "cell_type": "code",
   "execution_count": 44,
   "metadata": {},
   "outputs": [],
   "source": [
    "########################################################################\n",
    "# creating flags, and winsorizing tails\n",
    "########################################################################\n",
    "\n",
    "# Variables that represent accounting items that cannot be negative (e.g. materials)\n",
    "zero = ['extra_exp_pl', 'extra_inc_pl', 'inventories_pl', 'material_exp_pl', 'personnel_exp_pl',\n",
    "           'curr_liab_bs', 'fixed_assets_bs', 'liq_assets_bs', 'curr_assets_bs', 'subscribed_cap_bs',\n",
    "           'intang_assets_bs']\n",
    "\n",
    "data[[col +'_flag_high' for col in zero]] = np.where(data[zero].isna(), np.nan, (data[zero] > 1).astype(int))\n",
    "data[[col for col in zero]] = np.where(data[zero].isna(), np.nan, np.where(data[zero] > 1, 1, data[zero]))\n",
    "data[[col +'_flag_error' for col in zero]] = np.where(data[zero].isna(), np.nan, (data[zero] < 0).astype(int))\n",
    "data[[col for col in zero]] = np.where(data[zero].isna(), np.nan, np.where(data[zero] < 0, 0, data[zero]))"
   ]
  },
  {
   "cell_type": "code",
   "execution_count": 45,
   "metadata": {},
   "outputs": [],
   "source": [
    "# for vars that could be any, but are mostly between -1 and 1\n",
    "anyof = ['extra_profit_loss_pl', 'inc_bef_tax_pl', 'profit_loss_year_pl', 'share_eq_bs']\n",
    "\n",
    "data[[col +'_flag_low' for col in anyof]] = np.where(data[anyof].isna(), np.nan, (data[anyof] < -1).astype(int))\n",
    "data[[col for col in anyof]] = np.where(data[anyof].isna(), np.nan, np.where((data[anyof] < -1), -1, data[anyof]))\n",
    "data[[col +'_flag_high' for col in anyof]] = np.where(data[anyof].isna(), np.nan, (data[anyof] > 1).astype(int))\n",
    "data[[col for col in anyof]] = np.where(data[anyof].isna(), np.nan, np.where((data[anyof] > 1), 1, data[anyof]))\n",
    "data[[col +'_flag_zero' for col in anyof]] = np.where(data[anyof].isna(), np.nan, (data[anyof] == 0).astype(int))\n",
    "data[[col +'_quad' for col in anyof]] = np.where(data[anyof].isna(), np.nan, data[anyof]**2)"
   ]
  },
  {
   "cell_type": "code",
   "execution_count": 46,
   "metadata": {},
   "outputs": [],
   "source": [
    "# dropping flags with no variation\n",
    "flag_columns = [col for col in data.columns if 'flag' in col]\n",
    "data = data.drop(data[flag_columns].std()[(data[flag_columns].std() == 0)].index, axis=1)"
   ]
  },
  {
   "cell_type": "code",
   "execution_count": 47,
   "metadata": {},
   "outputs": [],
   "source": [
    "########################################################################\n",
    "# additional\n",
    "# including some imputation\n",
    "########################################################################\n",
    "\n",
    "# CEO age\n",
    "data['ceo_age'] = data['year'].astype(int) - data['birth_year']\n",
    "data = data.assign(\n",
    "    flag_low_ceo_age = (data['ceo_age'] < 25).astype(int),\n",
    "    flag_high_ceo_age = (data['ceo_age'] > 75).astype(int),\n",
    "    flag_miss_ceo_age = (data['ceo_age'].isna()).astype(int))\n",
    "\n",
    "\n",
    "data['ceo_age'] = np.where(data['ceo_age'] < 25, 25, data['ceo_age'])\n",
    "data['ceo_age'] = np.where(data['ceo_age'] > 75, 75, data['ceo_age'])\n",
    "data['ceo_age'] = np.where(data['ceo_age'].isna(), data['ceo_age'].mean(), data['ceo_age'])\n",
    "data['ceo_young'] = (data['ceo_age'] < 40).astype(int)"
   ]
  },
  {
   "cell_type": "code",
   "execution_count": 48,
   "metadata": {},
   "outputs": [],
   "source": [
    "# number emp, very noisy measure\n",
    "data['labor_avg_mod'] = np.where(data['labor_avg'].isna(), data['labor_avg'].mean(), data['labor_avg'])\n",
    "data['flag_miss_labor_avg'] = (data['labor_avg'].isna()).astype(int)"
   ]
  },
  {
   "cell_type": "code",
   "execution_count": 49,
   "metadata": {},
   "outputs": [
    {
     "data": {
      "text/plain": [
       "count    47647.000000\n",
       "mean         1.070298\n",
       "std          5.150608\n",
       "min          0.083333\n",
       "25%          0.098485\n",
       "50%          0.250000\n",
       "75%          0.583333\n",
       "max        208.677078\n",
       "Name: labor_avg, dtype: float64"
      ]
     },
     "execution_count": 49,
     "metadata": {},
     "output_type": "execute_result"
    }
   ],
   "source": [
    "data['labor_avg'].describe()"
   ]
  },
  {
   "cell_type": "code",
   "execution_count": 50,
   "metadata": {},
   "outputs": [
    {
     "data": {
      "text/plain": [
       "count    57441.000000\n",
       "mean         1.070298\n",
       "std          4.690990\n",
       "min          0.083333\n",
       "25%          0.138889\n",
       "50%          0.333333\n",
       "75%          1.070298\n",
       "max        208.677078\n",
       "Name: labor_avg_mod, dtype: float64"
      ]
     },
     "execution_count": 50,
     "metadata": {},
     "output_type": "execute_result"
    }
   ],
   "source": [
    "data['labor_avg_mod'].describe()"
   ]
  },
  {
   "cell_type": "code",
   "execution_count": 51,
   "metadata": {},
   "outputs": [],
   "source": [
    "data = data.drop(['labor_avg'], axis=1)"
   ]
  },
  {
   "cell_type": "code",
   "execution_count": 52,
   "metadata": {},
   "outputs": [],
   "source": [
    "# create category type variables\n",
    "data['urban_m'] = data['urban_m'].astype(\"category\")\n",
    "data['ind2_cat'] = data['ind2_cat'].astype(\"category\")"
   ]
  },
  {
   "cell_type": "code",
   "execution_count": 53,
   "metadata": {},
   "outputs": [],
   "source": [
    "########################################################################\n",
    " # sales \n",
    "########################################################################\n",
    "data['sales_mil_log_sq'] = data['sales_mil_log']**2"
   ]
  },
  {
   "cell_type": "code",
   "execution_count": 54,
   "metadata": {},
   "outputs": [
    {
     "data": {
      "text/plain": [
       "<AxesSubplot:>"
      ]
     },
     "execution_count": 54,
     "metadata": {},
     "output_type": "execute_result"
    },
    {
     "data": {
      "image/png": "[encoded data removed]",
      "text/plain": [
       "<Figure size 432x288 with 1 Axes>"
      ]
     },
     "metadata": {
      "needs_background": "light"
     },
     "output_type": "display_data"
    }
   ],
   "source": [
    "data.sale_growth_target.hist()"
   ]
  },
  {
   "cell_type": "code",
   "execution_count": 55,
   "metadata": {},
   "outputs": [],
   "source": [
    "# no more imputation, drop obs if key vars missing\n",
    "data = data.dropna(subset = ['liq_assets_bs', 'foreign', 'ind'])"
   ]
  },
  {
   "cell_type": "code",
   "execution_count": 56,
   "metadata": {},
   "outputs": [
    {
     "data": {
      "text/plain": [
       "count    48223.000000\n",
       "mean         9.531344\n",
       "std          6.455371\n",
       "min          0.000000\n",
       "25%          3.000000\n",
       "50%          9.000000\n",
       "75%         15.000000\n",
       "max         34.000000\n",
       "Name: age, dtype: float64"
      ]
     },
     "execution_count": 56,
     "metadata": {},
     "output_type": "execute_result"
    }
   ],
   "source": [
    "# drop missing\n",
    "data = data.dropna(subset = ['age', 'foreign', 'material_exp_pl', 'm_region_loc'])\n",
    "data['age'].describe()"
   ]
  },
  {
   "cell_type": "code",
   "execution_count": 57,
   "metadata": {},
   "outputs": [],
   "source": [
    "# drop unused factor levels\n",
    "for col in data.select_dtypes(include=['category']).columns:\n",
    "    data[col] = data[col].cat.remove_unused_categories()"
   ]
  },
  {
   "cell_type": "markdown",
   "metadata": {},
   "source": [
    "## create additional financial variables"
   ]
  },
  {
   "cell_type": "code",
   "execution_count": 58,
   "metadata": {},
   "outputs": [
    {
     "data": {
      "text/plain": [
       "17325"
      ]
     },
     "execution_count": 58,
     "metadata": {},
     "output_type": "execute_result"
    }
   ],
   "source": [
    "data.comp_id.nunique()"
   ]
  },
  {
   "cell_type": "markdown",
   "metadata": {},
   "source": [
    "1. ROE"
   ]
  },
  {
   "cell_type": "code",
   "execution_count": 59,
   "metadata": {},
   "outputs": [],
   "source": [
    "minimum_roe = data.loc[\n",
    "    lambda x: (x[\"inc_bef_tax\"] > 0) & (x[\"share_eq\"] > 0) | (x[\"share_eq\"] != 0)\n",
    "].assign(ROE=lambda x: x[\"inc_bef_tax\"] / x[\"share_eq\"])[\"ROE\"].min()"
   ]
  },
  {
   "cell_type": "code",
   "execution_count": 60,
   "metadata": {},
   "outputs": [
    {
     "data": {
      "text/plain": [
       "-1135.9999701309198"
      ]
     },
     "execution_count": 60,
     "metadata": {},
     "output_type": "execute_result"
    }
   ],
   "source": [
    "minimum_roe"
   ]
  },
  {
   "cell_type": "markdown",
   "metadata": {},
   "source": [
    "imp rule:\n",
    "\n",
    "    - nom < 0 & denom < 0 --> minimum\n",
    "    - denom == 0 --> minimum"
   ]
  },
  {
   "cell_type": "code",
   "execution_count": 61,
   "metadata": {},
   "outputs": [],
   "source": [
    "data = data.assign(ROE=lambda x: x[\"inc_bef_tax\"] / x[\"share_eq\"])\n",
    "\n",
    "data[\"ROE\"] = np.where((data[\"inc_bef_tax\"] < 0) & (data[\"share_eq\"] < 0), minimum_roe, data[\"ROE\"])\n",
    "data[\"ROE\"] = np.where(data[\"share_eq\"] == 0, minimum_roe, data[\"ROE\"])"
   ]
  },
  {
   "cell_type": "code",
   "execution_count": 62,
   "metadata": {},
   "outputs": [
    {
     "data": {
      "text/plain": [
       "<AxesSubplot:>"
      ]
     },
     "execution_count": 62,
     "metadata": {},
     "output_type": "execute_result"
    },
    {
     "data": {
      "image/png": "[encoded data removed]",
      "text/plain": [
       "<Figure size 432x288 with 1 Axes>"
      ]
     },
     "metadata": {
      "needs_background": "light"
     },
     "output_type": "display_data"
    }
   ],
   "source": [
    "data[\"ROE\"].hist()"
   ]
  },
  {
   "cell_type": "code",
   "execution_count": 63,
   "metadata": {},
   "outputs": [],
   "source": [
    "data[\"ROE_target\"] = data[\"ROE\"].shift(-1)"
   ]
  },
  {
   "cell_type": "markdown",
   "metadata": {},
   "source": [
    "  2. EBIDTA  "
   ]
  },
  {
   "cell_type": "markdown",
   "metadata": {},
   "source": [
    "(inc_bef_tax + amort)/total_assets_bsll_assets"
   ]
  },
  {
   "cell_type": "code",
   "execution_count": 64,
   "metadata": {},
   "outputs": [
    {
     "data": {
      "text/plain": [
       "0"
      ]
     },
     "execution_count": 64,
     "metadata": {},
     "output_type": "execute_result"
    }
   ],
   "source": [
    "data.total_assets_bs.isnull().sum()"
   ]
  },
  {
   "cell_type": "code",
   "execution_count": 65,
   "metadata": {},
   "outputs": [
    {
     "data": {
      "text/plain": [
       "118"
      ]
     },
     "execution_count": 65,
     "metadata": {},
     "output_type": "execute_result"
    }
   ],
   "source": [
    "(data.total_assets_bs == 0).sum()"
   ]
  },
  {
   "cell_type": "code",
   "execution_count": 66,
   "metadata": {},
   "outputs": [],
   "source": [
    "data[\"EBITDA\"] = (data[\"inc_bef_tax\"] + data[\"amort\"]) / data[\"total_assets_bs\"]"
   ]
  },
  {
   "cell_type": "markdown",
   "metadata": {},
   "source": [
    "imp rule:\n",
    "    \n",
    "    - denom == 0 & nom > 0 --> max\n",
    "    - denom == 0 & nom == 0 --> median\n",
    "    - denom == 0 & nom < 0 --> min"
   ]
  },
  {
   "cell_type": "code",
   "execution_count": 67,
   "metadata": {},
   "outputs": [],
   "source": [
    "data[\"EBITDA\"] = np.where(\n",
    "    (data[\"total_assets_bs\"] == 0) & ((data[\"inc_bef_tax\"] + data[\"amort\"]) > 0),\n",
    "    data.loc[lambda x: x[\"EBITDA\"] != np.inf, \"EBITDA\"].max(),\n",
    "    data[\"EBITDA\"],\n",
    ")\n",
    "\n",
    "data[\"EBITDA\"] = np.where(\n",
    "    (data[\"total_assets_bs\"] == 0) & ((data[\"inc_bef_tax\"] + data[\"amort\"]) == 0),\n",
    "    data.loc[lambda x: x[\"EBITDA\"] != np.inf, \"EBITDA\"].median(),\n",
    "    data[\"EBITDA\"],\n",
    ")\n",
    "\n",
    "data[\"EBITDA\"] = np.where(\n",
    "    (data[\"total_assets_bs\"] == 0) & ((data[\"inc_bef_tax\"] + data[\"amort\"]) < 0),\n",
    "    data.loc[lambda x: x[\"EBITDA\"] != -np.inf, \"EBITDA\"].min(),\n",
    "    data[\"EBITDA\"],\n",
    ")"
   ]
  },
  {
   "cell_type": "markdown",
   "metadata": {},
   "source": [
    "3. ROA"
   ]
  },
  {
   "cell_type": "code",
   "execution_count": 68,
   "metadata": {},
   "outputs": [],
   "source": [
    "data[\"ROA\"] = (data[\"inc_bef_tax\"]) / data[\"total_assets_bs\"]"
   ]
  },
  {
   "cell_type": "markdown",
   "metadata": {},
   "source": [
    "imp rule:\n",
    "    \n",
    "    - denom == 0 & nom > 0 --> max\n",
    "    - denom == 0 & nom == 0 --> median\n",
    "    - denom == 0 & nom < 0 --> min"
   ]
  },
  {
   "cell_type": "code",
   "execution_count": 69,
   "metadata": {},
   "outputs": [],
   "source": [
    "data[\"ROA\"] = np.where(\n",
    "    (data[\"total_assets_bs\"] == 0) & ((data[\"inc_bef_tax\"] + data[\"amort\"]) > 0),\n",
    "    data.loc[lambda x: x[\"ROA\"] != np.inf, \"ROA\"].max(),\n",
    "    data[\"ROA\"],\n",
    ")\n",
    "\n",
    "data[\"ROA\"] = np.where(\n",
    "    (data[\"total_assets_bs\"] == 0) & ((data[\"inc_bef_tax\"] + data[\"amort\"]) == 0),\n",
    "    data.loc[lambda x: x[\"ROA\"] != np.inf, \"ROA\"].median(),\n",
    "    data[\"ROA\"],\n",
    ")\n",
    "\n",
    "data[\"ROA\"] = np.where(\n",
    "    (data[\"total_assets_bs\"] == 0) & ((data[\"inc_bef_tax\"] + data[\"amort\"]) < 0),\n",
    "    data.loc[lambda x: x[\"ROA\"] != -np.inf, \"ROA\"].min(),\n",
    "    data[\"ROA\"],\n",
    ")"
   ]
  },
  {
   "cell_type": "code",
   "execution_count": 70,
   "metadata": {},
   "outputs": [],
   "source": [
    "data[\"sales_per_tot_assets\"] = data[\"sales\"] /data[\"total_assets_bs\"]"
   ]
  },
  {
   "cell_type": "markdown",
   "metadata": {},
   "source": [
    "imp rule:\n",
    "    \n",
    "    - denom == 0 & nom > 0 --> max\n",
    "    - denom == 0 & nom == 0 --> median"
   ]
  },
  {
   "cell_type": "code",
   "execution_count": 71,
   "metadata": {},
   "outputs": [],
   "source": [
    "data[\"sales_per_tot_assets\"] = np.where(\n",
    "    (data[\"total_assets_bs\"] == 0) & (data[\"sales\"] == 0),\n",
    "    data.loc[lambda x: x[\"sales_per_tot_assets\"] != np.inf, \"sales_per_tot_assets\"].median(),\n",
    "    data[\"sales_per_tot_assets\"],\n",
    ")\n",
    "\n",
    "data[\"sales_per_tot_assets\"] = np.where(\n",
    "    (data[\"total_assets_bs\"] == 0) &  (data[\"sales\"] > 0),\n",
    "    data.loc[lambda x: x[\"sales_per_tot_assets\"] != np.inf, \"sales_per_tot_assets\"].max(),\n",
    "    data[\"sales_per_tot_assets\"],\n",
    ")"
   ]
  },
  {
   "cell_type": "code",
   "execution_count": 72,
   "metadata": {},
   "outputs": [],
   "source": [
    "data[\"liquidity_rate\"] = data[\"curr_assets\"] / data[\"curr_liab\"]"
   ]
  },
  {
   "cell_type": "markdown",
   "metadata": {},
   "source": [
    "impute max if denominator == 0"
   ]
  },
  {
   "cell_type": "code",
   "execution_count": 73,
   "metadata": {},
   "outputs": [],
   "source": [
    "data[\"liquidity_rate\"] = np.where(\n",
    "    data[\"curr_liab\"] == 0,\n",
    "    data[\"liquidity_rate\"].loc[lambda x: x != np.inf].max(),\n",
    "    data[\"liquidity_rate\"],\n",
    ")"
   ]
  },
  {
   "cell_type": "code",
   "execution_count": 74,
   "metadata": {},
   "outputs": [],
   "source": [
    "data[\"own_equity_rate\"] = data[\"share_eq\"] / data[\"total_assets_bs\"]"
   ]
  },
  {
   "cell_type": "markdown",
   "metadata": {},
   "source": [
    "impute min if denominator == 0"
   ]
  },
  {
   "cell_type": "code",
   "execution_count": 75,
   "metadata": {},
   "outputs": [],
   "source": [
    "data[\"own_equity_rate\"] = np.where(\n",
    "    data[\"total_assets_bs\"] == 0,\n",
    "    data[\"own_equity_rate\"].loc[lambda x: x != -np.inf].min(),\n",
    "    data[\"own_equity_rate\"],\n",
    ")"
   ]
  },
  {
   "cell_type": "code",
   "execution_count": 76,
   "metadata": {},
   "outputs": [],
   "source": [
    "financial_extras = [\n",
    "    \"ROE\",\n",
    "    \"ROA\",\n",
    "    \"sales_per_tot_assets\",\n",
    "    \"liquidity_rate\",\n",
    "    \"own_equity_rate\",\n",
    "]"
   ]
  },
  {
   "cell_type": "code",
   "execution_count": 77,
   "metadata": {
    "scrolled": true
   },
   "outputs": [
    {
     "data": {
      "text/plain": [
       "ROE                     0\n",
       "ROA                     0\n",
       "sales_per_tot_assets    0\n",
       "liquidity_rate          0\n",
       "own_equity_rate         0\n",
       "dtype: int64"
      ]
     },
     "execution_count": 77,
     "metadata": {},
     "output_type": "execute_result"
    }
   ],
   "source": [
    "data[financial_extras].isnull().sum()"
   ]
  },
  {
   "cell_type": "code",
   "execution_count": 78,
   "metadata": {},
   "outputs": [
    {
     "data": {
      "text/plain": [
       "ROE                     0\n",
       "ROA                     0\n",
       "sales_per_tot_assets    0\n",
       "liquidity_rate          0\n",
       "own_equity_rate         0\n",
       "dtype: int64"
      ]
     },
     "execution_count": 78,
     "metadata": {},
     "output_type": "execute_result"
    }
   ],
   "source": [
    "(data[financial_extras]== np.inf).sum()"
   ]
  },
  {
   "cell_type": "code",
   "execution_count": 79,
   "metadata": {},
   "outputs": [
    {
     "data": {
      "text/plain": [
       "ROE                     0\n",
       "ROA                     0\n",
       "sales_per_tot_assets    0\n",
       "liquidity_rate          0\n",
       "own_equity_rate         0\n",
       "dtype: int64"
      ]
     },
     "execution_count": 79,
     "metadata": {},
     "output_type": "execute_result"
    }
   ],
   "source": [
    "(data[financial_extras]== -np.inf).sum()"
   ]
  },
  {
   "cell_type": "markdown",
   "metadata": {},
   "source": [
    "## take only 2011 cross section (with 2012 growth )"
   ]
  },
  {
   "cell_type": "code",
   "execution_count": 80,
   "metadata": {},
   "outputs": [],
   "source": [
    "data = data.loc[lambda x: x[\"year\"] == 2011]\n",
    "# look at firms below 10m euro revenues and above 1000 euros\n",
    "data = data.query(\"sales_mil<=10 & sales_mil>=0.001\")"
   ]
  },
  {
   "cell_type": "markdown",
   "metadata": {},
   "source": [
    "## create target categories"
   ]
  },
  {
   "cell_type": "markdown",
   "metadata": {},
   "source": [
    "1. growth in sales"
   ]
  },
  {
   "cell_type": "code",
   "execution_count": 81,
   "metadata": {},
   "outputs": [],
   "source": [
    "data[\"high_growth_firm\"] = np.where(data[\"sale_growth_target\"]>0.3,1,0)"
   ]
  },
  {
   "cell_type": "code",
   "execution_count": 82,
   "metadata": {},
   "outputs": [
    {
     "data": {
      "text/plain": [
       "0    13926\n",
       "1     2247\n",
       "Name: high_growth_firm, dtype: int64"
      ]
     },
     "execution_count": 82,
     "metadata": {},
     "output_type": "execute_result"
    }
   ],
   "source": [
    "data[\"high_growth_firm\"].value_counts()"
   ]
  },
  {
   "cell_type": "code",
   "execution_count": 83,
   "metadata": {},
   "outputs": [
    {
     "data": {
      "text/plain": [
       "0    0.861065\n",
       "1    0.138935\n",
       "Name: high_growth_firm, dtype: float64"
      ]
     },
     "execution_count": 83,
     "metadata": {},
     "output_type": "execute_result"
    }
   ],
   "source": [
    "data[\"high_growth_firm\"].value_counts(normalize=True)"
   ]
  },
  {
   "cell_type": "markdown",
   "metadata": {},
   "source": [
    "2. high ROE in 2012"
   ]
  },
  {
   "cell_type": "code",
   "execution_count": 84,
   "metadata": {},
   "outputs": [],
   "source": [
    "data[\"high_roe_firm\"] = np.where(data[\"ROE_target\"]>0.3,1,0)"
   ]
  },
  {
   "cell_type": "code",
   "execution_count": 85,
   "metadata": {},
   "outputs": [
    {
     "data": {
      "text/plain": [
       "0    0.839115\n",
       "1    0.160885\n",
       "Name: high_roe_firm, dtype: float64"
      ]
     },
     "execution_count": 85,
     "metadata": {},
     "output_type": "execute_result"
    }
   ],
   "source": [
    "data[\"high_roe_firm\"].value_counts(normalize=True)"
   ]
  },
  {
   "cell_type": "code",
   "execution_count": 86,
   "metadata": {},
   "outputs": [
    {
     "data": {
      "text/plain": [
       "0"
      ]
     },
     "execution_count": 86,
     "metadata": {},
     "output_type": "execute_result"
    }
   ],
   "source": [
    "data[\"high_roe_firm\"].isnull().sum()"
   ]
  },
  {
   "cell_type": "code",
   "execution_count": 87,
   "metadata": {},
   "outputs": [
    {
     "data": {
      "text/plain": [
       "0"
      ]
     },
     "execution_count": 87,
     "metadata": {},
     "output_type": "execute_result"
    }
   ],
   "source": [
    "(data[\"high_roe_firm\"]== -np.inf).sum()"
   ]
  },
  {
   "cell_type": "code",
   "execution_count": 88,
   "metadata": {},
   "outputs": [
    {
     "data": {
      "text/plain": [
       "0"
      ]
     },
     "execution_count": 88,
     "metadata": {},
     "output_type": "execute_result"
    }
   ],
   "source": [
    "(data[\"high_roe_firm\"]== np.inf).sum()"
   ]
  },
  {
   "cell_type": "code",
   "execution_count": 89,
   "metadata": {},
   "outputs": [
    {
     "data": {
      "text/plain": [
       "D             16173\n",
       "exit_year     13862\n",
       "birth_year     3033\n",
       "exit_date     13862\n",
       "dtype: int64"
      ]
     },
     "execution_count": 89,
     "metadata": {},
     "output_type": "execute_result"
    }
   ],
   "source": [
    "data.isnull().sum().loc[lambda x: x>0]"
   ]
  },
  {
   "cell_type": "code",
   "execution_count": 90,
   "metadata": {},
   "outputs": [],
   "source": [
    "data.to_csv('../data/clean/bisnode_firms_clean.csv',index=False)"
   ]
  },
  {
   "cell_type": "markdown",
   "metadata": {},
   "source": [
    "## Separate to two main industries"
   ]
  },
  {
   "cell_type": "code",
   "execution_count": 91,
   "metadata": {},
   "outputs": [
    {
     "data": {
      "text/plain": [
       "1        2.0\n",
       "4        3.0\n",
       "7        2.0\n",
       "13       3.0\n",
       "16       3.0\n",
       "        ... \n",
       "57421    2.0\n",
       "57427    2.0\n",
       "57430    2.0\n",
       "57433    2.0\n",
       "57436    3.0\n",
       "Name: ind, Length: 16173, dtype: float64"
      ]
     },
     "execution_count": 91,
     "metadata": {},
     "output_type": "execute_result"
    }
   ],
   "source": [
    "data.ind"
   ]
  },
  {
   "cell_type": "code",
   "execution_count": 92,
   "metadata": {},
   "outputs": [
    {
     "data": {
      "text/plain": [
       "29.0    241\n",
       "30.0    133\n",
       "Name: ind2, dtype: int64"
      ]
     },
     "execution_count": 92,
     "metadata": {},
     "output_type": "execute_result"
    }
   ],
   "source": [
    "data.loc[lambda x: x[\"ind\"] == 1,\"ind2\"].value_counts()"
   ]
  },
  {
   "cell_type": "code",
   "execution_count": 93,
   "metadata": {},
   "outputs": [
    {
     "data": {
      "text/plain": [
       "28.0    1663\n",
       "33.0    1468\n",
       "26.0     950\n",
       "27.0     557\n",
       "Name: ind2, dtype: int64"
      ]
     },
     "execution_count": 93,
     "metadata": {},
     "output_type": "execute_result"
    }
   ],
   "source": [
    "data.loc[lambda x: x[\"ind\"] == 2,\"ind2\"].value_counts()"
   ]
  },
  {
   "cell_type": "markdown",
   "metadata": {},
   "source": [
    "^ these are manuf."
   ]
  },
  {
   "cell_type": "code",
   "execution_count": 94,
   "metadata": {},
   "outputs": [
    {
     "data": {
      "text/plain": [
       "56.0    9415\n",
       "55.0    1746\n",
       "Name: ind2, dtype: int64"
      ]
     },
     "execution_count": 94,
     "metadata": {},
     "output_type": "execute_result"
    }
   ],
   "source": [
    "data.loc[lambda x: x[\"ind\"] == 3,\"ind2\"].value_counts()"
   ]
  },
  {
   "cell_type": "markdown",
   "metadata": {},
   "source": [
    "^ these are service"
   ]
  },
  {
   "cell_type": "code",
   "execution_count": 95,
   "metadata": {},
   "outputs": [
    {
     "data": {
      "text/plain": [
       "0    0.874653\n",
       "1    0.125347\n",
       "Name: high_roe_firm, dtype: float64"
      ]
     },
     "execution_count": 95,
     "metadata": {},
     "output_type": "execute_result"
    }
   ],
   "source": [
    "data.loc[lambda x: x[\"ind\"] == 3, \"high_roe_firm\"].value_counts(normalize=True)"
   ]
  },
  {
   "cell_type": "code",
   "execution_count": 96,
   "metadata": {},
   "outputs": [
    {
     "data": {
      "text/plain": [
       "0    0.759976\n",
       "1    0.240024\n",
       "Name: high_roe_firm, dtype: float64"
      ]
     },
     "execution_count": 96,
     "metadata": {},
     "output_type": "execute_result"
    }
   ],
   "source": [
    "data.loc[lambda x: (x[\"ind\"] == 1) | (x[\"ind\"] == 2) , \"high_roe_firm\"].value_counts(normalize=True)"
   ]
  },
  {
   "cell_type": "code",
   "execution_count": 97,
   "metadata": {},
   "outputs": [],
   "source": [
    "data.loc[lambda x: x[\"ind\"] == 3, :].drop(\"ind\", axis=1).to_csv(\n",
    "    \"../data/clean/bisnode_firms_clean_service.csv\", index=False\n",
    ")"
   ]
  },
  {
   "cell_type": "code",
   "execution_count": 98,
   "metadata": {},
   "outputs": [],
   "source": [
    "data.loc[lambda x: (x[\"ind\"] == 1) | (x[\"ind\"] == 2) , :].drop(\"ind\", axis=1).to_csv(\n",
    "    \"../data/clean/bisnode_firms_clean_manufacturing.csv\", index=False\n",
    ")"
   ]
  },
  {
   "cell_type": "code",
   "execution_count": null,
   "metadata": {},
   "outputs": [],
   "source": []
  }
 ],
 "metadata": {
  "kernelspec": {
   "display_name": "Python 3",
   "language": "python",
   "name": "python3"
  },
  "language_info": {
   "codemirror_mode": {
    "name": "ipython",
    "version": 3
   },
   "file_extension": ".py",
   "mimetype": "text/x-python",
   "name": "python",
   "nbconvert_exporter": "python",
   "pygments_lexer": "ipython3",
   "version": "3.8.6"
  }
 },
 "nbformat": 4,
 "nbformat_minor": 2
}
