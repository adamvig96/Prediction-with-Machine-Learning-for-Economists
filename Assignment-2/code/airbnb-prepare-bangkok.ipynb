{
 "cells": [
  {
   "cell_type": "code",
   "execution_count": 152,
   "metadata": {},
   "outputs": [],
   "source": [
    "import pandas as pd\n",
    "import numpy as np\n",
    "import os\n",
    "from pathlib import Path\n",
    "import sys\n",
    "import re\n",
    "import geopy.distance\n",
    "from datetime import datetime\n",
    "import warnings\n",
    "warnings.filterwarnings(\"ignore\")"
   ]
  },
  {
   "cell_type": "code",
   "execution_count": 153,
   "metadata": {},
   "outputs": [
    {
     "data": {
      "text/plain": [
       "(17581, 74)"
      ]
     },
     "execution_count": 153,
     "metadata": {},
     "output_type": "execute_result"
    }
   ],
   "source": [
    "data = pd.read_csv(\"../data/listings.csv\", delimiter=\",\", dtype=\"unicode\")\n",
    "data.shape"
   ]
  },
  {
   "cell_type": "code",
   "execution_count": 154,
   "metadata": {},
   "outputs": [
    {
     "data": {
      "text/html": [
       "<div>\n",
       "<style scoped>\n",
       "    .dataframe tbody tr th:only-of-type {\n",
       "        vertical-align: middle;\n",
       "    }\n",
       "\n",
       "    .dataframe tbody tr th {\n",
       "        vertical-align: top;\n",
       "    }\n",
       "\n",
       "    .dataframe thead th {\n",
       "        text-align: right;\n",
       "    }\n",
       "</style>\n",
       "<table border=\"1\" class=\"dataframe\">\n",
       "  <thead>\n",
       "    <tr style=\"text-align: right;\">\n",
       "      <th></th>\n",
       "      <th>0</th>\n",
       "      <th>1</th>\n",
       "    </tr>\n",
       "  </thead>\n",
       "  <tbody>\n",
       "    <tr>\n",
       "      <th>id</th>\n",
       "      <td>27934</td>\n",
       "      <td>27979</td>\n",
       "    </tr>\n",
       "    <tr>\n",
       "      <th>listing_url</th>\n",
       "      <td>https://www.airbnb.com/rooms/27934</td>\n",
       "      <td>https://www.airbnb.com/rooms/27979</td>\n",
       "    </tr>\n",
       "    <tr>\n",
       "      <th>scrape_id</th>\n",
       "      <td>20210825164243</td>\n",
       "      <td>20210825164243</td>\n",
       "    </tr>\n",
       "    <tr>\n",
       "      <th>last_scraped</th>\n",
       "      <td>2021-08-25</td>\n",
       "      <td>2021-08-26</td>\n",
       "    </tr>\n",
       "    <tr>\n",
       "      <th>name</th>\n",
       "      <td>Nice room with superb city view</td>\n",
       "      <td>Easy going landlord,easy place</td>\n",
       "    </tr>\n",
       "    <tr>\n",
       "      <th>...</th>\n",
       "      <td>...</td>\n",
       "      <td>...</td>\n",
       "    </tr>\n",
       "    <tr>\n",
       "      <th>calculated_host_listings_count</th>\n",
       "      <td>2</td>\n",
       "      <td>2</td>\n",
       "    </tr>\n",
       "    <tr>\n",
       "      <th>calculated_host_listings_count_entire_homes</th>\n",
       "      <td>2</td>\n",
       "      <td>1</td>\n",
       "    </tr>\n",
       "    <tr>\n",
       "      <th>calculated_host_listings_count_private_rooms</th>\n",
       "      <td>0</td>\n",
       "      <td>1</td>\n",
       "    </tr>\n",
       "    <tr>\n",
       "      <th>calculated_host_listings_count_shared_rooms</th>\n",
       "      <td>0</td>\n",
       "      <td>0</td>\n",
       "    </tr>\n",
       "    <tr>\n",
       "      <th>reviews_per_month</th>\n",
       "      <td>1.15</td>\n",
       "      <td>NaN</td>\n",
       "    </tr>\n",
       "  </tbody>\n",
       "</table>\n",
       "<p>74 rows × 2 columns</p>\n",
       "</div>"
      ],
      "text/plain": [
       "                                                                               0  \\\n",
       "id                                                                         27934   \n",
       "listing_url                                   https://www.airbnb.com/rooms/27934   \n",
       "scrape_id                                                         20210825164243   \n",
       "last_scraped                                                          2021-08-25   \n",
       "name                                             Nice room with superb city view   \n",
       "...                                                                          ...   \n",
       "calculated_host_listings_count                                                 2   \n",
       "calculated_host_listings_count_entire_homes                                    2   \n",
       "calculated_host_listings_count_private_rooms                                   0   \n",
       "calculated_host_listings_count_shared_rooms                                    0   \n",
       "reviews_per_month                                                           1.15   \n",
       "\n",
       "                                                                               1  \n",
       "id                                                                         27979  \n",
       "listing_url                                   https://www.airbnb.com/rooms/27979  \n",
       "scrape_id                                                         20210825164243  \n",
       "last_scraped                                                          2021-08-26  \n",
       "name                                              Easy going landlord,easy place  \n",
       "...                                                                          ...  \n",
       "calculated_host_listings_count                                                 2  \n",
       "calculated_host_listings_count_entire_homes                                    1  \n",
       "calculated_host_listings_count_private_rooms                                   1  \n",
       "calculated_host_listings_count_shared_rooms                                    0  \n",
       "reviews_per_month                                                            NaN  \n",
       "\n",
       "[74 rows x 2 columns]"
      ]
     },
     "execution_count": 154,
     "metadata": {},
     "output_type": "execute_result"
    }
   ],
   "source": [
    "data.head(2).transpose()\n",
    "\n"
   ]
  },
  {
   "cell_type": "code",
   "execution_count": 155,
   "metadata": {},
   "outputs": [],
   "source": [
    "# instant drops\n",
    "drops = [\n",
    "    \"host_thumbnail_url\",\n",
    "    \"host_picture_url\",\n",
    "    \"listing_url\",\n",
    "    \"picture_url\",\n",
    "    \"host_url\",\n",
    "    \"last_scraped\",\n",
    "    \"description\",\n",
    "    \"neighborhood_overview\",\n",
    "    \"host_about\",\n",
    "    \"host_response_time\",\n",
    "    \"name\",\n",
    "    \"host_location\",\n",
    "]\n",
    "data.drop(columns=drops, inplace=True)"
   ]
  },
  {
   "cell_type": "code",
   "execution_count": 156,
   "metadata": {},
   "outputs": [],
   "source": [
    "# drop broken lines - where id is not a character of numbers\n",
    "data.id = pd.to_numeric(data.id, errors=\"coerce\")\n",
    "data = data[data.id.notna()]"
   ]
  },
  {
   "cell_type": "code",
   "execution_count": 157,
   "metadata": {},
   "outputs": [],
   "source": [
    "# formatting columns\n",
    "for perc in [\"host_response_rate\", \"host_acceptance_rate\"]:\n",
    "    data[perc] = pd.to_numeric(data[perc].str.replace(\"%\",\"\"), errors=\"coerce\")"
   ]
  },
  {
   "cell_type": "code",
   "execution_count": 158,
   "metadata": {},
   "outputs": [],
   "source": [
    "# remove percentage signs and ,\n",
    "data[\"price_clean\"] = data.price.str.replace(\"\\\\$\", \"\").str.replace(\",\",\"\").astype(float)\n",
    "data[\"price\"] = data.price.str.replace(\"\\\\$\", \"\").str.replace(\",\",\"\").astype(float)"
   ]
  },
  {
   "cell_type": "markdown",
   "metadata": {},
   "source": [
    "## extreme value investigation\n",
    "\n",
    "Here I looked through all the variables in the raw dataset to check wheter is there an x value that captures the errors in yearly given y value"
   ]
  },
  {
   "cell_type": "code",
   "execution_count": 159,
   "metadata": {},
   "outputs": [
    {
     "data": {
      "text/plain": [
       "Index(['id', 'scrape_id', 'host_id', 'host_name', 'host_since',\n",
       "       'host_response_rate', 'host_acceptance_rate', 'host_is_superhost',\n",
       "       'host_neighbourhood', 'host_listings_count',\n",
       "       'host_total_listings_count', 'host_verifications',\n",
       "       'host_has_profile_pic', 'host_identity_verified', 'neighbourhood',\n",
       "       'neighbourhood_cleansed', 'neighbourhood_group_cleansed', 'latitude',\n",
       "       'longitude', 'property_type', 'room_type', 'accommodates', 'bathrooms',\n",
       "       'bathrooms_text', 'bedrooms', 'beds', 'amenities', 'price',\n",
       "       'minimum_nights', 'maximum_nights', 'minimum_minimum_nights',\n",
       "       'maximum_minimum_nights', 'minimum_maximum_nights',\n",
       "       'maximum_maximum_nights', 'minimum_nights_avg_ntm',\n",
       "       'maximum_nights_avg_ntm', 'calendar_updated', 'has_availability',\n",
       "       'availability_30', 'availability_60', 'availability_90',\n",
       "       'availability_365', 'calendar_last_scraped', 'number_of_reviews',\n",
       "       'number_of_reviews_ltm', 'number_of_reviews_l30d', 'first_review',\n",
       "       'last_review', 'review_scores_rating', 'review_scores_accuracy',\n",
       "       'review_scores_cleanliness', 'review_scores_checkin',\n",
       "       'review_scores_communication', 'review_scores_location',\n",
       "       'review_scores_value', 'license', 'instant_bookable',\n",
       "       'calculated_host_listings_count',\n",
       "       'calculated_host_listings_count_entire_homes',\n",
       "       'calculated_host_listings_count_private_rooms',\n",
       "       'calculated_host_listings_count_shared_rooms', 'reviews_per_month',\n",
       "       'price_clean'],\n",
       "      dtype='object')"
      ]
     },
     "execution_count": 159,
     "metadata": {},
     "output_type": "execute_result"
    }
   ],
   "source": [
    "data.loc[lambda x: x[\"price_clean\"]>10000].columns"
   ]
  },
  {
   "cell_type": "code",
   "execution_count": 160,
   "metadata": {},
   "outputs": [
    {
     "data": {
      "text/plain": [
       "Entire rental unit                     4517\n",
       "Entire condominium (condo)             3444\n",
       "Private room in rental unit            1806\n",
       "Private room in condominium (condo)     873\n",
       "Private room in residential home        639\n",
       "                                       ... \n",
       "Private room in island                    1\n",
       "Entire chalet                             1\n",
       "Shared room in cave                       1\n",
       "Entire dorm                               1\n",
       "Barn                                      1\n",
       "Name: property_type, Length: 84, dtype: int64"
      ]
     },
     "execution_count": 160,
     "metadata": {},
     "output_type": "execute_result"
    }
   ],
   "source": [
    "data.loc[lambda x: x[\"price_clean\"]<10000].property_type.value_counts()"
   ]
  },
  {
   "cell_type": "code",
   "execution_count": 161,
   "metadata": {},
   "outputs": [
    {
     "data": {
      "text/plain": [
       "Entire residential home                50\n",
       "Entire condominium (condo)             40\n",
       "Entire rental unit                     38\n",
       "Entire serviced apartment              29\n",
       "Private room in condominium (condo)    21\n",
       "Room in hotel                          20\n",
       "Private room in rental unit            20\n",
       "Entire villa                           17\n",
       "Entire townhouse                       11\n",
       "Private room in residential home        6\n",
       "Shared room in hostel                   5\n",
       "Entire loft                             4\n",
       "Room in boutique hotel                  4\n",
       "Private room in villa                   4\n",
       "Private room in bed and breakfast       4\n",
       "Private room in hostel                  3\n",
       "Shared room in residential home         3\n",
       "Dome house                              3\n",
       "Room in aparthotel                      3\n",
       "Private room                            2\n",
       "Private room in serviced apartment      2\n",
       "Private room in guest suite             2\n",
       "Room in serviced apartment              2\n",
       "Entire guest suite                      1\n",
       "Shared room in serviced apartment       1\n",
       "Shared room in rental unit              1\n",
       "Private room in townhouse               1\n",
       "Shared room in casa particular          1\n",
       "Private room in nature lodge            1\n",
       "Shared room in condominium (condo)      1\n",
       "Private room in boat                    1\n",
       "Farm stay                               1\n",
       "Name: property_type, dtype: int64"
      ]
     },
     "execution_count": 161,
     "metadata": {},
     "output_type": "execute_result"
    }
   ],
   "source": [
    "data.loc[lambda x: x[\"price_clean\"]>10000].property_type.value_counts()"
   ]
  },
  {
   "cell_type": "code",
   "execution_count": 162,
   "metadata": {},
   "outputs": [],
   "source": [
    "# format binary variables\n",
    "for binary in [\n",
    "    \"host_is_superhost\",\n",
    "    \"host_has_profile_pic\",\n",
    "    \"host_identity_verified\",\n",
    "    \"instant_bookable\",\n",
    "]:\n",
    "    data[binary] = data[binary].map({\"t\": True, \"f\": False})"
   ]
  },
  {
   "cell_type": "code",
   "execution_count": 163,
   "metadata": {},
   "outputs": [],
   "source": [
    "# amenities\n",
    "data[\"amenities\"] = (\n",
    "    data[\"amenities\"]\n",
    "    .str.strip(\"{}\")\n",
    "    .str.replace('\"', \"\")\n",
    "    .str.replace(\"[\", \"\")\n",
    "    .str.replace(\"]\", \"\")\n",
    "    .str.replace(\"–\", \"\")\n",
    "    .str.replace(\"-\", \"\")\n",
    "    .str.replace(\"\\\\u\", \"'\", regex=False)\n",
    "    .str.replace(\"\\d\", \"\", regex=True)\n",
    "    .str.replace(\"'\", \"\")\n",
    "    .str.lower()\n",
    "    .str.replace(\"mbps\", \"\",regex=False)\n",
    "    .str.strip()\n",
    "    .str.split(\",\")\n",
    ")"
   ]
  },
  {
   "cell_type": "code",
   "execution_count": 164,
   "metadata": {},
   "outputs": [
    {
     "data": {
      "text/plain": [
       "air conditioning                           16871\n",
       "long term stays allowed                    16639\n",
       "essentials                                 15633\n",
       "wifi                                       15391\n",
       "hangers                                    13973\n",
       "                                           ...  \n",
       "shared outdoor lap pool                        1\n",
       "filtered  conditioner                          1\n",
       "shared indoor infinity rooftop lap pool        1\n",
       "thess body soap                                1\n",
       "stainless steel stove                          1\n",
       "Name: amenities, Length: 351, dtype: int64"
      ]
     },
     "execution_count": 164,
     "metadata": {},
     "output_type": "execute_result"
    }
   ],
   "source": [
    "# generate dummies by amenities\n",
    "data[\"amenities\"].explode().str.strip().value_counts()"
   ]
  },
  {
   "cell_type": "code",
   "execution_count": 165,
   "metadata": {},
   "outputs": [],
   "source": [
    "# maybe get those, that has 50 or more count ? not sure\n",
    "amenities_keep = data[\"amenities\"].explode().str.strip().value_counts().loc[lambda x: x>10]\n",
    "\n",
    "amenities_keep.to_pickle(\"amenities_to_keep.pkl\")"
   ]
  },
  {
   "cell_type": "code",
   "execution_count": 102,
   "metadata": {},
   "outputs": [],
   "source": [
    "dummies = pd.get_dummies(data.amenities.apply(pd.Series).stack().str.strip()).sum(level=0)\n",
    "data = pd.concat([data, dummies], axis=1)"
   ]
  },
  {
   "cell_type": "code",
   "execution_count": 103,
   "metadata": {},
   "outputs": [],
   "source": [
    "drops = [\"amenities\"]\n",
    "data.drop(columns=drops, inplace=True)"
   ]
  },
  {
   "cell_type": "code",
   "execution_count": 104,
   "metadata": {},
   "outputs": [
    {
     "data": {
      "text/plain": [
       "Entire rental unit                     4558\n",
       "Entire condominium (condo)             3492\n",
       "Private room in rental unit            1830\n",
       "Private room in condominium (condo)     899\n",
       "Private room in residential home        646\n",
       "Room in boutique hotel                  638\n",
       "Room in hotel                           528\n",
       "Private room in townhouse               524\n",
       "Private room in hostel                  500\n",
       "Entire serviced apartment               456\n",
       "Name: property_type, dtype: int64"
      ]
     },
     "execution_count": 104,
     "metadata": {},
     "output_type": "execute_result"
    }
   ],
   "source": [
    "data[\"property_type\"].value_counts().head(10)"
   ]
  },
  {
   "cell_type": "code",
   "execution_count": 105,
   "metadata": {},
   "outputs": [
    {
     "data": {
      "text/plain": [
       "(17581, 413)"
      ]
     },
     "execution_count": 105,
     "metadata": {},
     "output_type": "execute_result"
    }
   ],
   "source": [
    "data.shape"
   ]
  },
  {
   "cell_type": "code",
   "execution_count": 106,
   "metadata": {},
   "outputs": [],
   "source": [
    "# there is no exact apartment type, I keep those that I suppose are apartments actually\n",
    "\n",
    "data = data.loc[\n",
    "    lambda x: x[\"property_type\"].isin(\n",
    "        [\n",
    "            \"Entire rental unit\",\n",
    "            \"Entire condominium (condo)\",\n",
    "            \"Entire serviced apartment\",\n",
    "        ]\n",
    "    )\n",
    "]"
   ]
  },
  {
   "cell_type": "code",
   "execution_count": 107,
   "metadata": {},
   "outputs": [
    {
     "data": {
      "text/plain": [
       "(8506, 413)"
      ]
     },
     "execution_count": 107,
     "metadata": {},
     "output_type": "execute_result"
    }
   ],
   "source": [
    "data.shape"
   ]
  },
  {
   "cell_type": "code",
   "execution_count": 108,
   "metadata": {},
   "outputs": [],
   "source": [
    "data[\"f_property_type\"] = data[\"property_type\"].astype(\"category\")"
   ]
  },
  {
   "cell_type": "code",
   "execution_count": 109,
   "metadata": {},
   "outputs": [
    {
     "data": {
      "text/plain": [
       "Entire home/apt    8506\n",
       "Name: room_type, dtype: int64"
      ]
     },
     "execution_count": 109,
     "metadata": {},
     "output_type": "execute_result"
    }
   ],
   "source": [
    "data[\"room_type\"].value_counts()"
   ]
  },
  {
   "cell_type": "code",
   "execution_count": 110,
   "metadata": {},
   "outputs": [
    {
     "data": {
      "text/plain": [
       "Series([], Name: bathrooms, dtype: int64)"
      ]
     },
     "execution_count": 110,
     "metadata": {},
     "output_type": "execute_result"
    }
   ],
   "source": [
    "data[\"bathrooms\"].value_counts()"
   ]
  },
  {
   "cell_type": "code",
   "execution_count": 111,
   "metadata": {},
   "outputs": [],
   "source": [
    "# no variation, drop\n",
    "data.drop([\"room_type\",\"bathrooms\"],axis=1,inplace=True)"
   ]
  },
  {
   "cell_type": "code",
   "execution_count": 112,
   "metadata": {},
   "outputs": [
    {
     "name": "stdout",
     "output_type": "stream",
     "text": [
      "['id', 'scrape_id', 'host_id', 'host_name', 'host_since', 'host_response_rate', 'host_acceptance_rate', 'host_is_superhost', 'host_neighbourhood', 'host_listings_count', 'host_total_listings_count', 'host_verifications', 'host_has_profile_pic', 'host_identity_verified', 'neighbourhood', 'neighbourhood_cleansed', 'neighbourhood_group_cleansed', 'latitude', 'longitude', 'property_type', 'accommodates', 'bathrooms_text', 'bedrooms', 'beds', 'price', 'minimum_nights', 'maximum_nights', 'minimum_minimum_nights', 'maximum_minimum_nights', 'minimum_maximum_nights', 'maximum_maximum_nights', 'minimum_nights_avg_ntm', 'maximum_nights_avg_ntm', 'calendar_updated', 'has_availability', 'availability_30', 'availability_60', 'availability_90', 'availability_365', 'calendar_last_scraped', 'number_of_reviews', 'number_of_reviews_ltm', 'number_of_reviews_l30d', 'first_review', 'last_review', 'review_scores_rating', 'review_scores_accuracy', 'review_scores_cleanliness', 'review_scores_checkin', 'review_scores_communication', 'review_scores_location', 'review_scores_value', 'license', 'instant_bookable', 'calculated_host_listings_count', 'calculated_host_listings_count_entire_homes', 'calculated_host_listings_count_private_rooms', 'calculated_host_listings_count_shared_rooms', 'reviews_per_month', 'price_clean', '', '\\\\ hdtv', '\\\\ hdtv with apple tv', '\\\\ hdtv with chromecast', '\\\\ hdtv with netflix', '\\\\ hdtv with standard cable', '\\\\ tv', '\\\\ tv with chromecast', '\\\\ tv with netflix', '\\\\ tv with standard cable', 'air conditioning', 'airport shuttle', 'aloe vera body soap', 'amazon prime video', 'and closet', 'and desk', 'and dresser', 'and office chair', 'and table', 'and wardrobe', 'apple tv', 'aro body soap', 'aro conditioner', 'aro shampoo', 'baby bath', 'baby monitor', 'baby safety gates', 'babysitter recommendations', 'backyard', 'baking sheet', 'barbecue utensils', 'bathrobes', 'bathroom essentials', 'bathtub', 'bbq grill', 'beach essentials', 'beachfront', 'bed linens', 'bedroom comforts', 'bidet', 'bikes', 'bluetooth sound system', 'board games', 'boat slip', 'body soap', 'boots body soap', 'boots conditioner', 'boots shampoo', 'bottled water', 'bread maker', 'breakfast', 'building staff', 'cable tv', 'carbon monoxide alarm', 'ceiling fan', 'central air conditioning', 'ceramic hob top electric stove', 'changing table', 'childrens books and toys', 'childrens books and toys for ages  years old', 'childrens books and toys for ages  years old and  years old', 'childrens dinnerware', 'chromecast', 'cleaning before checkout', 'cleaning products', 'closet', 'clothing storage', 'clothing storage: closet', 'clothing storage: closet and dresser', 'clothing storage: closet and walkin closet', 'clothing storage: closet and wardrobe', 'clothing storage: dresser', 'clothing storage: dresser and closet', 'clothing storage: dresser and wardrobe', 'clothing storage: walkin closet', 'clothing storage: wardrobe', 'clothing storage: wardrobe and closet', 'coffee maker', 'complimentary self parking', 'concierge', 'conditioner', 'continental breakfast available  ef per person per day', 'cooking basics', 'crib', 'dedicated workspace', 'dedicated workspace: desk', 'dedicated workspace: desk and office chair', 'dedicated workspace: desk and table', 'dedicated workspace: office chair', 'dedicated workspace: office chair and desk', 'dedicated workspace: office chair and table', 'dedicated workspace: table', 'dedicated workspace: table and desk', 'dedicated workspace: table and office chair', 'desk', 'dettol body soap', 'dining table', 'dishes and silverware', 'dishwasher', 'dresser', 'dryer', 'dryer  in building', 'dryer ain unit', 'drying rack for clothing', 'eabath cream body soap', 'eeeeeeb body soap', 'eeeeeeb shampoo', 'ehouse brand shampoo', 'electric stove', 'electrolux refrigerator', 'elevator', 'essentials', 'ethernet connection', 'ev charger', 'extra pillows and blankets', 'filtered  conditioner', 'fire extinguisher', 'fire pit', 'fireplace guards', 'first aid kit', 'fitness center', 'free carport on premises', 'free carport on premises   spaces', 'free driveway parking on premises', 'free driveway parking on premises   space', 'free dryer  in building', 'free dryer  in unit', 'free parking garage on premises', 'free parking garage on premises   space', 'free parking garage on premises   spaces', 'free parking on premises', 'free parking on premises   space', 'free residential garage on premises', 'free residential garage on premises   space', 'free street parking', 'free washer', 'free washer  in building', 'free washer  in unit', 'free wifi', 'freezer', 'full kitchen', 'game console', 'game console: ps', 'gas stove', 'green tea', 'gym', 'gym in building', 'hafele electric stove', 'hair dryer', 'hangers', 'hbo max', 'hdtv', 'hdtv with amazon prime video', 'hdtv with apple tv', 'hdtv with chromecast', 'hdtv with netflix', 'hdtv with premium cable', 'hdtv with standard cable', 'head & shoulder  shampoo', 'heating', 'high chair', 'hitachi refrigerator', 'homemade body soap', 'host greets you', 'hot tub', 'hot water', 'hot water kettle', 'house brand conditioner', 'indoor fireplace', 'induction stove', 'iron', 'keurig coffee machine', 'keypad', 'kitchen', 'kitchenette', 'klarstein variocook w induction stove', 'lake access', 'laundromat nearby', 'lemongrass and jasminmint hotel fragrance selected products body soap', 'lemongrass and jasminmint hotel fragrance selected products conditioner', 'lg refrigerator', 'limited housekeeping  on request', 'linens', 'local brand body soap', 'local brand conditioner', 'lock on bedroom door', 'lockbox', 'lolentis conditioner', 'lolentis shampoo', 'long term stays allowed', 'loreal conditioner', 'loreal shampoo', 'luggage dropoff allowed', 'lux body soap', 'meg stove', 'mex  electric stove', 'mex stainless steel electric stove', 'mex stove', 'microwave', 'mini fridge', 'mitsubishi conditioner', 'mitsubishi refrigerator', 'mitsubisi refrigerator', 'mosquito net', 'natural body soap', 'natural conditioner', 'natural soap body soap', 'natural soap conditioner', 'naturals ws', 'nespresso machine', 'netflix', 'office chair', 'onsite restaurant  restaurant', 'outdoor dining area', 'outdoor furniture', 'outdoor saltwater pool', 'outdoor shower', 'outlet covers', 'oven', 'pack n play/travel crib', 'paid dryer', 'paid dryer  in building', 'paid parking garage off premises', 'paid parking garage on premises', 'paid parking garage on premises   space', 'paid parking lot off premises', 'paid parking lot on premises', 'paid parking lot on premises   space', 'paid parking lot on premises   spaces', 'paid parking off premises', 'paid parking on premises', 'paid street parking off premises', 'paid valet parking on premises', 'paid washer', 'paid washer  in building', 'paid washer  in unit', 'panasonic refrigerator', 'panasonic soundbar + subwoofer bluetooth sound system', 'patio or balcony', 'pets allowed', 'piano', 'ping pong table', 'pocket wifi', 'pool', 'pool table', 'pool toys', 'portable air conditioning', 'portable fans', 'portable heater', 'pourover coffee', 'premium cable', 'private entrance', 'private fenced garden or backyard', 'private garden or backyard', 'private gym in building', 'private hot tub', 'private indoor pool', 'private outdoor saltwater pool', 'private patio or balcony', 'private pool', 'private sauna', 'razr bluetooth sound system', 'record player', 'refrigerator', 'rice maker', 'roku', 'rooftop pool  outdoor', 'roomdarkening shades', 'safe', 'samsung bluetooth sound system', 'samsung electric stove', 'samsung refrigerator', 'samsung stainless steel oven', 'samsung with a separate freezer  refrigerator', 'sauna', 'security cameras on property', 'self checkin', 'shampoo', 'shared fenced garden or backyard', 'shared garden or backyard', 'shared gym in building', 'shared hot tub', 'shared indoor infinity rooftop lap pool', 'shared indoor pool', 'shared outdoor infinity pool', 'shared outdoor infinity rooftop lap pool', 'shared outdoor infinity rooftop pool', 'shared outdoor infinity rooftop saltwater lap pool', 'shared outdoor infinity rooftop saltwater pool', 'shared outdoor infinity saltwater pool', 'shared outdoor lap pool', 'shared outdoor olympicsized rooftop saltwater pool', 'shared outdoor pool', 'shared outdoor rooftop pool', 'shared outdoor rooftop saltwater lap pool', 'shared outdoor rooftop saltwater pool', 'shared outdoor saltwater pool', 'shared patio or balcony', 'shared pool', 'shared sauna', 'sharp refrigerator', 'shower gel', 'side by side samsung refrigerator refrigerator', 'signature body soap', 'signature conditioner', 'signature shampoo', 'single level home', 'skg sound system', 'skiin/skiout', 'slippers', 'smart lock', 'smoke alarm', 'smoking allowed', 'sony sound system', 'sound system', 'sound system with bluetooth and aux', 'stainless steel electric stove', 'stainless steel gas stove', 'stainless steel induction stove', 'stainless steel oven', 'stainless steel stove', 'standard cable', 'stove', 'sun silk shampoo', 'sunsilk shampoo', 'table', 'table corner guards', 'thess body soap', 'toaster', 'toiletries', 'toshiba  refrigerator', 'toshiba fit refrigerator', 'toshiba refrigerator', 'trash compactor', 'tresume conditioner', 'tv', 'tv with netflix', 'tv with standard cable', 'walkin closet', 'wardrobe', 'washer', 'washer ain building', 'washer ain unit', 'waterfront', 'watson body soap', 'watson shampoo', 'wifi', 'window ac unit', 'window guards', 'wine glasses', 'xiaomi induction stove', 'f_property_type']\n"
     ]
    }
   ],
   "source": [
    "print(data.columns.tolist())"
   ]
  },
  {
   "cell_type": "code",
   "execution_count": 113,
   "metadata": {},
   "outputs": [
    {
     "data": {
      "text/plain": [
       "Lak Si                  44\n",
       "Bang Khen               37\n",
       "Bang Khae               34\n",
       "Rat Burana              30\n",
       "Chom Thong              30\n",
       "Phra Nakhon             28\n",
       "Bangkok Yai             27\n",
       "Pom Prap Sattru Phai    26\n",
       "Bangkok Noi             22\n",
       "Don Mueang              20\n",
       "Min Buri                17\n",
       "Bueng Kum               17\n",
       "Khan Na Yao             16\n",
       "Samphanthawong          15\n",
       "Dusit                   13\n",
       "Thung khru               8\n",
       "Lat Phrao                7\n",
       "Saphan Sung              6\n",
       "Sai Mai                  5\n",
       "Taling Chan              4\n",
       "Nong Khaem               4\n",
       "Bang Khun thain          3\n",
       "Nong Chok                2\n",
       "Thawi Watthana           2\n",
       "Bang Bon                 1\n",
       "Name: neighbourhood_cleansed, dtype: int64"
      ]
     },
     "execution_count": 113,
     "metadata": {},
     "output_type": "execute_result"
    }
   ],
   "source": [
    "data[\"neighbourhood_cleansed\"].value_counts().loc[lambda x: x<50]"
   ]
  },
  {
   "cell_type": "markdown",
   "metadata": {},
   "source": [
    "Create 'Other' value, if a neightbourhood appears 50 times or less"
   ]
  },
  {
   "cell_type": "code",
   "execution_count": 114,
   "metadata": {},
   "outputs": [],
   "source": [
    "data[\"neighbourhood_cleansed\"] = np.where(\n",
    "    data[\"neighbourhood_cleansed\"].isin(\n",
    "        data[\"neighbourhood_cleansed\"]\n",
    "        .value_counts()\n",
    "        .loc[lambda x: x < 50]\n",
    "        .index.tolist()\n",
    "    ),\n",
    "    \"Other\",\n",
    "    data[\"neighbourhood_cleansed\"],\n",
    ")"
   ]
  },
  {
   "cell_type": "code",
   "execution_count": 115,
   "metadata": {},
   "outputs": [],
   "source": [
    "# neighbourhood_cleansed as factors\n",
    "\n",
    "data[\"f_neighbourhood_cleansed\"] = data[\"neighbourhood_cleansed\"].astype(\"category\")"
   ]
  },
  {
   "cell_type": "code",
   "execution_count": 116,
   "metadata": {},
   "outputs": [
    {
     "data": {
      "text/plain": [
       "Khlong Toei        1482\n",
       "Vadhana            1196\n",
       "Huai Khwang         867\n",
       "Ratchathewi         702\n",
       "Sathon              439\n",
       "Other               418\n",
       "Bang Rak            354\n",
       "Phra Khanong        343\n",
       "Bang Na             306\n",
       "Din Daeng           269\n",
       "Chatu Chak          260\n",
       "Parthum Wan         259\n",
       "Khlong San          220\n",
       "Phaya Thai          210\n",
       "Suanluang           202\n",
       "Bang Sue            146\n",
       "Bang Kapi           127\n",
       "Yan na wa           121\n",
       "Bang Phlat          119\n",
       "Thon buri           104\n",
       "Phasi Charoen        95\n",
       "Bang Kho laen        80\n",
       "Lat Krabang          74\n",
       "Wang Thong Lang      63\n",
       "Pra Wet              50\n",
       "Name: f_neighbourhood_cleansed, dtype: int64"
      ]
     },
     "execution_count": 116,
     "metadata": {},
     "output_type": "execute_result"
    }
   ],
   "source": [
    "data[\"f_neighbourhood_cleansed\"].value_counts()"
   ]
  },
  {
   "cell_type": "markdown",
   "metadata": {},
   "source": [
    "---------\n",
    "\n",
    "### Create Numerical variables"
   ]
  },
  {
   "cell_type": "code",
   "execution_count": 117,
   "metadata": {},
   "outputs": [
    {
     "data": {
      "text/plain": [
       "accommodates               0\n",
       "review_scores_rating    2681\n",
       "number_of_reviews          0\n",
       "reviews_per_month       2681\n",
       "minimum_nights             0\n",
       "host_response_rate      3706\n",
       "beds                     139\n",
       "dtype: int64"
      ]
     },
     "execution_count": 117,
     "metadata": {},
     "output_type": "execute_result"
    }
   ],
   "source": [
    "data[\n",
    "    [\n",
    "        \"accommodates\",\n",
    "        \"review_scores_rating\",\n",
    "        \"number_of_reviews\",\n",
    "        \"reviews_per_month\",\n",
    "        \"minimum_nights\",\n",
    "        \"host_response_rate\",\n",
    "        \"beds\",\n",
    "    ]\n",
    "].isnull().sum()"
   ]
  },
  {
   "cell_type": "code",
   "execution_count": 118,
   "metadata": {},
   "outputs": [
    {
     "data": {
      "text/plain": [
       "1 bath       6220\n",
       "2 baths      1021\n",
       "1.5 baths     903\n",
       "2.5 baths     132\n",
       "3 baths       105\n",
       "4 baths        46\n",
       "3.5 baths      34\n",
       "Half-bath      11\n",
       "6 baths         7\n",
       "0 baths         6\n",
       "4.5 baths       6\n",
       "5 baths         3\n",
       "8 baths         1\n",
       "23 baths        1\n",
       "7 baths         1\n",
       "5.5 baths       1\n",
       "Name: bathrooms_text, dtype: int64"
      ]
     },
     "execution_count": 118,
     "metadata": {},
     "output_type": "execute_result"
    }
   ],
   "source": [
    "data.bathrooms_text.value_counts()"
   ]
  },
  {
   "cell_type": "code",
   "execution_count": 119,
   "metadata": {},
   "outputs": [],
   "source": [
    "data.bathrooms_text = np.where(data.bathrooms_text == \"Half-bath\", \"0.5 baths\",data.bathrooms_text)"
   ]
  },
  {
   "cell_type": "code",
   "execution_count": 120,
   "metadata": {},
   "outputs": [],
   "source": [
    "data[\"n_bathrooms\"] = data.bathrooms_text.str.split().str[0].apply(float)"
   ]
  },
  {
   "cell_type": "code",
   "execution_count": 121,
   "metadata": {},
   "outputs": [
    {
     "data": {
      "text/plain": [
       "0.0        6\n",
       "0.5       11\n",
       "1.0     6220\n",
       "1.5      903\n",
       "2.0     1021\n",
       "2.5      132\n",
       "3.0      105\n",
       "3.5       34\n",
       "4.0       46\n",
       "4.5        6\n",
       "5.0        3\n",
       "5.5        1\n",
       "6.0        7\n",
       "7.0        1\n",
       "8.0        1\n",
       "23.0       1\n",
       "NaN        8\n",
       "Name: n_bathrooms, dtype: int64"
      ]
     },
     "execution_count": 121,
     "metadata": {},
     "output_type": "execute_result"
    }
   ],
   "source": [
    "data[\"n_bathrooms\"].value_counts(dropna=False).sort_index()"
   ]
  },
  {
   "cell_type": "markdown",
   "metadata": {},
   "source": [
    "Fill nan with median"
   ]
  },
  {
   "cell_type": "code",
   "execution_count": 123,
   "metadata": {},
   "outputs": [],
   "source": [
    "data[\"n_bathrooms\"] = data[\"n_bathrooms\"].fillna(data[\"n_bathrooms\"].median())"
   ]
  },
  {
   "cell_type": "code",
   "execution_count": 124,
   "metadata": {},
   "outputs": [],
   "source": [
    "# add new numeric columns from certain columns\n",
    "\n",
    "numericals = [\n",
    "    \"accommodates\",\n",
    "    \"review_scores_rating\",\n",
    "    \"number_of_reviews\",\n",
    "    \"reviews_per_month\",\n",
    "    \"minimum_nights\",\n",
    "    \"beds\",\n",
    "    'maximum_nights',\n",
    "]\n",
    "\n",
    "for col in numericals:\n",
    "    data[\"n_\" + col] = pd.to_numeric(data[col], errors=\"coerce\")"
   ]
  },
  {
   "cell_type": "code",
   "execution_count": 125,
   "metadata": {},
   "outputs": [],
   "source": [
    "# create days since first review\n",
    "\n",
    "data[\"n_days_since\"] = (\n",
    "    data.calendar_last_scraped.apply(lambda x: datetime.strptime(x, \"%Y-%m-%d\"))\n",
    "    - data.first_review.fillna(\"1950-01-01\").apply(\n",
    "        lambda x: datetime.strptime(x, \"%Y-%m-%d\")\n",
    "    )\n",
    ").dt.days\n",
    "\n",
    "data[\"n_days_since\"] = np.where(data.first_review.isnull(), np.nan, data.n_days_since)"
   ]
  },
  {
   "cell_type": "code",
   "execution_count": 126,
   "metadata": {},
   "outputs": [],
   "source": [
    "amenities_to_keep = pd.read_pickle(\"amenities_to_keep.pkl\")"
   ]
  },
  {
   "cell_type": "code",
   "execution_count": 128,
   "metadata": {},
   "outputs": [],
   "source": [
    "# create dummy vars\n",
    "dummies = amenities_to_keep.index.tolist()\n",
    "\n",
    "for col in dummies:\n",
    "    data[\"d_\" + (re.sub(\"/|\\s|-\", \"\", col)).replace(\"(s)\", \"s\").lower()] = data[col]"
   ]
  },
  {
   "cell_type": "code",
   "execution_count": 129,
   "metadata": {},
   "outputs": [],
   "source": [
    "# create distance to Grand Palace, the most important historical building in Bangkok\n",
    "# it is a good approximation of the city center"
   ]
  },
  {
   "cell_type": "code",
   "execution_count": 130,
   "metadata": {},
   "outputs": [],
   "source": [
    "distances = []\n",
    "for hostel_coord in np.array(data[['latitude', 'longitude']]):\n",
    "    coords_grand_palace = (13.750300, 100.491180)\n",
    "    # this function calculates distance of coordinates (in km)\n",
    "    distances.append(geopy.distance.distance(coords_grand_palace, hostel_coord).km)"
   ]
  },
  {
   "cell_type": "code",
   "execution_count": 131,
   "metadata": {},
   "outputs": [],
   "source": [
    "data[\"n_dist_to_grand_palace\"] = distances"
   ]
  },
  {
   "cell_type": "code",
   "execution_count": 132,
   "metadata": {},
   "outputs": [
    {
     "data": {
      "text/plain": [
       "<AxesSubplot:>"
      ]
     },
     "execution_count": 132,
     "metadata": {},
     "output_type": "execute_result"
    },
    {
     "data": {
      "image/png": "[encoded data removed]",
      "text/plain": [
       "<Figure size 432x288 with 1 Axes>"
      ]
     },
     "metadata": {
      "needs_background": "light"
     },
     "output_type": "display_data"
    }
   ],
   "source": [
    "data.n_dist_to_grand_palace.hist(bins=30)"
   ]
  },
  {
   "cell_type": "code",
   "execution_count": 133,
   "metadata": {},
   "outputs": [],
   "source": [
    "# keep columns if contain d_, n_,f_, p_, usd_ and some others\n",
    "\n",
    "data = data.filter(regex=\"^d_.*|^n_.*|^f_.*|^p_.*|^price.*\").assign(id = data.id)"
   ]
  },
  {
   "cell_type": "markdown",
   "metadata": {},
   "source": [
    "### these are for the lasso"
   ]
  },
  {
   "cell_type": "code",
   "execution_count": 134,
   "metadata": {},
   "outputs": [],
   "source": [
    "# Squares and further values to create\n",
    "data = data.assign(\n",
    "    n_accommodates2=lambda x: x[\"n_accommodates\"] ** 2,\n",
    "    n_dist_to_grand_palace2=lambda x: x[\"n_dist_to_grand_palace\"] ** 2,\n",
    "    ln_accommodates=lambda x: np.log(x[\"n_accommodates\"]),\n",
    "    ln_accommodates2=lambda x: np.log(x[\"n_accommodates\"]) ** 2,\n",
    "    ln_beds=lambda x: np.log(x[\"n_beds\"]),\n",
    "    ln_number_of_reviews=lambda x: np.log(x[\"n_number_of_reviews\"] + 1),\n",
    ")"
   ]
  },
  {
   "cell_type": "code",
   "execution_count": 135,
   "metadata": {},
   "outputs": [
    {
     "data": {
      "text/plain": [
       "1      4839\n",
       "0      2681\n",
       "2       985\n",
       "NaN       1\n",
       "Name: f_number_of_reviews, dtype: int64"
      ]
     },
     "execution_count": 135,
     "metadata": {},
     "output_type": "execute_result"
    }
   ],
   "source": [
    "# Pool num of reviews to 3 categories: none, 1-51 and >51\n",
    "\n",
    "bins = pd.IntervalIndex.from_tuples(\n",
    "    [(0, 1), (1, 51), (51, max(data.n_number_of_reviews))], closed=\"left\"\n",
    ")\n",
    "fnor = pd.cut(data[\"n_number_of_reviews\"].to_list(), bins, labels=[\"0\", \"1\", \"2\"])\n",
    "fnor.categories = [0, 1, 2]\n",
    "data[\"f_number_of_reviews\"] = fnor\n",
    "data[\"f_number_of_reviews\"].value_counts(dropna=False)"
   ]
  },
  {
   "cell_type": "code",
   "execution_count": 136,
   "metadata": {},
   "outputs": [
    {
     "data": {
      "text/plain": [
       "3      3848\n",
       "1      3697\n",
       "2       960\n",
       "NaN       1\n",
       "Name: f_minimum_nights, dtype: int64"
      ]
     },
     "execution_count": 136,
     "metadata": {},
     "output_type": "execute_result"
    }
   ],
   "source": [
    "# Pool and categorize the number of minimum nights: 1,2,3, 3+\n",
    "\n",
    "bins = pd.IntervalIndex.from_tuples(\n",
    "    [(1, 2), (2, 3), (3, max(data.n_minimum_nights))], closed=\"left\"\n",
    ")\n",
    "f_min_n = pd.cut(data[\"n_minimum_nights\"].to_list(), bins, labels=[\"1\", \"2\", \"3\"])\n",
    "f_min_n.categories = [1, 2, 3]\n",
    "data[\"f_minimum_nights\"] = f_min_n\n",
    "data[\"f_minimum_nights\"].value_counts(dropna=False)"
   ]
  },
  {
   "cell_type": "code",
   "execution_count": 137,
   "metadata": {},
   "outputs": [],
   "source": [
    "# Change Infinite values with NaNs\n",
    "data = data.replace([np.inf, -np.inf], np.nan)"
   ]
  },
  {
   "cell_type": "code",
   "execution_count": 138,
   "metadata": {},
   "outputs": [
    {
     "data": {
      "text/plain": [
       "n_review_scores_rating    2681\n",
       "n_reviews_per_month       2681\n",
       "n_beds                     139\n",
       "n_days_since              2681\n",
       "ln_beds                    433\n",
       "f_number_of_reviews          1\n",
       "f_minimum_nights             1\n",
       "dtype: int64"
      ]
     },
     "execution_count": 138,
     "metadata": {},
     "output_type": "execute_result"
    }
   ],
   "source": [
    "# ------------------------------------------------------------------------------------------------\n",
    "# where do we have missing variables now?\n",
    "to_filter = data.isna().sum()\n",
    "to_filter[to_filter > 0]"
   ]
  },
  {
   "cell_type": "code",
   "execution_count": 139,
   "metadata": {},
   "outputs": [],
   "source": [
    "# what to do with missing values?"
   ]
  },
  {
   "cell_type": "code",
   "execution_count": 140,
   "metadata": {},
   "outputs": [
    {
     "data": {
      "text/plain": [
       "0"
      ]
     },
     "execution_count": 140,
     "metadata": {},
     "output_type": "execute_result"
    }
   ],
   "source": [
    "data.price.isnull().sum()"
   ]
  },
  {
   "cell_type": "code",
   "execution_count": 141,
   "metadata": {},
   "outputs": [],
   "source": [
    "# 2. imput when few, not that important\n",
    "data = data.assign(\n",
    "    n_beds=lambda x: np.where(x[\"n_beds\"].isnull(), x[\"n_accommodates\"], x[\"n_beds\"]),\n",
    "    f_minimum_nights=lambda x: x[\"f_minimum_nights\"].fillna(1),\n",
    "    f_number_of_reviews=lambda x: x[\"f_number_of_reviews\"].fillna(1),\n",
    "    ln_beds=lambda x: x[\"ln_beds\"].fillna(0),\n",
    ")"
   ]
  },
  {
   "cell_type": "code",
   "execution_count": 142,
   "metadata": {},
   "outputs": [
    {
     "data": {
      "text/plain": [
       "n_review_scores_rating    2681\n",
       "n_reviews_per_month       2681\n",
       "n_days_since              2681\n",
       "dtype: int64"
      ]
     },
     "execution_count": 142,
     "metadata": {},
     "output_type": "execute_result"
    }
   ],
   "source": [
    "to_filter = data.isna().sum()\n",
    "to_filter[to_filter > 0]"
   ]
  },
  {
   "cell_type": "code",
   "execution_count": 143,
   "metadata": {},
   "outputs": [],
   "source": [
    "# 4. Replace missing variables re reviews with zero, when no review + add flags\n",
    "data = data.assign(\n",
    "    flag_days_since=np.multiply(data.n_days_since.isna(), 1),\n",
    "    n_days_since=data.n_days_since.fillna(np.median(data.n_days_since.dropna())),\n",
    "    flag_review_scores_rating=np.multiply(data.n_review_scores_rating.isna(), 1),\n",
    "    n_review_scores_rating=data.n_review_scores_rating.fillna(\n",
    "        np.median(data.n_review_scores_rating.dropna())\n",
    "    ),\n",
    "    flag_reviews_per_month=np.multiply(data.n_reviews_per_month.isna(), 1),\n",
    "    n_reviews_per_month=data.n_reviews_per_month.fillna(\n",
    "        np.median(data.n_reviews_per_month.dropna())\n",
    "    ),\n",
    "    flag_n_number_of_reviews=np.multiply(data.n_number_of_reviews.isna(), 1),\n",
    ")"
   ]
  },
  {
   "cell_type": "code",
   "execution_count": 144,
   "metadata": {},
   "outputs": [
    {
     "data": {
      "text/plain": [
       "0    5825\n",
       "1    2681\n",
       "Name: flag_days_since, dtype: int64"
      ]
     },
     "execution_count": 144,
     "metadata": {},
     "output_type": "execute_result"
    }
   ],
   "source": [
    "data.flag_days_since.value_counts()"
   ]
  },
  {
   "cell_type": "code",
   "execution_count": 145,
   "metadata": {},
   "outputs": [],
   "source": [
    "# Create variables, measuring the time since: squared, cubic, logs\n",
    "data = data.assign(\n",
    "    ln_days_since=lambda x: np.log(x[\"n_days_since\"] + 1),\n",
    "    ln_days_since2=lambda x: np.log(x[\"n_days_since\"] + 1) ** 2,\n",
    "    ln_days_since3=lambda x: np.log(x[\"n_days_since\"] + 1) ** 3,\n",
    "    n_days_since2=lambda x: x[\"n_days_since\"] ** 2,\n",
    "    n_days_since3=lambda x: x[\"n_days_since\"] ** 3,\n",
    "    ln_review_scores_rating=lambda x: np.log(x[\"n_review_scores_rating\"]),\n",
    ")"
   ]
  },
  {
   "cell_type": "code",
   "execution_count": 146,
   "metadata": {},
   "outputs": [],
   "source": [
    "data.ln_days_since = data[\"ln_days_since\"].fillna(0)\n",
    "data.ln_days_since2 = data[\"ln_days_since2\"].fillna(0)\n",
    "data.ln_days_since3 = data[\"ln_days_since3\"].fillna(0)"
   ]
  },
  {
   "cell_type": "code",
   "execution_count": 147,
   "metadata": {},
   "outputs": [
    {
     "data": {
      "text/plain": [
       "Series([], dtype: int64)"
      ]
     },
     "execution_count": 147,
     "metadata": {},
     "output_type": "execute_result"
    }
   ],
   "source": [
    "to_filter = data.isna().sum()\n",
    "to_filter[to_filter > 0]"
   ]
  },
  {
   "cell_type": "code",
   "execution_count": 151,
   "metadata": {},
   "outputs": [],
   "source": [
    "data.to_csv(\"../data/airbnb_bangkok_workfile.csv\", index=False)"
   ]
  },
  {
   "cell_type": "code",
   "execution_count": null,
   "metadata": {},
   "outputs": [],
   "source": []
  }
 ],
 "metadata": {
  "kernelspec": {
   "display_name": "Python 3 (ipykernel)",
   "language": "python",
   "name": "python3"
  },
  "language_info": {
   "codemirror_mode": {
    "name": "ipython",
    "version": 3
   },
   "file_extension": ".py",
   "mimetype": "text/x-python",
   "name": "python",
   "nbconvert_exporter": "python",
   "pygments_lexer": "ipython3",
   "version": "3.9.7"
  }
 },
 "nbformat": 4,
 "nbformat_minor": 4
}
