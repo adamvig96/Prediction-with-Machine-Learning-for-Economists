{
 "cells": [
  {
   "cell_type": "markdown",
   "metadata": {},
   "source": [
    "## PART 0. packages, helper functions"
   ]
  },
  {
   "cell_type": "code",
   "execution_count": 1,
   "metadata": {},
   "outputs": [],
   "source": [
    "import pandas as pd\n",
    "import numpy as np\n",
    "\n",
    "from plotnine import *\n",
    "from mizani.formatters import percent_format\n",
    "import matplotlib.pyplot as plt\n",
    "import warnings\n",
    "\n",
    "warnings.filterwarnings(\"ignore\")\n",
    "\n",
    "from patsy import dmatrices\n",
    "from sklearn.model_selection import train_test_split\n",
    "from skranger.ensemble import RangerForestRegressor\n",
    "from xgboost import XGBRegressor\n",
    "from sklearn.linear_model import LinearRegression\n",
    "from sklearn.compose import TransformedTargetRegressor\n",
    "from sklearn.preprocessing import StandardScaler\n",
    "from sklearn.ensemble import RandomForestRegressor\n",
    "from sklearn.linear_model import ElasticNet\n",
    "from sklearn.metrics import mean_squared_error\n",
    "from sklearn.model_selection import GridSearchCV\n",
    "from sklearn.inspection import permutation_importance\n",
    "from sklearn.inspection import plot_partial_dependence\n",
    "from sklearn.inspection import partial_dependence\n",
    "from sklearn.utils import resample\n",
    "from sklearn.compose import ColumnTransformer\n",
    "from sklearn.pipeline import Pipeline\n",
    "from sklearn.preprocessing import OneHotEncoder"
   ]
  },
  {
   "cell_type": "code",
   "execution_count": 3,
   "metadata": {},
   "outputs": [],
   "source": [
    "def plot_pred_true_scatter(true_price,predicted_price,title=\"asd\"):\n",
    "    fig, ax = plt.subplots(figsize=(5,5))\n",
    "    plt.scatter(true_price, predicted_price)\n",
    "    lims = [\n",
    "        np.min([ax.get_xlim(), ax.get_ylim()]),  # min of both axes\n",
    "        np.max([ax.get_xlim(), ax.get_ylim()]),  # max of both axes\n",
    "    ]\n",
    "    \n",
    "    # now plot both limits against eachother\n",
    "    ax.plot(lims, lims, 'k-', alpha=0.75, zorder=0)\n",
    "    ax.set_aspect('equal')\n",
    "    ax.set_xlim(lims)\n",
    "    ax.set_ylim(lims)\n",
    "    plt.xlabel(\"True price\")\n",
    "    plt.ylabel(\"Predicted price\")\n",
    "    plt.title(title)\n",
    "    plt.show()\n",
    "    \n",
    "def corr_pred(array):\n",
    "    return np.exp(array)*np.exp(residual_std)"
   ]
  },
  {
   "cell_type": "markdown",
   "metadata": {},
   "source": [
    "## PART I\n",
    "### Loading and preparing data \n",
    "----------------------------------------------"
   ]
  },
  {
   "cell_type": "code",
   "execution_count": 4,
   "metadata": {},
   "outputs": [],
   "source": [
    "area = \"bangkok\"\n",
    "data = pd.read_csv(\"../data/airbnb_\" + area + \"_workfile_all_am.csv\")\n",
    "data = data.loc[data.price.notna(), :]"
   ]
  },
  {
   "cell_type": "code",
   "execution_count": 5,
   "metadata": {},
   "outputs": [
    {
     "data": {
      "text/plain": [
       "0"
      ]
     },
     "execution_count": 5,
     "metadata": {},
     "output_type": "execute_result"
    }
   ],
   "source": [
    "data.isnull().sum().sum()"
   ]
  },
  {
   "cell_type": "code",
   "execution_count": 6,
   "metadata": {},
   "outputs": [],
   "source": [
    "# Sample definition \n",
    "data = data.query('2 <= n_accommodates <= 6')"
   ]
  },
  {
   "cell_type": "code",
   "execution_count": 7,
   "metadata": {},
   "outputs": [
    {
     "data": {
      "text/plain": [
       "(8162, 137)"
      ]
     },
     "execution_count": 7,
     "metadata": {},
     "output_type": "execute_result"
    }
   ],
   "source": [
    "data.shape"
   ]
  },
  {
   "cell_type": "markdown",
   "metadata": {},
   "source": [
    "Convert price form thai bahn to EUR for easier interpretation"
   ]
  },
  {
   "cell_type": "code",
   "execution_count": 8,
   "metadata": {},
   "outputs": [],
   "source": [
    "data[\"price\"] = data[\"price\"] / 38.89"
   ]
  },
  {
   "cell_type": "code",
   "execution_count": 9,
   "metadata": {},
   "outputs": [
    {
     "data": {
      "text/plain": [
       "count    8162.000000\n",
       "mean       45.074182\n",
       "std       125.719504\n",
       "min         6.916945\n",
       "50%        28.220622\n",
       "90%        73.458473\n",
       "95%       101.736950\n",
       "98%       191.620982\n",
       "max      6547.261507\n",
       "Name: price, dtype: float64"
      ]
     },
     "execution_count": 9,
     "metadata": {},
     "output_type": "execute_result"
    }
   ],
   "source": [
    "data.price.describe(percentiles=[0.5,0.9,0.95,0.98])"
   ]
  },
  {
   "cell_type": "code",
   "execution_count": 10,
   "metadata": {},
   "outputs": [
    {
     "data": {
      "text/html": [
       "<div>\n",
       "<style scoped>\n",
       "    .dataframe tbody tr th:only-of-type {\n",
       "        vertical-align: middle;\n",
       "    }\n",
       "\n",
       "    .dataframe tbody tr th {\n",
       "        vertical-align: top;\n",
       "    }\n",
       "\n",
       "    .dataframe thead th {\n",
       "        text-align: right;\n",
       "    }\n",
       "</style>\n",
       "<table border=\"1\" class=\"dataframe\">\n",
       "  <thead>\n",
       "    <tr style=\"text-align: right;\">\n",
       "      <th></th>\n",
       "      <th>count</th>\n",
       "      <th>mean</th>\n",
       "      <th>std</th>\n",
       "      <th>min</th>\n",
       "      <th>25%</th>\n",
       "      <th>50%</th>\n",
       "      <th>75%</th>\n",
       "      <th>max</th>\n",
       "    </tr>\n",
       "  </thead>\n",
       "  <tbody>\n",
       "    <tr>\n",
       "      <th>price</th>\n",
       "      <td>8162.0</td>\n",
       "      <td>45.074182</td>\n",
       "      <td>125.719504</td>\n",
       "      <td>6.916945</td>\n",
       "      <td>18.770892</td>\n",
       "      <td>28.220622</td>\n",
       "      <td>43.713037</td>\n",
       "      <td>6547.261507</td>\n",
       "    </tr>\n",
       "    <tr>\n",
       "      <th>price_clean</th>\n",
       "      <td>8162.0</td>\n",
       "      <td>1752.934942</td>\n",
       "      <td>4889.231501</td>\n",
       "      <td>269.000000</td>\n",
       "      <td>730.000000</td>\n",
       "      <td>1097.500000</td>\n",
       "      <td>1700.000000</td>\n",
       "      <td>254623.000000</td>\n",
       "    </tr>\n",
       "    <tr>\n",
       "      <th>n_bathrooms</th>\n",
       "      <td>8162.0</td>\n",
       "      <td>1.223291</td>\n",
       "      <td>0.507486</td>\n",
       "      <td>0.000000</td>\n",
       "      <td>1.000000</td>\n",
       "      <td>1.000000</td>\n",
       "      <td>1.500000</td>\n",
       "      <td>23.000000</td>\n",
       "    </tr>\n",
       "    <tr>\n",
       "      <th>n_accommodates</th>\n",
       "      <td>8162.0</td>\n",
       "      <td>2.894511</td>\n",
       "      <td>1.142799</td>\n",
       "      <td>2.000000</td>\n",
       "      <td>2.000000</td>\n",
       "      <td>2.000000</td>\n",
       "      <td>4.000000</td>\n",
       "      <td>6.000000</td>\n",
       "    </tr>\n",
       "    <tr>\n",
       "      <th>n_review_scores_rating</th>\n",
       "      <td>8162.0</td>\n",
       "      <td>4.667452</td>\n",
       "      <td>0.618247</td>\n",
       "      <td>0.000000</td>\n",
       "      <td>4.690000</td>\n",
       "      <td>4.800000</td>\n",
       "      <td>4.890000</td>\n",
       "      <td>5.000000</td>\n",
       "    </tr>\n",
       "    <tr>\n",
       "      <th>n_number_of_reviews</th>\n",
       "      <td>8162.0</td>\n",
       "      <td>18.873683</td>\n",
       "      <td>40.229989</td>\n",
       "      <td>0.000000</td>\n",
       "      <td>0.000000</td>\n",
       "      <td>3.000000</td>\n",
       "      <td>19.000000</td>\n",
       "      <td>1116.000000</td>\n",
       "    </tr>\n",
       "    <tr>\n",
       "      <th>n_reviews_per_month</th>\n",
       "      <td>8162.0</td>\n",
       "      <td>0.607166</td>\n",
       "      <td>0.794160</td>\n",
       "      <td>0.010000</td>\n",
       "      <td>0.220000</td>\n",
       "      <td>0.380000</td>\n",
       "      <td>0.660000</td>\n",
       "      <td>24.310000</td>\n",
       "    </tr>\n",
       "    <tr>\n",
       "      <th>n_minimum_nights</th>\n",
       "      <td>8162.0</td>\n",
       "      <td>16.302867</td>\n",
       "      <td>43.728870</td>\n",
       "      <td>1.000000</td>\n",
       "      <td>1.000000</td>\n",
       "      <td>2.000000</td>\n",
       "      <td>20.000000</td>\n",
       "      <td>730.000000</td>\n",
       "    </tr>\n",
       "    <tr>\n",
       "      <th>n_beds</th>\n",
       "      <td>8162.0</td>\n",
       "      <td>1.448542</td>\n",
       "      <td>0.794301</td>\n",
       "      <td>0.000000</td>\n",
       "      <td>1.000000</td>\n",
       "      <td>1.000000</td>\n",
       "      <td>2.000000</td>\n",
       "      <td>7.000000</td>\n",
       "    </tr>\n",
       "    <tr>\n",
       "      <th>n_maximum_nights</th>\n",
       "      <td>8162.0</td>\n",
       "      <td>891.822838</td>\n",
       "      <td>1950.527949</td>\n",
       "      <td>1.000000</td>\n",
       "      <td>365.000000</td>\n",
       "      <td>1125.000000</td>\n",
       "      <td>1125.000000</td>\n",
       "      <td>100000.000000</td>\n",
       "    </tr>\n",
       "    <tr>\n",
       "      <th>n_days_since</th>\n",
       "      <td>8162.0</td>\n",
       "      <td>979.255330</td>\n",
       "      <td>489.884470</td>\n",
       "      <td>1.000000</td>\n",
       "      <td>721.000000</td>\n",
       "      <td>869.000000</td>\n",
       "      <td>1040.000000</td>\n",
       "      <td>3848.000000</td>\n",
       "    </tr>\n",
       "    <tr>\n",
       "      <th>d_airconditioning</th>\n",
       "      <td>8162.0</td>\n",
       "      <td>0.977579</td>\n",
       "      <td>0.148057</td>\n",
       "      <td>0.000000</td>\n",
       "      <td>1.000000</td>\n",
       "      <td>1.000000</td>\n",
       "      <td>1.000000</td>\n",
       "      <td>1.000000</td>\n",
       "    </tr>\n",
       "    <tr>\n",
       "      <th>d_longtermstaysallowed</th>\n",
       "      <td>8162.0</td>\n",
       "      <td>0.975129</td>\n",
       "      <td>0.155743</td>\n",
       "      <td>0.000000</td>\n",
       "      <td>1.000000</td>\n",
       "      <td>1.000000</td>\n",
       "      <td>1.000000</td>\n",
       "      <td>1.000000</td>\n",
       "    </tr>\n",
       "    <tr>\n",
       "      <th>d_essentials</th>\n",
       "      <td>8162.0</td>\n",
       "      <td>0.921833</td>\n",
       "      <td>0.268451</td>\n",
       "      <td>0.000000</td>\n",
       "      <td>1.000000</td>\n",
       "      <td>1.000000</td>\n",
       "      <td>1.000000</td>\n",
       "      <td>1.000000</td>\n",
       "    </tr>\n",
       "    <tr>\n",
       "      <th>d_wifi</th>\n",
       "      <td>8162.0</td>\n",
       "      <td>0.882504</td>\n",
       "      <td>0.322030</td>\n",
       "      <td>0.000000</td>\n",
       "      <td>1.000000</td>\n",
       "      <td>1.000000</td>\n",
       "      <td>1.000000</td>\n",
       "      <td>1.000000</td>\n",
       "    </tr>\n",
       "    <tr>\n",
       "      <th>d_hangers</th>\n",
       "      <td>8162.0</td>\n",
       "      <td>0.869395</td>\n",
       "      <td>0.336989</td>\n",
       "      <td>0.000000</td>\n",
       "      <td>1.000000</td>\n",
       "      <td>1.000000</td>\n",
       "      <td>1.000000</td>\n",
       "      <td>1.000000</td>\n",
       "    </tr>\n",
       "    <tr>\n",
       "      <th>d_shampoo</th>\n",
       "      <td>8162.0</td>\n",
       "      <td>0.798456</td>\n",
       "      <td>0.401178</td>\n",
       "      <td>0.000000</td>\n",
       "      <td>1.000000</td>\n",
       "      <td>1.000000</td>\n",
       "      <td>1.000000</td>\n",
       "      <td>1.000000</td>\n",
       "    </tr>\n",
       "    <tr>\n",
       "      <th>d_hairdryer</th>\n",
       "      <td>8162.0</td>\n",
       "      <td>0.779466</td>\n",
       "      <td>0.414632</td>\n",
       "      <td>0.000000</td>\n",
       "      <td>1.000000</td>\n",
       "      <td>1.000000</td>\n",
       "      <td>1.000000</td>\n",
       "      <td>1.000000</td>\n",
       "    </tr>\n",
       "    <tr>\n",
       "      <th>d_washer</th>\n",
       "      <td>8162.0</td>\n",
       "      <td>0.843666</td>\n",
       "      <td>0.363194</td>\n",
       "      <td>0.000000</td>\n",
       "      <td>1.000000</td>\n",
       "      <td>1.000000</td>\n",
       "      <td>1.000000</td>\n",
       "      <td>1.000000</td>\n",
       "    </tr>\n",
       "    <tr>\n",
       "      <th>d_dedicatedworkspace</th>\n",
       "      <td>8162.0</td>\n",
       "      <td>0.756555</td>\n",
       "      <td>0.429188</td>\n",
       "      <td>0.000000</td>\n",
       "      <td>1.000000</td>\n",
       "      <td>1.000000</td>\n",
       "      <td>1.000000</td>\n",
       "      <td>1.000000</td>\n",
       "    </tr>\n",
       "    <tr>\n",
       "      <th>d_kitchen</th>\n",
       "      <td>8162.0</td>\n",
       "      <td>0.855060</td>\n",
       "      <td>0.352062</td>\n",
       "      <td>0.000000</td>\n",
       "      <td>1.000000</td>\n",
       "      <td>1.000000</td>\n",
       "      <td>1.000000</td>\n",
       "      <td>1.000000</td>\n",
       "    </tr>\n",
       "    <tr>\n",
       "      <th>d_smokealarm</th>\n",
       "      <td>8162.0</td>\n",
       "      <td>0.837050</td>\n",
       "      <td>0.369343</td>\n",
       "      <td>0.000000</td>\n",
       "      <td>1.000000</td>\n",
       "      <td>1.000000</td>\n",
       "      <td>1.000000</td>\n",
       "      <td>1.000000</td>\n",
       "    </tr>\n",
       "    <tr>\n",
       "      <th>d_tv</th>\n",
       "      <td>8162.0</td>\n",
       "      <td>0.673119</td>\n",
       "      <td>0.469102</td>\n",
       "      <td>0.000000</td>\n",
       "      <td>0.000000</td>\n",
       "      <td>1.000000</td>\n",
       "      <td>1.000000</td>\n",
       "      <td>1.000000</td>\n",
       "    </tr>\n",
       "    <tr>\n",
       "      <th>d_elevator</th>\n",
       "      <td>8162.0</td>\n",
       "      <td>0.782161</td>\n",
       "      <td>0.412803</td>\n",
       "      <td>0.000000</td>\n",
       "      <td>1.000000</td>\n",
       "      <td>1.000000</td>\n",
       "      <td>1.000000</td>\n",
       "      <td>1.000000</td>\n",
       "    </tr>\n",
       "    <tr>\n",
       "      <th>d_hotwater</th>\n",
       "      <td>8162.0</td>\n",
       "      <td>0.695418</td>\n",
       "      <td>0.460258</td>\n",
       "      <td>0.000000</td>\n",
       "      <td>0.000000</td>\n",
       "      <td>1.000000</td>\n",
       "      <td>1.000000</td>\n",
       "      <td>1.000000</td>\n",
       "    </tr>\n",
       "    <tr>\n",
       "      <th>d_freeparkingonpremises</th>\n",
       "      <td>8162.0</td>\n",
       "      <td>0.601078</td>\n",
       "      <td>0.489707</td>\n",
       "      <td>0.000000</td>\n",
       "      <td>0.000000</td>\n",
       "      <td>1.000000</td>\n",
       "      <td>1.000000</td>\n",
       "      <td>1.000000</td>\n",
       "    </tr>\n",
       "    <tr>\n",
       "      <th>d_fireextinguisher</th>\n",
       "      <td>8162.0</td>\n",
       "      <td>0.493139</td>\n",
       "      <td>0.499984</td>\n",
       "      <td>0.000000</td>\n",
       "      <td>0.000000</td>\n",
       "      <td>0.000000</td>\n",
       "      <td>1.000000</td>\n",
       "      <td>1.000000</td>\n",
       "    </tr>\n",
       "    <tr>\n",
       "      <th>d_pool</th>\n",
       "      <td>8162.0</td>\n",
       "      <td>0.749204</td>\n",
       "      <td>0.433498</td>\n",
       "      <td>0.000000</td>\n",
       "      <td>0.000000</td>\n",
       "      <td>1.000000</td>\n",
       "      <td>1.000000</td>\n",
       "      <td>1.000000</td>\n",
       "    </tr>\n",
       "    <tr>\n",
       "      <th>d_gym</th>\n",
       "      <td>8162.0</td>\n",
       "      <td>0.745038</td>\n",
       "      <td>0.435867</td>\n",
       "      <td>0.000000</td>\n",
       "      <td>0.000000</td>\n",
       "      <td>1.000000</td>\n",
       "      <td>1.000000</td>\n",
       "      <td>1.000000</td>\n",
       "    </tr>\n",
       "    <tr>\n",
       "      <th>d_refrigerator</th>\n",
       "      <td>8162.0</td>\n",
       "      <td>0.530630</td>\n",
       "      <td>0.499092</td>\n",
       "      <td>0.000000</td>\n",
       "      <td>0.000000</td>\n",
       "      <td>1.000000</td>\n",
       "      <td>1.000000</td>\n",
       "      <td>1.000000</td>\n",
       "    </tr>\n",
       "  </tbody>\n",
       "</table>\n",
       "</div>"
      ],
      "text/plain": [
       "                          count         mean          std         min  \\\n",
       "price                    8162.0    45.074182   125.719504    6.916945   \n",
       "price_clean              8162.0  1752.934942  4889.231501  269.000000   \n",
       "n_bathrooms              8162.0     1.223291     0.507486    0.000000   \n",
       "n_accommodates           8162.0     2.894511     1.142799    2.000000   \n",
       "n_review_scores_rating   8162.0     4.667452     0.618247    0.000000   \n",
       "n_number_of_reviews      8162.0    18.873683    40.229989    0.000000   \n",
       "n_reviews_per_month      8162.0     0.607166     0.794160    0.010000   \n",
       "n_minimum_nights         8162.0    16.302867    43.728870    1.000000   \n",
       "n_beds                   8162.0     1.448542     0.794301    0.000000   \n",
       "n_maximum_nights         8162.0   891.822838  1950.527949    1.000000   \n",
       "n_days_since             8162.0   979.255330   489.884470    1.000000   \n",
       "d_airconditioning        8162.0     0.977579     0.148057    0.000000   \n",
       "d_longtermstaysallowed   8162.0     0.975129     0.155743    0.000000   \n",
       "d_essentials             8162.0     0.921833     0.268451    0.000000   \n",
       "d_wifi                   8162.0     0.882504     0.322030    0.000000   \n",
       "d_hangers                8162.0     0.869395     0.336989    0.000000   \n",
       "d_shampoo                8162.0     0.798456     0.401178    0.000000   \n",
       "d_hairdryer              8162.0     0.779466     0.414632    0.000000   \n",
       "d_washer                 8162.0     0.843666     0.363194    0.000000   \n",
       "d_dedicatedworkspace     8162.0     0.756555     0.429188    0.000000   \n",
       "d_kitchen                8162.0     0.855060     0.352062    0.000000   \n",
       "d_smokealarm             8162.0     0.837050     0.369343    0.000000   \n",
       "d_tv                     8162.0     0.673119     0.469102    0.000000   \n",
       "d_elevator               8162.0     0.782161     0.412803    0.000000   \n",
       "d_hotwater               8162.0     0.695418     0.460258    0.000000   \n",
       "d_freeparkingonpremises  8162.0     0.601078     0.489707    0.000000   \n",
       "d_fireextinguisher       8162.0     0.493139     0.499984    0.000000   \n",
       "d_pool                   8162.0     0.749204     0.433498    0.000000   \n",
       "d_gym                    8162.0     0.745038     0.435867    0.000000   \n",
       "d_refrigerator           8162.0     0.530630     0.499092    0.000000   \n",
       "\n",
       "                                25%          50%          75%            max  \n",
       "price                     18.770892    28.220622    43.713037    6547.261507  \n",
       "price_clean              730.000000  1097.500000  1700.000000  254623.000000  \n",
       "n_bathrooms                1.000000     1.000000     1.500000      23.000000  \n",
       "n_accommodates             2.000000     2.000000     4.000000       6.000000  \n",
       "n_review_scores_rating     4.690000     4.800000     4.890000       5.000000  \n",
       "n_number_of_reviews        0.000000     3.000000    19.000000    1116.000000  \n",
       "n_reviews_per_month        0.220000     0.380000     0.660000      24.310000  \n",
       "n_minimum_nights           1.000000     2.000000    20.000000     730.000000  \n",
       "n_beds                     1.000000     1.000000     2.000000       7.000000  \n",
       "n_maximum_nights         365.000000  1125.000000  1125.000000  100000.000000  \n",
       "n_days_since             721.000000   869.000000  1040.000000    3848.000000  \n",
       "d_airconditioning          1.000000     1.000000     1.000000       1.000000  \n",
       "d_longtermstaysallowed     1.000000     1.000000     1.000000       1.000000  \n",
       "d_essentials               1.000000     1.000000     1.000000       1.000000  \n",
       "d_wifi                     1.000000     1.000000     1.000000       1.000000  \n",
       "d_hangers                  1.000000     1.000000     1.000000       1.000000  \n",
       "d_shampoo                  1.000000     1.000000     1.000000       1.000000  \n",
       "d_hairdryer                1.000000     1.000000     1.000000       1.000000  \n",
       "d_washer                   1.000000     1.000000     1.000000       1.000000  \n",
       "d_dedicatedworkspace       1.000000     1.000000     1.000000       1.000000  \n",
       "d_kitchen                  1.000000     1.000000     1.000000       1.000000  \n",
       "d_smokealarm               1.000000     1.000000     1.000000       1.000000  \n",
       "d_tv                       0.000000     1.000000     1.000000       1.000000  \n",
       "d_elevator                 1.000000     1.000000     1.000000       1.000000  \n",
       "d_hotwater                 0.000000     1.000000     1.000000       1.000000  \n",
       "d_freeparkingonpremises    0.000000     1.000000     1.000000       1.000000  \n",
       "d_fireextinguisher         0.000000     0.000000     1.000000       1.000000  \n",
       "d_pool                     0.000000     1.000000     1.000000       1.000000  \n",
       "d_gym                      0.000000     1.000000     1.000000       1.000000  \n",
       "d_refrigerator             0.000000     1.000000     1.000000       1.000000  "
      ]
     },
     "execution_count": 10,
     "metadata": {},
     "output_type": "execute_result"
    }
   ],
   "source": [
    "data.describe().T.head(30)"
   ]
  },
  {
   "cell_type": "code",
   "execution_count": 11,
   "metadata": {},
   "outputs": [
    {
     "data": {
      "text/plain": [
       "<AxesSubplot:>"
      ]
     },
     "execution_count": 11,
     "metadata": {},
     "output_type": "execute_result"
    },
    {
     "data": {
      "image/png": "[encoded data removed]",
      "text/plain": [
       "<Figure size 432x288 with 1 Axes>"
      ]
     },
     "metadata": {
      "needs_background": "light"
     },
     "output_type": "display_data"
    }
   ],
   "source": [
    "data.price.hist(bins=30)"
   ]
  },
  {
   "cell_type": "code",
   "execution_count": 12,
   "metadata": {},
   "outputs": [
    {
     "data": {
      "text/plain": [
       "<AxesSubplot:>"
      ]
     },
     "execution_count": 12,
     "metadata": {},
     "output_type": "execute_result"
    },
    {
     "data": {
      "image/png": "[encoded data removed]",
      "text/plain": [
       "<Figure size 432x288 with 1 Axes>"
      ]
     },
     "metadata": {
      "needs_background": "light"
     },
     "output_type": "display_data"
    }
   ],
   "source": [
    "np.log(data.price).hist(bins=30)"
   ]
  },
  {
   "cell_type": "code",
   "execution_count": 13,
   "metadata": {},
   "outputs": [],
   "source": [
    "data[\"lnprice\"] = np.log(data.price)"
   ]
  },
  {
   "cell_type": "code",
   "execution_count": 14,
   "metadata": {},
   "outputs": [
    {
     "data": {
      "text/plain": [
       "Entire rental unit            4347\n",
       "Entire condominium (condo)    3382\n",
       "Entire serviced apartment      433\n",
       "Name: f_property_type, dtype: int64"
      ]
     },
     "execution_count": 14,
     "metadata": {},
     "output_type": "execute_result"
    }
   ],
   "source": [
    "data.f_property_type.value_counts()"
   ]
  },
  {
   "cell_type": "code",
   "execution_count": 15,
   "metadata": {},
   "outputs": [
    {
     "data": {
      "text/plain": [
       "1    4650\n",
       "0    2577\n",
       "2     935\n",
       "Name: f_number_of_reviews, dtype: int64"
      ]
     },
     "execution_count": 15,
     "metadata": {},
     "output_type": "execute_result"
    }
   ],
   "source": [
    "data.f_number_of_reviews.value_counts()"
   ]
  },
  {
   "cell_type": "markdown",
   "metadata": {},
   "source": [
    "Create train and holdout samples "
   ]
  },
  {
   "cell_type": "code",
   "execution_count": 16,
   "metadata": {},
   "outputs": [
    {
     "data": {
      "text/plain": [
       "Khlong Toei        1452\n",
       "Vadhana            1133\n",
       "Huai Khwang         825\n",
       "Ratchathewi         660\n",
       "Sathon              423\n",
       "Other               400\n",
       "Bang Rak            340\n",
       "Phra Khanong        339\n",
       "Bang Na             300\n",
       "Din Daeng           257\n",
       "Chatu Chak          254\n",
       "Parthum Wan         235\n",
       "Khlong San          214\n",
       "Suanluang           189\n",
       "Phaya Thai          182\n",
       "Bang Sue            144\n",
       "Bang Kapi           123\n",
       "Bang Phlat          118\n",
       "Yan na wa           118\n",
       "Thon buri           104\n",
       "Phasi Charoen        90\n",
       "Bang Kho laen        77\n",
       "Lat Krabang          74\n",
       "Wang Thong Lang      62\n",
       "Pra Wet              49\n",
       "Name: f_neighbourhood_cleansed, dtype: int64"
      ]
     },
     "execution_count": 16,
     "metadata": {},
     "output_type": "execute_result"
    }
   ],
   "source": [
    "data.f_neighbourhood_cleansed.value_counts()"
   ]
  },
  {
   "cell_type": "code",
   "execution_count": 17,
   "metadata": {},
   "outputs": [],
   "source": [
    "data.columns = [\n",
    "    item.replace(\"\\\\\", \"\").replace(\":\", \"\") for item in data.columns.tolist()\n",
    "]"
   ]
  },
  {
   "cell_type": "code",
   "execution_count": 18,
   "metadata": {},
   "outputs": [],
   "source": [
    "data.drop([\"id\",\"price_clean\"],axis=1,inplace=True)"
   ]
  },
  {
   "cell_type": "code",
   "execution_count": 19,
   "metadata": {},
   "outputs": [
    {
     "name": "stdout",
     "output_type": "stream",
     "text": [
      "(5713, 136) (2449, 136)\n"
     ]
    }
   ],
   "source": [
    "data_train, data_holdout = train_test_split(data, train_size=0.7, random_state=52)\n",
    "\n",
    "print(data_train.shape, data_holdout.shape)\n",
    "\n",
    "# Yay! same number of variables in train and holdout"
   ]
  },
  {
   "cell_type": "markdown",
   "metadata": {},
   "source": [
    "### Now remove error values from train set!"
   ]
  },
  {
   "cell_type": "code",
   "execution_count": 20,
   "metadata": {},
   "outputs": [],
   "source": [
    "data_train = data_train.loc[lambda x: x[\"price\"] < x[\"price\"].describe(percentiles=[0.98])[\"98%\"]]"
   ]
  },
  {
   "cell_type": "code",
   "execution_count": 21,
   "metadata": {},
   "outputs": [],
   "source": [
    "all_variables = [item.replace(\"\\\\\",\"\").replace(\":\",\"\") for item in data.columns.tolist()[1:-19]]\n",
    "\n",
    "target_variable = \"price\"\n",
    "\n",
    "# interactions for the LASSO\n",
    "\n",
    "X1 = [\n",
    "    \"n_accommodates:f_property_type\",\n",
    "    \"f_property_type:n_dist_to_grand_palace\",\n",
    "    \"n_accommodates:d_longtermstaysallowed\",\n",
    "    \"d_breakfast:f_property_type\",\n",
    "    \"d_kitchen:f_property_type\",\n",
    "    \"d_elevator:f_property_type\",\n",
    "    \"d_essentials:f_property_type\"\n",
    "]\n",
    "# with boroughs\n",
    "X2 = [\n",
    "    \"f_property_type:f_neighbourhood_cleansed\",\n",
    "    \"n_accommodates:f_neighbourhood_cleansed\",\n",
    "]\n",
    "\n",
    "predictors_tree = all_variables\n",
    "predictors_lasso = all_variables + X1 + X2"
   ]
  },
  {
   "cell_type": "code",
   "execution_count": 22,
   "metadata": {},
   "outputs": [
    {
     "data": {
      "text/plain": [
       "125"
      ]
     },
     "execution_count": 22,
     "metadata": {},
     "output_type": "execute_result"
    }
   ],
   "source": [
    "len(predictors_lasso)"
   ]
  },
  {
   "cell_type": "markdown",
   "metadata": {},
   "source": [
    "## PART II\n",
    "### Select hyperparameters for models with CV\n",
    "-------------------------------------------------------"
   ]
  },
  {
   "cell_type": "markdown",
   "metadata": {},
   "source": [
    "0. first, OLS reference model"
   ]
  },
  {
   "cell_type": "code",
   "execution_count": 22,
   "metadata": {},
   "outputs": [
    {
     "name": "stdout",
     "output_type": "stream",
     "text": [
      "19.551291533202726\n",
      "82.2574566579383\n",
      "19.411049397500552\n"
     ]
    }
   ],
   "source": [
    "y, X = dmatrices(target_variable + \" ~ \" + \" + \".join(predictors_tree), data_train)\n",
    "y_hold, X_test = dmatrices(\n",
    "    target_variable + \" ~ \" + \" + \".join(predictors_tree), data_holdout\n",
    ")\n",
    "y_hold_t, X_test_t = dmatrices(\n",
    "    target_variable + \" ~ \" + \" + \".join(predictors_tree),\n",
    "    data_holdout.loc[lambda x: x[\"price\"] < 190],\n",
    ")\n",
    "\n",
    "ols_model = LinearRegression().fit(X, y)\n",
    "\n",
    "y_hat = ols_model.predict(X)\n",
    "\n",
    "ols_rmse = mean_squared_error(y, y_hat, squared=False)\n",
    "print(ols_rmse)\n",
    "\n",
    "y_hat_test = ols_model.predict(X_test)\n",
    "ols_rmse_test = mean_squared_error(y_hold, y_hat_test, squared=False)\n",
    "print(ols_rmse_test)\n",
    "\n",
    "y_hat_t = ols_model.predict(X_test_t)\n",
    "ols_rmse_test_t = mean_squared_error(y_hold_t, y_hat_t, squared=False)\n",
    "print(ols_rmse_test_t)"
   ]
  },
  {
   "cell_type": "code",
   "execution_count": 23,
   "metadata": {},
   "outputs": [
    {
     "data": {
      "image/png": "[encoded data removed]",
      "text/plain": [
       "<Figure size 360x360 with 1 Axes>"
      ]
     },
     "metadata": {
      "needs_background": "light"
     },
     "output_type": "display_data"
    }
   ],
   "source": [
    "plot_pred_true_scatter(y, y_hat,title='OLS test set')"
   ]
  },
  {
   "cell_type": "code",
   "execution_count": 24,
   "metadata": {},
   "outputs": [
    {
     "data": {
      "image/png": "[encoded data removed]",
      "text/plain": [
       "<Figure size 360x360 with 1 Axes>"
      ]
     },
     "metadata": {
      "needs_background": "light"
     },
     "output_type": "display_data"
    }
   ],
   "source": [
    "plot_pred_true_scatter(y_hold,y_hat_test,title='OLS test set')"
   ]
  },
  {
   "cell_type": "code",
   "execution_count": 25,
   "metadata": {},
   "outputs": [
    {
     "data": {
      "image/png": "[encoded data removed]",
      "text/plain": [
       "<Figure size 360x360 with 1 Axes>"
      ]
     },
     "metadata": {
      "needs_background": "light"
     },
     "output_type": "display_data"
    }
   ],
   "source": [
    "plot_pred_true_scatter(y_hold_t, y_hat_t,title='OLS truncated test set')"
   ]
  },
  {
   "cell_type": "markdown",
   "metadata": {},
   "source": [
    "1.  LASSO\n",
    "\n",
    "using extended model w interactions"
   ]
  },
  {
   "cell_type": "code",
   "execution_count": 26,
   "metadata": {
    "collapsed": true
   },
   "outputs": [
    {
     "name": "stdout",
     "output_type": "stream",
     "text": [
      "Fitting 5 folds for each of 14 candidates, totalling 70 fits\n",
      "[CV 1/5] END .......................alpha=0.1;, score=-20.522 total time=   0.1s\n",
      "[CV 2/5] END .......................alpha=0.1;, score=-19.978 total time=   0.1s\n",
      "[CV 3/5] END .......................alpha=0.1;, score=-21.451 total time=   0.1s\n",
      "[CV 4/5] END .......................alpha=0.1;, score=-20.310 total time=   0.1s\n",
      "[CV 5/5] END .......................alpha=0.1;, score=-20.335 total time=   0.1s\n",
      "[CV 1/5] END ......................alpha=0.13;, score=-20.590 total time=   0.1s\n",
      "[CV 2/5] END ......................alpha=0.13;, score=-20.134 total time=   0.1s\n",
      "[CV 3/5] END ......................alpha=0.13;, score=-21.516 total time=   0.1s\n",
      "[CV 4/5] END ......................alpha=0.13;, score=-20.405 total time=   0.1s\n",
      "[CV 5/5] END ......................alpha=0.13;, score=-20.468 total time=   0.1s\n",
      "[CV 1/5] END ......................alpha=0.16;, score=-20.648 total time=   0.1s\n",
      "[CV 2/5] END ......................alpha=0.16;, score=-20.307 total time=   0.1s\n",
      "[CV 3/5] END ......................alpha=0.16;, score=-21.586 total time=   0.1s\n",
      "[CV 4/5] END ......................alpha=0.16;, score=-20.498 total time=   0.1s\n",
      "[CV 5/5] END ......................alpha=0.16;, score=-20.593 total time=   0.1s\n",
      "[CV 1/5] END ......................alpha=0.19;, score=-20.694 total time=   0.1s\n",
      "[CV 2/5] END ......................alpha=0.19;, score=-20.446 total time=   0.1s\n",
      "[CV 3/5] END ......................alpha=0.19;, score=-21.652 total time=   0.1s\n",
      "[CV 4/5] END ......................alpha=0.19;, score=-20.600 total time=   0.1s\n",
      "[CV 5/5] END ......................alpha=0.19;, score=-20.699 total time=   0.1s\n",
      "[CV 1/5] END ......................alpha=0.22;, score=-20.740 total time=   0.1s\n",
      "[CV 2/5] END ......................alpha=0.22;, score=-20.558 total time=   0.1s\n",
      "[CV 3/5] END ......................alpha=0.22;, score=-21.668 total time=   0.0s\n",
      "[CV 4/5] END ......................alpha=0.22;, score=-20.647 total time=   0.0s\n",
      "[CV 5/5] END ......................alpha=0.22;, score=-20.787 total time=   0.1s\n",
      "[CV 1/5] END ......................alpha=0.25;, score=-20.794 total time=   0.1s\n",
      "[CV 2/5] END ......................alpha=0.25;, score=-20.652 total time=   0.0s\n",
      "[CV 3/5] END ......................alpha=0.25;, score=-21.690 total time=   0.0s\n",
      "[CV 4/5] END ......................alpha=0.25;, score=-20.701 total time=   0.1s\n",
      "[CV 5/5] END ......................alpha=0.25;, score=-20.861 total time=   0.1s\n",
      "[CV 1/5] END ......................alpha=0.28;, score=-20.845 total time=   0.1s\n",
      "[CV 2/5] END ......................alpha=0.28;, score=-20.738 total time=   0.1s\n",
      "[CV 3/5] END ......................alpha=0.28;, score=-21.712 total time=   0.1s\n",
      "[CV 4/5] END ......................alpha=0.28;, score=-20.762 total time=   0.1s\n",
      "[CV 5/5] END ......................alpha=0.28;, score=-20.934 total time=   0.1s\n",
      "[CV 1/5] END ......................alpha=0.31;, score=-20.902 total time=   0.1s\n",
      "[CV 2/5] END ......................alpha=0.31;, score=-20.821 total time=   0.1s\n",
      "[CV 3/5] END ......................alpha=0.31;, score=-21.725 total time=   0.0s\n",
      "[CV 4/5] END ......................alpha=0.31;, score=-20.807 total time=   0.0s\n",
      "[CV 5/5] END ......................alpha=0.31;, score=-21.007 total time=   0.1s\n",
      "[CV 1/5] END ......................alpha=0.34;, score=-20.954 total time=   0.1s\n",
      "[CV 2/5] END ......................alpha=0.34;, score=-20.909 total time=   0.0s\n",
      "[CV 3/5] END ......................alpha=0.34;, score=-21.744 total time=   0.0s\n",
      "[CV 4/5] END ......................alpha=0.34;, score=-20.847 total time=   0.0s\n",
      "[CV 5/5] END ......................alpha=0.34;, score=-21.082 total time=   0.1s\n",
      "[CV 1/5] END ......................alpha=0.37;, score=-21.013 total time=   0.1s\n",
      "[CV 2/5] END ......................alpha=0.37;, score=-20.978 total time=   0.0s\n",
      "[CV 3/5] END ......................alpha=0.37;, score=-21.769 total time=   0.1s\n",
      "[CV 4/5] END ......................alpha=0.37;, score=-20.892 total time=   0.1s\n",
      "[CV 5/5] END ......................alpha=0.37;, score=-21.153 total time=   0.1s\n",
      "[CV 1/5] END .......................alpha=0.4;, score=-21.074 total time=   0.0s\n",
      "[CV 2/5] END .......................alpha=0.4;, score=-21.049 total time=   0.0s\n",
      "[CV 3/5] END .......................alpha=0.4;, score=-21.800 total time=   0.1s\n",
      "[CV 4/5] END .......................alpha=0.4;, score=-20.942 total time=   0.0s\n",
      "[CV 5/5] END .......................alpha=0.4;, score=-21.218 total time=   0.1s\n",
      "[CV 1/5] END ......................alpha=0.43;, score=-21.141 total time=   0.0s\n",
      "[CV 2/5] END ......................alpha=0.43;, score=-21.125 total time=   0.0s\n",
      "[CV 3/5] END ......................alpha=0.43;, score=-21.832 total time=   0.1s\n",
      "[CV 4/5] END ......................alpha=0.43;, score=-20.997 total time=   0.0s\n",
      "[CV 5/5] END ......................alpha=0.43;, score=-21.287 total time=   0.1s\n",
      "[CV 1/5] END ......................alpha=0.46;, score=-21.205 total time=   0.0s\n",
      "[CV 2/5] END ......................alpha=0.46;, score=-21.204 total time=   0.0s\n",
      "[CV 3/5] END ......................alpha=0.46;, score=-21.857 total time=   0.0s\n",
      "[CV 4/5] END ......................alpha=0.46;, score=-21.053 total time=   0.0s\n",
      "[CV 5/5] END ......................alpha=0.46;, score=-21.352 total time=   0.1s\n",
      "[CV 1/5] END ......................alpha=0.49;, score=-21.265 total time=   0.1s\n",
      "[CV 2/5] END ......................alpha=0.49;, score=-21.278 total time=   0.0s\n",
      "[CV 3/5] END ......................alpha=0.49;, score=-21.879 total time=   0.0s\n",
      "[CV 4/5] END ......................alpha=0.49;, score=-21.105 total time=   0.0s\n",
      "[CV 5/5] END ......................alpha=0.49;, score=-21.417 total time=   0.1s\n"
     ]
    },
    {
     "data": {
      "text/plain": [
       "GridSearchCV(cv=5, estimator=ElasticNet(l1_ratio=1),\n",
       "             param_grid={'alpha': [0.1, 0.13, 0.16, 0.19, 0.22, 0.25, 0.28,\n",
       "                                   0.31, 0.34, 0.37, 0.4, 0.43, 0.46, 0.49]},\n",
       "             scoring='neg_root_mean_squared_error', verbose=3)"
      ]
     },
     "execution_count": 26,
     "metadata": {},
     "output_type": "execute_result"
    }
   ],
   "source": [
    "lasso_model = ElasticNet(l1_ratio=1, fit_intercept=True)\n",
    "\n",
    "lasso_pipeline = Pipeline([(\"scale\", StandardScaler()), (\"regressor\", lasso_model)])\n",
    "\n",
    "lasso_model_cv = GridSearchCV(\n",
    "    lasso_model,\n",
    "    {\"alpha\": [i / 100 for i in range(10, 50, 3)]},\n",
    "    cv=5,\n",
    "    scoring=\"neg_root_mean_squared_error\",\n",
    "    verbose=3,\n",
    ")\n",
    "\n",
    "\n",
    "\n",
    "y, X = dmatrices(target_variable + \" ~ \" + \" + \".join(predictors_lasso), data_train)\n",
    "\n",
    "lasso_model_cv.fit(X, y.ravel())"
   ]
  },
  {
   "cell_type": "code",
   "execution_count": 27,
   "metadata": {},
   "outputs": [
    {
     "data": {
      "text/plain": [
       "20.51925838508274"
      ]
     },
     "execution_count": 27,
     "metadata": {},
     "output_type": "execute_result"
    }
   ],
   "source": [
    "lasso_rmse = pd.DataFrame(lasso_model_cv.cv_results_).loc[\n",
    "    lambda x: x.param_alpha == lasso_model_cv.best_estimator_.alpha\n",
    "].mean_test_score.values[0] * -1\n",
    "lasso_rmse"
   ]
  },
  {
   "cell_type": "code",
   "execution_count": 28,
   "metadata": {
    "collapsed": true
   },
   "outputs": [
    {
     "name": "stdout",
     "output_type": "stream",
     "text": [
      "Fitting 5 folds for each of 9 candidates, totalling 45 fits\n",
      "[CV 1/5] END .........min_node_size=5, mtry=8;, score=-18.928 total time=   1.0s\n",
      "[CV 2/5] END .........min_node_size=5, mtry=8;, score=-18.110 total time=   1.0s\n",
      "[CV 3/5] END .........min_node_size=5, mtry=8;, score=-17.601 total time=   1.0s\n",
      "[CV 4/5] END .........min_node_size=5, mtry=8;, score=-18.442 total time=   0.9s\n",
      "[CV 5/5] END .........min_node_size=5, mtry=8;, score=-18.488 total time=   1.0s\n",
      "[CV 1/5] END ........min_node_size=5, mtry=10;, score=-18.682 total time=   1.1s\n",
      "[CV 2/5] END ........min_node_size=5, mtry=10;, score=-18.076 total time=   1.1s\n",
      "[CV 3/5] END ........min_node_size=5, mtry=10;, score=-17.574 total time=   1.1s\n",
      "[CV 4/5] END ........min_node_size=5, mtry=10;, score=-18.329 total time=   1.1s\n",
      "[CV 5/5] END ........min_node_size=5, mtry=10;, score=-18.263 total time=   1.1s\n",
      "[CV 1/5] END ........min_node_size=5, mtry=12;, score=-18.689 total time=   1.2s\n",
      "[CV 2/5] END ........min_node_size=5, mtry=12;, score=-17.880 total time=   1.3s\n",
      "[CV 3/5] END ........min_node_size=5, mtry=12;, score=-17.439 total time=   1.3s\n",
      "[CV 4/5] END ........min_node_size=5, mtry=12;, score=-18.197 total time=   1.2s\n",
      "[CV 5/5] END ........min_node_size=5, mtry=12;, score=-18.353 total time=   1.2s\n",
      "[CV 1/5] END ........min_node_size=10, mtry=8;, score=-19.138 total time=   0.8s\n",
      "[CV 2/5] END ........min_node_size=10, mtry=8;, score=-18.410 total time=   0.8s\n",
      "[CV 3/5] END ........min_node_size=10, mtry=8;, score=-17.926 total time=   0.8s\n",
      "[CV 4/5] END ........min_node_size=10, mtry=8;, score=-18.729 total time=   0.9s\n",
      "[CV 5/5] END ........min_node_size=10, mtry=8;, score=-18.711 total time=   0.9s\n",
      "[CV 1/5] END .......min_node_size=10, mtry=10;, score=-18.995 total time=   1.0s\n",
      "[CV 2/5] END .......min_node_size=10, mtry=10;, score=-18.275 total time=   1.0s\n",
      "[CV 3/5] END .......min_node_size=10, mtry=10;, score=-17.770 total time=   1.0s\n",
      "[CV 4/5] END .......min_node_size=10, mtry=10;, score=-18.626 total time=   1.0s\n",
      "[CV 5/5] END .......min_node_size=10, mtry=10;, score=-18.627 total time=   1.0s\n",
      "[CV 1/5] END .......min_node_size=10, mtry=12;, score=-18.753 total time=   1.1s\n",
      "[CV 2/5] END .......min_node_size=10, mtry=12;, score=-18.097 total time=   1.1s\n",
      "[CV 3/5] END .......min_node_size=10, mtry=12;, score=-17.671 total time=   1.1s\n",
      "[CV 4/5] END .......min_node_size=10, mtry=12;, score=-18.651 total time=   1.1s\n",
      "[CV 5/5] END .......min_node_size=10, mtry=12;, score=-18.359 total time=   1.1s\n",
      "[CV 1/5] END ........min_node_size=15, mtry=8;, score=-19.169 total time=   0.8s\n",
      "[CV 2/5] END ........min_node_size=15, mtry=8;, score=-18.575 total time=   0.8s\n",
      "[CV 3/5] END ........min_node_size=15, mtry=8;, score=-18.002 total time=   0.8s\n",
      "[CV 4/5] END ........min_node_size=15, mtry=8;, score=-18.899 total time=   0.8s\n",
      "[CV 5/5] END ........min_node_size=15, mtry=8;, score=-18.987 total time=   0.8s\n",
      "[CV 1/5] END .......min_node_size=15, mtry=10;, score=-19.158 total time=   0.9s\n",
      "[CV 2/5] END .......min_node_size=15, mtry=10;, score=-18.427 total time=   0.9s\n",
      "[CV 3/5] END .......min_node_size=15, mtry=10;, score=-17.954 total time=   0.9s\n",
      "[CV 4/5] END .......min_node_size=15, mtry=10;, score=-18.753 total time=   0.9s\n",
      "[CV 5/5] END .......min_node_size=15, mtry=10;, score=-18.870 total time=   0.9s\n",
      "[CV 1/5] END .......min_node_size=15, mtry=12;, score=-18.951 total time=   1.0s\n",
      "[CV 2/5] END .......min_node_size=15, mtry=12;, score=-18.238 total time=   1.0s\n",
      "[CV 3/5] END .......min_node_size=15, mtry=12;, score=-17.656 total time=   1.0s\n",
      "[CV 4/5] END .......min_node_size=15, mtry=12;, score=-18.694 total time=   1.0s\n",
      "[CV 5/5] END .......min_node_size=15, mtry=12;, score=-18.660 total time=   1.0s\n"
     ]
    }
   ],
   "source": [
    "rfr = RangerForestRegressor(importance=\"impurity\",seed = 42)\n",
    "\n",
    "tune_grid = {\"mtry\": [8, 10, 12], \"min_node_size\": [5, 10, 15]}\n",
    "\n",
    "rf_random = GridSearchCV(\n",
    "    rfr,\n",
    "    tune_grid,\n",
    "    cv=5,\n",
    "    scoring=\"neg_root_mean_squared_error\",\n",
    "    verbose=3,\n",
    ")\n",
    "\n",
    "y, X = dmatrices(target_variable + \" ~ \" + \" + \".join(predictors_tree), data_train)\n",
    "\n",
    "rf_model = rf_random.fit(X,y.ravel())"
   ]
  },
  {
   "cell_type": "code",
   "execution_count": 29,
   "metadata": {},
   "outputs": [
    {
     "data": {
      "text/html": [
       "<div>\n",
       "<style scoped>\n",
       "    .dataframe tbody tr th:only-of-type {\n",
       "        vertical-align: middle;\n",
       "    }\n",
       "\n",
       "    .dataframe tbody tr th {\n",
       "        vertical-align: top;\n",
       "    }\n",
       "\n",
       "    .dataframe thead th {\n",
       "        text-align: right;\n",
       "    }\n",
       "</style>\n",
       "<table border=\"1\" class=\"dataframe\">\n",
       "  <thead>\n",
       "    <tr style=\"text-align: right;\">\n",
       "      <th>Variables</th>\n",
       "      <th>8</th>\n",
       "      <th>10</th>\n",
       "      <th>12</th>\n",
       "    </tr>\n",
       "    <tr>\n",
       "      <th>Min_nodes</th>\n",
       "      <th></th>\n",
       "      <th></th>\n",
       "      <th></th>\n",
       "    </tr>\n",
       "  </thead>\n",
       "  <tbody>\n",
       "    <tr>\n",
       "      <th>5</th>\n",
       "      <td>18.3137</td>\n",
       "      <td>18.1848</td>\n",
       "      <td>18.1117</td>\n",
       "    </tr>\n",
       "    <tr>\n",
       "      <th>10</th>\n",
       "      <td>18.5830</td>\n",
       "      <td>18.4588</td>\n",
       "      <td>18.3061</td>\n",
       "    </tr>\n",
       "    <tr>\n",
       "      <th>15</th>\n",
       "      <td>18.7264</td>\n",
       "      <td>18.6323</td>\n",
       "      <td>18.4399</td>\n",
       "    </tr>\n",
       "  </tbody>\n",
       "</table>\n",
       "</div>"
      ],
      "text/plain": [
       "Variables       8        10       12\n",
       "Min_nodes                           \n",
       "5          18.3137  18.1848  18.1117\n",
       "10         18.5830  18.4588  18.3061\n",
       "15         18.7264  18.6323  18.4399"
      ]
     },
     "execution_count": 29,
     "metadata": {},
     "output_type": "execute_result"
    }
   ],
   "source": [
    "pd.DataFrame(rf_model.cv_results_)[\n",
    "    [\"param_mtry\", \"param_min_node_size\", \"mean_test_score\"]\n",
    "].assign(\n",
    "    mean_test_score=lambda x: x[\"mean_test_score\"] * -1,\n",
    "    Variables=lambda x: x[\"param_mtry\"],\n",
    "    Min_nodes=lambda x: x[\"param_min_node_size\"],\n",
    ").pivot(\n",
    "    index=\"Min_nodes\", columns=\"Variables\", values=\"mean_test_score\"\n",
    ").round(\n",
    "    4\n",
    ")"
   ]
  },
  {
   "cell_type": "markdown",
   "metadata": {},
   "source": [
    "## XGBoost"
   ]
  },
  {
   "cell_type": "code",
   "execution_count": 30,
   "metadata": {
    "collapsed": true
   },
   "outputs": [
    {
     "name": "stdout",
     "output_type": "stream",
     "text": [
      "Fitting 5 folds for each of 9 candidates, totalling 45 fits\n",
      "[CV 1/5] END ............eta=0.1, max_depth=6;, score=-18.314 total time=   2.5s\n",
      "[CV 2/5] END ............eta=0.1, max_depth=6;, score=-17.863 total time=   2.4s\n",
      "[CV 3/5] END ............eta=0.1, max_depth=6;, score=-17.094 total time=   2.4s\n",
      "[CV 4/5] END ............eta=0.1, max_depth=6;, score=-18.701 total time=   2.4s\n",
      "[CV 5/5] END ............eta=0.1, max_depth=6;, score=-18.516 total time=   2.4s\n",
      "[CV 1/5] END ............eta=0.1, max_depth=8;, score=-18.022 total time=   3.2s\n",
      "[CV 2/5] END ............eta=0.1, max_depth=8;, score=-17.656 total time=   3.2s\n",
      "[CV 3/5] END ............eta=0.1, max_depth=8;, score=-17.426 total time=   3.3s\n",
      "[CV 4/5] END ............eta=0.1, max_depth=8;, score=-18.767 total time=   3.3s\n",
      "[CV 5/5] END ............eta=0.1, max_depth=8;, score=-17.801 total time=   3.2s\n",
      "[CV 1/5] END ...........eta=0.1, max_depth=10;, score=-18.783 total time=   4.2s\n",
      "[CV 2/5] END ...........eta=0.1, max_depth=10;, score=-17.520 total time=   5.5s\n",
      "[CV 3/5] END ...........eta=0.1, max_depth=10;, score=-17.706 total time=   6.5s\n",
      "[CV 4/5] END ...........eta=0.1, max_depth=10;, score=-18.801 total time=   7.4s\n",
      "[CV 5/5] END ...........eta=0.1, max_depth=10;, score=-17.952 total time=   5.2s\n",
      "[CV 1/5] END ............eta=0.2, max_depth=6;, score=-18.314 total time=   2.4s\n",
      "[CV 2/5] END ............eta=0.2, max_depth=6;, score=-17.812 total time=   2.3s\n",
      "[CV 3/5] END ............eta=0.2, max_depth=6;, score=-17.340 total time=   3.1s\n",
      "[CV 4/5] END ............eta=0.2, max_depth=6;, score=-18.724 total time=   3.4s\n",
      "[CV 5/5] END ............eta=0.2, max_depth=6;, score=-18.072 total time=   3.4s\n",
      "[CV 1/5] END ............eta=0.2, max_depth=8;, score=-18.264 total time=   4.8s\n",
      "[CV 2/5] END ............eta=0.2, max_depth=8;, score=-17.562 total time=   3.2s\n",
      "[CV 3/5] END ............eta=0.2, max_depth=8;, score=-17.344 total time=   3.2s\n",
      "[CV 4/5] END ............eta=0.2, max_depth=8;, score=-18.836 total time=   3.3s\n",
      "[CV 5/5] END ............eta=0.2, max_depth=8;, score=-18.078 total time=   5.4s\n",
      "[CV 1/5] END ...........eta=0.2, max_depth=10;, score=-18.940 total time=   4.3s\n",
      "[CV 2/5] END ...........eta=0.2, max_depth=10;, score=-17.976 total time=   4.5s\n",
      "[CV 3/5] END ...........eta=0.2, max_depth=10;, score=-17.700 total time=   4.2s\n",
      "[CV 4/5] END ...........eta=0.2, max_depth=10;, score=-19.054 total time=   4.2s\n",
      "[CV 5/5] END ...........eta=0.2, max_depth=10;, score=-18.028 total time=   4.2s\n",
      "[CV 1/5] END ............eta=0.3, max_depth=6;, score=-18.993 total time=   2.4s\n",
      "[CV 2/5] END ............eta=0.3, max_depth=6;, score=-18.293 total time=   2.4s\n",
      "[CV 3/5] END ............eta=0.3, max_depth=6;, score=-17.812 total time=   2.4s\n",
      "[CV 4/5] END ............eta=0.3, max_depth=6;, score=-18.776 total time=   2.4s\n",
      "[CV 5/5] END ............eta=0.3, max_depth=6;, score=-18.540 total time=   2.4s\n",
      "[CV 1/5] END ............eta=0.3, max_depth=8;, score=-19.075 total time=   3.2s\n",
      "[CV 2/5] END ............eta=0.3, max_depth=8;, score=-17.617 total time=   3.2s\n",
      "[CV 3/5] END ............eta=0.3, max_depth=8;, score=-17.454 total time=   3.2s\n",
      "[CV 4/5] END ............eta=0.3, max_depth=8;, score=-19.526 total time=   3.2s\n",
      "[CV 5/5] END ............eta=0.3, max_depth=8;, score=-18.556 total time=   3.2s\n",
      "[CV 1/5] END ...........eta=0.3, max_depth=10;, score=-18.550 total time=   4.2s\n",
      "[CV 2/5] END ...........eta=0.3, max_depth=10;, score=-17.595 total time=   4.2s\n",
      "[CV 3/5] END ...........eta=0.3, max_depth=10;, score=-17.741 total time=   4.1s\n",
      "[CV 4/5] END ...........eta=0.3, max_depth=10;, score=-19.337 total time=   4.2s\n",
      "[CV 5/5] END ...........eta=0.3, max_depth=10;, score=-17.954 total time=   4.2s\n"
     ]
    }
   ],
   "source": [
    "xgb_cv = XGBRegressor(seed = 42)\n",
    "\n",
    "tune_grid = {\"max_depth\": [6, 8, 10],\"eta\":[0.1,0.2,0.3]}\n",
    "\n",
    "xrb_cv = GridSearchCV(\n",
    "    xgb_cv,\n",
    "    tune_grid,\n",
    "    cv=5,\n",
    "    scoring=\"neg_root_mean_squared_error\",\n",
    "    verbose=3,\n",
    ")\n",
    "\n",
    "y, X = dmatrices(target_variable + \" ~ \" + \" + \".join(predictors_tree), data_train)\n",
    "\n",
    "xgb_model = xrb_cv.fit(X, y.ravel())"
   ]
  },
  {
   "cell_type": "code",
   "execution_count": 31,
   "metadata": {},
   "outputs": [
    {
     "data": {
      "text/html": [
       "<div>\n",
       "<style scoped>\n",
       "    .dataframe tbody tr th:only-of-type {\n",
       "        vertical-align: middle;\n",
       "    }\n",
       "\n",
       "    .dataframe tbody tr th {\n",
       "        vertical-align: top;\n",
       "    }\n",
       "\n",
       "    .dataframe thead th {\n",
       "        text-align: right;\n",
       "    }\n",
       "</style>\n",
       "<table border=\"1\" class=\"dataframe\">\n",
       "  <thead>\n",
       "    <tr style=\"text-align: right;\">\n",
       "      <th>Learning_rate</th>\n",
       "      <th>0.1</th>\n",
       "      <th>0.2</th>\n",
       "      <th>0.3</th>\n",
       "    </tr>\n",
       "    <tr>\n",
       "      <th>Max_Depth</th>\n",
       "      <th></th>\n",
       "      <th></th>\n",
       "      <th></th>\n",
       "    </tr>\n",
       "  </thead>\n",
       "  <tbody>\n",
       "    <tr>\n",
       "      <th>6</th>\n",
       "      <td>18.0977</td>\n",
       "      <td>18.0524</td>\n",
       "      <td>18.4825</td>\n",
       "    </tr>\n",
       "    <tr>\n",
       "      <th>8</th>\n",
       "      <td>17.9345</td>\n",
       "      <td>18.0168</td>\n",
       "      <td>18.4456</td>\n",
       "    </tr>\n",
       "    <tr>\n",
       "      <th>10</th>\n",
       "      <td>18.1524</td>\n",
       "      <td>18.3394</td>\n",
       "      <td>18.2351</td>\n",
       "    </tr>\n",
       "  </tbody>\n",
       "</table>\n",
       "</div>"
      ],
      "text/plain": [
       "Learning_rate      0.1      0.2      0.3\n",
       "Max_Depth                               \n",
       "6              18.0977  18.0524  18.4825\n",
       "8              17.9345  18.0168  18.4456\n",
       "10             18.1524  18.3394  18.2351"
      ]
     },
     "execution_count": 31,
     "metadata": {},
     "output_type": "execute_result"
    }
   ],
   "source": [
    "pd.DataFrame(xgb_model.cv_results_)[\n",
    "    [\"param_max_depth\",\"param_eta\", \"mean_test_score\"]\n",
    "].assign(\n",
    "    mean_test_score=lambda x: x[\"mean_test_score\"] * -1,\n",
    "    Max_Depth=lambda x: x[\"param_max_depth\"],\n",
    "    Learning_rate=lambda x: x[\"param_eta\"],\n",
    ").pivot(\n",
    "    index=\"Max_Depth\", columns=\"Learning_rate\", values=\"mean_test_score\"\n",
    ").round(\n",
    "    4\n",
    ")"
   ]
  },
  {
   "cell_type": "markdown",
   "metadata": {},
   "source": [
    "### Get best models from every model type"
   ]
  },
  {
   "cell_type": "code",
   "execution_count": 32,
   "metadata": {},
   "outputs": [
    {
     "data": {
      "text/html": [
       "<div>\n",
       "<style scoped>\n",
       "    .dataframe tbody tr th:only-of-type {\n",
       "        vertical-align: middle;\n",
       "    }\n",
       "\n",
       "    .dataframe tbody tr th {\n",
       "        vertical-align: top;\n",
       "    }\n",
       "\n",
       "    .dataframe thead th {\n",
       "        text-align: right;\n",
       "    }\n",
       "</style>\n",
       "<table border=\"1\" class=\"dataframe\">\n",
       "  <thead>\n",
       "    <tr style=\"text-align: right;\">\n",
       "      <th></th>\n",
       "      <th>RMSE</th>\n",
       "    </tr>\n",
       "  </thead>\n",
       "  <tbody>\n",
       "    <tr>\n",
       "      <th>Reference OLS</th>\n",
       "      <td>19.55</td>\n",
       "    </tr>\n",
       "    <tr>\n",
       "      <th>Lasso CV</th>\n",
       "      <td>20.52</td>\n",
       "    </tr>\n",
       "    <tr>\n",
       "      <th>Random Forest CV</th>\n",
       "      <td>18.11</td>\n",
       "    </tr>\n",
       "    <tr>\n",
       "      <th>XGBoost CV</th>\n",
       "      <td>17.93</td>\n",
       "    </tr>\n",
       "  </tbody>\n",
       "</table>\n",
       "</div>"
      ],
      "text/plain": [
       "                   RMSE\n",
       "Reference OLS     19.55\n",
       "Lasso CV          20.52\n",
       "Random Forest CV  18.11\n",
       "XGBoost CV        17.93"
      ]
     },
     "execution_count": 32,
     "metadata": {},
     "output_type": "execute_result"
    }
   ],
   "source": [
    "pd.DataFrame(\n",
    "    {\n",
    "        \"RMSE\": [\n",
    "            ols_rmse,\n",
    "            lasso_rmse,\n",
    "            rf_model.cv_results_[\"mean_test_score\"].max() *-1,\n",
    "            xgb_model.cv_results_[\"mean_test_score\"].max()*-1,\n",
    "        ]\n",
    "    },\n",
    "    [\"Reference OLS\", \"Lasso CV\", \"Random Forest CV\", \"XGBoost CV\"],\n",
    ").round(2)"
   ]
  },
  {
   "cell_type": "markdown",
   "metadata": {},
   "source": [
    "## Part III fit final model"
   ]
  },
  {
   "cell_type": "markdown",
   "metadata": {},
   "source": [
    "Now, train the chosen XGB model, on the whole train test!"
   ]
  },
  {
   "cell_type": "code",
   "execution_count": 23,
   "metadata": {},
   "outputs": [],
   "source": [
    "#final_model = Pipeline([(\"scale\", StandardScaler()), (\"regressor\", xgb_model.best_estimator_)])\n",
    "final_model = Pipeline([(\"scale\", StandardScaler()), (\"regressor\", XGBRegressor(max_depth = 8, eta = 0.1))])"
   ]
  },
  {
   "cell_type": "code",
   "execution_count": 24,
   "metadata": {},
   "outputs": [
    {
     "name": "stdout",
     "output_type": "stream",
     "text": [
      "Final model train rmse: 8.07370570463492\n",
      "Final model test rmse: 81.60433837002562\n"
     ]
    }
   ],
   "source": [
    "y, X = dmatrices(target_variable + \" ~ \" + \" + \".join(predictors_tree), data_train)\n",
    "\n",
    "xgb_final_fit = final_model.fit(X,y.ravel())\n",
    "\n",
    "\n",
    "y_hat = xgb_final_fit.predict(X)\n",
    "\n",
    "rf_rmse_train = mean_squared_error(y,y_hat,squared=False)\n",
    "residual_std = np.std(y-y_hat)\n",
    "\n",
    "print(\"Final model train rmse: \"+str(rf_rmse_train))\n",
    "\n",
    "y_hold, X_hold = dmatrices(target_variable + \" ~ \" + \" + \".join(predictors_tree), data_holdout)\n",
    "\n",
    "y_hat_test = xgb_final_fit.predict(X_hold)\n",
    "\n",
    "rf_rmse_test = mean_squared_error(y_hold,y_hat_test,squared=False)\n",
    "print(\"Final model test rmse: \"+ str(rf_rmse_test))"
   ]
  },
  {
   "cell_type": "code",
   "execution_count": 25,
   "metadata": {},
   "outputs": [
    {
     "data": {
      "image/png": "[encoded data removed]",
      "text/plain": [
       "<Figure size 360x360 with 1 Axes>"
      ]
     },
     "metadata": {
      "needs_background": "light"
     },
     "output_type": "display_data"
    }
   ],
   "source": [
    "plot_pred_true_scatter(y,y_hat,title='XGBoost CV on train set')"
   ]
  },
  {
   "cell_type": "code",
   "execution_count": 26,
   "metadata": {},
   "outputs": [
    {
     "data": {
      "image/png": "[encoded data removed]",
      "text/plain": [
       "<Figure size 360x360 with 1 Axes>"
      ]
     },
     "metadata": {
      "needs_background": "light"
     },
     "output_type": "display_data"
    }
   ],
   "source": [
    "plot_pred_true_scatter(y_hold,y_hat_test,title='XGBoost CV on test set')"
   ]
  },
  {
   "cell_type": "code",
   "execution_count": 27,
   "metadata": {},
   "outputs": [
    {
     "name": "stdout",
     "output_type": "stream",
     "text": [
      "Final model truncated test rmse: 17.133610103688568\n"
     ]
    },
    {
     "data": {
      "image/png": "[encoded data removed]",
      "text/plain": [
       "<Figure size 360x360 with 1 Axes>"
      ]
     },
     "metadata": {
      "needs_background": "light"
     },
     "output_type": "display_data"
    }
   ],
   "source": [
    "y_hold, X_hold = dmatrices(\n",
    "    target_variable + \" ~ \" + \" + \".join(predictors_tree),\n",
    "    data_holdout.loc[lambda x: x[\"price\"] < 190],\n",
    ")\n",
    "\n",
    "y_hat_test = xgb_final_fit.predict(X_hold)\n",
    "\n",
    "rf_rmse_test = mean_squared_error(y_hold, y_hat_test, squared=False)\n",
    "print(\"Final model truncated test rmse: \" + str(rf_rmse_test))\n",
    "plot_pred_true_scatter(\n",
    "    y_hold, y_hat_test, title=\"XGBoost CV on truncated test set\"\n",
    ")"
   ]
  },
  {
   "cell_type": "markdown",
   "metadata": {},
   "source": [
    "## PART III\n",
    "### MODEL DIAGNOSTICS \n",
    "---"
   ]
  },
  {
   "cell_type": "code",
   "execution_count": 28,
   "metadata": {},
   "outputs": [],
   "source": [
    "final_model_var_imp_df = (\n",
    "    pd.DataFrame(final_model.steps[1][1].feature_importances_, X.design_info.column_names)\n",
    "    .reset_index()\n",
    "    .rename({\"index\": \"varname\", 0: \"imp\"}, axis=1)\n",
    "    .assign(imp_percentage=lambda x: x[\"imp\"] / x[\"imp\"].sum())\n",
    "    .sort_values(by=[\"imp\"], ascending=False)\n",
    ")"
   ]
  },
  {
   "cell_type": "markdown",
   "metadata": {},
   "source": [
    "**1) full varimp plot, above a cutoff**"
   ]
  },
  {
   "cell_type": "code",
   "execution_count": 29,
   "metadata": {},
   "outputs": [
    {
     "data": {
      "image/png": "[encoded data removed]",
      "text/plain": [
       "<Figure size 640x480 with 1 Axes>"
      ]
     },
     "metadata": {},
     "output_type": "display_data"
    },
    {
     "data": {
      "text/plain": [
       "<ggplot: (303766396)>"
      ]
     },
     "execution_count": 29,
     "metadata": {},
     "output_type": "execute_result"
    }
   ],
   "source": [
    "ggplot(\n",
    "    final_model_var_imp_df.loc[lambda x: x[\"imp_percentage\"]>0.01],\n",
    "    aes(x=\"reorder(varname, imp)\", y=\"imp_percentage\"),\n",
    ") + geom_point(size=1.5) + geom_segment(\n",
    "    aes(x=\"varname\", xend=\"varname\", y=0, yend=\"imp_percentage\"), size=1\n",
    ") + ylab(\n",
    "    \"Importance (Percent)\"\n",
    ") + xlab(\n",
    "    \"Variable Name\"\n",
    ") + coord_flip() + scale_y_continuous(\n",
    "    labels=percent_format()\n",
    ") + theme_bw()"
   ]
  },
  {
   "cell_type": "markdown",
   "metadata": {},
   "source": [
    "**2) full varimp plot, top 10 only**"
   ]
  },
  {
   "cell_type": "code",
   "execution_count": 30,
   "metadata": {},
   "outputs": [
    {
     "data": {
      "image/png": "[encoded data removed]",
      "text/plain": [
       "<Figure size 640x480 with 1 Axes>"
      ]
     },
     "metadata": {},
     "output_type": "display_data"
    },
    {
     "data": {
      "text/plain": [
       "<ggplot: (303853939)>"
      ]
     },
     "execution_count": 30,
     "metadata": {},
     "output_type": "execute_result"
    }
   ],
   "source": [
    "ggplot(\n",
    "    final_model_var_imp_df.iloc[:10, :],\n",
    "    aes(x=\"reorder(varname, imp)\", y=\"imp_percentage\"),\n",
    ") + geom_point(size=1.5) + geom_segment(\n",
    "    aes(x=\"varname\", xend=\"varname\", y=0, yend=\"imp_percentage\"), size=1\n",
    ") + ylab(\n",
    "    \"Importance (Percent)\"\n",
    ") + xlab(\n",
    "    \"Variable Name\"\n",
    ") + coord_flip() + scale_y_continuous(\n",
    "    labels=percent_format()\n",
    ") + theme_bw()"
   ]
  },
  {
   "cell_type": "markdown",
   "metadata": {},
   "source": [
    "**3) grouped variable importance - keep binaries created off factors together**"
   ]
  },
  {
   "cell_type": "code",
   "execution_count": 58,
   "metadata": {},
   "outputs": [
    {
     "data": {
      "text/plain": [
       "Pipeline(steps=[('preprocess',\n",
       "                 ColumnTransformer(transformers=[('cat',\n",
       "                                                  OneHotEncoder(handle_unknown='ignore'),\n",
       "                                                  ['f_property_type',\n",
       "                                                   'f_neighbourhood_cleansed']),\n",
       "                                                 ('num', 'passthrough',\n",
       "                                                  ['n_bathrooms',\n",
       "                                                   'n_accommodates',\n",
       "                                                   'n_review_scores_rating',\n",
       "                                                   'n_number_of_reviews',\n",
       "                                                   'n_reviews_per_month',\n",
       "                                                   'n_minimum_nights', 'n_beds',\n",
       "                                                   'n_maximum_nights',\n",
       "                                                   'n_days_since',\n",
       "                                                   'd_aircond...\n",
       "                                               importance_type=None,\n",
       "                                               interaction_constraints='',\n",
       "                                               learning_rate=0.100000001,\n",
       "                                               max_delta_step=0, max_depth=8,\n",
       "                                               min_child_weight=1, missing=nan,\n",
       "                                               monotone_constraints='()',\n",
       "                                               n_estimators=100, n_jobs=4,\n",
       "                                               num_parallel_tree=1,\n",
       "                                               predictor='auto', random_state=0,\n",
       "                                               reg_alpha=0, reg_lambda=1,\n",
       "                                               scale_pos_weight=1, subsample=1,\n",
       "                                               tree_method='exact',\n",
       "                                               validate_parameters=1,\n",
       "                                               verbosity=None))]))])"
      ]
     },
     "execution_count": 58,
     "metadata": {},
     "output_type": "execute_result"
    }
   ],
   "source": [
    "categorical_columns = [col for col in predictors_tree if col.startswith(\"f_\")]\n",
    "numerical_columns = [col for col in predictors_tree if col not in categorical_columns]\n",
    "\n",
    "categorical_encoder = OneHotEncoder(handle_unknown=\"ignore\")\n",
    "\n",
    "preprocessing = ColumnTransformer(\n",
    "    [\n",
    "        (\"cat\", categorical_encoder, categorical_columns),\n",
    "        (\"num\", \"passthrough\", numerical_columns),\n",
    "    ]\n",
    ")\n",
    "\n",
    "final_pipeline = Pipeline(\n",
    "    [(\"preprocess\", preprocessing), (\"regressor\", xgb_final_fit)]\n",
    ")\n",
    "\n",
    "final_pipeline.fit(data_train[predictors_tree],data_train[target_variable])"
   ]
  },
  {
   "cell_type": "code",
   "execution_count": 59,
   "metadata": {},
   "outputs": [],
   "source": [
    "# this takes a while to run\n",
    "result = permutation_importance(\n",
    "    final_pipeline,\n",
    "    data_holdout[predictors_tree],\n",
    "    data_holdout[target_variable],\n",
    "    n_repeats=10,\n",
    "    random_state=45,\n",
    ")"
   ]
  },
  {
   "cell_type": "code",
   "execution_count": 60,
   "metadata": {},
   "outputs": [
    {
     "data": {
      "text/plain": [
       "['f_property_type', 'f_neighbourhood_cleansed']"
      ]
     },
     "execution_count": 60,
     "metadata": {},
     "output_type": "execute_result"
    }
   ],
   "source": [
    "categorical_columns"
   ]
  },
  {
   "cell_type": "code",
   "execution_count": 61,
   "metadata": {},
   "outputs": [],
   "source": [
    "grouped_imp = (\n",
    "    pd.DataFrame(\n",
    "        result.importances_mean,\n",
    "        data_train[predictors_tree].columns,\n",
    "    )\n",
    "    .reset_index()\n",
    "    .rename({\"index\": \"varname\", 0: \"imp\"}, axis=1)\n",
    "    .assign(imp_percentage=lambda x: x[\"imp\"] / x[\"imp\"].sum())\n",
    "    .sort_values(by=[\"imp\"], ascending=False)\n",
    "    .head(10)\n",
    ")"
   ]
  },
  {
   "cell_type": "code",
   "execution_count": 74,
   "metadata": {},
   "outputs": [
    {
     "data": {
      "image/png": "[encoded data removed]",
      "text/plain": [
       "<Figure size 640x480 with 1 Axes>"
      ]
     },
     "metadata": {},
     "output_type": "display_data"
    },
    {
     "data": {
      "text/plain": [
       "<ggplot: (304406565)>"
      ]
     },
     "execution_count": 74,
     "metadata": {},
     "output_type": "execute_result"
    }
   ],
   "source": [
    "varimp_p = ggplot(grouped_imp, aes(x=\"reorder(varname, imp)\", y=\"imp_percentage\")\n",
    ") + geom_point(size=1.5, color = \"#1f77b4\"\n",
    ") + geom_segment(\n",
    "    aes(x=\"varname\", xend=\"varname\", y=0, yend=\"imp_percentage\"), size=1, color = \"#1f77b4\"\n",
    ") + ggtitle(\"Variable importance \\n calculated from permutation importance on the holdout set\"\n",
    ") + ylab(\n",
    "    \"Importance (Percent)\"\n",
    ") + xlab(\n",
    "    \"Variable Name\"\n",
    ") + coord_flip() + scale_y_continuous(\n",
    "    labels=percent_format()\n",
    ") + theme_bw(\n",
    ")\n",
    "ggsave(varimp_p,filename='../figures/varimp.eps', dpi=1000)\n",
    "varimp_p"
   ]
  },
  {
   "cell_type": "markdown",
   "metadata": {},
   "source": [
    "## Partial Dependence Plots \n",
    "-------------------------------------------------------\n"
   ]
  },
  {
   "cell_type": "markdown",
   "metadata": {},
   "source": [
    "1. Bathrooms"
   ]
  },
  {
   "cell_type": "code",
   "execution_count": 83,
   "metadata": {},
   "outputs": [],
   "source": [
    "bath_pdp = partial_dependence(\n",
    "    final_pipeline.fit(data_train[predictors_tree],data_train[target_variable]),\n",
    "    data_holdout[predictors_tree].assign(\n",
    "        n_bathrooms=lambda x: x[\"n_bathrooms\"].astype(int)\n",
    "    ),\n",
    "    [\"n_bathrooms\"],\n",
    "    kind=\"average\",\n",
    ")\n",
    "\n",
    "bath_pdp = (\n",
    "    pd.DataFrame(bath_pdp[\"average\"], columns=bath_pdp[\"values\"][0].tolist())\n",
    "    .T.reset_index()\n",
    "    .rename({0: \"Predicted price\", \"index\": \"Bathrooms\"}, axis=1)\n",
    ")\n",
    "\n",
    "\n",
    "n_bootstrap = 150\n",
    "\n",
    "bathrooms = bath_pdp[\"Bathrooms\"].tolist()\n",
    "expected_value_bootstrap_replications = []\n",
    "for _ in range(n_bootstrap):\n",
    "    X_boot, y_boot = resample(\n",
    "        data_holdout[predictors_tree].assign(\n",
    "            n_bathrooms=lambda x: x[\"n_bathrooms\"].astype(int)\n",
    "        ),\n",
    "        data_holdout[target_variable],\n",
    "    )\n",
    "\n",
    "    final_booted = final_pipeline.fit(X_boot, y_boot)\n",
    "\n",
    "    expected_value_bootstrap_replications.append(\n",
    "        partial_dependence(final_booted, X_boot, [\"n_bathrooms\"], kind=\"average\")[\n",
    "            \"average\"\n",
    "        ][0]\n",
    "    )\n",
    "\n",
    "bath_pdp[\"prediction_se\"] = (\n",
    "    pd.DataFrame(expected_value_bootstrap_replications).dropna().std(axis=0).tolist()\n",
    ")"
   ]
  },
  {
   "cell_type": "markdown",
   "metadata": {},
   "source": [
    "2. n of accomodates"
   ]
  },
  {
   "cell_type": "code",
   "execution_count": 37,
   "metadata": {},
   "outputs": [],
   "source": [
    "accom_pdp = partial_dependence(\n",
    "    final_pipeline, data_holdout[predictors_tree], [\"n_accommodates\"], kind=\"average\"\n",
    ")\n",
    "\n",
    "accom_pdp = (\n",
    "    pd.DataFrame(accom_pdp[\"average\"], columns=accom_pdp[\"values\"][0].tolist())\n",
    "    .T.reset_index()\n",
    "    .rename({0: \"Predicted price\", \"index\": \"Accomodates (person)\"}, axis=1)\n",
    ")\n",
    "\n",
    "\n",
    "n_bootstrap = 50\n",
    "\n",
    "accomodates = accom_pdp[\"Accomodates (person)\"].tolist()\n",
    "expected_value_bootstrap_replications = []\n",
    "for _ in range(n_bootstrap):\n",
    "    X_boot, y_boot = resample(\n",
    "        data_holdout[predictors_tree], data_holdout[target_variable]\n",
    "    )\n",
    "\n",
    "    final_booted = final_pipeline.fit(X_boot, y_boot)\n",
    "\n",
    "    expected_value_bootstrap_replications.append(\n",
    "        partial_dependence(final_booted, X_boot, [\"n_accommodates\"], kind=\"average\")[\n",
    "            \"average\"\n",
    "        ][0]\n",
    "    )\n",
    "\n",
    "\n",
    "accom_pdp[\"prediction_se\"] = np.std(expected_value_bootstrap_replications, axis=0)[0]"
   ]
  },
  {
   "cell_type": "markdown",
   "metadata": {},
   "source": [
    "plot"
   ]
  },
  {
   "cell_type": "code",
   "execution_count": 82,
   "metadata": {},
   "outputs": [
    {
     "data": {
      "image/png": "[encoded data removed]",
      "text/plain": [
       "<Figure size 864x360 with 2 Axes>"
      ]
     },
     "metadata": {
      "needs_background": "light"
     },
     "output_type": "display_data"
    }
   ],
   "source": [
    "fig, (ax1, ax2) = plt.subplots(1, 2,sharey=False,figsize=(12,5))\n",
    "fig.suptitle('Partial dependence plots – bootstrapped 95% confidence intervalls')\n",
    "\n",
    "\n",
    "ax1.plot(bathrooms, bath_pdp[\"Predicted price\"], marker=\"o\")\n",
    "ax1.fill_between(\n",
    "    bathrooms,\n",
    "    bath_pdp[\"Predicted price\"] - 1.96 * bath_pdp[\"prediction_se\"],\n",
    "    bath_pdp[\"Predicted price\"] + 1.96 * bath_pdp[\"prediction_se\"],\n",
    "    alpha=0.5,\n",
    "    label=\"Bootstrap 95%CI\",\n",
    ")\n",
    "ax1.set_xlabel(\"Bathrooms\")\n",
    "ax1.grid()\n",
    "ax1.set_yticks([i*10 for i in range(2,9)])\n",
    "ax1.set_xticks(bathrooms)\n",
    "\n",
    "\n",
    "ax2.plot(accomodates, accom_pdp[\"Predicted price\"], marker=\"o\")\n",
    "ax2.fill_between(\n",
    "    accomodates,\n",
    "    accom_pdp[\"Predicted price\"] - 1.96 * accom_pdp[\"prediction_se\"],\n",
    "    accom_pdp[\"Predicted price\"] + 1.96 * accom_pdp[\"prediction_se\"],\n",
    "    alpha=0.5,\n",
    "    label=\"Bootstrap 95%CI\",\n",
    ")\n",
    "ax2.set_ylabel(\"Predicted price (EUR)\")\n",
    "ax2.set_xlabel(\"Accomodates\")\n",
    "ax2.grid()\n",
    "ax2.set_xticks(accomodates)\n",
    "ax2.set_yticks([i*10 for i in range(2,9)])\n",
    "\n",
    "\n",
    "\n",
    "\n",
    "plt.savefig(\"../figures/PDP_plot.png\")\n",
    "plt.show()\n"
   ]
  },
  {
   "cell_type": "markdown",
   "metadata": {},
   "source": [
    "### Subsample performance: RMSE / mean(y) \n",
    "---------------------------------------\n",
    "NOTE  we do this on the holdout set.\n"
   ]
  },
  {
   "cell_type": "code",
   "execution_count": 92,
   "metadata": {},
   "outputs": [],
   "source": [
    "data_holdout_w_prediction = data_holdout.assign(\n",
    "    predicted_price=final_pipeline.predict(data_holdout[predictors_tree])\n",
    ")"
   ]
  },
  {
   "cell_type": "markdown",
   "metadata": {},
   "source": [
    "create nice summary table of heterogeneity"
   ]
  },
  {
   "cell_type": "code",
   "execution_count": 93,
   "metadata": {},
   "outputs": [],
   "source": [
    "from sklearn.metrics import mean_squared_error\n",
    "\n",
    "\n",
    "def calculate_rmse(groupby_obj):\n",
    "    return (\n",
    "        groupby_obj.apply(\n",
    "            lambda x: mean_squared_error(x.predicted_price, x.price, squared=False),\n",
    "        )\n",
    "        .to_frame(name=\"rmse\")\n",
    "        .assign(mean_price=groupby_obj.apply(lambda x: np.mean(x.price)).values)\n",
    "        .assign(rmse_norm=lambda x: x.rmse / x.mean_price).round(2)\n",
    "    )"
   ]
  },
  {
   "cell_type": "code",
   "execution_count": 94,
   "metadata": {},
   "outputs": [],
   "source": [
    "grouped_object = data_holdout_w_prediction.assign(\n",
    "    is_low_size=lambda x: np.where(x.n_accommodates <= 3, \"Size <= 3\", \"Size > 3\")\n",
    ").groupby(\"is_low_size\")\n",
    "accom_subset = calculate_rmse(grouped_object)"
   ]
  },
  {
   "cell_type": "code",
   "execution_count": 95,
   "metadata": {},
   "outputs": [],
   "source": [
    "grouped_object = data_holdout_w_prediction.groupby(\"f_property_type\")\n",
    "proptype_subset = calculate_rmse(grouped_object)"
   ]
  },
  {
   "cell_type": "code",
   "execution_count": 96,
   "metadata": {},
   "outputs": [],
   "source": [
    "grouped_object = data_holdout_w_prediction.loc[\n",
    "    lambda x: x.f_neighbourhood_cleansed.isin(\n",
    "        data.f_neighbourhood_cleansed.value_counts().head(10).index.tolist()\n",
    "    )\n",
    "].groupby(\"f_neighbourhood_cleansed\")\n",
    "neightbourhood_subset = calculate_rmse(grouped_object)"
   ]
  },
  {
   "cell_type": "code",
   "execution_count": 97,
   "metadata": {},
   "outputs": [],
   "source": [
    "all_holdout = pd.DataFrame(\n",
    "    [\n",
    "        mean_squared_error(\n",
    "            data_holdout_w_prediction.price,\n",
    "            data_holdout_w_prediction.predicted_price,\n",
    "            squared=False,\n",
    "        ),\n",
    "        data_holdout_w_prediction.price.mean(),\n",
    "    ],\n",
    "    index=[\"rmse\", \"mean_price\"],\n",
    ").T.assign(rmse_norm=lambda x: x.rmse / x.mean_price)\n",
    "all_holdout.index = [\"All\"]"
   ]
  },
  {
   "cell_type": "code",
   "execution_count": 98,
   "metadata": {},
   "outputs": [],
   "source": [
    "type_rows = pd.DataFrame(\n",
    "    None,\n",
    "    index=[\"Apartment size\", \"Property type\",\"Borough\"],\n",
    "    columns=[\"rmse\", \"mean_price\", \"rmse_norm\"],\n",
    ").fillna(\"\")"
   ]
  },
  {
   "cell_type": "code",
   "execution_count": 99,
   "metadata": {},
   "outputs": [
    {
     "data": {
      "text/html": [
       "<div>\n",
       "<style scoped>\n",
       "    .dataframe tbody tr th:only-of-type {\n",
       "        vertical-align: middle;\n",
       "    }\n",
       "\n",
       "    .dataframe tbody tr th {\n",
       "        vertical-align: top;\n",
       "    }\n",
       "\n",
       "    .dataframe thead th {\n",
       "        text-align: right;\n",
       "    }\n",
       "</style>\n",
       "<table border=\"1\" class=\"dataframe\">\n",
       "  <thead>\n",
       "    <tr style=\"text-align: right;\">\n",
       "      <th></th>\n",
       "      <th>RMSE</th>\n",
       "      <th>Mean price</th>\n",
       "      <th>Norm. RMSE</th>\n",
       "    </tr>\n",
       "  </thead>\n",
       "  <tbody>\n",
       "    <tr>\n",
       "      <th>Apartment size</th>\n",
       "      <td></td>\n",
       "      <td></td>\n",
       "      <td></td>\n",
       "    </tr>\n",
       "    <tr>\n",
       "      <th>Size &gt; 3</th>\n",
       "      <td>79.53</td>\n",
       "      <td>57.71</td>\n",
       "      <td>1.38</td>\n",
       "    </tr>\n",
       "    <tr>\n",
       "      <th>Size &lt;= 3</th>\n",
       "      <td>65.8</td>\n",
       "      <td>36.06</td>\n",
       "      <td>1.82</td>\n",
       "    </tr>\n",
       "    <tr>\n",
       "      <th>Property type</th>\n",
       "      <td></td>\n",
       "      <td></td>\n",
       "      <td></td>\n",
       "    </tr>\n",
       "    <tr>\n",
       "      <th>Entire serviced apartment</th>\n",
       "      <td>34.92</td>\n",
       "      <td>80.61</td>\n",
       "      <td>0.43</td>\n",
       "    </tr>\n",
       "    <tr>\n",
       "      <th>Entire rental unit</th>\n",
       "      <td>52.83</td>\n",
       "      <td>40.58</td>\n",
       "      <td>1.3</td>\n",
       "    </tr>\n",
       "    <tr>\n",
       "      <th>Entire condominium (condo)</th>\n",
       "      <td>88.92</td>\n",
       "      <td>40.74</td>\n",
       "      <td>2.18</td>\n",
       "    </tr>\n",
       "    <tr>\n",
       "      <th>Borough</th>\n",
       "      <td></td>\n",
       "      <td></td>\n",
       "      <td></td>\n",
       "    </tr>\n",
       "    <tr>\n",
       "      <th>Sathon</th>\n",
       "      <td>14.72</td>\n",
       "      <td>42.14</td>\n",
       "      <td>0.35</td>\n",
       "    </tr>\n",
       "    <tr>\n",
       "      <th>Khlong Toei</th>\n",
       "      <td>14.09</td>\n",
       "      <td>34.11</td>\n",
       "      <td>0.41</td>\n",
       "    </tr>\n",
       "    <tr>\n",
       "      <th>Vadhana</th>\n",
       "      <td>20.68</td>\n",
       "      <td>44.49</td>\n",
       "      <td>0.46</td>\n",
       "    </tr>\n",
       "    <tr>\n",
       "      <th>Huai Khwang</th>\n",
       "      <td>23.67</td>\n",
       "      <td>34.99</td>\n",
       "      <td>0.68</td>\n",
       "    </tr>\n",
       "    <tr>\n",
       "      <th>Phra Khanong</th>\n",
       "      <td>22.46</td>\n",
       "      <td>31.94</td>\n",
       "      <td>0.7</td>\n",
       "    </tr>\n",
       "    <tr>\n",
       "      <th>Bang Na</th>\n",
       "      <td>23.99</td>\n",
       "      <td>30.65</td>\n",
       "      <td>0.78</td>\n",
       "    </tr>\n",
       "    <tr>\n",
       "      <th>Other</th>\n",
       "      <td>36.15</td>\n",
       "      <td>34.4</td>\n",
       "      <td>1.05</td>\n",
       "    </tr>\n",
       "    <tr>\n",
       "      <th>Din Daeng</th>\n",
       "      <td>66.13</td>\n",
       "      <td>54.47</td>\n",
       "      <td>1.21</td>\n",
       "    </tr>\n",
       "    <tr>\n",
       "      <th>Bang Rak</th>\n",
       "      <td>279.26</td>\n",
       "      <td>121.76</td>\n",
       "      <td>2.29</td>\n",
       "    </tr>\n",
       "    <tr>\n",
       "      <th>Ratchathewi</th>\n",
       "      <td>133.25</td>\n",
       "      <td>57.47</td>\n",
       "      <td>2.32</td>\n",
       "    </tr>\n",
       "    <tr>\n",
       "      <th>All</th>\n",
       "      <td>70.16</td>\n",
       "      <td>42.5</td>\n",
       "      <td>1.65</td>\n",
       "    </tr>\n",
       "  </tbody>\n",
       "</table>\n",
       "</div>"
      ],
      "text/plain": [
       "                              RMSE Mean price Norm. RMSE\n",
       "Apartment size                                          \n",
       "Size > 3                     79.53      57.71       1.38\n",
       "Size <= 3                     65.8      36.06       1.82\n",
       "Property type                                           \n",
       "Entire serviced apartment    34.92      80.61       0.43\n",
       "Entire rental unit           52.83      40.58        1.3\n",
       "Entire condominium (condo)   88.92      40.74       2.18\n",
       "Borough                                                 \n",
       "Sathon                       14.72      42.14       0.35\n",
       "Khlong Toei                  14.09      34.11       0.41\n",
       "Vadhana                      20.68      44.49       0.46\n",
       "Huai Khwang                  23.67      34.99       0.68\n",
       "Phra Khanong                 22.46      31.94        0.7\n",
       "Bang Na                      23.99      30.65       0.78\n",
       "Other                        36.15       34.4       1.05\n",
       "Din Daeng                    66.13      54.47       1.21\n",
       "Bang Rak                    279.26     121.76       2.29\n",
       "Ratchathewi                 133.25      57.47       2.32\n",
       "All                          70.16       42.5       1.65"
      ]
     },
     "execution_count": 99,
     "metadata": {},
     "output_type": "execute_result"
    }
   ],
   "source": [
    "pd.concat(\n",
    "    [\n",
    "        type_rows.iloc[[0]],\n",
    "        accom_subset.sort_values(by=\"rmse_norm\"),\n",
    "        type_rows.iloc[[1]],\n",
    "        proptype_subset.sort_values(by=[\"rmse_norm\"]),\n",
    "        type_rows.iloc[[2]],\n",
    "        neightbourhood_subset.sort_values(by=\"rmse_norm\"),\n",
    "        all_holdout.round(2),\n",
    "    ]\n",
    ").rename(columns={\"rmse\":\"RMSE\",\"mean_price\":\"Mean price\",\"rmse_norm\":\"Norm. RMSE\"})"
   ]
  },
  {
   "cell_type": "code",
   "execution_count": null,
   "metadata": {},
   "outputs": [],
   "source": []
  },
  {
   "cell_type": "code",
   "execution_count": null,
   "metadata": {},
   "outputs": [],
   "source": []
  }
 ],
 "metadata": {
  "kernelspec": {
   "display_name": "Python 3 (ipykernel)",
   "language": "python",
   "name": "python3"
  },
  "language_info": {
   "codemirror_mode": {
    "name": "ipython",
    "version": 3
   },
   "file_extension": ".py",
   "mimetype": "text/x-python",
   "name": "python",
   "nbconvert_exporter": "python",
   "pygments_lexer": "ipython3",
   "version": "3.9.7"
  }
 },
 "nbformat": 4,
 "nbformat_minor": 4
}
