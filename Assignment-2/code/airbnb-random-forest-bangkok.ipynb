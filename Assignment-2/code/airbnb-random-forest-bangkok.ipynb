{
 "cells": [
  {
   "cell_type": "markdown",
   "metadata": {},
   "source": [
    "#### Prepared for Gabor's Data Analysis\n",
    "\n",
    "### Data Analysis for Business, Economics, and Policy\n",
    "by Gabor Bekes and Gabor Kezdi\n",
    " \n",
    "Cambridge University Press 2021\n",
    "\n",
    "**[gabors-data-analysis.com ](https://gabors-data-analysis.com/)**\n",
    "\n",
    " License: Free to share, modify and use for educational purposes. \n",
    " Not to be used for commercial purposes.\n",
    "\n",
    "### Chapter 16\n",
    "**CH16A Predicting apartment prices with random forest**\n",
    "\n",
    "using the airbnb dataset\n",
    "\n",
    "version 0.92 2021-07-05"
   ]
  },
  {
   "cell_type": "code",
   "execution_count": 68,
   "metadata": {},
   "outputs": [],
   "source": [
    "import pandas as pd\n",
    "import numpy as np\n",
    "\n",
    "from plotnine import *\n",
    "import matplotlib.pyplot as plt\n",
    "from mizani.formatters import percent_format\n",
    "import warnings\n",
    "\n",
    "warnings.filterwarnings(\"ignore\")\n",
    "\n",
    "from patsy import dmatrices\n",
    "from sklearn.model_selection import train_test_split\n",
    "from skranger.ensemble import RangerForestRegressor\n",
    "from xgboost import XGBRegressor\n",
    "from sklearn.linear_model import LinearRegression\n",
    "from sklearn.compose import TransformedTargetRegressor\n",
    "from sklearn.preprocessing import StandardScaler\n",
    "from sklearn.ensemble import RandomForestRegressor\n",
    "from sklearn.linear_model import ElasticNet\n",
    "from sklearn.metrics import mean_squared_error\n",
    "from sklearn.model_selection import GridSearchCV\n",
    "from sklearn.inspection import permutation_importance\n",
    "from sklearn.inspection import plot_partial_dependence\n",
    "from sklearn.inspection import partial_dependence\n",
    "from sklearn.utils import resample\n",
    "from sklearn.compose import ColumnTransformer\n",
    "from sklearn.pipeline import Pipeline\n",
    "from sklearn.preprocessing import OneHotEncoder"
   ]
  },
  {
   "cell_type": "code",
   "execution_count": 2,
   "metadata": {},
   "outputs": [],
   "source": [
    "def plot_pred_true_scatter(true_price,predicted_price,title=\"asd\"):\n",
    "    fig, ax = plt.subplots(figsize=(5,5))\n",
    "    plt.scatter(true_price, predicted_price)\n",
    "    lims = [\n",
    "        np.min([ax.get_xlim(), ax.get_ylim()]),  # min of both axes\n",
    "        np.max([ax.get_xlim(), ax.get_ylim()]),  # max of both axes\n",
    "    ]\n",
    "    \n",
    "    # now plot both limits against eachother\n",
    "    ax.plot(lims, lims, 'k-', alpha=0.75, zorder=0)\n",
    "    ax.set_aspect('equal')\n",
    "    ax.set_xlim(lims)\n",
    "    ax.set_ylim(lims)\n",
    "    plt.xlabel(\"True price\")\n",
    "    plt.ylabel(\"Predicted price\")\n",
    "    plt.title(title)\n",
    "    plt.show()\n",
    "    \n",
    "def corr_pred(array):\n",
    "    return np.exp(array)*np.exp(residual_std)"
   ]
  },
  {
   "cell_type": "markdown",
   "metadata": {},
   "source": [
    "## PART I\n",
    "### Loading and preparing data \n",
    "----------------------------------------------"
   ]
  },
  {
   "cell_type": "code",
   "execution_count": 35,
   "metadata": {},
   "outputs": [],
   "source": [
    "area = \"bangkok\"\n",
    "data = pd.read_csv(\"../data/airbnb_\" + area + \"_workfile_all_am.csv\")\n",
    "data = data.loc[data.price.notna(), :]"
   ]
  },
  {
   "cell_type": "code",
   "execution_count": 36,
   "metadata": {},
   "outputs": [
    {
     "data": {
      "text/plain": [
       "0"
      ]
     },
     "execution_count": 36,
     "metadata": {},
     "output_type": "execute_result"
    }
   ],
   "source": [
    "data.isnull().sum().sum()"
   ]
  },
  {
   "cell_type": "code",
   "execution_count": 37,
   "metadata": {},
   "outputs": [],
   "source": [
    "# Sample definition \n",
    "data = data.query('2 <= n_accommodates <= 6')"
   ]
  },
  {
   "cell_type": "code",
   "execution_count": 367,
   "metadata": {},
   "outputs": [
    {
     "data": {
      "text/plain": [
       "(8162, 136)"
      ]
     },
     "execution_count": 367,
     "metadata": {},
     "output_type": "execute_result"
    }
   ],
   "source": [
    "data.shape"
   ]
  },
  {
   "cell_type": "code",
   "execution_count": 38,
   "metadata": {},
   "outputs": [
    {
     "data": {
      "text/plain": [
       "count      8162.000000\n",
       "mean       1752.934942\n",
       "std        4889.231501\n",
       "min         269.000000\n",
       "50%        1097.500000\n",
       "90%        2856.800000\n",
       "95%        3956.550000\n",
       "98%        7452.140000\n",
       "max      254623.000000\n",
       "Name: price, dtype: float64"
      ]
     },
     "execution_count": 38,
     "metadata": {},
     "output_type": "execute_result"
    }
   ],
   "source": [
    "data.price.describe(percentiles=[0.5,0.9,0.95,0.98])"
   ]
  },
  {
   "cell_type": "code",
   "execution_count": 39,
   "metadata": {},
   "outputs": [
    {
     "data": {
      "text/html": [
       "<div>\n",
       "<style scoped>\n",
       "    .dataframe tbody tr th:only-of-type {\n",
       "        vertical-align: middle;\n",
       "    }\n",
       "\n",
       "    .dataframe tbody tr th {\n",
       "        vertical-align: top;\n",
       "    }\n",
       "\n",
       "    .dataframe thead th {\n",
       "        text-align: right;\n",
       "    }\n",
       "</style>\n",
       "<table border=\"1\" class=\"dataframe\">\n",
       "  <thead>\n",
       "    <tr style=\"text-align: right;\">\n",
       "      <th></th>\n",
       "      <th>count</th>\n",
       "      <th>mean</th>\n",
       "      <th>std</th>\n",
       "      <th>min</th>\n",
       "      <th>25%</th>\n",
       "      <th>50%</th>\n",
       "      <th>75%</th>\n",
       "      <th>max</th>\n",
       "    </tr>\n",
       "  </thead>\n",
       "  <tbody>\n",
       "    <tr>\n",
       "      <th>price</th>\n",
       "      <td>8162.0</td>\n",
       "      <td>1752.934942</td>\n",
       "      <td>4889.231501</td>\n",
       "      <td>269.00</td>\n",
       "      <td>730.00</td>\n",
       "      <td>1097.50</td>\n",
       "      <td>1700.00</td>\n",
       "      <td>254623.00</td>\n",
       "    </tr>\n",
       "    <tr>\n",
       "      <th>price_clean</th>\n",
       "      <td>8162.0</td>\n",
       "      <td>1752.934942</td>\n",
       "      <td>4889.231501</td>\n",
       "      <td>269.00</td>\n",
       "      <td>730.00</td>\n",
       "      <td>1097.50</td>\n",
       "      <td>1700.00</td>\n",
       "      <td>254623.00</td>\n",
       "    </tr>\n",
       "    <tr>\n",
       "      <th>n_bathrooms</th>\n",
       "      <td>8162.0</td>\n",
       "      <td>1.223291</td>\n",
       "      <td>0.507486</td>\n",
       "      <td>0.00</td>\n",
       "      <td>1.00</td>\n",
       "      <td>1.00</td>\n",
       "      <td>1.50</td>\n",
       "      <td>23.00</td>\n",
       "    </tr>\n",
       "    <tr>\n",
       "      <th>n_accommodates</th>\n",
       "      <td>8162.0</td>\n",
       "      <td>2.894511</td>\n",
       "      <td>1.142799</td>\n",
       "      <td>2.00</td>\n",
       "      <td>2.00</td>\n",
       "      <td>2.00</td>\n",
       "      <td>4.00</td>\n",
       "      <td>6.00</td>\n",
       "    </tr>\n",
       "    <tr>\n",
       "      <th>n_review_scores_rating</th>\n",
       "      <td>8162.0</td>\n",
       "      <td>4.667452</td>\n",
       "      <td>0.618247</td>\n",
       "      <td>0.00</td>\n",
       "      <td>4.69</td>\n",
       "      <td>4.80</td>\n",
       "      <td>4.89</td>\n",
       "      <td>5.00</td>\n",
       "    </tr>\n",
       "    <tr>\n",
       "      <th>n_number_of_reviews</th>\n",
       "      <td>8162.0</td>\n",
       "      <td>18.873683</td>\n",
       "      <td>40.229989</td>\n",
       "      <td>0.00</td>\n",
       "      <td>0.00</td>\n",
       "      <td>3.00</td>\n",
       "      <td>19.00</td>\n",
       "      <td>1116.00</td>\n",
       "    </tr>\n",
       "    <tr>\n",
       "      <th>n_reviews_per_month</th>\n",
       "      <td>8162.0</td>\n",
       "      <td>0.607166</td>\n",
       "      <td>0.794160</td>\n",
       "      <td>0.01</td>\n",
       "      <td>0.22</td>\n",
       "      <td>0.38</td>\n",
       "      <td>0.66</td>\n",
       "      <td>24.31</td>\n",
       "    </tr>\n",
       "    <tr>\n",
       "      <th>n_minimum_nights</th>\n",
       "      <td>8162.0</td>\n",
       "      <td>16.302867</td>\n",
       "      <td>43.728870</td>\n",
       "      <td>1.00</td>\n",
       "      <td>1.00</td>\n",
       "      <td>2.00</td>\n",
       "      <td>20.00</td>\n",
       "      <td>730.00</td>\n",
       "    </tr>\n",
       "    <tr>\n",
       "      <th>n_beds</th>\n",
       "      <td>8162.0</td>\n",
       "      <td>1.448542</td>\n",
       "      <td>0.794301</td>\n",
       "      <td>0.00</td>\n",
       "      <td>1.00</td>\n",
       "      <td>1.00</td>\n",
       "      <td>2.00</td>\n",
       "      <td>7.00</td>\n",
       "    </tr>\n",
       "    <tr>\n",
       "      <th>n_maximum_nights</th>\n",
       "      <td>8162.0</td>\n",
       "      <td>891.822838</td>\n",
       "      <td>1950.527949</td>\n",
       "      <td>1.00</td>\n",
       "      <td>365.00</td>\n",
       "      <td>1125.00</td>\n",
       "      <td>1125.00</td>\n",
       "      <td>100000.00</td>\n",
       "    </tr>\n",
       "    <tr>\n",
       "      <th>n_days_since</th>\n",
       "      <td>8162.0</td>\n",
       "      <td>979.255330</td>\n",
       "      <td>489.884470</td>\n",
       "      <td>1.00</td>\n",
       "      <td>721.00</td>\n",
       "      <td>869.00</td>\n",
       "      <td>1040.00</td>\n",
       "      <td>3848.00</td>\n",
       "    </tr>\n",
       "    <tr>\n",
       "      <th>d_airconditioning</th>\n",
       "      <td>8162.0</td>\n",
       "      <td>0.977579</td>\n",
       "      <td>0.148057</td>\n",
       "      <td>0.00</td>\n",
       "      <td>1.00</td>\n",
       "      <td>1.00</td>\n",
       "      <td>1.00</td>\n",
       "      <td>1.00</td>\n",
       "    </tr>\n",
       "    <tr>\n",
       "      <th>d_longtermstaysallowed</th>\n",
       "      <td>8162.0</td>\n",
       "      <td>0.975129</td>\n",
       "      <td>0.155743</td>\n",
       "      <td>0.00</td>\n",
       "      <td>1.00</td>\n",
       "      <td>1.00</td>\n",
       "      <td>1.00</td>\n",
       "      <td>1.00</td>\n",
       "    </tr>\n",
       "    <tr>\n",
       "      <th>d_essentials</th>\n",
       "      <td>8162.0</td>\n",
       "      <td>0.921833</td>\n",
       "      <td>0.268451</td>\n",
       "      <td>0.00</td>\n",
       "      <td>1.00</td>\n",
       "      <td>1.00</td>\n",
       "      <td>1.00</td>\n",
       "      <td>1.00</td>\n",
       "    </tr>\n",
       "    <tr>\n",
       "      <th>d_wifi</th>\n",
       "      <td>8162.0</td>\n",
       "      <td>0.882504</td>\n",
       "      <td>0.322030</td>\n",
       "      <td>0.00</td>\n",
       "      <td>1.00</td>\n",
       "      <td>1.00</td>\n",
       "      <td>1.00</td>\n",
       "      <td>1.00</td>\n",
       "    </tr>\n",
       "    <tr>\n",
       "      <th>d_hangers</th>\n",
       "      <td>8162.0</td>\n",
       "      <td>0.869395</td>\n",
       "      <td>0.336989</td>\n",
       "      <td>0.00</td>\n",
       "      <td>1.00</td>\n",
       "      <td>1.00</td>\n",
       "      <td>1.00</td>\n",
       "      <td>1.00</td>\n",
       "    </tr>\n",
       "    <tr>\n",
       "      <th>d_shampoo</th>\n",
       "      <td>8162.0</td>\n",
       "      <td>0.798456</td>\n",
       "      <td>0.401178</td>\n",
       "      <td>0.00</td>\n",
       "      <td>1.00</td>\n",
       "      <td>1.00</td>\n",
       "      <td>1.00</td>\n",
       "      <td>1.00</td>\n",
       "    </tr>\n",
       "    <tr>\n",
       "      <th>d_hairdryer</th>\n",
       "      <td>8162.0</td>\n",
       "      <td>0.779466</td>\n",
       "      <td>0.414632</td>\n",
       "      <td>0.00</td>\n",
       "      <td>1.00</td>\n",
       "      <td>1.00</td>\n",
       "      <td>1.00</td>\n",
       "      <td>1.00</td>\n",
       "    </tr>\n",
       "    <tr>\n",
       "      <th>d_washer</th>\n",
       "      <td>8162.0</td>\n",
       "      <td>0.843666</td>\n",
       "      <td>0.363194</td>\n",
       "      <td>0.00</td>\n",
       "      <td>1.00</td>\n",
       "      <td>1.00</td>\n",
       "      <td>1.00</td>\n",
       "      <td>1.00</td>\n",
       "    </tr>\n",
       "    <tr>\n",
       "      <th>d_dedicatedworkspace</th>\n",
       "      <td>8162.0</td>\n",
       "      <td>0.756555</td>\n",
       "      <td>0.429188</td>\n",
       "      <td>0.00</td>\n",
       "      <td>1.00</td>\n",
       "      <td>1.00</td>\n",
       "      <td>1.00</td>\n",
       "      <td>1.00</td>\n",
       "    </tr>\n",
       "    <tr>\n",
       "      <th>d_kitchen</th>\n",
       "      <td>8162.0</td>\n",
       "      <td>0.855060</td>\n",
       "      <td>0.352062</td>\n",
       "      <td>0.00</td>\n",
       "      <td>1.00</td>\n",
       "      <td>1.00</td>\n",
       "      <td>1.00</td>\n",
       "      <td>1.00</td>\n",
       "    </tr>\n",
       "    <tr>\n",
       "      <th>d_smokealarm</th>\n",
       "      <td>8162.0</td>\n",
       "      <td>0.837050</td>\n",
       "      <td>0.369343</td>\n",
       "      <td>0.00</td>\n",
       "      <td>1.00</td>\n",
       "      <td>1.00</td>\n",
       "      <td>1.00</td>\n",
       "      <td>1.00</td>\n",
       "    </tr>\n",
       "    <tr>\n",
       "      <th>d_tv</th>\n",
       "      <td>8162.0</td>\n",
       "      <td>0.673119</td>\n",
       "      <td>0.469102</td>\n",
       "      <td>0.00</td>\n",
       "      <td>0.00</td>\n",
       "      <td>1.00</td>\n",
       "      <td>1.00</td>\n",
       "      <td>1.00</td>\n",
       "    </tr>\n",
       "    <tr>\n",
       "      <th>d_elevator</th>\n",
       "      <td>8162.0</td>\n",
       "      <td>0.782161</td>\n",
       "      <td>0.412803</td>\n",
       "      <td>0.00</td>\n",
       "      <td>1.00</td>\n",
       "      <td>1.00</td>\n",
       "      <td>1.00</td>\n",
       "      <td>1.00</td>\n",
       "    </tr>\n",
       "    <tr>\n",
       "      <th>d_hotwater</th>\n",
       "      <td>8162.0</td>\n",
       "      <td>0.695418</td>\n",
       "      <td>0.460258</td>\n",
       "      <td>0.00</td>\n",
       "      <td>0.00</td>\n",
       "      <td>1.00</td>\n",
       "      <td>1.00</td>\n",
       "      <td>1.00</td>\n",
       "    </tr>\n",
       "    <tr>\n",
       "      <th>d_freeparkingonpremises</th>\n",
       "      <td>8162.0</td>\n",
       "      <td>0.601078</td>\n",
       "      <td>0.489707</td>\n",
       "      <td>0.00</td>\n",
       "      <td>0.00</td>\n",
       "      <td>1.00</td>\n",
       "      <td>1.00</td>\n",
       "      <td>1.00</td>\n",
       "    </tr>\n",
       "    <tr>\n",
       "      <th>d_fireextinguisher</th>\n",
       "      <td>8162.0</td>\n",
       "      <td>0.493139</td>\n",
       "      <td>0.499984</td>\n",
       "      <td>0.00</td>\n",
       "      <td>0.00</td>\n",
       "      <td>0.00</td>\n",
       "      <td>1.00</td>\n",
       "      <td>1.00</td>\n",
       "    </tr>\n",
       "    <tr>\n",
       "      <th>d_pool</th>\n",
       "      <td>8162.0</td>\n",
       "      <td>0.749204</td>\n",
       "      <td>0.433498</td>\n",
       "      <td>0.00</td>\n",
       "      <td>0.00</td>\n",
       "      <td>1.00</td>\n",
       "      <td>1.00</td>\n",
       "      <td>1.00</td>\n",
       "    </tr>\n",
       "    <tr>\n",
       "      <th>d_gym</th>\n",
       "      <td>8162.0</td>\n",
       "      <td>0.745038</td>\n",
       "      <td>0.435867</td>\n",
       "      <td>0.00</td>\n",
       "      <td>0.00</td>\n",
       "      <td>1.00</td>\n",
       "      <td>1.00</td>\n",
       "      <td>1.00</td>\n",
       "    </tr>\n",
       "    <tr>\n",
       "      <th>d_refrigerator</th>\n",
       "      <td>8162.0</td>\n",
       "      <td>0.530630</td>\n",
       "      <td>0.499092</td>\n",
       "      <td>0.00</td>\n",
       "      <td>0.00</td>\n",
       "      <td>1.00</td>\n",
       "      <td>1.00</td>\n",
       "      <td>1.00</td>\n",
       "    </tr>\n",
       "  </tbody>\n",
       "</table>\n",
       "</div>"
      ],
      "text/plain": [
       "                          count         mean          std     min     25%  \\\n",
       "price                    8162.0  1752.934942  4889.231501  269.00  730.00   \n",
       "price_clean              8162.0  1752.934942  4889.231501  269.00  730.00   \n",
       "n_bathrooms              8162.0     1.223291     0.507486    0.00    1.00   \n",
       "n_accommodates           8162.0     2.894511     1.142799    2.00    2.00   \n",
       "n_review_scores_rating   8162.0     4.667452     0.618247    0.00    4.69   \n",
       "n_number_of_reviews      8162.0    18.873683    40.229989    0.00    0.00   \n",
       "n_reviews_per_month      8162.0     0.607166     0.794160    0.01    0.22   \n",
       "n_minimum_nights         8162.0    16.302867    43.728870    1.00    1.00   \n",
       "n_beds                   8162.0     1.448542     0.794301    0.00    1.00   \n",
       "n_maximum_nights         8162.0   891.822838  1950.527949    1.00  365.00   \n",
       "n_days_since             8162.0   979.255330   489.884470    1.00  721.00   \n",
       "d_airconditioning        8162.0     0.977579     0.148057    0.00    1.00   \n",
       "d_longtermstaysallowed   8162.0     0.975129     0.155743    0.00    1.00   \n",
       "d_essentials             8162.0     0.921833     0.268451    0.00    1.00   \n",
       "d_wifi                   8162.0     0.882504     0.322030    0.00    1.00   \n",
       "d_hangers                8162.0     0.869395     0.336989    0.00    1.00   \n",
       "d_shampoo                8162.0     0.798456     0.401178    0.00    1.00   \n",
       "d_hairdryer              8162.0     0.779466     0.414632    0.00    1.00   \n",
       "d_washer                 8162.0     0.843666     0.363194    0.00    1.00   \n",
       "d_dedicatedworkspace     8162.0     0.756555     0.429188    0.00    1.00   \n",
       "d_kitchen                8162.0     0.855060     0.352062    0.00    1.00   \n",
       "d_smokealarm             8162.0     0.837050     0.369343    0.00    1.00   \n",
       "d_tv                     8162.0     0.673119     0.469102    0.00    0.00   \n",
       "d_elevator               8162.0     0.782161     0.412803    0.00    1.00   \n",
       "d_hotwater               8162.0     0.695418     0.460258    0.00    0.00   \n",
       "d_freeparkingonpremises  8162.0     0.601078     0.489707    0.00    0.00   \n",
       "d_fireextinguisher       8162.0     0.493139     0.499984    0.00    0.00   \n",
       "d_pool                   8162.0     0.749204     0.433498    0.00    0.00   \n",
       "d_gym                    8162.0     0.745038     0.435867    0.00    0.00   \n",
       "d_refrigerator           8162.0     0.530630     0.499092    0.00    0.00   \n",
       "\n",
       "                             50%      75%        max  \n",
       "price                    1097.50  1700.00  254623.00  \n",
       "price_clean              1097.50  1700.00  254623.00  \n",
       "n_bathrooms                 1.00     1.50      23.00  \n",
       "n_accommodates              2.00     4.00       6.00  \n",
       "n_review_scores_rating      4.80     4.89       5.00  \n",
       "n_number_of_reviews         3.00    19.00    1116.00  \n",
       "n_reviews_per_month         0.38     0.66      24.31  \n",
       "n_minimum_nights            2.00    20.00     730.00  \n",
       "n_beds                      1.00     2.00       7.00  \n",
       "n_maximum_nights         1125.00  1125.00  100000.00  \n",
       "n_days_since              869.00  1040.00    3848.00  \n",
       "d_airconditioning           1.00     1.00       1.00  \n",
       "d_longtermstaysallowed      1.00     1.00       1.00  \n",
       "d_essentials                1.00     1.00       1.00  \n",
       "d_wifi                      1.00     1.00       1.00  \n",
       "d_hangers                   1.00     1.00       1.00  \n",
       "d_shampoo                   1.00     1.00       1.00  \n",
       "d_hairdryer                 1.00     1.00       1.00  \n",
       "d_washer                    1.00     1.00       1.00  \n",
       "d_dedicatedworkspace        1.00     1.00       1.00  \n",
       "d_kitchen                   1.00     1.00       1.00  \n",
       "d_smokealarm                1.00     1.00       1.00  \n",
       "d_tv                        1.00     1.00       1.00  \n",
       "d_elevator                  1.00     1.00       1.00  \n",
       "d_hotwater                  1.00     1.00       1.00  \n",
       "d_freeparkingonpremises     1.00     1.00       1.00  \n",
       "d_fireextinguisher          0.00     1.00       1.00  \n",
       "d_pool                      1.00     1.00       1.00  \n",
       "d_gym                       1.00     1.00       1.00  \n",
       "d_refrigerator              1.00     1.00       1.00  "
      ]
     },
     "execution_count": 39,
     "metadata": {},
     "output_type": "execute_result"
    }
   ],
   "source": [
    "data.describe().T.head(30)"
   ]
  },
  {
   "cell_type": "code",
   "execution_count": 40,
   "metadata": {},
   "outputs": [
    {
     "data": {
      "text/plain": [
       "<AxesSubplot:>"
      ]
     },
     "execution_count": 40,
     "metadata": {},
     "output_type": "execute_result"
    },
    {
     "data": {
      "image/png": "[encoded data removed]",
      "text/plain": [
       "<Figure size 432x288 with 1 Axes>"
      ]
     },
     "metadata": {
      "needs_background": "light"
     },
     "output_type": "display_data"
    }
   ],
   "source": [
    "data.price.hist(bins=30)"
   ]
  },
  {
   "cell_type": "code",
   "execution_count": 41,
   "metadata": {},
   "outputs": [
    {
     "data": {
      "text/plain": [
       "<AxesSubplot:>"
      ]
     },
     "execution_count": 41,
     "metadata": {},
     "output_type": "execute_result"
    },
    {
     "data": {
      "image/png": "[encoded data removed]",
      "text/plain": [
       "<Figure size 432x288 with 1 Axes>"
      ]
     },
     "metadata": {
      "needs_background": "light"
     },
     "output_type": "display_data"
    }
   ],
   "source": [
    "np.log(data.price).hist(bins=30)"
   ]
  },
  {
   "cell_type": "code",
   "execution_count": 42,
   "metadata": {},
   "outputs": [],
   "source": [
    "data[\"lnprice\"] = np.log(data.price)"
   ]
  },
  {
   "cell_type": "code",
   "execution_count": 43,
   "metadata": {},
   "outputs": [
    {
     "data": {
      "text/plain": [
       "Entire rental unit            4347\n",
       "Entire condominium (condo)    3382\n",
       "Entire serviced apartment      433\n",
       "Name: f_property_type, dtype: int64"
      ]
     },
     "execution_count": 43,
     "metadata": {},
     "output_type": "execute_result"
    }
   ],
   "source": [
    "data.f_property_type.value_counts()"
   ]
  },
  {
   "cell_type": "code",
   "execution_count": 44,
   "metadata": {},
   "outputs": [
    {
     "data": {
      "text/plain": [
       "1    4650\n",
       "0    2577\n",
       "2     935\n",
       "Name: f_number_of_reviews, dtype: int64"
      ]
     },
     "execution_count": 44,
     "metadata": {},
     "output_type": "execute_result"
    }
   ],
   "source": [
    "data.f_number_of_reviews.value_counts()"
   ]
  },
  {
   "cell_type": "markdown",
   "metadata": {},
   "source": [
    "Create train and holdout samples "
   ]
  },
  {
   "cell_type": "code",
   "execution_count": 45,
   "metadata": {},
   "outputs": [
    {
     "data": {
      "text/plain": [
       "Khlong Toei        1452\n",
       "Vadhana            1133\n",
       "Huai Khwang         825\n",
       "Ratchathewi         660\n",
       "Sathon              423\n",
       "Other               400\n",
       "Bang Rak            340\n",
       "Phra Khanong        339\n",
       "Bang Na             300\n",
       "Din Daeng           257\n",
       "Chatu Chak          254\n",
       "Parthum Wan         235\n",
       "Khlong San          214\n",
       "Suanluang           189\n",
       "Phaya Thai          182\n",
       "Bang Sue            144\n",
       "Bang Kapi           123\n",
       "Bang Phlat          118\n",
       "Yan na wa           118\n",
       "Thon buri           104\n",
       "Phasi Charoen        90\n",
       "Bang Kho laen        77\n",
       "Lat Krabang          74\n",
       "Wang Thong Lang      62\n",
       "Pra Wet              49\n",
       "Name: f_neighbourhood_cleansed, dtype: int64"
      ]
     },
     "execution_count": 45,
     "metadata": {},
     "output_type": "execute_result"
    }
   ],
   "source": [
    "data.f_neighbourhood_cleansed.value_counts()"
   ]
  },
  {
   "cell_type": "code",
   "execution_count": 46,
   "metadata": {},
   "outputs": [],
   "source": [
    "data.columns = [\n",
    "    item.replace(\"\\\\\", \"\").replace(\":\", \"\") for item in data.columns.tolist()\n",
    "]"
   ]
  },
  {
   "cell_type": "code",
   "execution_count": 47,
   "metadata": {},
   "outputs": [],
   "source": [
    "data.drop([\"id\",\"price_clean\"],axis=1,inplace=True)"
   ]
  },
  {
   "cell_type": "code",
   "execution_count": 48,
   "metadata": {},
   "outputs": [
    {
     "name": "stdout",
     "output_type": "stream",
     "text": [
      "(5713, 136) (2449, 136)\n"
     ]
    }
   ],
   "source": [
    "data_train, data_holdout = train_test_split(data, train_size=0.7, random_state=52)\n",
    "\n",
    "print(data_train.shape, data_holdout.shape)\n",
    "\n",
    "# Yay! same number of variables in train and holdout"
   ]
  },
  {
   "cell_type": "markdown",
   "metadata": {},
   "source": [
    "### Now remove error values from train set!"
   ]
  },
  {
   "cell_type": "code",
   "execution_count": 58,
   "metadata": {},
   "outputs": [],
   "source": [
    "data_train = data_train.loc[lambda x: x[\"price\"] < x[\"price\"].describe(percentiles=[0.98])[\"98%\"]]"
   ]
  },
  {
   "cell_type": "code",
   "execution_count": 124,
   "metadata": {},
   "outputs": [],
   "source": [
    "all_variables = [item.replace(\"\\\\\",\"\").replace(\":\",\"\") for item in data.columns.tolist()[1:-19]]\n",
    "\n",
    "target_variable = \"price\"\n",
    "\n",
    "# interactions for the LASSO\n",
    "\n",
    "X1 = [\n",
    "    \"n_accommodates:f_property_type\",\n",
    "    \"f_property_type:n_dist_to_grand_palace\",\n",
    "    \"n_accommodates:d_longtermstaysallowed\",\n",
    "    \"d_breakfast:f_property_type\",\n",
    "    \"d_kitchen:f_property_type\",\n",
    "    \"d_elevator:f_property_type\",\n",
    "    \"d_essentials:f_property_type\"\n",
    "]\n",
    "# with boroughs\n",
    "X2 = [\n",
    "    \"f_property_type:f_neighbourhood_cleansed\",\n",
    "    \"n_accommodates:f_neighbourhood_cleansed\",\n",
    "]\n",
    "\n",
    "predictors_tree = all_variables\n",
    "predictors_lasso = all_variables + X1 + X2"
   ]
  },
  {
   "cell_type": "code",
   "execution_count": 369,
   "metadata": {},
   "outputs": [
    {
     "data": {
      "text/plain": [
       "125"
      ]
     },
     "execution_count": 369,
     "metadata": {},
     "output_type": "execute_result"
    }
   ],
   "source": [
    "len(predictors_lasso)"
   ]
  },
  {
   "cell_type": "markdown",
   "metadata": {},
   "source": [
    "## PART II\n",
    "### Select hyperparameters for models with CV\n",
    "-------------------------------------------------------"
   ]
  },
  {
   "cell_type": "markdown",
   "metadata": {},
   "source": [
    "0. first, OLS reference model"
   ]
  },
  {
   "cell_type": "code",
   "execution_count": 362,
   "metadata": {},
   "outputs": [
    {
     "name": "stdout",
     "output_type": "stream",
     "text": [
      "760.3497277262541\n",
      "3198.992489427222\n",
      "754.8957110687967\n"
     ]
    }
   ],
   "source": [
    "y, X = dmatrices(target_variable + \" ~ \" + \" + \".join(predictors_tree), data_train)\n",
    "y_hold, X_test = dmatrices(\n",
    "    target_variable + \" ~ \" + \" + \".join(predictors_tree), data_holdout\n",
    ")\n",
    "y_hold_t, X_test_t = dmatrices(\n",
    "    target_variable + \" ~ \" + \" + \".join(predictors_tree),\n",
    "    data_holdout.loc[lambda x: x[\"price\"] < 7500],\n",
    ")\n",
    "\n",
    "ols_model = LinearRegression().fit(X, y)\n",
    "\n",
    "y_hat = ols_model.predict(X)\n",
    "\n",
    "ols_rmse = mean_squared_error(y, y_hat, squared=False)\n",
    "print(ols_rmse)\n",
    "\n",
    "y_hat_test = ols_model.predict(X_test)\n",
    "ols_rmse_test = mean_squared_error(y_hold, y_hat_test, squared=False)\n",
    "print(ols_rmse_test)\n",
    "\n",
    "y_hat_t = ols_model.predict(X_test_t)\n",
    "ols_rmse_test_t = mean_squared_error(y_hold_t, y_hat_t, squared=False)\n",
    "print(ols_rmse_test_t)"
   ]
  },
  {
   "cell_type": "code",
   "execution_count": 363,
   "metadata": {},
   "outputs": [
    {
     "data": {
      "image/png": "[encoded data removed]",
      "text/plain": [
       "<Figure size 360x360 with 1 Axes>"
      ]
     },
     "metadata": {
      "needs_background": "light"
     },
     "output_type": "display_data"
    }
   ],
   "source": [
    "plot_pred_true_scatter(y, y_hat,title='OLS test set')"
   ]
  },
  {
   "cell_type": "code",
   "execution_count": 364,
   "metadata": {},
   "outputs": [
    {
     "data": {
      "image/png": "[encoded data removed]",
      "text/plain": [
       "<Figure size 360x360 with 1 Axes>"
      ]
     },
     "metadata": {
      "needs_background": "light"
     },
     "output_type": "display_data"
    }
   ],
   "source": [
    "plot_pred_true_scatter(y_hold,y_hat_test,title='OLS test set')"
   ]
  },
  {
   "cell_type": "code",
   "execution_count": 365,
   "metadata": {},
   "outputs": [
    {
     "data": {
      "image/png": "[encoded data removed]",
      "text/plain": [
       "<Figure size 360x360 with 1 Axes>"
      ]
     },
     "metadata": {
      "needs_background": "light"
     },
     "output_type": "display_data"
    }
   ],
   "source": [
    "plot_pred_true_scatter(y_hold_t, y_hat_t,title='OLS truncated test set')"
   ]
  },
  {
   "cell_type": "markdown",
   "metadata": {},
   "source": [
    "1.  LASSO\n",
    "\n",
    "using extended model w interactions"
   ]
  },
  {
   "cell_type": "code",
   "execution_count": 67,
   "metadata": {
    "collapsed": true
   },
   "outputs": [
    {
     "name": "stdout",
     "output_type": "stream",
     "text": [
      "Fitting 5 folds for each of 17 candidates, totalling 85 fits\n"
     ]
    },
    {
     "name": "stderr",
     "output_type": "stream",
     "text": [
      "/Users/vigadam/.local/share/virtualenvs/Assignment_2-7CJqppZW/lib/python3.9/site-packages/sklearn/linear_model/_coordinate_descent.py:645: ConvergenceWarning: Objective did not converge. You might want to increase the number of iterations, check the scale of the features or consider increasing regularisation. Duality gap: 8.556e+08, tolerance: 4.411e+05\n"
     ]
    },
    {
     "name": "stdout",
     "output_type": "stream",
     "text": [
      "[CV 1/5] END .....................alpha=0.01;, score=-802.628 total time=   1.8s\n"
     ]
    },
    {
     "name": "stderr",
     "output_type": "stream",
     "text": [
      "/Users/vigadam/.local/share/virtualenvs/Assignment_2-7CJqppZW/lib/python3.9/site-packages/sklearn/linear_model/_coordinate_descent.py:645: ConvergenceWarning: Objective did not converge. You might want to increase the number of iterations, check the scale of the features or consider increasing regularisation. Duality gap: 9.379e+08, tolerance: 4.413e+05\n"
     ]
    },
    {
     "name": "stdout",
     "output_type": "stream",
     "text": [
      "[CV 2/5] END .....................alpha=0.01;, score=-753.114 total time=   1.9s\n"
     ]
    },
    {
     "name": "stderr",
     "output_type": "stream",
     "text": [
      "/Users/vigadam/.local/share/virtualenvs/Assignment_2-7CJqppZW/lib/python3.9/site-packages/sklearn/linear_model/_coordinate_descent.py:645: ConvergenceWarning: Objective did not converge. You might want to increase the number of iterations, check the scale of the features or consider increasing regularisation. Duality gap: 9.577e+08, tolerance: 4.450e+05\n"
     ]
    },
    {
     "name": "stdout",
     "output_type": "stream",
     "text": [
      "[CV 3/5] END .....................alpha=0.01;, score=-832.323 total time=   1.7s\n"
     ]
    },
    {
     "name": "stderr",
     "output_type": "stream",
     "text": [
      "/Users/vigadam/.local/share/virtualenvs/Assignment_2-7CJqppZW/lib/python3.9/site-packages/sklearn/linear_model/_coordinate_descent.py:645: ConvergenceWarning: Objective did not converge. You might want to increase the number of iterations, check the scale of the features or consider increasing regularisation. Duality gap: 2.374e+08, tolerance: 4.417e+05\n"
     ]
    },
    {
     "name": "stdout",
     "output_type": "stream",
     "text": [
      "[CV 4/5] END .....................alpha=0.01;, score=-799.860 total time=   1.9s\n"
     ]
    },
    {
     "name": "stderr",
     "output_type": "stream",
     "text": [
      "/Users/vigadam/.local/share/virtualenvs/Assignment_2-7CJqppZW/lib/python3.9/site-packages/sklearn/linear_model/_coordinate_descent.py:645: ConvergenceWarning: Objective did not converge. You might want to increase the number of iterations, check the scale of the features or consider increasing regularisation. Duality gap: 1.043e+09, tolerance: 4.403e+05\n"
     ]
    },
    {
     "name": "stdout",
     "output_type": "stream",
     "text": [
      "[CV 5/5] END .....................alpha=0.01;, score=-790.561 total time=   1.4s\n",
      "[CV 1/5] END .....................alpha=0.04;, score=-800.273 total time=   1.4s\n"
     ]
    },
    {
     "name": "stderr",
     "output_type": "stream",
     "text": [
      "/Users/vigadam/.local/share/virtualenvs/Assignment_2-7CJqppZW/lib/python3.9/site-packages/sklearn/linear_model/_coordinate_descent.py:645: ConvergenceWarning: Objective did not converge. You might want to increase the number of iterations, check the scale of the features or consider increasing regularisation. Duality gap: 2.036e+06, tolerance: 4.413e+05\n"
     ]
    },
    {
     "name": "stdout",
     "output_type": "stream",
     "text": [
      "[CV 2/5] END .....................alpha=0.04;, score=-753.198 total time=   2.1s\n"
     ]
    },
    {
     "name": "stderr",
     "output_type": "stream",
     "text": [
      "/Users/vigadam/.local/share/virtualenvs/Assignment_2-7CJqppZW/lib/python3.9/site-packages/sklearn/linear_model/_coordinate_descent.py:645: ConvergenceWarning: Objective did not converge. You might want to increase the number of iterations, check the scale of the features or consider increasing regularisation. Duality gap: 2.916e+08, tolerance: 4.450e+05\n"
     ]
    },
    {
     "name": "stdout",
     "output_type": "stream",
     "text": [
      "[CV 3/5] END .....................alpha=0.04;, score=-831.518 total time=   2.3s\n"
     ]
    },
    {
     "name": "stderr",
     "output_type": "stream",
     "text": [
      "/Users/vigadam/.local/share/virtualenvs/Assignment_2-7CJqppZW/lib/python3.9/site-packages/sklearn/linear_model/_coordinate_descent.py:645: ConvergenceWarning: Objective did not converge. You might want to increase the number of iterations, check the scale of the features or consider increasing regularisation. Duality gap: 1.754e+07, tolerance: 4.417e+05\n"
     ]
    },
    {
     "name": "stdout",
     "output_type": "stream",
     "text": [
      "[CV 4/5] END .....................alpha=0.04;, score=-798.452 total time=   2.4s\n"
     ]
    },
    {
     "name": "stderr",
     "output_type": "stream",
     "text": [
      "/Users/vigadam/.local/share/virtualenvs/Assignment_2-7CJqppZW/lib/python3.9/site-packages/sklearn/linear_model/_coordinate_descent.py:645: ConvergenceWarning: Objective did not converge. You might want to increase the number of iterations, check the scale of the features or consider increasing regularisation. Duality gap: 7.982e+06, tolerance: 4.403e+05\n"
     ]
    },
    {
     "name": "stdout",
     "output_type": "stream",
     "text": [
      "[CV 5/5] END .....................alpha=0.04;, score=-789.997 total time=   2.1s\n",
      "[CV 1/5] END .....................alpha=0.07;, score=-798.667 total time=   1.4s\n",
      "[CV 2/5] END .....................alpha=0.07;, score=-753.135 total time=   1.7s\n",
      "[CV 3/5] END .....................alpha=0.07;, score=-830.838 total time=   1.8s\n"
     ]
    },
    {
     "name": "stderr",
     "output_type": "stream",
     "text": [
      "/Users/vigadam/.local/share/virtualenvs/Assignment_2-7CJqppZW/lib/python3.9/site-packages/sklearn/linear_model/_coordinate_descent.py:645: ConvergenceWarning: Objective did not converge. You might want to increase the number of iterations, check the scale of the features or consider increasing regularisation. Duality gap: 3.974e+06, tolerance: 4.417e+05\n"
     ]
    },
    {
     "name": "stdout",
     "output_type": "stream",
     "text": [
      "[CV 4/5] END .....................alpha=0.07;, score=-796.889 total time=   2.1s\n",
      "[CV 5/5] END .....................alpha=0.07;, score=-789.534 total time=   1.7s\n"
     ]
    },
    {
     "name": "stderr",
     "output_type": "stream",
     "text": [
      "/Users/vigadam/.local/share/virtualenvs/Assignment_2-7CJqppZW/lib/python3.9/site-packages/sklearn/linear_model/_coordinate_descent.py:645: ConvergenceWarning: Objective did not converge. You might want to increase the number of iterations, check the scale of the features or consider increasing regularisation. Duality gap: 1.243e+07, tolerance: 4.411e+05\n"
     ]
    },
    {
     "name": "stdout",
     "output_type": "stream",
     "text": [
      "[CV 1/5] END ......................alpha=0.1;, score=-797.342 total time=   2.0s\n",
      "[CV 2/5] END ......................alpha=0.1;, score=-753.077 total time=   1.7s\n",
      "[CV 3/5] END ......................alpha=0.1;, score=-830.094 total time=   2.3s\n"
     ]
    },
    {
     "name": "stderr",
     "output_type": "stream",
     "text": [
      "/Users/vigadam/.local/share/virtualenvs/Assignment_2-7CJqppZW/lib/python3.9/site-packages/sklearn/linear_model/_coordinate_descent.py:645: ConvergenceWarning: Objective did not converge. You might want to increase the number of iterations, check the scale of the features or consider increasing regularisation. Duality gap: 6.408e+07, tolerance: 4.417e+05\n"
     ]
    },
    {
     "name": "stdout",
     "output_type": "stream",
     "text": [
      "[CV 4/5] END ......................alpha=0.1;, score=-795.540 total time=   2.0s\n",
      "[CV 5/5] END ......................alpha=0.1;, score=-789.157 total time=   1.6s\n",
      "[CV 1/5] END .....................alpha=0.13;, score=-796.102 total time=   1.2s\n",
      "[CV 2/5] END .....................alpha=0.13;, score=-753.065 total time=   0.9s\n",
      "[CV 3/5] END .....................alpha=0.13;, score=-829.731 total time=   1.2s\n"
     ]
    },
    {
     "name": "stderr",
     "output_type": "stream",
     "text": [
      "/Users/vigadam/.local/share/virtualenvs/Assignment_2-7CJqppZW/lib/python3.9/site-packages/sklearn/linear_model/_coordinate_descent.py:645: ConvergenceWarning: Objective did not converge. You might want to increase the number of iterations, check the scale of the features or consider increasing regularisation. Duality gap: 9.027e+06, tolerance: 4.417e+05\n"
     ]
    },
    {
     "name": "stdout",
     "output_type": "stream",
     "text": [
      "[CV 4/5] END .....................alpha=0.13;, score=-794.305 total time=   1.7s\n",
      "[CV 5/5] END .....................alpha=0.13;, score=-788.972 total time=   1.3s\n",
      "[CV 1/5] END .....................alpha=0.16;, score=-795.124 total time=   1.4s\n",
      "[CV 2/5] END .....................alpha=0.16;, score=-753.108 total time=   1.0s\n",
      "[CV 3/5] END .....................alpha=0.16;, score=-829.454 total time=   0.9s\n",
      "[CV 4/5] END .....................alpha=0.16;, score=-793.158 total time=   1.7s\n",
      "[CV 5/5] END .....................alpha=0.16;, score=-788.717 total time=   1.1s\n",
      "[CV 1/5] END .....................alpha=0.19;, score=-794.343 total time=   0.7s\n",
      "[CV 2/5] END .....................alpha=0.19;, score=-753.222 total time=   1.5s\n",
      "[CV 3/5] END .....................alpha=0.19;, score=-829.246 total time=   0.9s\n",
      "[CV 4/5] END .....................alpha=0.19;, score=-792.175 total time=   1.8s\n",
      "[CV 5/5] END .....................alpha=0.19;, score=-788.486 total time=   1.2s\n",
      "[CV 1/5] END .....................alpha=0.22;, score=-793.744 total time=   1.4s\n",
      "[CV 2/5] END .....................alpha=0.22;, score=-753.363 total time=   1.0s\n",
      "[CV 3/5] END .....................alpha=0.22;, score=-829.215 total time=   0.9s\n",
      "[CV 4/5] END .....................alpha=0.22;, score=-791.221 total time=   1.7s\n",
      "[CV 5/5] END .....................alpha=0.22;, score=-788.334 total time=   1.4s\n",
      "[CV 1/5] END .....................alpha=0.25;, score=-793.400 total time=   0.9s\n",
      "[CV 2/5] END .....................alpha=0.25;, score=-753.587 total time=   1.2s\n",
      "[CV 3/5] END .....................alpha=0.25;, score=-829.344 total time=   1.2s\n",
      "[CV 4/5] END .....................alpha=0.25;, score=-790.325 total time=   1.7s\n",
      "[CV 5/5] END .....................alpha=0.25;, score=-788.210 total time=   1.4s\n",
      "[CV 1/5] END .....................alpha=0.28;, score=-793.174 total time=   2.2s\n",
      "[CV 2/5] END .....................alpha=0.28;, score=-753.899 total time=   2.2s\n",
      "[CV 3/5] END .....................alpha=0.28;, score=-829.388 total time=   1.1s\n",
      "[CV 4/5] END .....................alpha=0.28;, score=-789.383 total time=   2.2s\n",
      "[CV 5/5] END .....................alpha=0.28;, score=-787.874 total time=   2.4s\n",
      "[CV 1/5] END .....................alpha=0.31;, score=-792.997 total time=   1.7s\n",
      "[CV 2/5] END .....................alpha=0.31;, score=-754.250 total time=   1.1s\n",
      "[CV 3/5] END .....................alpha=0.31;, score=-829.410 total time=   2.2s\n",
      "[CV 4/5] END .....................alpha=0.31;, score=-788.527 total time=   2.5s\n",
      "[CV 5/5] END .....................alpha=0.31;, score=-787.503 total time=   1.4s\n",
      "[CV 1/5] END .....................alpha=0.34;, score=-792.913 total time=   1.1s\n",
      "[CV 2/5] END .....................alpha=0.34;, score=-754.649 total time=   0.6s\n",
      "[CV 3/5] END .....................alpha=0.34;, score=-829.400 total time=   1.4s\n",
      "[CV 4/5] END .....................alpha=0.34;, score=-787.721 total time=   1.4s\n",
      "[CV 5/5] END .....................alpha=0.34;, score=-787.174 total time=   0.8s\n",
      "[CV 1/5] END .....................alpha=0.37;, score=-792.871 total time=   0.7s\n",
      "[CV 2/5] END .....................alpha=0.37;, score=-754.949 total time=   0.5s\n",
      "[CV 3/5] END .....................alpha=0.37;, score=-829.293 total time=   1.0s\n",
      "[CV 4/5] END .....................alpha=0.37;, score=-786.942 total time=   0.9s\n",
      "[CV 5/5] END .....................alpha=0.37;, score=-786.967 total time=   0.7s\n",
      "[CV 1/5] END ......................alpha=0.4;, score=-792.861 total time=   1.2s\n",
      "[CV 2/5] END ......................alpha=0.4;, score=-755.121 total time=   0.5s\n",
      "[CV 3/5] END ......................alpha=0.4;, score=-829.150 total time=   1.0s\n",
      "[CV 4/5] END ......................alpha=0.4;, score=-786.204 total time=   1.3s\n",
      "[CV 5/5] END ......................alpha=0.4;, score=-786.770 total time=   0.9s\n",
      "[CV 1/5] END .....................alpha=0.43;, score=-792.773 total time=   1.2s\n",
      "[CV 2/5] END .....................alpha=0.43;, score=-755.314 total time=   0.5s\n",
      "[CV 3/5] END .....................alpha=0.43;, score=-829.064 total time=   0.9s\n",
      "[CV 4/5] END .....................alpha=0.43;, score=-785.529 total time=   0.9s\n",
      "[CV 5/5] END .....................alpha=0.43;, score=-786.607 total time=   0.6s\n",
      "[CV 1/5] END .....................alpha=0.46;, score=-792.681 total time=   1.3s\n",
      "[CV 2/5] END .....................alpha=0.46;, score=-755.518 total time=   0.5s\n",
      "[CV 3/5] END .....................alpha=0.46;, score=-828.977 total time=   1.1s\n",
      "[CV 4/5] END .....................alpha=0.46;, score=-784.951 total time=   0.7s\n",
      "[CV 5/5] END .....................alpha=0.46;, score=-786.472 total time=   0.6s\n",
      "[CV 1/5] END .....................alpha=0.49;, score=-792.610 total time=   1.0s\n",
      "[CV 2/5] END .....................alpha=0.49;, score=-755.712 total time=   0.6s\n",
      "[CV 3/5] END .....................alpha=0.49;, score=-828.928 total time=   1.2s\n",
      "[CV 4/5] END .....................alpha=0.49;, score=-784.442 total time=   0.8s\n",
      "[CV 5/5] END .....................alpha=0.49;, score=-786.360 total time=   0.6s\n"
     ]
    },
    {
     "data": {
      "text/plain": [
       "GridSearchCV(cv=5, estimator=ElasticNet(l1_ratio=1),\n",
       "             param_grid={'alpha': [0.01, 0.04, 0.07, 0.1, 0.13, 0.16, 0.19,\n",
       "                                   0.22, 0.25, 0.28, 0.31, 0.34, 0.37, 0.4,\n",
       "                                   0.43, 0.46, 0.49]},\n",
       "             scoring='neg_root_mean_squared_error', verbose=3)"
      ]
     },
     "execution_count": 67,
     "metadata": {},
     "output_type": "execute_result"
    }
   ],
   "source": [
    "lasso_model = ElasticNet(l1_ratio=1, fit_intercept=True)\n",
    "\n",
    "lasso_pipeline = Pipeline([(\"scale\", StandardScaler()), (\"regressor\", lasso_model)])\n",
    "\n",
    "lasso_model_cv = GridSearchCV(\n",
    "    lasso_model,\n",
    "    {\"alpha\": [i / 100 for i in range(10, 50, 3)]},\n",
    "    cv=5,\n",
    "    scoring=\"neg_root_mean_squared_error\",\n",
    "    verbose=3,\n",
    ")\n",
    "\n",
    "\n",
    "\n",
    "y, X = dmatrices(target_variable + \" ~ \" + \" + \".join(predictors_lasso), data_train)\n",
    "\n",
    "lasso_model_cv.fit(X, y.ravel())"
   ]
  },
  {
   "cell_type": "code",
   "execution_count": 69,
   "metadata": {},
   "outputs": [
    {
     "data": {
      "text/plain": [
       "789.6106353933217"
      ]
     },
     "execution_count": 69,
     "metadata": {},
     "output_type": "execute_result"
    }
   ],
   "source": [
    "lasso_rmse = pd.DataFrame(lasso_model_cv.cv_results_).loc[\n",
    "    lambda x: x.param_alpha == lasso_model_cv.best_estimator_.alpha\n",
    "].mean_test_score.values[0] * -1\n",
    "lasso_rmse"
   ]
  },
  {
   "cell_type": "code",
   "execution_count": 70,
   "metadata": {
    "collapsed": true
   },
   "outputs": [
    {
     "name": "stdout",
     "output_type": "stream",
     "text": [
      "Fitting 5 folds for each of 9 candidates, totalling 45 fits\n",
      "[CV 1/5] END ........min_node_size=5, mtry=8;, score=-744.428 total time=   1.4s\n",
      "[CV 2/5] END ........min_node_size=5, mtry=8;, score=-708.134 total time=   1.1s\n",
      "[CV 3/5] END ........min_node_size=5, mtry=8;, score=-694.787 total time=   1.1s\n",
      "[CV 4/5] END ........min_node_size=5, mtry=8;, score=-723.021 total time=   1.0s\n",
      "[CV 5/5] END ........min_node_size=5, mtry=8;, score=-728.642 total time=   1.0s\n",
      "[CV 1/5] END .......min_node_size=5, mtry=10;, score=-741.763 total time=   1.2s\n",
      "[CV 2/5] END .......min_node_size=5, mtry=10;, score=-706.242 total time=   1.5s\n",
      "[CV 3/5] END .......min_node_size=5, mtry=10;, score=-693.839 total time=   1.9s\n",
      "[CV 4/5] END .......min_node_size=5, mtry=10;, score=-714.729 total time=   2.1s\n",
      "[CV 5/5] END .......min_node_size=5, mtry=10;, score=-722.547 total time=   1.5s\n",
      "[CV 1/5] END .......min_node_size=5, mtry=12;, score=-734.907 total time=   1.8s\n",
      "[CV 2/5] END .......min_node_size=5, mtry=12;, score=-702.833 total time=   2.6s\n",
      "[CV 3/5] END .......min_node_size=5, mtry=12;, score=-691.735 total time=   2.3s\n",
      "[CV 4/5] END .......min_node_size=5, mtry=12;, score=-714.898 total time=   1.7s\n",
      "[CV 5/5] END .......min_node_size=5, mtry=12;, score=-714.013 total time=   1.4s\n",
      "[CV 1/5] END .......min_node_size=10, mtry=8;, score=-758.562 total time=   0.9s\n",
      "[CV 2/5] END .......min_node_size=10, mtry=8;, score=-716.534 total time=   0.9s\n",
      "[CV 3/5] END .......min_node_size=10, mtry=8;, score=-706.645 total time=   0.9s\n",
      "[CV 4/5] END .......min_node_size=10, mtry=8;, score=-733.903 total time=   1.0s\n",
      "[CV 5/5] END .......min_node_size=10, mtry=8;, score=-739.974 total time=   1.0s\n",
      "[CV 1/5] END ......min_node_size=10, mtry=10;, score=-744.093 total time=   1.1s\n",
      "[CV 2/5] END ......min_node_size=10, mtry=10;, score=-713.193 total time=   1.0s\n",
      "[CV 3/5] END ......min_node_size=10, mtry=10;, score=-697.515 total time=   1.0s\n",
      "[CV 4/5] END ......min_node_size=10, mtry=10;, score=-721.928 total time=   1.2s\n",
      "[CV 5/5] END ......min_node_size=10, mtry=10;, score=-729.207 total time=   1.1s\n",
      "[CV 1/5] END ......min_node_size=10, mtry=12;, score=-745.829 total time=   1.2s\n",
      "[CV 2/5] END ......min_node_size=10, mtry=12;, score=-710.234 total time=   1.2s\n",
      "[CV 3/5] END ......min_node_size=10, mtry=12;, score=-695.349 total time=   1.2s\n",
      "[CV 4/5] END ......min_node_size=10, mtry=12;, score=-727.146 total time=   1.2s\n",
      "[CV 5/5] END ......min_node_size=10, mtry=12;, score=-729.461 total time=   1.3s\n",
      "[CV 1/5] END .......min_node_size=15, mtry=8;, score=-758.923 total time=   1.0s\n",
      "[CV 2/5] END .......min_node_size=15, mtry=8;, score=-727.266 total time=   1.3s\n",
      "[CV 3/5] END .......min_node_size=15, mtry=8;, score=-710.776 total time=   1.1s\n",
      "[CV 4/5] END .......min_node_size=15, mtry=8;, score=-738.165 total time=   1.0s\n",
      "[CV 5/5] END .......min_node_size=15, mtry=8;, score=-748.115 total time=   0.9s\n",
      "[CV 1/5] END ......min_node_size=15, mtry=10;, score=-755.536 total time=   1.0s\n",
      "[CV 2/5] END ......min_node_size=15, mtry=10;, score=-724.619 total time=   1.2s\n",
      "[CV 3/5] END ......min_node_size=15, mtry=10;, score=-705.628 total time=   1.5s\n",
      "[CV 4/5] END ......min_node_size=15, mtry=10;, score=-729.596 total time=   1.5s\n",
      "[CV 5/5] END ......min_node_size=15, mtry=10;, score=-737.905 total time=   1.2s\n",
      "[CV 1/5] END ......min_node_size=15, mtry=12;, score=-751.162 total time=   1.1s\n",
      "[CV 2/5] END ......min_node_size=15, mtry=12;, score=-724.311 total time=   1.5s\n",
      "[CV 3/5] END ......min_node_size=15, mtry=12;, score=-699.232 total time=   1.5s\n",
      "[CV 4/5] END ......min_node_size=15, mtry=12;, score=-729.361 total time=   1.3s\n",
      "[CV 5/5] END ......min_node_size=15, mtry=12;, score=-737.769 total time=   1.5s\n"
     ]
    }
   ],
   "source": [
    "rfr = RangerForestRegressor(importance=\"impurity\",seed = 42)\n",
    "\n",
    "tune_grid = {\"mtry\": [8, 10, 12], \"min_node_size\": [5, 10, 15]}\n",
    "\n",
    "rf_random = GridSearchCV(\n",
    "    rfr,\n",
    "    tune_grid,\n",
    "    cv=5,\n",
    "    scoring=\"neg_root_mean_squared_error\",\n",
    "    verbose=3,\n",
    ")\n",
    "\n",
    "y, X = dmatrices(target_variable + \" ~ \" + \" + \".join(predictors_tree), data_train)\n",
    "\n",
    "rf_model = rf_random.fit(X,y.ravel())"
   ]
  },
  {
   "cell_type": "code",
   "execution_count": 71,
   "metadata": {},
   "outputs": [
    {
     "data": {
      "text/html": [
       "<div>\n",
       "<style scoped>\n",
       "    .dataframe tbody tr th:only-of-type {\n",
       "        vertical-align: middle;\n",
       "    }\n",
       "\n",
       "    .dataframe tbody tr th {\n",
       "        vertical-align: top;\n",
       "    }\n",
       "\n",
       "    .dataframe thead th {\n",
       "        text-align: right;\n",
       "    }\n",
       "</style>\n",
       "<table border=\"1\" class=\"dataframe\">\n",
       "  <thead>\n",
       "    <tr style=\"text-align: right;\">\n",
       "      <th>Variables</th>\n",
       "      <th>8</th>\n",
       "      <th>10</th>\n",
       "      <th>12</th>\n",
       "    </tr>\n",
       "    <tr>\n",
       "      <th>Min_nodes</th>\n",
       "      <th></th>\n",
       "      <th></th>\n",
       "      <th></th>\n",
       "    </tr>\n",
       "  </thead>\n",
       "  <tbody>\n",
       "    <tr>\n",
       "      <th>5</th>\n",
       "      <td>719.8026</td>\n",
       "      <td>715.8238</td>\n",
       "      <td>711.6771</td>\n",
       "    </tr>\n",
       "    <tr>\n",
       "      <th>10</th>\n",
       "      <td>731.1236</td>\n",
       "      <td>721.1871</td>\n",
       "      <td>721.6035</td>\n",
       "    </tr>\n",
       "    <tr>\n",
       "      <th>15</th>\n",
       "      <td>736.6490</td>\n",
       "      <td>730.6568</td>\n",
       "      <td>728.3669</td>\n",
       "    </tr>\n",
       "  </tbody>\n",
       "</table>\n",
       "</div>"
      ],
      "text/plain": [
       "Variables        8         10        12\n",
       "Min_nodes                              \n",
       "5          719.8026  715.8238  711.6771\n",
       "10         731.1236  721.1871  721.6035\n",
       "15         736.6490  730.6568  728.3669"
      ]
     },
     "execution_count": 71,
     "metadata": {},
     "output_type": "execute_result"
    }
   ],
   "source": [
    "pd.DataFrame(rf_model.cv_results_)[\n",
    "    [\"param_mtry\", \"param_min_node_size\", \"mean_test_score\"]\n",
    "].assign(\n",
    "    mean_test_score=lambda x: x[\"mean_test_score\"] * -1,\n",
    "    Variables=lambda x: x[\"param_mtry\"],\n",
    "    Min_nodes=lambda x: x[\"param_min_node_size\"],\n",
    ").pivot(\n",
    "    index=\"Min_nodes\", columns=\"Variables\", values=\"mean_test_score\"\n",
    ").round(\n",
    "    4\n",
    ")"
   ]
  },
  {
   "cell_type": "markdown",
   "metadata": {},
   "source": [
    "## XGBoost"
   ]
  },
  {
   "cell_type": "code",
   "execution_count": 139,
   "metadata": {
    "collapsed": true
   },
   "outputs": [
    {
     "name": "stdout",
     "output_type": "stream",
     "text": [
      "Fitting 5 folds for each of 9 candidates, totalling 45 fits\n",
      "[CV 1/5] END ...........eta=0.1, max_depth=6;, score=-712.029 total time=   3.9s\n",
      "[CV 2/5] END ...........eta=0.1, max_depth=6;, score=-700.389 total time=   3.5s\n",
      "[CV 3/5] END ...........eta=0.1, max_depth=6;, score=-667.757 total time=   2.5s\n",
      "[CV 4/5] END ...........eta=0.1, max_depth=6;, score=-731.670 total time=   2.4s\n",
      "[CV 5/5] END ...........eta=0.1, max_depth=6;, score=-714.525 total time=   4.2s\n",
      "[CV 1/5] END ...........eta=0.1, max_depth=8;, score=-704.852 total time=   4.6s\n",
      "[CV 2/5] END ...........eta=0.1, max_depth=8;, score=-682.499 total time=   3.4s\n",
      "[CV 3/5] END ...........eta=0.1, max_depth=8;, score=-669.285 total time=   4.1s\n",
      "[CV 4/5] END ...........eta=0.1, max_depth=8;, score=-724.884 total time=   4.2s\n",
      "[CV 5/5] END ...........eta=0.1, max_depth=8;, score=-694.050 total time=   4.0s\n",
      "[CV 1/5] END ..........eta=0.1, max_depth=10;, score=-731.489 total time=   6.5s\n",
      "[CV 2/5] END ..........eta=0.1, max_depth=10;, score=-680.785 total time=   4.9s\n",
      "[CV 3/5] END ..........eta=0.1, max_depth=10;, score=-685.824 total time=   4.5s\n",
      "[CV 4/5] END ..........eta=0.1, max_depth=10;, score=-728.105 total time=   4.3s\n",
      "[CV 5/5] END ..........eta=0.1, max_depth=10;, score=-694.750 total time=   4.4s\n",
      "[CV 1/5] END ...........eta=0.2, max_depth=6;, score=-727.101 total time=   2.4s\n",
      "[CV 2/5] END ...........eta=0.2, max_depth=6;, score=-691.284 total time=   2.4s\n",
      "[CV 3/5] END ...........eta=0.2, max_depth=6;, score=-667.330 total time=   2.4s\n",
      "[CV 4/5] END ...........eta=0.2, max_depth=6;, score=-733.361 total time=   2.5s\n",
      "[CV 5/5] END ...........eta=0.2, max_depth=6;, score=-720.746 total time=   2.4s\n",
      "[CV 1/5] END ...........eta=0.2, max_depth=8;, score=-709.362 total time=   3.3s\n",
      "[CV 2/5] END ...........eta=0.2, max_depth=8;, score=-690.474 total time=   3.4s\n",
      "[CV 3/5] END ...........eta=0.2, max_depth=8;, score=-673.265 total time=   3.3s\n",
      "[CV 4/5] END ...........eta=0.2, max_depth=8;, score=-731.028 total time=   4.0s\n",
      "[CV 5/5] END ...........eta=0.2, max_depth=8;, score=-709.968 total time=   3.8s\n",
      "[CV 1/5] END ..........eta=0.2, max_depth=10;, score=-747.464 total time=   4.5s\n",
      "[CV 2/5] END ..........eta=0.2, max_depth=10;, score=-695.242 total time=   4.4s\n",
      "[CV 3/5] END ..........eta=0.2, max_depth=10;, score=-699.464 total time=   4.3s\n",
      "[CV 4/5] END ..........eta=0.2, max_depth=10;, score=-732.515 total time=   4.3s\n",
      "[CV 5/5] END ..........eta=0.2, max_depth=10;, score=-713.264 total time=   5.3s\n",
      "[CV 1/5] END ...........eta=0.3, max_depth=6;, score=-728.275 total time=   4.5s\n",
      "[CV 2/5] END ...........eta=0.3, max_depth=6;, score=-700.776 total time=   2.8s\n",
      "[CV 3/5] END ...........eta=0.3, max_depth=6;, score=-696.101 total time=   2.9s\n",
      "[CV 4/5] END ...........eta=0.3, max_depth=6;, score=-724.650 total time=   2.6s\n",
      "[CV 5/5] END ...........eta=0.3, max_depth=6;, score=-733.530 total time=   2.5s\n",
      "[CV 1/5] END ...........eta=0.3, max_depth=8;, score=-725.712 total time=   5.0s\n",
      "[CV 2/5] END ...........eta=0.3, max_depth=8;, score=-703.893 total time=   3.8s\n",
      "[CV 3/5] END ...........eta=0.3, max_depth=8;, score=-689.772 total time=   5.1s\n",
      "[CV 4/5] END ...........eta=0.3, max_depth=8;, score=-756.387 total time=   4.0s\n",
      "[CV 5/5] END ...........eta=0.3, max_depth=8;, score=-712.924 total time=   4.0s\n",
      "[CV 1/5] END ..........eta=0.3, max_depth=10;, score=-738.463 total time=   5.5s\n",
      "[CV 2/5] END ..........eta=0.3, max_depth=10;, score=-688.335 total time=   6.7s\n",
      "[CV 3/5] END ..........eta=0.3, max_depth=10;, score=-687.120 total time=   6.1s\n",
      "[CV 4/5] END ..........eta=0.3, max_depth=10;, score=-756.239 total time=   5.4s\n",
      "[CV 5/5] END ..........eta=0.3, max_depth=10;, score=-701.205 total time=   5.8s\n"
     ]
    }
   ],
   "source": [
    "xgb_cv = XGBRegressor(seed = 42)\n",
    "\n",
    "tune_grid = {\"max_depth\": [6, 8, 10],\"eta\":[0.1,0.2,0.3]}\n",
    "\n",
    "xrb_cv = GridSearchCV(\n",
    "    xgb_cv,\n",
    "    tune_grid,\n",
    "    cv=5,\n",
    "    scoring=\"neg_root_mean_squared_error\",\n",
    "    verbose=3,\n",
    ")\n",
    "\n",
    "y, X = dmatrices(target_variable + \" ~ \" + \" + \".join(predictors_tree), data_train)\n",
    "\n",
    "xgb_model = xrb_cv.fit(X, y.ravel())"
   ]
  },
  {
   "cell_type": "code",
   "execution_count": 140,
   "metadata": {},
   "outputs": [
    {
     "data": {
      "text/html": [
       "<div>\n",
       "<style scoped>\n",
       "    .dataframe tbody tr th:only-of-type {\n",
       "        vertical-align: middle;\n",
       "    }\n",
       "\n",
       "    .dataframe tbody tr th {\n",
       "        vertical-align: top;\n",
       "    }\n",
       "\n",
       "    .dataframe thead th {\n",
       "        text-align: right;\n",
       "    }\n",
       "</style>\n",
       "<table border=\"1\" class=\"dataframe\">\n",
       "  <thead>\n",
       "    <tr style=\"text-align: right;\">\n",
       "      <th>Eta</th>\n",
       "      <th>0.1</th>\n",
       "      <th>0.2</th>\n",
       "      <th>0.3</th>\n",
       "    </tr>\n",
       "    <tr>\n",
       "      <th>Max_Depth</th>\n",
       "      <th></th>\n",
       "      <th></th>\n",
       "      <th></th>\n",
       "    </tr>\n",
       "  </thead>\n",
       "  <tbody>\n",
       "    <tr>\n",
       "      <th>6</th>\n",
       "      <td>705.2738</td>\n",
       "      <td>707.9643</td>\n",
       "      <td>716.6662</td>\n",
       "    </tr>\n",
       "    <tr>\n",
       "      <th>8</th>\n",
       "      <td>695.1139</td>\n",
       "      <td>702.8197</td>\n",
       "      <td>717.7379</td>\n",
       "    </tr>\n",
       "    <tr>\n",
       "      <th>10</th>\n",
       "      <td>704.1906</td>\n",
       "      <td>717.5899</td>\n",
       "      <td>714.2725</td>\n",
       "    </tr>\n",
       "  </tbody>\n",
       "</table>\n",
       "</div>"
      ],
      "text/plain": [
       "Eta             0.1       0.2       0.3\n",
       "Max_Depth                              \n",
       "6          705.2738  707.9643  716.6662\n",
       "8          695.1139  702.8197  717.7379\n",
       "10         704.1906  717.5899  714.2725"
      ]
     },
     "execution_count": 140,
     "metadata": {},
     "output_type": "execute_result"
    }
   ],
   "source": [
    "pd.DataFrame(xgb_model.cv_results_)[\n",
    "    [\"param_max_depth\",\"param_eta\", \"mean_test_score\"]\n",
    "].assign(\n",
    "    mean_test_score=lambda x: x[\"mean_test_score\"] * -1,\n",
    "    Max_Depth=lambda x: x[\"param_max_depth\"],\n",
    "    Eta=lambda x: x[\"param_eta\"],\n",
    ").pivot(\n",
    "    index=\"Max_Depth\", columns=\"Eta\", values=\"mean_test_score\"\n",
    ").round(\n",
    "    4\n",
    ")"
   ]
  },
  {
   "cell_type": "markdown",
   "metadata": {},
   "source": [
    "### Get best models from every model type"
   ]
  },
  {
   "cell_type": "code",
   "execution_count": 366,
   "metadata": {},
   "outputs": [
    {
     "data": {
      "text/html": [
       "<div>\n",
       "<style scoped>\n",
       "    .dataframe tbody tr th:only-of-type {\n",
       "        vertical-align: middle;\n",
       "    }\n",
       "\n",
       "    .dataframe tbody tr th {\n",
       "        vertical-align: top;\n",
       "    }\n",
       "\n",
       "    .dataframe thead th {\n",
       "        text-align: right;\n",
       "    }\n",
       "</style>\n",
       "<table border=\"1\" class=\"dataframe\">\n",
       "  <thead>\n",
       "    <tr style=\"text-align: right;\">\n",
       "      <th></th>\n",
       "      <th>RMSE</th>\n",
       "    </tr>\n",
       "  </thead>\n",
       "  <tbody>\n",
       "    <tr>\n",
       "      <th>Reference OLS</th>\n",
       "      <td>760.0</td>\n",
       "    </tr>\n",
       "    <tr>\n",
       "      <th>Lasso CV</th>\n",
       "      <td>790.0</td>\n",
       "    </tr>\n",
       "    <tr>\n",
       "      <th>Random Forest CV</th>\n",
       "      <td>712.0</td>\n",
       "    </tr>\n",
       "    <tr>\n",
       "      <th>XGBoost CV</th>\n",
       "      <td>695.0</td>\n",
       "    </tr>\n",
       "  </tbody>\n",
       "</table>\n",
       "</div>"
      ],
      "text/plain": [
       "                   RMSE\n",
       "Reference OLS     760.0\n",
       "Lasso CV          790.0\n",
       "Random Forest CV  712.0\n",
       "XGBoost CV        695.0"
      ]
     },
     "execution_count": 366,
     "metadata": {},
     "output_type": "execute_result"
    }
   ],
   "source": [
    "pd.DataFrame(\n",
    "    {\n",
    "        \"RMSE\": [\n",
    "            ols_rmse,\n",
    "            lasso_rmse,\n",
    "            rf_model.cv_results_[\"mean_test_score\"].max() *-1,\n",
    "            xgb_model.cv_results_[\"mean_test_score\"].max()*-1,\n",
    "        ]\n",
    "    },\n",
    "    [\"Reference OLS\", \"Lasso CV\", \"Random Forest CV\", \"XGBoost CV\"],\n",
    ").round(0)"
   ]
  },
  {
   "cell_type": "markdown",
   "metadata": {},
   "source": [
    "Now, train the chosen model, on the whole train test!"
   ]
  },
  {
   "cell_type": "code",
   "execution_count": 143,
   "metadata": {},
   "outputs": [],
   "source": [
    "final_model = Pipeline([(\"scale\", StandardScaler()), (\"regressor\", xgb_model.best_estimator_)])"
   ]
  },
  {
   "cell_type": "code",
   "execution_count": 353,
   "metadata": {},
   "outputs": [
    {
     "name": "stdout",
     "output_type": "stream",
     "text": [
      "Final model train rmse: 314.3647616087529\n",
      "Final model test rmse: 3171.3532226536904\n"
     ]
    }
   ],
   "source": [
    "y, X = dmatrices(target_variable + \" ~ \" + \" + \".join(predictors_tree), data_train)\n",
    "\n",
    "xgb_final_fit = final_model.fit(X,y.ravel())\n",
    "\n",
    "\n",
    "y_hat = xgb_final_fit.predict(X)\n",
    "\n",
    "rf_rmse_train = mean_squared_error(y,y_hat,squared=False)\n",
    "residual_std = np.std(y-y_hat)\n",
    "\n",
    "print(\"Final model train rmse: \"+str(rf_rmse_train))\n",
    "\n",
    "y_hold, X_hold = dmatrices(target_variable + \" ~ \" + \" + \".join(predictors_tree), data_holdout)\n",
    "\n",
    "y_hat_test = xgb_final_fit.predict(X_hold)\n",
    "\n",
    "rf_rmse_test = mean_squared_error(y_hold,y_hat_test,squared=False)\n",
    "print(\"Final model test rmse: \"+ str(rf_rmse_test))"
   ]
  },
  {
   "cell_type": "code",
   "execution_count": 354,
   "metadata": {},
   "outputs": [
    {
     "data": {
      "image/png": "[encoded data removed]",
      "text/plain": [
       "<Figure size 360x360 with 1 Axes>"
      ]
     },
     "metadata": {
      "needs_background": "light"
     },
     "output_type": "display_data"
    }
   ],
   "source": [
    "plot_pred_true_scatter(y,y_hat,title='XGBoost CV on train set')"
   ]
  },
  {
   "cell_type": "code",
   "execution_count": 355,
   "metadata": {},
   "outputs": [
    {
     "data": {
      "image/png": "[encoded data removed]",
      "text/plain": [
       "<Figure size 360x360 with 1 Axes>"
      ]
     },
     "metadata": {
      "needs_background": "light"
     },
     "output_type": "display_data"
    }
   ],
   "source": [
    "plot_pred_true_scatter(y_hold,y_hat_test,title='XGBoost CV on test set')"
   ]
  },
  {
   "cell_type": "code",
   "execution_count": 356,
   "metadata": {},
   "outputs": [
    {
     "name": "stdout",
     "output_type": "stream",
     "text": [
      "Final model truncated test rmse: 664.9904486908335\n"
     ]
    },
    {
     "data": {
      "image/png": "[encoded data removed]",
      "text/plain": [
       "<Figure size 360x360 with 1 Axes>"
      ]
     },
     "metadata": {
      "needs_background": "light"
     },
     "output_type": "display_data"
    }
   ],
   "source": [
    "y_hold, X_hold = dmatrices(\n",
    "    target_variable + \" ~ \" + \" + \".join(predictors_tree),\n",
    "    data_holdout.loc[lambda x: x[\"price\"] < 7500],\n",
    ")\n",
    "\n",
    "y_hat_test = rf_final_fit.predict(X_hold)\n",
    "\n",
    "rf_rmse_test = mean_squared_error(y_hold, y_hat_test, squared=False)\n",
    "print(\"Final model truncated test rmse: \" + str(rf_rmse_test))\n",
    "plot_pred_true_scatter(\n",
    "    y_hold, y_hat_test, title=\"XGBoost CV on truncated test set\"\n",
    ")"
   ]
  },
  {
   "cell_type": "markdown",
   "metadata": {},
   "source": [
    "## PART III\n",
    "### MODEL DIAGNOSTICS \n",
    "---"
   ]
  },
  {
   "cell_type": "code",
   "execution_count": 188,
   "metadata": {},
   "outputs": [],
   "source": [
    "final_model_var_imp_df = (\n",
    "    pd.DataFrame(final_model.steps[1][1].feature_importances_, X.design_info.column_names)\n",
    "    .reset_index()\n",
    "    .rename({\"index\": \"varname\", 0: \"imp\"}, axis=1)\n",
    "    .assign(imp_percentage=lambda x: x[\"imp\"] / x[\"imp\"].sum())\n",
    "    .sort_values(by=[\"imp\"], ascending=False)\n",
    ")"
   ]
  },
  {
   "cell_type": "markdown",
   "metadata": {},
   "source": [
    "**1) full varimp plot, above a cutoff**"
   ]
  },
  {
   "cell_type": "code",
   "execution_count": 189,
   "metadata": {},
   "outputs": [
    {
     "data": {
      "image/png": "[encoded data removed]",
      "text/plain": [
       "<Figure size 640x480 with 1 Axes>"
      ]
     },
     "metadata": {},
     "output_type": "display_data"
    },
    {
     "data": {
      "text/plain": [
       "<ggplot: (304884164)>"
      ]
     },
     "execution_count": 189,
     "metadata": {},
     "output_type": "execute_result"
    }
   ],
   "source": [
    "ggplot(\n",
    "    final_model_var_imp_df.loc[lambda x: x[\"imp_percentage\"]>0.01],\n",
    "    aes(x=\"reorder(varname, imp)\", y=\"imp_percentage\"),\n",
    ") + geom_point(size=1.5) + geom_segment(\n",
    "    aes(x=\"varname\", xend=\"varname\", y=0, yend=\"imp_percentage\"), size=1\n",
    ") + ylab(\n",
    "    \"Importance (Percent)\"\n",
    ") + xlab(\n",
    "    \"Variable Name\"\n",
    ") + coord_flip() + scale_y_continuous(\n",
    "    labels=percent_format()\n",
    ") + theme_bw()"
   ]
  },
  {
   "cell_type": "markdown",
   "metadata": {},
   "source": [
    "**2) full varimp plot, top 10 only**"
   ]
  },
  {
   "cell_type": "code",
   "execution_count": 190,
   "metadata": {},
   "outputs": [
    {
     "data": {
      "image/png": "[encoded data removed]",
      "text/plain": [
       "<Figure size 640x480 with 1 Axes>"
      ]
     },
     "metadata": {},
     "output_type": "display_data"
    },
    {
     "data": {
      "text/plain": [
       "<ggplot: (305103945)>"
      ]
     },
     "execution_count": 190,
     "metadata": {},
     "output_type": "execute_result"
    }
   ],
   "source": [
    "ggplot(\n",
    "    rf_model_2_var_imp_df.iloc[:10, :],\n",
    "    aes(x=\"reorder(varname, imp)\", y=\"imp_percentage\"),\n",
    ") + geom_point(size=1.5) + geom_segment(\n",
    "    aes(x=\"varname\", xend=\"varname\", y=0, yend=\"imp_percentage\"), size=1\n",
    ") + ylab(\n",
    "    \"Importance (Percent)\"\n",
    ") + xlab(\n",
    "    \"Variable Name\"\n",
    ") + coord_flip() + scale_y_continuous(\n",
    "    labels=percent_format()\n",
    ") + theme_bw()"
   ]
  },
  {
   "cell_type": "markdown",
   "metadata": {},
   "source": [
    "**3) grouped variable importance - keep binaries created off factors together**\n",
    "\n",
    "For this, you need to create an sklearn pipeline and put OneHotEncoding in it (before, encoding was done by patsy's dmatrices). This way permutation_importance can calculate factor variables' importance "
   ]
  },
  {
   "cell_type": "code",
   "execution_count": 200,
   "metadata": {},
   "outputs": [
    {
     "data": {
      "text/plain": [
       "Pipeline(steps=[('preprocess',\n",
       "                 ColumnTransformer(transformers=[('cat',\n",
       "                                                  OneHotEncoder(handle_unknown='ignore'),\n",
       "                                                  ['f_property_type',\n",
       "                                                   'f_neighbourhood_cleansed']),\n",
       "                                                 ('num', 'passthrough',\n",
       "                                                  ['n_bathrooms',\n",
       "                                                   'n_accommodates',\n",
       "                                                   'n_review_scores_rating',\n",
       "                                                   'n_number_of_reviews',\n",
       "                                                   'n_reviews_per_month',\n",
       "                                                   'n_minimum_nights', 'n_beds',\n",
       "                                                   'n_maximum_nights',\n",
       "                                                   'n_days_since',\n",
       "                                                   'd_aircond...\n",
       "                                               importance_type=None,\n",
       "                                               interaction_constraints='',\n",
       "                                               learning_rate=0.100000001,\n",
       "                                               max_delta_step=0, max_depth=8,\n",
       "                                               min_child_weight=1, missing=nan,\n",
       "                                               monotone_constraints='()',\n",
       "                                               n_estimators=100, n_jobs=4,\n",
       "                                               num_parallel_tree=1,\n",
       "                                               predictor='auto',\n",
       "                                               random_state=42, reg_alpha=0,\n",
       "                                               reg_lambda=1, scale_pos_weight=1,\n",
       "                                               seed=42, subsample=1,\n",
       "                                               tree_method='exact',\n",
       "                                               validate_parameters=1,\n",
       "                                               verbosity=None))]))])"
      ]
     },
     "execution_count": 200,
     "metadata": {},
     "output_type": "execute_result"
    }
   ],
   "source": [
    "categorical_columns = [col for col in predictors_tree if col.startswith(\"f_\")]\n",
    "numerical_columns = [col for col in predictors_tree if col not in categorical_columns]\n",
    "\n",
    "categorical_encoder = OneHotEncoder(handle_unknown=\"ignore\")\n",
    "\n",
    "preprocessing = ColumnTransformer(\n",
    "    [\n",
    "        (\"cat\", categorical_encoder, categorical_columns),\n",
    "        (\"num\", \"passthrough\", numerical_columns),\n",
    "    ]\n",
    ")\n",
    "\n",
    "final_pipeline = Pipeline(\n",
    "    [(\"preprocess\", preprocessing), (\"regressor\", final_model)] # put best model to pipeline\n",
    ")\n",
    "\n",
    "final_pipeline.fit(data_train[predictors_tree],data_train[target_variable])"
   ]
  },
  {
   "cell_type": "code",
   "execution_count": 201,
   "metadata": {},
   "outputs": [],
   "source": [
    "# this takes a while to run\n",
    "result = permutation_importance(\n",
    "    final_pipeline,\n",
    "    data_holdout[predictors_tree],\n",
    "    data_holdout[target_variable],\n",
    "    n_repeats=10,\n",
    "    random_state=45,\n",
    ")"
   ]
  },
  {
   "cell_type": "code",
   "execution_count": 202,
   "metadata": {},
   "outputs": [
    {
     "data": {
      "text/plain": [
       "['f_property_type', 'f_neighbourhood_cleansed']"
      ]
     },
     "execution_count": 202,
     "metadata": {},
     "output_type": "execute_result"
    }
   ],
   "source": [
    "categorical_columns"
   ]
  },
  {
   "cell_type": "code",
   "execution_count": 203,
   "metadata": {},
   "outputs": [],
   "source": [
    "grouped_imp = (\n",
    "    pd.DataFrame(\n",
    "        result.importances_mean,\n",
    "        data_train[predictors_tree].columns,\n",
    "    )\n",
    "    .reset_index()\n",
    "    .rename({\"index\": \"varname\", 0: \"imp\"}, axis=1)\n",
    "    .assign(imp_percentage=lambda x: x[\"imp\"] / x[\"imp\"].sum())\n",
    "    .sort_values(by=[\"imp\"], ascending=False)\n",
    "    .head(10)\n",
    ")"
   ]
  },
  {
   "cell_type": "code",
   "execution_count": 204,
   "metadata": {},
   "outputs": [
    {
     "data": {
      "image/png": "[encoded data removed]",
      "text/plain": [
       "<Figure size 640x480 with 1 Axes>"
      ]
     },
     "metadata": {},
     "output_type": "display_data"
    },
    {
     "data": {
      "text/plain": [
       "<ggplot: (304726968)>"
      ]
     },
     "execution_count": 204,
     "metadata": {},
     "output_type": "execute_result"
    }
   ],
   "source": [
    "ggplot(grouped_imp, aes(x=\"reorder(varname, imp)\", y=\"imp_percentage\"),) + geom_point( size=1.5\n",
    ") + geom_segment(\n",
    "    aes(x=\"varname\", xend=\"varname\", y=0, yend=\"imp_percentage\"), size=1\n",
    ") + ylab(\n",
    "    \"Importance (Percent)\"\n",
    ") + xlab(\n",
    "    \"Variable Name\"\n",
    ") + coord_flip() + scale_y_continuous(\n",
    "    labels=percent_format()\n",
    ") + theme_bw()"
   ]
  },
  {
   "cell_type": "markdown",
   "metadata": {},
   "source": [
    "## Partial Dependence Plots \n",
    "-------------------------------------------------------\n"
   ]
  },
  {
   "cell_type": "code",
   "execution_count": 262,
   "metadata": {},
   "outputs": [],
   "source": [
    "bath_pdp = partial_dependence(\n",
    "    final_pipeline,\n",
    "    data_holdout[predictors_tree].assign(\n",
    "        n_bathrooms=lambda x: x[\"n_bathrooms\"].astype(int)\n",
    "    ),\n",
    "    [\"n_bathrooms\"],\n",
    "    kind=\"average\",\n",
    ")\n",
    "\n",
    "bath_pdp = (\n",
    "    pd.DataFrame(bath_pdp[\"average\"], columns=bath_pdp[\"values\"][0].tolist())\n",
    "    .T.reset_index()\n",
    "    .rename({0: \"Predicted price\", \"index\": \"Bathrooms\"}, axis=1)\n",
    ")\n",
    "\n",
    "\n",
    "n_bootstrap = 50\n",
    "\n",
    "bathrooms = bath_pdp[\"Bathrooms\"].tolist()\n",
    "expected_value_bootstrap_replications = []\n",
    "for _ in range(n_bootstrap):\n",
    "    X_boot, y_boot = resample(\n",
    "        data_holdout[predictors_tree].assign(\n",
    "            n_bathrooms=lambda x: x[\"n_bathrooms\"].astype(int)\n",
    "        ),\n",
    "        data_holdout[target_variable],\n",
    "    )\n",
    "\n",
    "    final_booted = final_pipeline.fit(X_boot, y_boot)\n",
    "\n",
    "    expected_value_bootstrap_replications.append(\n",
    "        partial_dependence(final_booted, X_boot, [\"n_bathrooms\"], kind=\"average\")[\n",
    "            \"average\"\n",
    "        ][0]\n",
    "    )\n",
    "\n",
    "bath_pdp[\"prediction_se\"] = (\n",
    "    pd.DataFrame(expected_value_bootstrap_replications).dropna().std(axis=0).tolist()\n",
    ")"
   ]
  },
  {
   "cell_type": "code",
   "execution_count": 320,
   "metadata": {},
   "outputs": [
    {
     "data": {
      "image/png": "[encoded data removed]",
      "text/plain": [
       "<Figure size 432x288 with 1 Axes>"
      ]
     },
     "metadata": {
      "needs_background": "light"
     },
     "output_type": "display_data"
    }
   ],
   "source": [
    "plt.plot(bathrooms, bath_pdp[\"Predicted price\"],marker=\"o\")\n",
    "plt.fill_between(\n",
    "    bathrooms,\n",
    "    bath_pdp[\"Predicted price\"] - 1.96 * bath_pdp[\"prediction_se\"],\n",
    "    bath_pdp[\"Predicted price\"] + 1.96 * bath_pdp[\"prediction_se\"],\n",
    "    alpha=0.5,\n",
    "    label=\"Bootstrap 95%CI\",\n",
    ")\n",
    "plt.ylabel(\"Predicted price\")\n",
    "plt.xlabel(\"Bathrooms\")\n",
    "plt.title(\"Partial dependence plot for number of bathrooms\")\n",
    "plt.grid()\n",
    "plt.xticks(bathrooms)\n",
    "plt.yticks([i*500 for i in range(2,8)])\n",
    "plt.show()"
   ]
  },
  {
   "cell_type": "code",
   "execution_count": 233,
   "metadata": {},
   "outputs": [],
   "source": [
    "accom_pdp = partial_dependence(\n",
    "    final_pipeline, data_holdout[predictors_tree], [\"n_accommodates\"], kind=\"average\"\n",
    ")\n",
    "\n",
    "accom_pdp = (\n",
    "    pd.DataFrame(accom_pdp[\"average\"], columns=accom_pdp[\"values\"][0].tolist())\n",
    "    .T.reset_index()\n",
    "    .rename({0: \"Predicted price\", \"index\": \"Accomodates (person)\"}, axis=1)\n",
    ")\n",
    "\n",
    "\n",
    "n_bootstrap = 50\n",
    "\n",
    "accomodates = accom_pdp[\"Accomodates (person)\"].tolist()\n",
    "expected_value_bootstrap_replications = []\n",
    "for _ in range(n_bootstrap):\n",
    "    X_boot, y_boot = resample(\n",
    "        data_holdout[predictors_tree], data_holdout[target_variable]\n",
    "    )\n",
    "\n",
    "    final_booted = final_pipeline.fit(X_boot, y_boot)\n",
    "\n",
    "    expected_value_bootstrap_replications.append(\n",
    "        partial_dependence(final_booted, X_boot, [\"n_accommodates\"], kind=\"average\")[\n",
    "            \"average\"\n",
    "        ][0]\n",
    "    )\n",
    "\n",
    "\n",
    "accom_pdp[\"prediction_se\"] = np.std(expected_value_bootstrap_replications, axis=0)[0]"
   ]
  },
  {
   "cell_type": "code",
   "execution_count": 318,
   "metadata": {},
   "outputs": [
    {
     "data": {
      "image/png": "[encoded data removed]",
      "text/plain": [
       "<Figure size 432x288 with 1 Axes>"
      ]
     },
     "metadata": {
      "needs_background": "light"
     },
     "output_type": "display_data"
    }
   ],
   "source": [
    "plt.plot(accomodates, accom_pdp[\"Predicted price\"],marker=\"o\")\n",
    "plt.fill_between(\n",
    "    accomodates,\n",
    "    accom_pdp[\"Predicted price\"] - 1.96 * accom_pdp[\"prediction_se\"],\n",
    "    accom_pdp[\"Predicted price\"] + 1.96 * accom_pdp[\"prediction_se\"],\n",
    "    alpha=0.5,\n",
    "    label=\"Bootstrap 95%CI\",\n",
    ")\n",
    "plt.ylabel(\"Predicted price\")\n",
    "plt.xlabel(\"Accomodates\")\n",
    "plt.title(\"Partial dependence plot for Accomodates\")\n",
    "plt.grid()\n",
    "plt.xticks(accomodates)\n",
    "plt.yticks([i*250 for i in range(5,11)])\n",
    "plt.show()"
   ]
  },
  {
   "cell_type": "code",
   "execution_count": 344,
   "metadata": {},
   "outputs": [
    {
     "data": {
      "image/png": "[encoded data removed]",
      "text/plain": [
       "<Figure size 864x360 with 2 Axes>"
      ]
     },
     "metadata": {
      "needs_background": "light"
     },
     "output_type": "display_data"
    }
   ],
   "source": [
    "fig, (ax1, ax2) = plt.subplots(1, 2,sharey=True,figsize=(12,5))\n",
    "fig.suptitle('Partial dependence plots – bootstrapped 95% confidence intervalls')\n",
    "\n",
    "ax1.plot(accomodates, accom_pdp[\"Predicted price\"], marker=\"o\")\n",
    "ax1.fill_between(\n",
    "    accomodates,\n",
    "    accom_pdp[\"Predicted price\"] - 1.96 * accom_pdp[\"prediction_se\"],\n",
    "    accom_pdp[\"Predicted price\"] + 1.96 * accom_pdp[\"prediction_se\"],\n",
    "    alpha=0.5,\n",
    "    label=\"Bootstrap 95%CI\",\n",
    ")\n",
    "ax1.set_ylabel(\"Predicted price\")\n",
    "ax1.set_xlabel(\"Accomodates\")\n",
    "ax1.grid()\n",
    "ax1.set_xticks(accomodates)\n",
    "ax1.set_yticks([i*500 for i in range(2,8)])\n",
    "\n",
    "\n",
    "\n",
    "ax2.plot(bathrooms, bath_pdp[\"Predicted price\"], marker=\"o\")\n",
    "\n",
    "ax2.fill_between(\n",
    "    bathrooms,\n",
    "    bath_pdp[\"Predicted price\"] - 1.96 * bath_pdp[\"prediction_se\"],\n",
    "    bath_pdp[\"Predicted price\"] + 1.96 * bath_pdp[\"prediction_se\"],\n",
    "    alpha=0.5,\n",
    "    label=\"Bootstrap 95%CI\",\n",
    ")\n",
    "ax2.set_xlabel(\"Bathrooms\")\n",
    "ax2.grid()\n",
    "ax2.set_xticks(bathrooms)\n",
    "ax2.set_yticks([i*500 for i in range(2,8)])\n",
    "\n",
    "plt.savefig(\"../figures/PDP_plot.png\")\n",
    "plt.show()\n"
   ]
  },
  {
   "cell_type": "markdown",
   "metadata": {},
   "source": [
    "### Subsample performance: RMSE / mean(y) \n",
    "---------------------------------------\n",
    "NOTE  we do this on the holdout set.\n"
   ]
  },
  {
   "cell_type": "code",
   "execution_count": 211,
   "metadata": {},
   "outputs": [],
   "source": [
    "data_holdout_w_prediction = data_holdout.assign(\n",
    "    predicted_price=final_pipeline.predict(data_holdout[predictors_tree])\n",
    ")"
   ]
  },
  {
   "cell_type": "markdown",
   "metadata": {},
   "source": [
    "create nice summary table of heterogeneity"
   ]
  },
  {
   "cell_type": "code",
   "execution_count": 212,
   "metadata": {},
   "outputs": [],
   "source": [
    "from sklearn.metrics import mean_squared_error\n",
    "\n",
    "\n",
    "def calculate_rmse(groupby_obj):\n",
    "    return (\n",
    "        groupby_obj.apply(\n",
    "            lambda x: mean_squared_error(x.predicted_price, x.price, squared=False),\n",
    "        )\n",
    "        .to_frame(name=\"rmse\")\n",
    "        .assign(mean_price=groupby_obj.apply(lambda x: np.mean(x.price)).values)\n",
    "        .assign(rmse_norm=lambda x: x.rmse / x.mean_price).round(2)\n",
    "    )"
   ]
  },
  {
   "cell_type": "code",
   "execution_count": 213,
   "metadata": {},
   "outputs": [],
   "source": [
    "# cheaper or more expensive flats - not used in book\n",
    "grouped_object = data_holdout_w_prediction.assign(\n",
    "    is_low_size=lambda x: np.where(x.n_accommodates <= 3, \"Size <= 3\", \"Size > 3\")\n",
    ").groupby(\"is_low_size\")\n",
    "accom_subset = calculate_rmse(grouped_object)"
   ]
  },
  {
   "cell_type": "code",
   "execution_count": 227,
   "metadata": {},
   "outputs": [],
   "source": [
    "# cheaper or more expensive flats - not used in book\n",
    "grouped_object = data_holdout_w_prediction.groupby(\"f_property_type\")\n",
    "proptype_subset = calculate_rmse(grouped_object)"
   ]
  },
  {
   "cell_type": "code",
   "execution_count": 214,
   "metadata": {},
   "outputs": [],
   "source": [
    "grouped_object = data_holdout_w_prediction.loc[\n",
    "    lambda x: x.f_neighbourhood_cleansed.isin(\n",
    "        data.f_neighbourhood_cleansed.value_counts().head(10).index.tolist()\n",
    "    )\n",
    "].groupby(\"f_neighbourhood_cleansed\")\n",
    "neightbourhood_subset = calculate_rmse(grouped_object)"
   ]
  },
  {
   "cell_type": "code",
   "execution_count": 215,
   "metadata": {},
   "outputs": [],
   "source": [
    "all_holdout = pd.DataFrame(\n",
    "    [\n",
    "        mean_squared_error(\n",
    "            data_holdout_w_prediction.price,\n",
    "            data_holdout_w_prediction.predicted_price,\n",
    "            squared=False,\n",
    "        ),\n",
    "        data_holdout_w_prediction.price.mean(),\n",
    "    ],\n",
    "    index=[\"rmse\", \"mean_price\"],\n",
    ").T.assign(rmse_norm=lambda x: x.rmse / x.mean_price)\n",
    "all_holdout.index = [\"All\"]"
   ]
  },
  {
   "cell_type": "code",
   "execution_count": 228,
   "metadata": {},
   "outputs": [],
   "source": [
    "type_rows = pd.DataFrame(\n",
    "    None,\n",
    "    index=[\"Apartment size\", \"Property type\",\"Borough\"],\n",
    "    columns=[\"rmse\", \"mean_price\", \"rmse_norm\"],\n",
    ").fillna(\"\")"
   ]
  },
  {
   "cell_type": "code",
   "execution_count": 347,
   "metadata": {},
   "outputs": [
    {
     "data": {
      "text/html": [
       "<div>\n",
       "<style scoped>\n",
       "    .dataframe tbody tr th:only-of-type {\n",
       "        vertical-align: middle;\n",
       "    }\n",
       "\n",
       "    .dataframe tbody tr th {\n",
       "        vertical-align: top;\n",
       "    }\n",
       "\n",
       "    .dataframe thead th {\n",
       "        text-align: right;\n",
       "    }\n",
       "</style>\n",
       "<table border=\"1\" class=\"dataframe\">\n",
       "  <thead>\n",
       "    <tr style=\"text-align: right;\">\n",
       "      <th></th>\n",
       "      <th>RMSE</th>\n",
       "      <th>Mean price</th>\n",
       "      <th>Norm. RMSE</th>\n",
       "    </tr>\n",
       "  </thead>\n",
       "  <tbody>\n",
       "    <tr>\n",
       "      <th>Apartment size</th>\n",
       "      <td></td>\n",
       "      <td></td>\n",
       "      <td></td>\n",
       "    </tr>\n",
       "    <tr>\n",
       "      <th>Size &gt; 3</th>\n",
       "      <td>3357.9</td>\n",
       "      <td>2244.25</td>\n",
       "      <td>1.5</td>\n",
       "    </tr>\n",
       "    <tr>\n",
       "      <th>Size &lt;= 3</th>\n",
       "      <td>3085.59</td>\n",
       "      <td>1402.38</td>\n",
       "      <td>2.2</td>\n",
       "    </tr>\n",
       "    <tr>\n",
       "      <th>Property type</th>\n",
       "      <td></td>\n",
       "      <td></td>\n",
       "      <td></td>\n",
       "    </tr>\n",
       "    <tr>\n",
       "      <th>Entire serviced apartment</th>\n",
       "      <td>3152.2</td>\n",
       "      <td>3134.88</td>\n",
       "      <td>1.01</td>\n",
       "    </tr>\n",
       "    <tr>\n",
       "      <th>Entire rental unit</th>\n",
       "      <td>2612.12</td>\n",
       "      <td>1577.97</td>\n",
       "      <td>1.66</td>\n",
       "    </tr>\n",
       "    <tr>\n",
       "      <th>Entire condominium (condo)</th>\n",
       "      <td>3736.67</td>\n",
       "      <td>1584.53</td>\n",
       "      <td>2.36</td>\n",
       "    </tr>\n",
       "    <tr>\n",
       "      <th>Borough</th>\n",
       "      <td></td>\n",
       "      <td></td>\n",
       "      <td></td>\n",
       "    </tr>\n",
       "    <tr>\n",
       "      <th>Vadhana</th>\n",
       "      <td>862.55</td>\n",
       "      <td>1730.12</td>\n",
       "      <td>0.5</td>\n",
       "    </tr>\n",
       "    <tr>\n",
       "      <th>Khlong Toei</th>\n",
       "      <td>864.48</td>\n",
       "      <td>1326.54</td>\n",
       "      <td>0.65</td>\n",
       "    </tr>\n",
       "    <tr>\n",
       "      <th>Other</th>\n",
       "      <td>1056.31</td>\n",
       "      <td>1337.74</td>\n",
       "      <td>0.79</td>\n",
       "    </tr>\n",
       "    <tr>\n",
       "      <th>Phra Khanong</th>\n",
       "      <td>996.79</td>\n",
       "      <td>1242.02</td>\n",
       "      <td>0.8</td>\n",
       "    </tr>\n",
       "    <tr>\n",
       "      <th>Sathon</th>\n",
       "      <td>1386.44</td>\n",
       "      <td>1638.66</td>\n",
       "      <td>0.85</td>\n",
       "    </tr>\n",
       "    <tr>\n",
       "      <th>Bang Na</th>\n",
       "      <td>1778.87</td>\n",
       "      <td>1192.13</td>\n",
       "      <td>1.49</td>\n",
       "    </tr>\n",
       "    <tr>\n",
       "      <th>Din Daeng</th>\n",
       "      <td>4363.06</td>\n",
       "      <td>2118.42</td>\n",
       "      <td>2.06</td>\n",
       "    </tr>\n",
       "    <tr>\n",
       "      <th>Ratchathewi</th>\n",
       "      <td>5179.47</td>\n",
       "      <td>2234.94</td>\n",
       "      <td>2.32</td>\n",
       "    </tr>\n",
       "    <tr>\n",
       "      <th>Huai Khwang</th>\n",
       "      <td>3247.85</td>\n",
       "      <td>1360.91</td>\n",
       "      <td>2.39</td>\n",
       "    </tr>\n",
       "    <tr>\n",
       "      <th>Bang Rak</th>\n",
       "      <td>11902.61</td>\n",
       "      <td>4735.25</td>\n",
       "      <td>2.51</td>\n",
       "    </tr>\n",
       "    <tr>\n",
       "      <th>All</th>\n",
       "      <td>3168.98</td>\n",
       "      <td>1652.63</td>\n",
       "      <td>1.92</td>\n",
       "    </tr>\n",
       "  </tbody>\n",
       "</table>\n",
       "</div>"
      ],
      "text/plain": [
       "                                RMSE Mean price Norm. RMSE\n",
       "Apartment size                                            \n",
       "Size > 3                      3357.9    2244.25        1.5\n",
       "Size <= 3                    3085.59    1402.38        2.2\n",
       "Property type                                             \n",
       "Entire serviced apartment     3152.2    3134.88       1.01\n",
       "Entire rental unit           2612.12    1577.97       1.66\n",
       "Entire condominium (condo)   3736.67    1584.53       2.36\n",
       "Borough                                                   \n",
       "Vadhana                       862.55    1730.12        0.5\n",
       "Khlong Toei                   864.48    1326.54       0.65\n",
       "Other                        1056.31    1337.74       0.79\n",
       "Phra Khanong                  996.79    1242.02        0.8\n",
       "Sathon                       1386.44    1638.66       0.85\n",
       "Bang Na                      1778.87    1192.13       1.49\n",
       "Din Daeng                    4363.06    2118.42       2.06\n",
       "Ratchathewi                  5179.47    2234.94       2.32\n",
       "Huai Khwang                  3247.85    1360.91       2.39\n",
       "Bang Rak                    11902.61    4735.25       2.51\n",
       "All                          3168.98    1652.63       1.92"
      ]
     },
     "execution_count": 347,
     "metadata": {},
     "output_type": "execute_result"
    }
   ],
   "source": [
    "pd.concat(\n",
    "    [\n",
    "        type_rows.iloc[[0]],\n",
    "        accom_subset.sort_values(by=\"rmse_norm\"),\n",
    "        type_rows.iloc[[1]],\n",
    "        proptype_subset.sort_values(by=[\"rmse_norm\"]),\n",
    "        type_rows.iloc[[2]],\n",
    "        neightbourhood_subset.sort_values(by=\"rmse_norm\"),\n",
    "        all_holdout.round(2),\n",
    "    ]\n",
    ").rename(columns={\"rmse\":\"RMSE\",\"mean_price\":\"Mean price\",\"rmse_norm\":\"Norm. RMSE\"})"
   ]
  },
  {
   "cell_type": "code",
   "execution_count": null,
   "metadata": {},
   "outputs": [],
   "source": []
  }
 ],
 "metadata": {
  "kernelspec": {
   "display_name": "Python 3 (ipykernel)",
   "language": "python",
   "name": "python3"
  },
  "language_info": {
   "codemirror_mode": {
    "name": "ipython",
    "version": 3
   },
   "file_extension": ".py",
   "mimetype": "text/x-python",
   "name": "python",
   "nbconvert_exporter": "python",
   "pygments_lexer": "ipython3",
   "version": "3.9.7"
  }
 },
 "nbformat": 4,
 "nbformat_minor": 4
}
